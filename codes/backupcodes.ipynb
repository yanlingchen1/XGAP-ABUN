{
 "cells": [
  {
   "cell_type": "markdown",
   "metadata": {},
   "source": [
    "1 extract spectra using evselect"
   ]
  },
  {
   "cell_type": "code",
   "execution_count": null,
   "metadata": {},
   "outputs": [],
   "source": [
    "for name in ['mos1S001-allevc', 'mos2S002-allevc-nechip5', 'pnS003-allevc']:\n",
    "    regdir = f'{datapath}/srcs_regions'\n",
    "    os.chdir(regdir)\n",
    "    regs = glob(f'{datapath}/group-05r200-exsrc_phy_{name.split(\"-\")[0]}.reg')\n",
    "    print(regs)\n",
    "    f = open(f'{regdir}/group-05r200_spec_{name}.sh', 'w')\n",
    "\n",
    "    for reg in regs:\n",
    "        sf = open(reg)\n",
    "        lines = sf.readlines()\n",
    "        lines = [l.strip() for l in lines]\n",
    "        regtxt = ''.join(lines)\n",
    "        sf.close()\n",
    "\n",
    "        regname = reg.split('/')[-1]\n",
    "        if 'mos' in name:\n",
    "            f.write(f'\\n')\n",
    "            f.write(f'evselect table={name}.fits xcolumn=X ycolumn=Y imagebinning=binSize ximagebinsize=80 yimagebinsize=80 withimageset=Y imageset={regname.split(\".\")[0]}_img.fits withspectrumset=Y spectrumset={regname.split(\".\")[0]}_spec.pi energycolumn=PI spectralbinsize=5 withspecranges=yes specchannelmin=0 specchannelmax=11999 expression=\"(FLAG==0) && (PATTERN<=12) && {regtxt}\"  | tee {reg.split(\"/\")[-1].split(\".\")[0]}_spec.log\\n')\n",
    "        else:\n",
    "            f.write(f'\\n')\n",
    "            f.write(f'evselect table={name}.fits xcolumn=X ycolumn=Y imagebinning=binSize ximagebinsize=80 yimagebinsize=80 withimageset=Y imageset={regname.split(\".\")[0]}_img.fits withspectrumset=Y spectrumset={regname.split(\".\")[0]}_spec.pi energycolumn=PI spectralbinsize=5 withspecranges=yes specchannelmin=0 specchannelmax=20479 expression=\"(FLAG==0) && (PATTERN<=4) && {regtxt}\"  | tee {reg.split(\"/\")[-1].split(\".\")[0]}_spec.log\\n')\n",
    "    f.close()\n"
   ]
  },
  {
   "cell_type": "markdown",
   "metadata": {},
   "source": [
    "2 extract rmf and arf "
   ]
  },
  {
   "cell_type": "code",
   "execution_count": null,
   "metadata": {},
   "outputs": [],
   "source": [
    "f = open(f'gen_rmf.sh', 'w')\n",
    "\n",
    "specfiles = glob('group*.pi')\n",
    "\n",
    "for specfile in specfiles:\n",
    "    \n",
    "    if 'mos1' in specfile:\n",
    "        badpix_file = f'mos1S001-fovimt.fits'\n",
    "    elif 'mos2' in specfile:\n",
    "        badpix_file = f'mos2S002-fovimt.fits'\n",
    "    else:\n",
    "        badpix_file = f'pnS003-fovimt.fits'\n",
    "\n",
    "    f.write(f'''\n",
    "rmfgen spectrumset={specfile} rmfset={specfile.split('.')[0]}.rmf detmaptype=flat extendedsource=yes badpixlocation={badpix_file}\\n\n",
    "arfgen spectrumset={specfile} rmfset={specfile.split('.')[0]}.rmf arfset={specfile.split('.')[0]}.arf badpixlocation={badpix_file}\\n\n",
    "        ''') \n",
    "\n",
    "f.close()"
   ]
  }
 ],
 "metadata": {
  "kernelspec": {
   "display_name": "Python 3.9.6 64-bit",
   "language": "python",
   "name": "python3"
  },
  "language_info": {
   "name": "python",
   "version": "3.9.6"
  },
  "orig_nbformat": 4,
  "vscode": {
   "interpreter": {
    "hash": "31f2aee4e71d21fbe5cf8b01ff0e069b9275f58929596ceb00d14d90e3e16cd6"
   }
  }
 },
 "nbformat": 4,
 "nbformat_minor": 2
}
