{
 "cells": [
  {
   "cell_type": "markdown",
   "metadata": {},
   "source": [
    "# install requirements"
   ]
  },
  {
   "cell_type": "code",
   "execution_count": null,
   "metadata": {
    "vscode": {
     "languageId": "shellscript"
    }
   },
   "outputs": [],
   "source": [
    "# install perl\n",
    "## https://perlbrew.pl\n",
    "\n",
    "\\curl -L https://install.perlbrew.pl | bash\n",
    "\n",
    "perlbrew install perl-5.36.1\n",
    "cd ~/perl5/perlbrew/build/perl-5.36.1/perl-5.36.1\n",
    "$ make install\n",
    "$ perlbrew switch perl-5.36.1\n",
    "\n",
    "$ perl -v\n",
    "This is perl 5, version 32, subversion 1 (v5.36.1) built for darwin-2level\n"
   ]
  },
  {
   "cell_type": "markdown",
   "metadata": {},
   "source": [
    "# install SAS\n",
    "https://www.cosmos.esa.int/web/xmm-newton/sas-installation"
   ]
  },
  {
   "cell_type": "code",
   "execution_count": null,
   "metadata": {
    "vscode": {
     "languageId": "shellscript"
    }
   },
   "outputs": [],
   "source": [
    "cd ~/Downloads\n",
    "xattr -d com.apple.quarantine sas_21.0.0-macOS-12.6.tar\n",
    "tar zxf sas_21.0.0-OS.tgz\n",
    "cd sas\n",
    "tar zxf sas_21.0.0-macOS-12.6.tar\n",
    "./install.sh\n",
    "\n",
    "# define perl path\n",
    "mdfind kind:folder \"perl\"\n",
    "export SAS_PERL=$perl_path\n",
    "\n",
    "# on ltd\n",
    "# export SAS_PERL=/usr/bin/perl\n",
    "\n",
    "# define HEASOFT path in set_sas.sh\n",
    "export HEASOFT=$heasoft_path\n",
    "\n",
    "'''\n",
    "The installation is complete when configure_install creates,\n",
    "in the same directory, \n",
    "two shell scripts named setsas.sh and setsas.csh which can be used to initialise the SAS.\n",
    "'''"
   ]
  },
  {
   "cell_type": "markdown",
   "metadata": {},
   "source": [
    "fix which python doesn't return path"
   ]
  },
  {
   "cell_type": "code",
   "execution_count": null,
   "metadata": {
    "vscode": {
     "languageId": "shellscript"
    }
   },
   "outputs": [],
   "source": [
    "sudo update-alternatives --install /usr/bin/python python /python3.12.0/bin/python3 1\n",
    "sudo update-alternatives --config python\n"
   ]
  },
  {
   "cell_type": "markdown",
   "metadata": {},
   "source": [
    "download ccfs from sron server /stage/headat/currentccf\n",
    "create sas.sh sas dir, set SAS_CCFPATH=~/$saspath/currentccf"
   ]
  }
 ],
 "metadata": {
  "kernelspec": {
   "display_name": "Python 3.9.6 64-bit",
   "language": "python",
   "name": "python3"
  },
  "language_info": {
   "name": "python",
   "version": "3.11.2"
  },
  "orig_nbformat": 4,
  "vscode": {
   "interpreter": {
    "hash": "31f2aee4e71d21fbe5cf8b01ff0e069b9275f58929596ceb00d14d90e3e16cd6"
   }
  }
 },
 "nbformat": 4,
 "nbformat_minor": 2
}
