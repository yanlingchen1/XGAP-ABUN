{
 "cells": [
  {
   "cell_type": "code",
   "execution_count": null,
   "metadata": {},
   "outputs": [],
   "source": [
    "# load the 0.5r200 circle and sources regions in physical coords\n",
    "datapath = f'/Users/eusracenorth/Documents/work/XGAP-ABUN/data/origin/sron/cheese_rate000001_ml01_350-7000_dist1'\n",
    "\n",
    "\n",
    "for name in ['mos1S001', 'mos2S002', 'pnS003']:\n",
    "    newf = open(f'{datapath}/group-05r200-exsrc_phy_{name}.reg', 'w')\n",
    "    \n",
    "    f_grp = open(f'{datapath}/../group-05r200_phy.reg')\n",
    "    lines_grp = f_grp.readlines()\n",
    "    newf.write(f'((X,Y) IN {lines_grp[-1].strip().split(\"#\")[0]})')\n",
    "    for fname_src in glob(f'{datapath}/srcs_regions/src*_xy_{name}_xmm.reg'):\n",
    "        f_src = open(fname_src)\n",
    "        lines_src = f_src.readlines()    \n",
    "        for l in lines_src:\n",
    "            if 'phy' in l:\n",
    "                continue\n",
    "            else:\n",
    "                newf.write(f'&&!{l.strip()}')\n",
    "\n",
    "    newf.close()\n",
    "    "
   ]
  }
 ],
 "metadata": {
  "language_info": {
   "name": "python"
  },
  "orig_nbformat": 4
 },
 "nbformat": 4,
 "nbformat_minor": 2
}
