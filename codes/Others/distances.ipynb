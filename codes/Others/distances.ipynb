{
 "cells": [
  {
   "cell_type": "code",
   "execution_count": null,
   "metadata": {},
   "outputs": [],
   "source": [
    "'''\n",
    "All the distance conversions\n",
    "\n",
    "Taking the cosmology in Tempel 2017\n",
    "https://arxiv.org/pdf/1704.04477.pdf\n",
    "\n",
    "Planck cosmology (Planck Collaboration et al. 2016): \n",
    "the Hubble constant H0 = 67.8 km s−1Mpc−1, \n",
    "the matter density Ωm = 0.308, \n",
    "and the dark energy density ΩΛ = 0.692\n",
    "\n",
    "'''"
   ]
  },
  {
   "cell_type": "code",
   "execution_count": 11,
   "metadata": {},
   "outputs": [],
   "source": [
    "# define the cosmology\n",
    "\n",
    "from astropy.cosmology import Planck18\n",
    "import astropy.units as u\n",
    "\n",
    "Planck18.to_format(\"mapping\")\n",
    "\n",
    "Planck16 = Planck18.clone(name=\"Modified Planck 2018\", Om0=0.308, H0=67.8)\n",
    "# Planck18.to_format.help()  # Get help and list supported formats\n",
    "# Planck18.to_format.help('<format>')  # Get detailed help on format\n",
    "# Planck18.to_format.list_formats()  # Print list of available formats"
   ]
  },
  {
   "cell_type": "code",
   "execution_count": 21,
   "metadata": {},
   "outputs": [
    {
     "name": "stdout",
     "output_type": "stream",
     "text": [
      "0.043774544579091974 redshift\n"
     ]
    }
   ],
   "source": [
    "# convert comoving distance to the redshift\n",
    "from astropy.cosmology import z_at_value\n",
    "\n",
    "print(z_at_value(Planck16.comoving_distance, 191.575350 * u.Mpc))\n",
    "# print(Planck16.arcsec_per_kpc_comoving(0.043774546) * 8.186e-1 *1000/60) \n"
   ]
  },
  {
   "cell_type": "code",
   "execution_count": 22,
   "metadata": {},
   "outputs": [
    {
     "data": {
      "text/plain": [
       "1.1560486873340992e-09"
      ]
     },
     "execution_count": 22,
     "metadata": {},
     "output_type": "execute_result"
    }
   ],
   "source": [
    "0.04377454573514066 -0.043774544579091974 "
   ]
  },
  {
   "cell_type": "code",
   "execution_count": null,
   "metadata": {},
   "outputs": [],
   "source": []
  }
 ],
 "metadata": {
  "kernelspec": {
   "display_name": "Python 3.10.11 ('base')",
   "language": "python",
   "name": "python3"
  },
  "language_info": {
   "codemirror_mode": {
    "name": "ipython",
    "version": 3
   },
   "file_extension": ".py",
   "mimetype": "text/x-python",
   "name": "python",
   "nbconvert_exporter": "python",
   "pygments_lexer": "ipython3",
   "version": "3.10.11"
  },
  "orig_nbformat": 4,
  "vscode": {
   "interpreter": {
    "hash": "58ee13649a3e33612fea9b2fc6712fa52e5371c54a9ff454aedbace36da48a84"
   }
  }
 },
 "nbformat": 4,
 "nbformat_minor": 2
}
