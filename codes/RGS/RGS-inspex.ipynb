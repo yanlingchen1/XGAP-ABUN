{
 "cells": [
  {
   "cell_type": "code",
   "execution_count": 2,
   "metadata": {},
   "outputs": [],
   "source": [
    "import os\n",
    "from glob import glob"
   ]
  },
  {
   "cell_type": "code",
   "execution_count": 4,
   "metadata": {},
   "outputs": [],
   "source": [
    "# homepath = '/Users/eusracenorth/Documents/work/XGAP-ABUN/data/RGH80/rgs-jelledeplaa/test'\n",
    "# os.chdir(homepath)\n",
    "\n",
    "\n",
    "import os\n",
    "from glob import glob\n",
    "# homepath = '/stage/headat/jellep/help/aurora/RGH80'\n",
    "homepath = './'\n",
    "\n",
    "specfile = glob(f'{homepath}/*R1*SRSPEC*1003*')[0]\n",
    "mbfile = glob(f'{homepath}/*R1*MBSPEC*1000*')[0]\n",
    "rmffile = glob(f'{homepath}/*R1*RMFMAT*1003*')[0]\n",
    "\n",
    "print(specfile)\n",
    "\n",
    "f = open(f'ogip2spex.sh', 'w')\n",
    "f.write(f'''ogip2spex --phafile {specfile} --bkgfile {mbfile} --rmffile {rmffile} --spofile rgs1.spo --resfile rgs1.res\n",
    "''')\n",
    "f.close()\n"
   ]
  },
  {
   "cell_type": "code",
   "execution_count": null,
   "metadata": {},
   "outputs": [],
   "source": []
  }
 ],
 "metadata": {
  "kernelspec": {
   "display_name": "Python 3.9.6 64-bit",
   "language": "python",
   "name": "python3"
  },
  "language_info": {
   "codemirror_mode": {
    "name": "ipython",
    "version": 3
   },
   "file_extension": ".py",
   "mimetype": "text/x-python",
   "name": "python",
   "nbconvert_exporter": "python",
   "pygments_lexer": "ipython3",
   "version": "3.9.6"
  },
  "orig_nbformat": 4,
  "vscode": {
   "interpreter": {
    "hash": "31f2aee4e71d21fbe5cf8b01ff0e069b9275f58929596ceb00d14d90e3e16cd6"
   }
  }
 },
 "nbformat": 4,
 "nbformat_minor": 2
}
