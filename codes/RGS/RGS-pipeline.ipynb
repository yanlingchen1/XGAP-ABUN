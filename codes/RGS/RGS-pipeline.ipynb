{
 "cells": [
  {
   "cell_type": "code",
   "execution_count": null,
   "metadata": {},
   "outputs": [],
   "source": [
    "'''\n",
    "Pipeline for RGS spectrum extraction.\n",
    "\n",
    "Reference:\n",
    "https://www.cosmos.esa.int/web/xmm-newton/sas-thread-rgs\n",
    "\n",
    "Object:\n",
    "SDSSTG5742\n",
    "\n",
    "'''"
   ]
  },
  {
   "cell_type": "code",
   "execution_count": 1,
   "metadata": {},
   "outputs": [],
   "source": [
    "import os\n",
    "from glob import glob"
   ]
  },
  {
   "cell_type": "markdown",
   "metadata": {},
   "source": [
    "0 Define path"
   ]
  },
  {
   "cell_type": "code",
   "execution_count": 13,
   "metadata": {},
   "outputs": [],
   "source": [
    "homepath = f'/Users/eusracenorth/Documents/work/XGAP-ABUN/data/SDSSTG5742/raw/SDSSTG5742'\n",
    "\n",
    "os.chdir(homepath)"
   ]
  },
  {
   "cell_type": "markdown",
   "metadata": {},
   "source": [
    "1 Initialize steps"
   ]
  },
  {
   "cell_type": "code",
   "execution_count": 14,
   "metadata": {
    "vscode": {
     "languageId": "shellscript"
    }
   },
   "outputs": [],
   "source": [
    "f = open('cifbuild.sh', 'w')\n",
    "f.write(\n",
    "f'''\n",
    "export SAS_ODF={homepath}\n",
    "cifbuild 2>&1 | tee cifbuild.log\n",
    "\n",
    "'''\n",
    ")\n",
    "f.close()\n",
    "\n",
    "\n"
   ]
  },
  {
   "cell_type": "code",
   "execution_count": 5,
   "metadata": {
    "vscode": {
     "languageId": "shellscript"
    }
   },
   "outputs": [],
   "source": [
    "f = open('odfingest.sh', 'w')\n",
    "f.write(f'''\n",
    "export SAS_CCF={homepath}/ccf.cif\n",
    "export SAS_ODF={homepath}\n",
    "odfingest odfdir=$SAS_ODF outdir=$SAS_ODF 2>&1 | tee odfingest.log\n",
    "''')\n",
    "f.close()"
   ]
  },
  {
   "cell_type": "markdown",
   "metadata": {},
   "source": [
    "3 Set SAS env"
   ]
  },
  {
   "cell_type": "code",
   "execution_count": 10,
   "metadata": {
    "vscode": {
     "languageId": "shellscript"
    }
   },
   "outputs": [],
   "source": [
    "\n",
    "f = open('set_sas.txt', 'w')\n",
    "sasfile= glob('*SUM.SAS')[0] \n",
    "f.write(f'''\n",
    "export SAS_CCF={homepath}/ccf.cif\n",
    "export SAS_ODF={homepath}/{sasfile}\n",
    "sasversion\n",
    "''')\n",
    "f.close()\n",
    "\n",
    "## source set_sas.txt"
   ]
  },
  {
   "cell_type": "markdown",
   "metadata": {},
   "source": [
    "4 run rgsproc"
   ]
  },
  {
   "cell_type": "code",
   "execution_count": 17,
   "metadata": {
    "vscode": {
     "languageId": "shellscript"
    }
   },
   "outputs": [],
   "source": [
    "f = open('rgsproc.sh', 'w')\n",
    "\n",
    "f.write(\n",
    "'''rgsproc withsrc=true srcstyle=radec srcra=200.06 srcdec=33.1436 withbackgroundmodel=yes witharffile=true 2>&1 | tee rgsproc_1st.log \n",
    "''')\n",
    "\n",
    "f.close()"
   ]
  },
  {
   "cell_type": "markdown",
   "metadata": {},
   "source": [
    "5 Display the dispersion vs cross dispersion and dispersion vs energy images and overlay the selected region masks:"
   ]
  },
  {
   "cell_type": "code",
   "execution_count": 12,
   "metadata": {},
   "outputs": [],
   "source": [
    "evenli_file = glob(f'*5EVENLI*FIT')[0]\n",
    "srcli_file = glob(f'*5SRCLI*FIT')[0]\n",
    "\n",
    "\n",
    "f = open('inspect.sh', 'w')\n",
    "f.write(\n",
    "f'''evselect table='{evenli_file}:EVENTS' imageset='my_spatial.fit' xcolumn='M_LAMBDA' ycolumn='XDSP_CORR'\n",
    "\n",
    "evselect table='{evenli_file}:EVENTS' \\\n",
    "imageset='my_pi.fit' xcolumn='M_LAMBDA' ycolumn='PI'\\\n",
    "yimagemin=0 yimagemax=3000 \\\n",
    "expression='REGION({srcli_file}:RGS1_SRC1_SPATIAL,M_LAMBDA,XDSP_CORR)'\n",
    "\n",
    "rgsimplot endispset='my_pi.fit' spatialset='my_spatial.fit' \\\n",
    "srcidlist='1' srclistset='{srcli_file}' \\\n",
    "device=/xs\n",
    "''')\n",
    "\n",
    "f.close()"
   ]
  },
  {
   "cell_type": "code",
   "execution_count": null,
   "metadata": {},
   "outputs": [],
   "source": []
  }
 ],
 "metadata": {
  "kernelspec": {
   "display_name": "Python 3.9.6 64-bit",
   "language": "python",
   "name": "python3"
  },
  "language_info": {
   "codemirror_mode": {
    "name": "ipython",
    "version": 3
   },
   "file_extension": ".py",
   "mimetype": "text/x-python",
   "name": "python",
   "nbconvert_exporter": "python",
   "pygments_lexer": "ipython3",
   "version": "3.9.6"
  },
  "orig_nbformat": 4,
  "vscode": {
   "interpreter": {
    "hash": "31f2aee4e71d21fbe5cf8b01ff0e069b9275f58929596ceb00d14d90e3e16cd6"
   }
  }
 },
 "nbformat": 4,
 "nbformat_minor": 2
}
