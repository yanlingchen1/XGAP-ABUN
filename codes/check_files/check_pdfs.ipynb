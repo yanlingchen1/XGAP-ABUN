{
 "cells": [
  {
   "cell_type": "code",
   "execution_count": 1,
   "metadata": {},
   "outputs": [],
   "source": [
    "\"\"\"\n",
    "mv pdfs in one directory and check\n",
    "\"\"\""
   ]
  },
  {
   "cell_type": "code",
   "execution_count": 12,
   "metadata": {},
   "outputs": [
    {
     "name": "stdout",
     "output_type": "stream",
     "text": [
      "SDSSTG40241\n",
      "SDSSTG22635\n",
      "SDSSTG5742\n",
      "SDSSTG15641\n",
      "SDSSTG9771\n",
      "SDSSTG6159\n",
      "SDSSTG9370\n",
      "SDSSTG4654\n",
      "SDSSTG1601\n",
      "SDSSTG9695\n",
      "SDSSTG28674\n",
      "SDSSTG2620\n",
      "SDSSTG885\n",
      "SDSSTG12349\n",
      "SDSSTG2424\n",
      "SDSSTG3128\n",
      "SDSSTG1011\n",
      "SDSSTG11320\n",
      "SDSSTG10094\n",
      "SDSSTG8102\n",
      "SDSSTG16150\n",
      "SDSSTG9399\n",
      "SDSSTG46701\n",
      "SDSSTG1162\n",
      "SDSSTG3669\n",
      "SDSSTG11631\n",
      "SDSSTG8050\n",
      "SDSSTG9178\n",
      "SDSSTG4436\n",
      "SDSSTG11844\n",
      "SDSSTG10159\n",
      "SDSSTG16386\n",
      "SDSSTG828\n",
      "SDSSTG1695\n",
      "SDSSTG15354\n",
      "SDSSTG10842\n",
      "SDSSTG16393\n",
      "SDSSTG6058\n",
      "SDSSTG4936\n",
      "SDSSTG21128\n",
      "SDSSTG39344\n",
      "SDSSTG3513\n",
      "SDSSTG9647\n",
      "SDSSTG15776\n",
      "SDSSTG35976\n",
      "SDSSTG1398\n",
      "SDSSTG4047\n",
      "SDSSTG3460\n"
     ]
    }
   ],
   "source": [
    "from glob import glob\n",
    "import os \n",
    "\n",
    "rootpath = f'/Users/eusracenorth/Documents/work/XGAP-ABUN/alldata/XGAP'\n",
    "dirs = glob(f'{rootpath}/SDSSTG*')\n",
    "savepath = f'{rootpath}/../checks/231115/Bkg-fitting/bkg-region'\n",
    "os.makedirs(f'{savepath}', exist_ok=True)\n",
    "\n",
    "for dir in dirs:\n",
    "    id = dir.split('/')[-1]\n",
    "    print(id)\n",
    "    filenames = glob(f'{dir}/fit_231115/figs/bkg_bkg.pdf')\n",
    "    if filenames:\n",
    "        filename = filenames[0]\n",
    "        # Replace 'your_file.pdf' with the path to your PDF file\n",
    "        newfilename = filename.split('/')[-1].split('.')[0]\n",
    "        os.system(f'cp {filename} {savepath}/{newfilename}_{id}.pdf')\n"
   ]
  },
  {
   "cell_type": "code",
   "execution_count": null,
   "metadata": {},
   "outputs": [],
   "source": []
  }
 ],
 "metadata": {
  "kernelspec": {
   "display_name": "Python 3.11.6 ('base')",
   "language": "python",
   "name": "python3"
  },
  "language_info": {
   "codemirror_mode": {
    "name": "ipython",
    "version": 3
   },
   "file_extension": ".py",
   "mimetype": "text/x-python",
   "name": "python",
   "nbconvert_exporter": "python",
   "pygments_lexer": "ipython3",
   "version": "3.10.11"
  },
  "orig_nbformat": 4,
  "vscode": {
   "interpreter": {
    "hash": "58ee13649a3e33612fea9b2fc6712fa52e5371c54a9ff454aedbace36da48a84"
   }
  }
 },
 "nbformat": 4,
 "nbformat_minor": 2
}
