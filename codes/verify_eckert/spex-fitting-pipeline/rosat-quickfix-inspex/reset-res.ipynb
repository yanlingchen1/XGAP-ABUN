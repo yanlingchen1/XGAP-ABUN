{
 "cells": [
  {
   "cell_type": "code",
   "execution_count": 11,
   "metadata": {},
   "outputs": [],
   "source": [
    "import numpy as np\n",
    "import matplotlib.pyplot as plt\n",
    "from astropy.io import fits\n",
    "import os\n",
    "from glob import glob"
   ]
  },
  {
   "cell_type": "code",
   "execution_count": 47,
   "metadata": {},
   "outputs": [],
   "source": [
    "PATH = f'/Users/eusracenorth/Documents/work/XGAP-ABUN/data/ID3460/eckert/ID3460/0903892401/SDSSTG3460_bkg'\n",
    "os.system(f'cp {PATH}/rosat.rsp {PATH}/rosat_binfix.rsp')\n",
    "with fits.open(f'{PATH}/rosat_binfix.rsp', mode = 'update') as f:\n",
    "    ebins = f[1].data\n",
    "    for i in range(len(ebins)):\n",
    "        if ebins['ENERG_LO'][i] == ebins['ENERG_HI'][i]:\n",
    "            ebins['ENERG_HI'][i] = f\"{float(ebins['ENERG_LO'][i]) + 1e-6}\"\n",
    "    f.flush()\n"
   ]
  },
  {
   "cell_type": "code",
   "execution_count": 48,
   "metadata": {},
   "outputs": [],
   "source": [
    "# check if all the repetitive bins are fixed\n",
    "with fits.open(f'{PATH}/rosat_binfix.rsp') as f:\n",
    "    ebins = f[1].data\n",
    "    for i in range(len(ebins)):\n",
    "        if ebins['ENERG_LO'][i] == ebins['ENERG_HI'][i]:\n",
    "            print(ebins['ENERG_LO'][i], ebins['ENERG_HI'][i])\n"
   ]
  },
  {
   "cell_type": "code",
   "execution_count": null,
   "metadata": {},
   "outputs": [],
   "source": []
  }
 ],
 "metadata": {
  "kernelspec": {
   "display_name": "Python 3.10.1 64-bit ('3.10.1')",
   "language": "python",
   "name": "python3"
  },
  "language_info": {
   "codemirror_mode": {
    "name": "ipython",
    "version": 3
   },
   "file_extension": ".py",
   "mimetype": "text/x-python",
   "name": "python",
   "nbconvert_exporter": "python",
   "pygments_lexer": "ipython3",
   "version": "3.10.1"
  },
  "orig_nbformat": 4,
  "vscode": {
   "interpreter": {
    "hash": "1302458d99d58fefb56dc0fec08d039cf240bdcae78a53a9226b7c46b3832fa1"
   }
  }
 },
 "nbformat": 4,
 "nbformat_minor": 2
}
