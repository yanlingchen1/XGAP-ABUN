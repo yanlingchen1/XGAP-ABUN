{
 "cells": [
  {
   "cell_type": "code",
   "execution_count": null,
   "metadata": {},
   "outputs": [],
   "source": [
    "'''\n",
    "2. use bkg model fit by my own\n",
    "\n",
    "'''"
   ]
  },
  {
   "cell_type": "code",
   "execution_count": null,
   "metadata": {},
   "outputs": [],
   "source": [
    "'''\n",
    "Answer:\n",
    "T keV 0.9891 0.0093 0.0095 FFFFFFFFF\n",
    "Z solar 0.4387 0.0363 0.0331 FFFFFFFFF\n",
    "Norm 8.3036e-04 4.5490e-05 4.4790e-05 FFFFFFFFF\n",
    "\n",
    "My Answer:\n",
    "   4    4   apec       kT         keV      0.964449     +/-  8.91072E-03  \n",
    "   5    4   apec       Abundanc            0.483926     +/-  3.51433E-02  \n",
    "   7    4   apec       norm                7.45876E-04  +/-  3.72867E-05 \n",
    "\n",
    "Total fit statistic                           913.90     with 1647 d.o.f.\n",
    "'''"
   ]
  },
  {
   "cell_type": "markdown",
   "metadata": {},
   "source": [
    "1 load data"
   ]
  },
  {
   "cell_type": "code",
   "execution_count": null,
   "metadata": {
    "vscode": {
     "languageId": "shellscript"
    }
   },
   "outputs": [],
   "source": [
    "abun aspl\n",
    "statistic cstat\n",
    "\n",
    "data 1:1 mos1S001-obj-RGH80_reg0-grp.pi\n",
    "data 2:2 mos2S002-obj-RGH80_reg0-grp.pi\n",
    "data 3:3 pnS003-obj-RGH80_reg0.pi\n",
    "\n",
    "res 1 mos1S001-RGH80_reg0.rmf\n",
    "res 2 mos2S002-RGH80_reg0.rmf\n",
    "res 3 pnS003-RGH80_reg0.rmf\n",
    "\n",
    "arf 1 mos1S001-RGH80_reg0.arf\n",
    "arf 2 mos2S002-RGH80_reg0.arf\n",
    "arf 3 pnS003-RGH80_reg0.arf\n",
    "\n",
    "backgrnd 1 mos1S001-back-RGH80_reg0.pi\n",
    "backgrnd 2 mos2S002-back-RGH80_reg0.pi\n",
    "backgrnd 3 pnS003-back-RGH80_reg0.pi\n",
    "\n",
    "cpd /xs\n",
    "setp energy\n",
    "notice **-**:0.3-7.0\n",
    "ign 1-3:**-0.3\n",
    "ign 1-3:7.0-**\n",
    "pl ldat\n",
    "save all load_data.xcm\n"
   ]
  },
  {
   "cell_type": "markdown",
   "metadata": {},
   "source": [
    "2 load bkg model"
   ]
  },
  {
   "cell_type": "code",
   "execution_count": null,
   "metadata": {
    "vscode": {
     "languageId": "shellscript"
    }
   },
   "outputs": [],
   "source": [
    "res 2:1 mos1S001-RGH80_reg0.rmf\n",
    "res 2:2 mos2S002-RGH80_reg0.rmf\n",
    "res 2:3 pnS003-RGH80_reg0.rmf\n",
    "arf 2:1 mos1S001-RGH80_reg0.arf\n",
    "arf 2:2 mos2S002-RGH80_reg0.arf\n",
    "arf 2:3 pnS003-RGH80_reg0.arf\n",
    "backgrnd 2:1 mos1S001-back-RGH80_reg0.pi\n",
    "backgrnd 2:2 mos2S002-back-RGH80_reg0.pi\n",
    "backgrnd 2:3 pnS003-back-RGH80_reg0.pi\n",
    "\n",
    "@../RGH80_bkg/bkg_mdl_aftfit.xcm\n",
    "free 1-51\n",
    "free alsi:1-42"
   ]
  },
  {
   "cell_type": "markdown",
   "metadata": {},
   "source": [
    "3 change the backscal"
   ]
  },
  {
   "cell_type": "code",
   "execution_count": null,
   "metadata": {
    "vscode": {
     "languageId": "shellscript"
    }
   },
   "outputs": [],
   "source": [
    "'''\n",
    "mos1 2.826000E+05 # 0.196 arcmin2\n",
    "mos2 2.721680E+05 # 0.189 arcmin2\n",
    "pn 2.829000E+05 # 0.196 arcmin2\n",
    "\n",
    "'''"
   ]
  },
  {
   "cell_type": "code",
   "execution_count": null,
   "metadata": {
    "vscode": {
     "languageId": "shellscript"
    }
   },
   "outputs": [],
   "source": [
    "new 1 0.196\n",
    "new 18 0.189\n",
    "new 35 0.196\n",
    "\n",
    "new alsi:1 0.196\n",
    "new alsi:15 0.189\n",
    "new alsi:29 0.196\n"
   ]
  },
  {
   "cell_type": "markdown",
   "metadata": {},
   "source": [
    "4 set ICM model"
   ]
  },
  {
   "cell_type": "code",
   "execution_count": null,
   "metadata": {
    "vscode": {
     "languageId": "shellscript"
    }
   },
   "outputs": [],
   "source": [
    "res 3:1 mos1S001-RGH80_reg0.rmf\n",
    "res 3:2 mos2S002-RGH80_reg0.rmf\n",
    "res 3:3 pnS003-RGH80_reg0.rmf\n",
    "arf 3:1 mos1S001-RGH80_reg0.arf\n",
    "arf 3:2 mos2S002-RGH80_reg0.arf\n",
    "arf 3:3 pnS003-RGH80_reg0.arf\n",
    "backgrnd 3:1 mos1S001-back-RGH80_reg0.pi\n",
    "backgrnd 3:2 mos2S002-back-RGH80_reg0.pi\n",
    "backgrnd 3:3 pnS003-back-RGH80_reg0.pi\n",
    "\n",
    "mo 3:ICM const*const*(tbabs*apec)\n",
    "\n"
   ]
  },
  {
   "cell_type": "code",
   "execution_count": null,
   "metadata": {
    "vscode": {
     "languageId": "shellscript"
    }
   },
   "outputs": [],
   "source": [
    "new ICM:1 0.196\n",
    "new ICM:8 0.189\n",
    "new ICM:15 0.196\n",
    "free ICM:1,8,15\n",
    "\n",
    "new ICM:2 1\n",
    "new ICM:9 1\n",
    "new ICM:16 1\n",
    "free ICM:2,9,16\n",
    "\n",
    "new ICM:3 0.0134\n",
    "free ICM:3\n",
    "\n",
    "new ICM:6 0.0361\n",
    "free ICM:6\n",
    "\n",
    "# after fitting temperature and norm of ICM\n",
    "new ICM:5 0.3\n",
    "thaw ICM:5\n"
   ]
  }
 ],
 "metadata": {
  "kernelspec": {
   "display_name": "Python 3.9.6 64-bit",
   "language": "python",
   "name": "python3"
  },
  "language_info": {
   "name": "python",
   "version": "3.9.6"
  },
  "orig_nbformat": 4,
  "vscode": {
   "interpreter": {
    "hash": "31f2aee4e71d21fbe5cf8b01ff0e069b9275f58929596ceb00d14d90e3e16cd6"
   }
  }
 },
 "nbformat": 4,
 "nbformat_minor": 2
}
