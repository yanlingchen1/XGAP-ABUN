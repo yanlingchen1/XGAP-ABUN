{
 "cells": [
  {
   "cell_type": "markdown",
   "metadata": {},
   "source": [
    "0 get backscal"
   ]
  },
  {
   "cell_type": "code",
   "execution_count": 12,
   "metadata": {
    "vscode": {
     "languageId": "shellscript"
    }
   },
   "outputs": [
    {
     "name": "stdout",
     "output_type": "stream",
     "text": [
      "mos1S001: 74.333\n",
      "mos2S002: 120.951\n",
      "pnS003: 116.75\n"
     ]
    }
   ],
   "source": [
    "# get backscal in the pi files\n",
    "from astropy.io import fits\n",
    "import os\n",
    "import numpy as np\n",
    "from glob import glob\n",
    "\n",
    "regname = 'bkg'\n",
    "srcnum = '9647'\n",
    "# srcname = 'RGH80'\n",
    "# homepath = glob(f'/Users/eusracenorth/Documents/work/XGAP-ABUN/data/RGH80/eckert/0105860101/SDSSTG{srcnum}_{regname}')[0]\n",
    "homepath = glob(f'/Users/eusracenorth/Documents/work/XGAP-ABUN/data/ID{srcnum}/eckert/ID{srcnum}/*/SDSSTG{srcnum}_{regname}')[0]\n",
    "os.chdir(homepath)\n",
    "\n",
    "inst_dict = {}\n",
    "# every pixel length is 0.05 arcsec\n",
    "for name in ['mos1S001', 'mos2S002', 'pnS003']:\n",
    "    # f = fits.open(f'{name}-back-SDSSTG{srcnum}_{regname}.pi')\n",
    "    f = fits.open(f'{name}-back-SDSSTG{srcnum}_{regname}.pi')\n",
    "    print(f'''{name}: {np.round(f[1].header['BACKSCAL'] * (0.05/60) ** 2, 3)}''')\n",
    "    inst_dict[name] = np.round(f[1].header['BACKSCAL'] * (0.05/60) ** 2, 3)"
   ]
  },
  {
   "cell_type": "markdown",
   "metadata": {},
   "source": [
    "1 fit oot spectra"
   ]
  },
  {
   "cell_type": "code",
   "execution_count": 2,
   "metadata": {
    "vscode": {
     "languageId": "shellscript"
    }
   },
   "outputs": [
    {
     "name": "stdout",
     "output_type": "stream",
     "text": [
      "\n",
      "ftgrouppha infile=pnS003-obj-oot-SDSSTG828_bkg.pi outfile=pnS003-obj-oot-SDSSTG828_bkg-grp.pi respfile=pnS003-SDSSTG828_bkg.rmf grouptype=opt\n",
      "\n"
     ]
    }
   ],
   "source": [
    "# optional\n",
    "\n",
    "# print(f'''\n",
    "# ftgrouppha infile=pnS003-obj-oot-SDSSTG{srcnum}_{regname}.pi outfile=pnS003-obj-oot-SDSSTG{srcnum}_{regname}-grp.pi respfile=pnS003-SDSSTG{srcnum}_{regname}.rmf grouptype=opt\n",
    "# ''')\n"
   ]
  },
  {
   "cell_type": "code",
   "execution_count": 21,
   "metadata": {
    "vscode": {
     "languageId": "shellscript"
    }
   },
   "outputs": [
    {
     "name": "stdout",
     "output_type": "stream",
     "text": [
      "\n",
      "abun aspl\n",
      "statistic cstat\n",
      "\n",
      "data pnS003-obj-oot-RGH80_bkg-grp.pi\n",
      "res pnS003-RGH80_bkg.rmf\n",
      "arf pnS003-RGH80_bkg.arf\n",
      "backgrnd pnS003-back-RGH80_bkg.pi\n",
      "\n",
      "ign 1.2-1.5\n",
      "ign bad\n",
      "ign **-0.5,7.0-**\n",
      "\n",
      "mo const*const*(pow+pow+apec+apec)\n",
      "\n"
     ]
    }
   ],
   "source": [
    "print(f'''\n",
    "abun aspl\n",
    "statistic cstat\n",
    "\n",
    "data pnS003-obj-oot-{srcname}_{regname}-grp.pi\n",
    "res pnS003-{srcname}_{regname}.rmf\n",
    "arf pnS003-{srcname}_{regname}.arf\n",
    "backgrnd pnS003-back-{srcname}_{regname}.pi\n",
    "\n",
    "ign 1.2-1.5\n",
    "ign bad\n",
    "ign **-0.5,7.0-**\n",
    "\n",
    "mo const*const*(pow+pow+apec+apec)\n",
    "''')"
   ]
  },
  {
   "cell_type": "code",
   "execution_count": 22,
   "metadata": {
    "vscode": {
     "languageId": "shellscript"
    }
   },
   "outputs": [
    {
     "name": "stdout",
     "output_type": "stream",
     "text": [
      "\n",
      "new 1 117.313\n",
      "new 2 1\n",
      "free 1,2\n",
      "\n"
     ]
    }
   ],
   "source": [
    "print(f'''\n",
    "new 1 {inst_dict['pnS003']}\n",
    "new 2 1\n",
    "free 1,2\n",
    "''')"
   ]
  },
  {
   "cell_type": "code",
   "execution_count": null,
   "metadata": {
    "vscode": {
     "languageId": "shellscript"
    }
   },
   "outputs": [],
   "source": [
    "fit"
   ]
  },
  {
   "cell_type": "code",
   "execution_count": null,
   "metadata": {
    "vscode": {
     "languageId": "shellscript"
    }
   },
   "outputs": [],
   "source": [
    "cpd /xs\n",
    "setp energy\n",
    "pl ldat rat"
   ]
  },
  {
   "cell_type": "code",
   "execution_count": null,
   "metadata": {
    "vscode": {
     "languageId": "shellscript"
    }
   },
   "outputs": [],
   "source": [
    "save all oot.xcm\n",
    "\n",
    "rm oot.log\n",
    "log >oot.log\n",
    "sho par \n",
    "log done\n",
    "exit"
   ]
  },
  {
   "cell_type": "markdown",
   "metadata": {},
   "source": [
    "0.1 download the rosat data"
   ]
  },
  {
   "cell_type": "markdown",
   "metadata": {},
   "source": [
    "1 load the data"
   ]
  },
  {
   "cell_type": "code",
   "execution_count": 23,
   "metadata": {
    "vscode": {
     "languageId": "shellscript"
    }
   },
   "outputs": [
    {
     "name": "stdout",
     "output_type": "stream",
     "text": [
      "\n",
      "data 1:1 mos1S001-obj-RGH80_bkg-grp.pi\n",
      "data 2:2 mos2S002-obj-RGH80_bkg-grp.pi\n",
      "data 3:3 pnS003-obj-RGH80_bkg-grp.pi\n",
      "data 4:4 rosat.pi\n",
      "\n",
      "res 1 mos1S001-RGH80_bkg.rmf\n",
      "res 2 mos2S002-RGH80_bkg.rmf\n",
      "res 3 pnS003-RGH80_bkg.rmf\n",
      "res 4 rosat.rsp\n",
      "\n",
      "arf 1 mos1S001-RGH80_bkg.arf\n",
      "arf 2 mos2S002-RGH80_bkg.arf\n",
      "arf 3 pnS003-RGH80_bkg.arf\n",
      "\n",
      "backgrnd 1 mos1S001-back-RGH80_bkg.pi\n",
      "backgrnd 2 mos2S002-back-RGH80_bkg.pi\n",
      "backgrnd 3 pnS003-back-RGH80_bkg.pi\n",
      "\n",
      "setp energy\n",
      "statistic cstat\n",
      "abun aspl\n",
      "\n",
      "ign 1:0.0-0.3,7.0-** \n",
      "ign 2:0.0-0.3,7.0-**\n",
      "ign 3:0.0-0.3,7.0-**\n",
      "ign bad\n",
      "\n",
      "# ign instrumental lines\n",
      "ign 1:1.2-1.85\n",
      "ign 2:1.2-1.85\n",
      "ign 3:1.2-1.55\n",
      "\n",
      "cpd /xs\n",
      "pl ldat\n",
      "\n"
     ]
    }
   ],
   "source": [
    "print(f'''\n",
    "data 1:1 mos1S001-obj-{srcname}_bkg-grp.pi\n",
    "data 2:2 mos2S002-obj-{srcname}_bkg-grp.pi\n",
    "data 3:3 pnS003-obj-{srcname}_bkg-grp.pi\n",
    "data 4:4 rosat.pi\n",
    "\n",
    "res 1 mos1S001-{srcname}_bkg.rmf\n",
    "res 2 mos2S002-{srcname}_bkg.rmf\n",
    "res 3 pnS003-{srcname}_bkg.rmf\n",
    "res 4 rosat.rsp\n",
    "\n",
    "arf 1 mos1S001-{srcname}_bkg.arf\n",
    "arf 2 mos2S002-{srcname}_bkg.arf\n",
    "arf 3 pnS003-{srcname}_bkg.arf\n",
    "\n",
    "backgrnd 1 mos1S001-back-{srcname}_bkg.pi\n",
    "backgrnd 2 mos2S002-back-{srcname}_bkg.pi\n",
    "backgrnd 3 pnS003-back-{srcname}_bkg.pi\n",
    "\n",
    "setp energy\n",
    "statistic cstat\n",
    "abun aspl\n",
    "\n",
    "ign 1:0.0-0.3,7.0-** \n",
    "ign 2:0.0-0.3,7.0-**\n",
    "ign 3:0.0-0.3,7.0-**\n",
    "ign bad\n",
    "\n",
    "# ign instrumental lines\n",
    "ign 1:1.2-1.85\n",
    "ign 2:1.2-1.85\n",
    "ign 3:1.2-1.55\n",
    "\n",
    "cpd /xs\n",
    "pl ldat\n",
    "''')"
   ]
  },
  {
   "cell_type": "markdown",
   "metadata": {},
   "source": [
    "3 set bkg mdl"
   ]
  },
  {
   "cell_type": "code",
   "execution_count": null,
   "metadata": {
    "vscode": {
     "languageId": "shellscript"
    }
   },
   "outputs": [],
   "source": [
    "# set bkg model\n",
    "# >bkg_mdl.xcm \n",
    "mo const*const*(apec + tbabs*(apec+pow))"
   ]
  },
  {
   "cell_type": "code",
   "execution_count": 33,
   "metadata": {
    "vscode": {
     "languageId": "shellscript"
    }
   },
   "outputs": [
    {
     "name": "stdout",
     "output_type": "stream",
     "text": [
      "\n",
      "\n",
      "# extract region area\n",
      "new 1 148.375\n",
      "new 14 146.833\n",
      "new 27 117.313\n",
      "new 40 1\n",
      "free 1,14,27,40\n",
      "\n",
      "# inst variance\n",
      "new 2 1\n",
      "new 15 1\n",
      "new 28 1\n",
      "new 41 1\n",
      "free 2,15,28,41\n",
      "\n",
      "# LHB\n",
      "new 3 0.11\n",
      "new 6 8.20199E-07\n",
      "free 3,6\n",
      "thaw 6\n",
      "# keep fixed\n",
      "\n",
      "# nH\n",
      "new 7 0.0185\n",
      "free 7\n",
      "\n",
      "# GH_hard\n",
      "new 8 0.178532\n",
      "new 11 1.35238E-06\n",
      "thaw 8,11\n",
      "\n",
      "# cxb\n",
      "new 12 1.46\n",
      "new 13 8.92887E-07\n",
      "thaw 13 \n",
      "# always needs to be frozen \n",
      "\n",
      "\n"
     ]
    }
   ],
   "source": [
    "print(f'''\n",
    "\n",
    "# extract region area\n",
    "new 1 {inst_dict['mos1S001']}\n",
    "new 14 {inst_dict['mos2S002']}\n",
    "new 27 {inst_dict['pnS003']}\n",
    "new 40 1\n",
    "free 1,14,27,40\n",
    "\n",
    "# inst variance\n",
    "new 2 1\n",
    "new 15 1\n",
    "new 28 1\n",
    "new 41 1\n",
    "free 2,15,28,41\n",
    "\n",
    "# LHB\n",
    "new 3 0.11\n",
    "new 6 8.41600E-07\n",
    "free 3,6\n",
    "thaw 6\n",
    "# keep fixed\n",
    "\n",
    "# nH\n",
    "new 7 0.0185\n",
    "free 7\n",
    "\n",
    "# GH_hard\n",
    "new 8 0.191207 \n",
    "new 11 2.01079E-06\n",
    "thaw 8,11\n",
    "\n",
    "# cxb\n",
    "new 12 1.46\n",
    "new 13 1.00448E-06\n",
    "thaw 13 \n",
    "# always needs to be frozen \n",
    "\n",
    "''')"
   ]
  },
  {
   "cell_type": "markdown",
   "metadata": {},
   "source": [
    "5 set spf mdl"
   ]
  },
  {
   "cell_type": "code",
   "execution_count": 25,
   "metadata": {
    "vscode": {
     "languageId": "shellscript"
    }
   },
   "outputs": [
    {
     "ename": "SyntaxError",
     "evalue": "invalid syntax (982145248.py, line 1)",
     "output_type": "error",
     "traceback": [
      "\u001b[0;36m  Cell \u001b[0;32mIn[25], line 1\u001b[0;36m\u001b[0m\n\u001b[0;31m    resp 2:1 ../mos1-diag.rsp\u001b[0m\n\u001b[0m         ^\u001b[0m\n\u001b[0;31mSyntaxError\u001b[0m\u001b[0;31m:\u001b[0m invalid syntax\n"
     ]
    }
   ],
   "source": [
    "resp 2:1 ../mos1-diag.rsp \n",
    "resp 2:2 ../mos2-diag.rsp \n",
    "resp 2:3 ../pn-diag.rsp \n",
    "\n",
    "backgrnd 2:1 mos1S001-back-SDSSTG828_bkg.pi\t\n",
    "backgrnd 2:2 mos2S002-back-SDSSTG828_bkg.pi\n",
    "backgrnd 2:3 pnS003-back-SDSSTG828_bkg.pi\n",
    "\n",
    "model 2:spf const*const*(bknpow)"
   ]
  },
  {
   "cell_type": "code",
   "execution_count": 30,
   "metadata": {
    "vscode": {
     "languageId": "shellscript"
    }
   },
   "outputs": [
    {
     "name": "stdout",
     "output_type": "stream",
     "text": [
      "\n",
      "# set area const\n",
      "new spf:1 148.375\n",
      "new spf:7 146.833\n",
      "new spf:13 117.313\n",
      "free spf:1,7,13\n",
      "\n",
      "new spf:2=2\n",
      "new spf:8=15\n",
      "new spf:14=28\n",
      "\n",
      "# set bknpow index\n",
      "new spf:3 0.7\n",
      "new spf:9 0.7\n",
      "new spf:15 0.7\n",
      "\n",
      "new spf:5 0.7\n",
      "new spf:11 0.7\n",
      "new spf:17 0.7\n",
      "free spf:3,9,15,5,11,17\n",
      "\n",
      "# set breakE\n",
      "free spf:4,10,16\n",
      "\n",
      "# estimate spf norm\n",
      "new spf:6 1e-5\n",
      "new spf:12 1e-5\n",
      "new spf:18 1e-5\n",
      "\n",
      "\n"
     ]
    }
   ],
   "source": [
    "print(f'''\n",
    "# set area const\n",
    "new spf:1 {inst_dict['mos1S001']}\n",
    "new spf:7 {inst_dict['mos2S002']}\n",
    "new spf:13 {inst_dict['pnS003']}\n",
    "free spf:1,7,13\n",
    "\n",
    "new spf:2=2\n",
    "new spf:8=15\n",
    "new spf:14=28\n",
    "\n",
    "# set bknpow index\n",
    "new spf:3 0.7\n",
    "new spf:9 0.7\n",
    "new spf:15 0.7\n",
    "\n",
    "new spf:5 0.7\n",
    "new spf:11 0.7\n",
    "new spf:17 0.7\n",
    "free spf:3,9,15,5,11,17\n",
    "\n",
    "# set breakE\n",
    "free spf:4,10,16\n",
    "\n",
    "# estimate spf norm\n",
    "new spf:6 1e-5\n",
    "new spf:12 1e-5\n",
    "new spf:18 1e-5\n",
    "\n",
    "''')"
   ]
  },
  {
   "cell_type": "markdown",
   "metadata": {},
   "source": [
    "6 set oot model"
   ]
  },
  {
   "cell_type": "code",
   "execution_count": 31,
   "metadata": {
    "vscode": {
     "languageId": "shellscript"
    }
   },
   "outputs": [
    {
     "name": "stdout",
     "output_type": "stream",
     "text": [
      "\n",
      "res 3:3 pnS003-RGH80_bkg.rmf\n",
      "arf 3:3 pnS003-RGH80_bkg.arf\n",
      "backgrnd 3:3 pnS003-back-RGH80_bkg.pi\n",
      "\n",
      "mo 3:oot const*const*(pow + pow + apec + apec)\n",
      "\n"
     ]
    }
   ],
   "source": [
    "print(f'''\n",
    "res 3:3 pnS003-{srcname}_{regname}.rmf\n",
    "arf 3:3 pnS003-{srcname}_{regname}.arf\n",
    "backgrnd 3:3 pnS003-back-{srcname}_{regname}.pi\n",
    "\n",
    "mo 3:oot const*const*(pow + pow + apec + apec)\n",
    "''')"
   ]
  },
  {
   "cell_type": "code",
   "execution_count": 32,
   "metadata": {
    "vscode": {
     "languageId": "shellscript"
    }
   },
   "outputs": [
    {
     "name": "stdout",
     "output_type": "stream",
     "text": [
      "new oot:1 117.313\n",
      "new oot:2 1.00000\n",
      "new oot:3 2.34380\n",
      "new oot:4 1.55813E-06\n",
      "new oot:5 2.34359\n",
      "new oot:6 1.55813E-06\n",
      "new oot:7 3.16299E-02\n",
      "new oot:8 1.00000\n",
      "new oot:9 0.0\n",
      "new oot:10 8.32295E-03\n",
      "new oot:11 3.16299E-02\n",
      "new oot:12 1.00000\n",
      "new oot:13 0.0\n",
      "new oot:14 8.32295E-03\n",
      "free oot:1-14\n"
     ]
    }
   ],
   "source": [
    "import re\n",
    "\n",
    "with open(f'oot.log', 'r') as file:\n",
    "    lines = file.readlines()\n",
    "\n",
    "value_data = []\n",
    "\n",
    "# Iterate through the lines and extract the Value column using regex\n",
    "for line in lines:\n",
    "    if line.startswith('# '):\n",
    "        if re.search(r'\\d', line):  # Check if the line contains a number\n",
    "            columns = line.split()\n",
    "            if 'frozen' in line:\n",
    "                value = columns[-2]\n",
    "            else:\n",
    "                value = columns[-3]\n",
    "            value_data.append(value)\n",
    "\n",
    "# Print the Value data\n",
    "for i, value in enumerate(value_data):\n",
    "    print(f'new oot:{int(i+1)} {value}' )\n",
    "print(f'free oot:1-14')\n"
   ]
  },
  {
   "cell_type": "code",
   "execution_count": null,
   "metadata": {
    "vscode": {
     "languageId": "shellscript"
    }
   },
   "outputs": [],
   "source": [
    "new oot:2 0.063\n",
    "free oot:2"
   ]
  },
  {
   "cell_type": "markdown",
   "metadata": {},
   "source": [
    "7 set ICM model"
   ]
  },
  {
   "cell_type": "code",
   "execution_count": 13,
   "metadata": {
    "vscode": {
     "languageId": "shellscript"
    }
   },
   "outputs": [
    {
     "name": "stdout",
     "output_type": "stream",
     "text": [
      "\n",
      "res 4:1 mos1S001-SDSSTG9647_bkg.rmf\n",
      "res 4:2 mos2S002-SDSSTG9647_bkg.rmf\n",
      "res 4:3 pnS003-SDSSTG9647_bkg.rmf\n",
      "\n",
      "arf 4:1 mos1S001-SDSSTG9647_bkg.arf\n",
      "arf 4:2 mos2S002-SDSSTG9647_bkg.arf\n",
      "arf 4:3 pnS003-SDSSTG9647_bkg.arf\n",
      "\n"
     ]
    }
   ],
   "source": [
    "print(f'''\n",
    "res 4:1 mos1S001-SDSSTG{srcnum}_bkg.rmf\n",
    "res 4:2 mos2S002-SDSSTG{srcnum}_bkg.rmf\n",
    "res 4:3 pnS003-SDSSTG{srcnum}_bkg.rmf\n",
    "\n",
    "arf 4:1 mos1S001-SDSSTG{srcnum}_bkg.arf\n",
    "arf 4:2 mos2S002-SDSSTG{srcnum}_bkg.arf\n",
    "arf 4:3 pnS003-SDSSTG{srcnum}_bkg.arf\n",
    "''')"
   ]
  },
  {
   "cell_type": "code",
   "execution_count": null,
   "metadata": {
    "vscode": {
     "languageId": "shellscript"
    }
   },
   "outputs": [],
   "source": [
    "mo 4:icm const*const*tbabs*apec"
   ]
  },
  {
   "cell_type": "code",
   "execution_count": 14,
   "metadata": {
    "vscode": {
     "languageId": "shellscript"
    }
   },
   "outputs": [
    {
     "name": "stdout",
     "output_type": "stream",
     "text": [
      "\n",
      "new icm:1=1\n",
      "new icm:2 1\n",
      "free icm:2\n",
      "\n",
      "new icm:8=14\n",
      "new icm:15=27\n",
      "\n",
      "new icm:3=7\n",
      "\n",
      "new icm:5 0.3\n",
      "new icm:6 0.046\n",
      "new icm:7 1e-5\n",
      "\n",
      "\n"
     ]
    }
   ],
   "source": [
    "print(f'''\n",
    "new icm:1=1\n",
    "new icm:2 1\n",
    "free icm:2\n",
    "\n",
    "new icm:8=14\n",
    "new icm:15=27\n",
    "\n",
    "new icm:3=7\n",
    "\n",
    "new icm:5 0.3\n",
    "new icm:6 0.046\n",
    "new icm:7 1e-5\n",
    "\n",
    "''')"
   ]
  },
  {
   "cell_type": "code",
   "execution_count": null,
   "metadata": {
    "vscode": {
     "languageId": "shellscript"
    }
   },
   "outputs": [],
   "source": [
    "fit"
   ]
  },
  {
   "cell_type": "code",
   "execution_count": null,
   "metadata": {
    "vscode": {
     "languageId": "shellscript"
    }
   },
   "outputs": [],
   "source": [
    "cpd /xs\n",
    "setp energy\n",
    "pl ldat rat"
   ]
  },
  {
   "cell_type": "code",
   "execution_count": null,
   "metadata": {
    "vscode": {
     "languageId": "shellscript"
    }
   },
   "outputs": [],
   "source": [
    "sho fre"
   ]
  },
  {
   "cell_type": "code",
   "execution_count": null,
   "metadata": {
    "vscode": {
     "languageId": "shellscript"
    }
   },
   "outputs": [],
   "source": [
    "save all fit_pnmos.xcm\n",
    "exit"
   ]
  }
 ],
 "metadata": {
  "kernelspec": {
   "display_name": "Python 3.10.11 ('base')",
   "language": "python",
   "name": "python3"
  },
  "language_info": {
   "codemirror_mode": {
    "name": "ipython",
    "version": 3
   },
   "file_extension": ".py",
   "mimetype": "text/x-python",
   "name": "python",
   "nbconvert_exporter": "python",
   "pygments_lexer": "ipython3",
   "version": "3.10.11"
  },
  "orig_nbformat": 4,
  "vscode": {
   "interpreter": {
    "hash": "58ee13649a3e33612fea9b2fc6712fa52e5371c54a9ff454aedbace36da48a84"
   }
  }
 },
 "nbformat": 4,
 "nbformat_minor": 2
}
