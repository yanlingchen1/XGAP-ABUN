{
 "cells": [
  {
   "cell_type": "markdown",
   "metadata": {},
   "source": [
    "0 read data"
   ]
  },
  {
   "cell_type": "code",
   "execution_count": 17,
   "metadata": {},
   "outputs": [
    {
     "ename": "SyntaxError",
     "evalue": "invalid syntax (722761176.py, line 1)",
     "output_type": "error",
     "traceback": [
      "\u001b[0;36m  Cell \u001b[0;32mIn[17], line 1\u001b[0;36m\u001b[0m\n\u001b[0;31m    setp energy\u001b[0m\n\u001b[0m         ^\u001b[0m\n\u001b[0;31mSyntaxError\u001b[0m\u001b[0;31m:\u001b[0m invalid syntax\n"
     ]
    }
   ],
   "source": [
    "setp energy\n",
    "statistic cstat\n",
    "abun aspl\n",
    "\n",
    "data 1:1 mos1S001-obj-SDSSTG3460_reg11-grp.pi\n",
    "data 2:2 mos2S002-obj-SDSSTG3460_reg11-grp.pi\n",
    "\n",
    "res 1 mos1S001-SDSSTG3460_reg11.rmf\n",
    "res 2 mos2S002-SDSSTG3460_reg11.rmf\n",
    "\n",
    "arf 1 mos1S001-SDSSTG3460_reg11.arf\n",
    "arf 2 mos2S002-SDSSTG3460_reg11.arf\n",
    "\n",
    "backgrnd 1 mos1S001-back-SDSSTG3460_reg11.pi\n",
    "backgrnd 2 mos2S002-back-SDSSTG3460_reg11.pi\n",
    "\n",
    "ign 1:0.0-0.3,11.0-** \n",
    "ign 2:0.0-0.3,11.0-**\n",
    "\n",
    "ign 1:1.2-1.85\n",
    "ign 2:1.2-1.85\n",
    "ign bad"
   ]
  },
  {
   "cell_type": "code",
   "execution_count": 19,
   "metadata": {},
   "outputs": [
    {
     "name": "stdout",
     "output_type": "stream",
     "text": [
      "mos1S001: 54.362\n",
      "mos2S002: 80.028\n"
     ]
    }
   ],
   "source": [
    "# get backscal in the pi files\n",
    "from astropy.io import fits\n",
    "import os\n",
    "import numpy as np\n",
    "\n",
    "homepath = f'/Users/eusracenorth/Documents/work/XGAP-ABUN/data/ID3460/eckert/ID3460/0903892401/SDSSTG3460_reg11'\n",
    "\n",
    "os.chdir(homepath)\n",
    "\n",
    "# every pixel length is 0.05 arcsec\n",
    "\n",
    "for name in ['mos1S001', 'mos2S002']:\n",
    "    f = fits.open(f'{name}-back-SDSSTG3460_reg11.pi')\n",
    "    print(f'''{name}: {np.round(f[1].header['BACKSCAL'] * (0.05/60) ** 2, 3)}''')"
   ]
  },
  {
   "cell_type": "markdown",
   "metadata": {},
   "source": [
    "1 set bkg mdl"
   ]
  },
  {
   "cell_type": "code",
   "execution_count": null,
   "metadata": {},
   "outputs": [],
   "source": [
    "mo const*const*(apec + tbabs*(apec+apec+pow))"
   ]
  },
  {
   "cell_type": "code",
   "execution_count": 8,
   "metadata": {},
   "outputs": [
    {
     "ename": "SyntaxError",
     "evalue": "invalid syntax (1899396489.py, line 2)",
     "output_type": "error",
     "traceback": [
      "\u001b[0;36m  Cell \u001b[0;32mIn[8], line 2\u001b[0;36m\u001b[0m\n\u001b[0;31m    new 1 2.974\u001b[0m\n\u001b[0m        ^\u001b[0m\n\u001b[0;31mSyntaxError\u001b[0m\u001b[0;31m:\u001b[0m invalid syntax\n"
     ]
    }
   ],
   "source": [
    "# extract region area\n",
    "new 1 54.362\n",
    "new 18 80.028\n",
    "free 1,18\n",
    "\n",
    "# inst variance\n",
    "new 2 1\n",
    "new 19 1\n",
    "free 2,19\n",
    "\n",
    "\n",
    "# LHB\n",
    "new 3 0.11\n",
    "new 6 1.05275E-06\n",
    "free 3,6\n",
    "\n",
    "# nH\n",
    "new 7 0.0243\n",
    "free 7\n",
    "\n",
    "# GH_hard\n",
    "# not always need to consider\n",
    "new 8 0.19156\n",
    "new 11 7.86682E-07\n",
    "free 8,11\n",
    "\n",
    "# ICM\n",
    "# norm can be spatially variable\n",
    "new 12 1\n",
    "new 15 1e-5\n",
    "new 13 0.3\n",
    "new 14 0.043 \n",
    "free 13,14\n",
    "\n",
    "# cxb\n",
    "new 16 1.46\n",
    "new 17 8.86557E-07\n",
    "free 16,17\n",
    "\n",
    "# #fix abun first. thaw later\n",
    "# thaw 13"
   ]
  },
  {
   "cell_type": "code",
   "execution_count": null,
   "metadata": {},
   "outputs": [],
   "source": []
  }
 ],
 "metadata": {
  "kernelspec": {
   "display_name": "Python 3.10.11 ('base')",
   "language": "python",
   "name": "python3"
  },
  "language_info": {
   "codemirror_mode": {
    "name": "ipython",
    "version": 3
   },
   "file_extension": ".py",
   "mimetype": "text/x-python",
   "name": "python",
   "nbconvert_exporter": "python",
   "pygments_lexer": "ipython3",
   "version": "3.10.11"
  },
  "orig_nbformat": 4,
  "vscode": {
   "interpreter": {
    "hash": "58ee13649a3e33612fea9b2fc6712fa52e5371c54a9ff454aedbace36da48a84"
   }
  }
 },
 "nbformat": 4,
 "nbformat_minor": 2
}
