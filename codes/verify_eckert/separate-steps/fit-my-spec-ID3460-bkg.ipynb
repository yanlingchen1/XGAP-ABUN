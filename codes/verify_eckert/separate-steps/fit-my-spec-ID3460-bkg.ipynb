{
 "cells": [
  {
   "cell_type": "code",
   "execution_count": null,
   "metadata": {},
   "outputs": [],
   "source": [
    "'''\n",
    "Eckert\n",
    "lhb    1.05275e-06   3.43027e-08\n",
    "ght    0.224606   0.0170439\n",
    "ghn    7.86682e-07   1.65491e-07\n",
    "cxb    8.86557e-07   5.43607e-08\n",
    "NH     0.024  \n",
    "REDSHIFT      0.043\n",
    "\n",
    "My\n",
    "lhb\n",
    "   6    3   apec       norm                7.98669E-07  +/-  3.36992E-08 \n",
    "gh \n",
    "  12    6   apec       kT         keV      0.191560     +/-  8.14267E-03  \n",
    "  15    6   apec       norm                1.53306E-06  +/-  1.22582E-07\n",
    "cxb  \n",
    "  17    7   powerlaw   norm                7.65062E-07  +/-  5.47069E-08   \n",
    "  -------\n",
    "Total fit statistic                          5362.76     with 7509 d.o.f.\n",
    "'''"
   ]
  },
  {
   "cell_type": "code",
   "execution_count": 1,
   "metadata": {},
   "outputs": [],
   "source": [
    "import numpy as np"
   ]
  },
  {
   "cell_type": "markdown",
   "metadata": {},
   "source": [
    "0 load the data"
   ]
  },
  {
   "cell_type": "code",
   "execution_count": null,
   "metadata": {
    "vscode": {
     "languageId": "shellscript"
    }
   },
   "outputs": [],
   "source": [
    "data 1:1 mos1S001-fovt.pi\n",
    "data 2:2 mos2S002-fovt.pi\n",
    "data 3:3 pnS003-0-fovt.pi\n",
    "data 4:4 pnS003-4-fovt.pi\n",
    "data 5:5 pnS003-0-fovtoot.pi\n",
    "data 6:6 pnS003-4-fovtoot.pi\n",
    "data 7:7 rosat.pi\n",
    "\n",
    "res 1 mos1S001.rmf\n",
    "res 2 mos2S002.rmf\n",
    "res 3 pnS003-0-fovt.rmf\n",
    "res 4 pnS003-4-fovt.rmf\n",
    "res 5 pnS003-0-fovt.rmf\n",
    "res 6 pnS003-4-fovt.rmf\n",
    "res 7 rosat.rsp\n",
    "\n",
    "arf 1 mos1S001.arf\n",
    "arf 2 mos2S002.arf\n",
    "arf 3 pnS003-0-fovt.arf\n",
    "arf 4 pnS003-4-fovt.arf\n",
    "arf 5 pnS003-0-fovt.arf\n",
    "arf 6 pnS003-4-fovt.arf\n",
    "\n",
    "backgrnd 1 mos1S001-bkg.pi\t\n",
    "backgrnd 2 mos2S002-bkg.pi\n",
    "backgrnd 3 pnS003-0-bkg.pi\n",
    "backgrnd 4 pnS003-4-bkg.pi\n",
    "backgrnd 5 pnS003-0-bkg.pi\n",
    "backgrnd 6 pnS003-4-bkg.pi\n",
    "\n",
    "setp energy\n",
    "statistic cstat\n",
    "abun aspl\n",
    "\n",
    "ign 1:0.0-0.3,11.0-** \n",
    "ign 2:0.0-0.3,11.0-**\n",
    "ign 3:0.0-0.3,2.0-**\n",
    "ign 4:0.0-1.0,11.0-**\n",
    "ign 4:7.2-9.2\n",
    "ign 5:0.0-0.3,2.0-**\n",
    "ign 6:0.0-1.0,11.0-**\n",
    "ign 6:7.2-9.2\n",
    "ign bad\n",
    "\n",
    "cpd /xs\n",
    "pl ldat"
   ]
  },
  {
   "cell_type": "markdown",
   "metadata": {},
   "source": [
    "1 get backscal in the pi files\n"
   ]
  },
  {
   "cell_type": "code",
   "execution_count": null,
   "metadata": {},
   "outputs": [],
   "source": [
    "# get backscal in the pi files\n",
    "from astropy.io import fits\n",
    "import os\n",
    "\n",
    "homepath = f'/Users/eusracenorth/Documents/work/XGAP-ABUN/data/ID3460/reduction/SDSSTG3460/SDSSTG3460_bkg'\n",
    "os.chdir(homepath)\n",
    "\n",
    "# every pixel length is 0.05 arcsec\n",
    "\n",
    "for name in ['mos1S001', 'mos2S002', 'pnS003-0', 'pnS003-4']:\n",
    "    f = fits.open(f'{name}-bkg.pi')\n",
    "    print(f'''{name}: {f[1].header['BACKSCAL'] * (0.05/60) ** 2}''')"
   ]
  },
  {
   "cell_type": "code",
   "execution_count": null,
   "metadata": {},
   "outputs": [],
   "source": []
  },
  {
   "cell_type": "markdown",
   "metadata": {},
   "source": [
    "2 check nH value"
   ]
  },
  {
   "cell_type": "code",
   "execution_count": null,
   "metadata": {},
   "outputs": [],
   "source": [
    "2.43e20 atom/cm2"
   ]
  },
  {
   "cell_type": "markdown",
   "metadata": {},
   "source": [
    "3 set bkg mdl"
   ]
  },
  {
   "cell_type": "code",
   "execution_count": null,
   "metadata": {
    "vscode": {
     "languageId": "shellscript"
    }
   },
   "outputs": [],
   "source": [
    "# set bkg model\n",
    "# >bkg_mdl.xcm \n",
    "mo const*const*(apec + tbabs*(apec+apec+pow))"
   ]
  },
  {
   "cell_type": "code",
   "execution_count": null,
   "metadata": {
    "vscode": {
     "languageId": "shellscript"
    }
   },
   "outputs": [],
   "source": [
    "# extract region area\n",
    "new 1 93.51\n",
    "new 18 127.54\n",
    "new 35 121.32\n",
    "new 52 121.32\n",
    "new 69 121.32\n",
    "new 86 121.32\n",
    "new 103 1\n",
    "# rosat spectrum has been normalized to 1 arcmin2 ? yes!\n",
    "free 1,18,35,52,69,86,103\n",
    "\n",
    "# inst variance\n",
    "new 2 1\n",
    "new 19 1\n",
    "new 36 1\n",
    "new 53=36\n",
    "new 70 1\n",
    "new 87=70\n",
    "new 104 1\n",
    "free 2,19,36,70,104\n",
    "\n",
    "# LHB\n",
    "new 3 0.11\n",
    "new 6 9e-7\n",
    "free 3 \n",
    "# keep fixed\n",
    "\n",
    "# nH\n",
    "new 7 0.0243\n",
    "free 7\n",
    "\n",
    "# GH_soft\n",
    "# not always need to consider\n",
    "new 8 0.05\n",
    "new 11 0\n",
    "free 8,11\n",
    "# maybe thaw later\n",
    "\n",
    "# GH_hard \n",
    "# norm can be spatially variable\n",
    "new 12 0.2\n",
    "new 15 2e-6\n",
    "free 12 \n",
    "# thaw later\n",
    "\n",
    "# cxb\n",
    "new 16 1.46\n",
    "new 17 1.1e-6\n",
    "free 16 \n",
    "# always needs to be frozen \n",
    "\n"
   ]
  },
  {
   "cell_type": "markdown",
   "metadata": {},
   "source": [
    "4 set alsi mdl"
   ]
  },
  {
   "cell_type": "code",
   "execution_count": null,
   "metadata": {
    "vscode": {
     "languageId": "shellscript"
    }
   },
   "outputs": [],
   "source": [
    "res 2:1 mos1S001.rmf\n",
    "res 2:2 mos2S002.rmf\n",
    "res 2:3 pnS003-0.rmf\n",
    "res 2:4 pnS003-4.rmf\n",
    "res 2:5 pnS003-0.rmf\n",
    "res 2:6 pnS003-4.rmf\n",
    "\n",
    "arf 2:1 mos1S001.arf\n",
    "arf 2:2 mos2S002.arf\n",
    "arf 2:3 pnS003-0.arf\n",
    "arf 2:4 pnS003-4.arf\n",
    "arf 2:5 pnS003-0.arf\n",
    "arf 2:6 pnS003-4.arf\n",
    "\n",
    "backgrnd 2:1 mos1S001-bkg.pi\t\n",
    "backgrnd 2:2 mos2S002-bkg.pi\n",
    "backgrnd 2:3 pnS003-0-bkg.pi\n",
    "backgrnd 2:4 pnS003-4-bkg.pi\n",
    "backgrnd 2:5 pnS003-0-bkg.pi\n",
    "backgrnd 2:6 pnS003-4-bkg.pi\n",
    "\n",
    "mo 2:alsi const*const*(gauss + gauss + gauss + gauss)\n"
   ]
  },
  {
   "cell_type": "code",
   "execution_count": 8,
   "metadata": {
    "vscode": {
     "languageId": "shellscript"
    }
   },
   "outputs": [
    {
     "name": "stdout",
     "output_type": "stream",
     "text": [
      "new alsi:1 0\n",
      "new alsi:2 0\n",
      "new alsi:3 0\n",
      "new alsi:4 0\n",
      "new alsi:5 0\n",
      "new alsi:6 0\n",
      "new alsi:7 0\n",
      "new alsi:8 0\n",
      "new alsi:9 0\n",
      "new alsi:10 0\n",
      "new alsi:11 0\n",
      "new alsi:12 0\n",
      "new alsi:13 0\n",
      "new alsi:14 0\n",
      "new alsi:15 0\n",
      "new alsi:16 0\n",
      "new alsi:17 0\n",
      "new alsi:18 0\n",
      "new alsi:19 0\n",
      "new alsi:20 0\n",
      "new alsi:21 0\n",
      "new alsi:22 0\n",
      "new alsi:23 0\n",
      "new alsi:24 0\n",
      "new alsi:25 0\n",
      "new alsi:26 0\n",
      "new alsi:27 0\n",
      "new alsi:28 0\n",
      "new alsi:29 0\n",
      "new alsi:30 0\n",
      "new alsi:31 0\n",
      "new alsi:32 0\n",
      "new alsi:33 0\n",
      "new alsi:34 0\n",
      "new alsi:35 0\n",
      "new alsi:36 0\n",
      "new alsi:37 0\n",
      "new alsi:38 0\n",
      "new alsi:39 0\n",
      "new alsi:40 0\n",
      "new alsi:41 0\n",
      "new alsi:42 0\n",
      "new alsi:43 0\n",
      "new alsi:44 0\n",
      "new alsi:45 0\n",
      "new alsi:46 0\n",
      "new alsi:47 0\n",
      "new alsi:48 0\n",
      "new alsi:49 0\n",
      "new alsi:50 0\n",
      "new alsi:51 0\n",
      "new alsi:52 0\n",
      "new alsi:53 0\n",
      "new alsi:54 0\n",
      "new alsi:55 0\n",
      "new alsi:56 0\n",
      "new alsi:57 0\n",
      "new alsi:58 0\n",
      "new alsi:59 0\n",
      "new alsi:60 0\n",
      "new alsi:61 0\n",
      "free alsi:1-61\n"
     ]
    }
   ],
   "source": [
    "# set all alsi to 0\n",
    "# ign alsi range\n",
    "for i in range(1,62):\n",
    "    print(f'new alsi:{i} 0')\n",
    "print('free alsi:1-61')\n",
    "print(f'''\n",
    "ign 1-2:1.1-1.8\n",
    "ign 3-6:1.1-1.55\n",
    "ign 3-6:7.6-8.3\n",
    "''')"
   ]
  },
  {
   "cell_type": "code",
   "execution_count": null,
   "metadata": {
    "vscode": {
     "languageId": "shellscript"
    }
   },
   "outputs": [],
   "source": [
    "# set alsi parameter\n",
    "new alsi:1 93.51\n",
    "new alsi:15 127.54\n",
    "new alsi:29 121.32\n",
    "new alsi:43 121.32\n",
    "new alsi:57 121.32\n",
    "new alsi:71 121.32\n",
    "free alsi:1,15,29,43,57,71\n",
    "\n",
    "new alsi:2=2\n",
    "new alsi:16=19\n",
    "new alsi:30=36\n",
    "new alsi:44=53\n",
    "new alsi:58=70\n",
    "new alsi:72=87\n",
    "\n",
    "\n"
   ]
  },
  {
   "cell_type": "code",
   "execution_count": null,
   "metadata": {
    "vscode": {
     "languageId": "shellscript"
    }
   },
   "outputs": [],
   "source": [
    "# 1.739 mos only\n",
    "new alsi:3 1.739\n",
    "new alsi:4 0\n",
    "new alsi:5 1e-6\n",
    "free alsi:3,4\n",
    "\n",
    "new alsi:17=alsi:3\n",
    "new alsi:18=alsi:4\n",
    "new alsi:19 1e-6\n",
    "\n",
    "new alsi:31 0\n",
    "new alsi:32 0\n",
    "new alsi:33 1e-6\n",
    "free alsi:31,32\n",
    "\n",
    "new alsi:45=alsi:31\n",
    "new alsi:46=alsi:32\n",
    "new alsi:47=alsi:33\n",
    "\n",
    "new alsi:59=alsi:31\n",
    "new alsi:60=alsi:32\n",
    "new alsi:61 1e-6\n",
    "\n",
    "new alsi:73=alsi:59\n",
    "new alsi:74=alsi:60\n",
    "new alsi:75=alsi:61\n"
   ]
  },
  {
   "cell_type": "code",
   "execution_count": 2,
   "metadata": {
    "vscode": {
     "languageId": "shellscript"
    }
   },
   "outputs": [
    {
     "name": "stdout",
     "output_type": "stream",
     "text": [
      "\n",
      "new alsi:6 1.486\n",
      "new alsi:7 0\n",
      "new alsi:8 1e-5\n",
      "free alsi:6, 7\n",
      "\n",
      "new alsi:20=alsi:6\n",
      "new alsi:21=alsi:7\n",
      "new alsi:22 1e-5\n",
      "\n",
      "new alsi:34=alsi:6\n",
      "new alsi:35=alsi:7\n",
      "new alsi:36 1e-5\n",
      "\n",
      "new alsi:48=alsi:34\n",
      "new alsi:49=alsi:35\n",
      "new alsi:50=alsi:36\n",
      "\n",
      "new alsi:62=alsi:6\n",
      "new alsi:63=alsi:7\n",
      "new alsi:64 1e-5\n",
      "\n",
      "new alsi:76=alsi:62\n",
      "new alsi:77=alsi:63\n",
      "new alsi:78=alsi:64\n",
      "\n"
     ]
    }
   ],
   "source": [
    "# Al Ka 1.486\n",
    "step = 3\n",
    "print(\n",
    "f'''\n",
    "new alsi:{step+3} 1.486\n",
    "new alsi:{step+4} 0\n",
    "new alsi:{step+5} 1e-5\n",
    "free alsi:{step+3}, {step+4}\n",
    "\n",
    "new alsi:{step+17}=alsi:{step+3}\n",
    "new alsi:{step+18}=alsi:{step+4}\n",
    "new alsi:{step+19} 1e-5\n",
    "\n",
    "new alsi:{step+31}=alsi:{step+3}\n",
    "new alsi:{step+32}=alsi:{step+4}\n",
    "new alsi:{step+33} 1e-5\n",
    "\n",
    "new alsi:{step+45}=alsi:{step+31}\n",
    "new alsi:{step+46}=alsi:{step+32}\n",
    "new alsi:{step+47}=alsi:{step+33}\n",
    "\n",
    "new alsi:{step+59}=alsi:{step+3}\n",
    "new alsi:{step+60}=alsi:{step+4}\n",
    "new alsi:{step+61} 1e-5\n",
    "\n",
    "new alsi:{step+73}=alsi:{step+59}\n",
    "new alsi:{step+74}=alsi:{step+60}\n",
    "new alsi:{step+75}=alsi:{step+61}\n",
    "'''\n",
    ")\n"
   ]
  },
  {
   "cell_type": "code",
   "execution_count": null,
   "metadata": {
    "vscode": {
     "languageId": "shellscript"
    }
   },
   "outputs": [],
   "source": [
    "# Al Kb 1.557, mos only\n",
    "step = 6\n",
    "print(\n",
    "f'''\n",
    "new alsi:{step+3} 1.557\n",
    "new alsi:{step+4} 0\n",
    "new alsi:{step+5} 1e-5\n",
    "free alsi:{step+3}, {step+4}\n",
    "\n",
    "new alsi:{step+17}=alsi:{step+3}\n",
    "new alsi:{step+18}=alsi:{step+4}\n",
    "new alsi:{step+19} 1e-5\n",
    "\n",
    "'''\n",
    ")\n"
   ]
  },
  {
   "cell_type": "code",
   "execution_count": null,
   "metadata": {
    "vscode": {
     "languageId": "shellscript"
    }
   },
   "outputs": [],
   "source": [
    "# set last gauss in mos as 0\n",
    "step = 9\n",
    "print(\n",
    "f'''\n",
    "new alsi:{step+3} 0\n",
    "new alsi:{step+4} 0\n",
    "new alsi:{step+5} 0\n",
    "free alsi:{step+3}, {step+4}, {step+5}\n",
    "\n",
    "new alsi:{step+17}=alsi:{step+3}\n",
    "new alsi:{step+18}=alsi:{step+4}\n",
    "new alsi:{step+19} 1e-5\n",
    "\n",
    "'''\n",
    ")"
   ]
  },
  {
   "cell_type": "code",
   "execution_count": null,
   "metadata": {
    "vscode": {
     "languageId": "shellscript"
    }
   },
   "outputs": [],
   "source": [
    "# Cr Kb 5.947, pn only\n",
    "# freeze to norm 0\n",
    "step = 9\n",
    "print(\n",
    "f'''\n",
    "new alsi:{step+28} 5.947\n",
    "new alsi:{step+29} 0\n",
    "new alsi:{step+30} 0\n",
    "free alsi:{step+28},{step+29},{step+30}\n",
    "\n",
    "new alsi:{step+42}=alsi:{step+28}\n",
    "new alsi:{step+43}=alsi:{step+29}\n",
    "new alsi:{step+44}=alsi:{step+30}\n",
    "\n",
    "new alsi:{step+56}=alsi:{step+28}\n",
    "new alsi:{step+57}=alsi:{step+29}\n",
    "new alsi:{step+58} 0\n",
    "free alsi:{step+58}\n",
    "\n",
    "new alsi:{step+70}=alsi:{step+56}\n",
    "new alsi:{step+71}=alsi:{step+57}\n",
    "new alsi:{step+72}=alsi:{step+58}\n",
    "'''\n",
    ")\n"
   ]
  },
  {
   "cell_type": "code",
   "execution_count": null,
   "metadata": {
    "vscode": {
     "languageId": "shellscript"
    }
   },
   "outputs": [],
   "source": []
  },
  {
   "cell_type": "code",
   "execution_count": null,
   "metadata": {
    "vscode": {
     "languageId": "shellscript"
    }
   },
   "outputs": [],
   "source": [
    "# set last gauss of pn as 0\n",
    "step = 12\n",
    "print(\n",
    "f'''\n",
    "new alsi:{step+28} 0\n",
    "new alsi:{step+29} 0\n",
    "new alsi:{step+30} 0\n",
    "free alsi:{step+28},{step+29},{step+30}\n",
    "\n",
    "new alsi:{step+42}=alsi:{step+28}\n",
    "new alsi:{step+43}=alsi:{step+29}\n",
    "new alsi:{step+44}=alsi:{step+30}\n",
    "'''\n",
    ")"
   ]
  },
  {
   "cell_type": "markdown",
   "metadata": {},
   "source": [
    "5 set spf mdl"
   ]
  },
  {
   "cell_type": "code",
   "execution_count": null,
   "metadata": {
    "vscode": {
     "languageId": "shellscript"
    }
   },
   "outputs": [],
   "source": [
    "resp 3:1 mos1-diag.rsp \n",
    "resp 3:2 mos2-diag.rsp \n",
    "resp 3:3 pn-diag.rsp \n",
    "resp 3:4 pn-diag.rsp \n",
    "resp 3:5 pn-diag.rsp \n",
    "resp 3:6 pn-diag.rsp \n",
    "\n",
    "backgrnd 3:1 mos1S001-bkg.pi\t\n",
    "backgrnd 3:2 mos2S002-bkg.pi\n",
    "backgrnd 3:3 pnS003-0-bkg.pi\n",
    "backgrnd 3:4 pnS003-4-bkg.pi\n",
    "backgrnd 3:5 pnS003-0-bkg.pi\n",
    "backgrnd 3:6 pnS003-4-bkg.pi\n",
    "\n",
    "model 3:spf const*const*(bknpow)"
   ]
  },
  {
   "cell_type": "code",
   "execution_count": null,
   "metadata": {
    "vscode": {
     "languageId": "shellscript"
    }
   },
   "outputs": [],
   "source": [
    "# set area const\n",
    "new spf:1 93.51\n",
    "new spf:7 127.54\n",
    "new spf:13 121.32\n",
    "new spf:19 121.32\n",
    "new spf:25 121.32\n",
    "new spf:31 121.32\n",
    "free spf:1,7,13,19,25,31\n",
    "\n",
    "new spf:2=2\n",
    "new spf:8=19\n",
    "new spf:14=36\n",
    "new spf:20=53\n",
    "new spf:26=70\n",
    "new spf:32=87\n",
    "\n",
    "\n",
    "# set bknpow index\n",
    "new spf:3 0.7\n",
    "new spf:9 0.7\n",
    "new spf:15 0.7\n",
    "new spf:21 0.7\n",
    "new spf:27 0.7\n",
    "new spf:33 0.7\n",
    "\n",
    "new spf:5 0.7\n",
    "new spf:11 0.7\n",
    "new spf:17 0.7\n",
    "new spf:23 0.7\n",
    "new spf:29 0.7\n",
    "new spf:35 0.7\n",
    "free spf:3,9,15,21,27,33,5,11,17,23,29,35\n",
    "\n",
    "# set breakE\n",
    "free spf:4,10,16,22,28,34\n",
    "\n",
    "# estimate spf norm\n",
    "new spf:6 1e-5\n",
    "new spf:12 1e-5\n",
    "new spf:18 1e-5\n",
    "new spf:30 1e-5\n",
    "new spf:24=spf:18\n",
    "new spf:36=spf:30\n"
   ]
  },
  {
   "cell_type": "markdown",
   "metadata": {},
   "source": [
    "6 link oot model: skybkg"
   ]
  },
  {
   "cell_type": "code",
   "execution_count": null,
   "metadata": {
    "vscode": {
     "languageId": "shellscript"
    }
   },
   "outputs": [],
   "source": [
    "res 4:3 pnS003-0.rmf\n",
    "res 4:4 pnS003-4.rmf\n",
    "\n",
    "arf 4:3 pnS003-0.arf\n",
    "arf 4:4 pnS003-4.arf\n",
    "\n",
    "backgrnd 4:3 pnS003-0-bkg.pi\n",
    "backgrnd 4:4 pnS003-4-bkg.pi\n",
    "\n",
    "mo 4:bkg_oot const*const*(apec + tbabs*(apec+apec+pow))\n"
   ]
  },
  {
   "cell_type": "code",
   "execution_count": 3,
   "metadata": {
    "vscode": {
     "languageId": "shellscript"
    }
   },
   "outputs": [
    {
     "name": "stdout",
     "output_type": "stream",
     "text": [
      "new bkg_oot:1=69\n",
      "new bkg_oot:2=70\n",
      "new bkg_oot:3=71\n",
      "new bkg_oot:4=72\n",
      "new bkg_oot:5=73\n",
      "new bkg_oot:6=74\n",
      "new bkg_oot:7=75\n",
      "new bkg_oot:8=76\n",
      "new bkg_oot:9=77\n",
      "new bkg_oot:10=78\n",
      "new bkg_oot:11=79\n",
      "new bkg_oot:12=80\n",
      "new bkg_oot:13=81\n",
      "new bkg_oot:14=82\n",
      "new bkg_oot:15=83\n",
      "new bkg_oot:16=84\n",
      "new bkg_oot:17=85\n",
      "new bkg_oot:18=86\n",
      "new bkg_oot:19=87\n",
      "new bkg_oot:20=88\n",
      "new bkg_oot:21=89\n",
      "new bkg_oot:22=90\n",
      "new bkg_oot:23=91\n",
      "new bkg_oot:24=92\n",
      "new bkg_oot:25=93\n",
      "new bkg_oot:26=94\n",
      "new bkg_oot:27=95\n",
      "new bkg_oot:28=96\n",
      "new bkg_oot:29=97\n",
      "new bkg_oot:30=98\n",
      "new bkg_oot:31=99\n",
      "new bkg_oot:32=100\n",
      "new bkg_oot:33=101\n",
      "new bkg_oot:34=102\n"
     ]
    }
   ],
   "source": [
    "for i in range(1,35):\n",
    "    print(f'''new bkg_oot:{i}={68+i}''')\n"
   ]
  },
  {
   "cell_type": "code",
   "execution_count": null,
   "metadata": {
    "vscode": {
     "languageId": "shellscript"
    }
   },
   "outputs": [],
   "source": [
    "new bkg_oot:2 0.063 \n",
    "# full frame mode\n",
    "new bkg_oot:19=bkg_oot:2\n",
    "free bkg_oot:2"
   ]
  },
  {
   "cell_type": "markdown",
   "metadata": {},
   "source": [
    "7 link oot model: alsi"
   ]
  },
  {
   "cell_type": "code",
   "execution_count": null,
   "metadata": {
    "vscode": {
     "languageId": "shellscript"
    }
   },
   "outputs": [],
   "source": [
    "res 5:3 pnS003-0.rmf\n",
    "res 5:4 pnS003-4.rmf\n",
    "\n",
    "arf 5:3 pnS003-0.arf\n",
    "arf 5:4 pnS003-4.arf\n",
    "\n",
    "backgrnd 5:3 pnS003-0-bkg.pi\n",
    "backgrnd 5:4 pnS003-4-bkg.pi\n",
    "\n",
    "mo 5:alsi_oot const*const*(gauss + gauss + gauss + gauss)\n"
   ]
  },
  {
   "cell_type": "code",
   "execution_count": 5,
   "metadata": {
    "vscode": {
     "languageId": "shellscript"
    }
   },
   "outputs": [
    {
     "name": "stdout",
     "output_type": "stream",
     "text": [
      "new alsi_oot:1=alsi:57\n",
      "new alsi_oot:2=alsi:58\n",
      "new alsi_oot:3=alsi:59\n",
      "new alsi_oot:4=alsi:60\n",
      "new alsi_oot:5=alsi:61\n",
      "new alsi_oot:6=alsi:62\n",
      "new alsi_oot:7=alsi:63\n",
      "new alsi_oot:8=alsi:64\n",
      "new alsi_oot:9=alsi:65\n",
      "new alsi_oot:10=alsi:66\n",
      "new alsi_oot:11=alsi:67\n",
      "new alsi_oot:12=alsi:68\n",
      "new alsi_oot:13=alsi:69\n",
      "new alsi_oot:14=alsi:70\n",
      "new alsi_oot:15=alsi:71\n",
      "new alsi_oot:16=alsi:72\n",
      "new alsi_oot:17=alsi:73\n",
      "new alsi_oot:18=alsi:74\n",
      "new alsi_oot:19=alsi:75\n",
      "new alsi_oot:20=alsi:76\n",
      "new alsi_oot:21=alsi:77\n",
      "new alsi_oot:22=alsi:78\n",
      "new alsi_oot:23=alsi:79\n",
      "new alsi_oot:24=alsi:80\n",
      "new alsi_oot:25=alsi:81\n",
      "new alsi_oot:26=alsi:82\n",
      "new alsi_oot:27=alsi:83\n",
      "new alsi_oot:28=alsi:84\n"
     ]
    }
   ],
   "source": [
    "for i in range(1,29):\n",
    "    print(f'''new alsi_oot:{i}=alsi:{56+i}''')\n"
   ]
  },
  {
   "cell_type": "code",
   "execution_count": null,
   "metadata": {
    "vscode": {
     "languageId": "shellscript"
    }
   },
   "outputs": [],
   "source": [
    "new alsi_oot:2 0.063 \n",
    "# full frame mode\n",
    "new alsi_oot:16=alsi_oot:2\n",
    "free alsi_oot:2"
   ]
  },
  {
   "cell_type": "markdown",
   "metadata": {},
   "source": [
    "8 link oot model: spf"
   ]
  },
  {
   "cell_type": "code",
   "execution_count": null,
   "metadata": {
    "vscode": {
     "languageId": "shellscript"
    }
   },
   "outputs": [],
   "source": [
    "resp 6:3 pn-diag.rsp \n",
    "resp 6:4 pn-diag.rsp \n",
    "\n",
    "backgrnd 6:5 pnS003-0-bkg.pi\n",
    "backgrnd 6:6 pnS003-4-bkg.pi\n",
    "\n",
    "model 6:spf_oot const*const*(bknpow)"
   ]
  },
  {
   "cell_type": "code",
   "execution_count": 4,
   "metadata": {
    "vscode": {
     "languageId": "shellscript"
    }
   },
   "outputs": [
    {
     "name": "stdout",
     "output_type": "stream",
     "text": [
      "new spf_oot:1=spf:25\n",
      "new spf_oot:2=spf:26\n",
      "new spf_oot:3=spf:27\n",
      "new spf_oot:4=spf:28\n",
      "new spf_oot:5=spf:29\n",
      "new spf_oot:6=spf:30\n",
      "new spf_oot:7=spf:31\n",
      "new spf_oot:8=spf:32\n",
      "new spf_oot:9=spf:33\n",
      "new spf_oot:10=spf:34\n",
      "new spf_oot:11=spf:35\n"
     ]
    }
   ],
   "source": [
    "for i in range(1,12):\n",
    "    print(f'''new spf_oot:{i}=spf:{24+i}''')\n"
   ]
  },
  {
   "cell_type": "code",
   "execution_count": null,
   "metadata": {
    "vscode": {
     "languageId": "shellscript"
    }
   },
   "outputs": [],
   "source": [
    "new spf_oot:2 0.063 \n",
    "# full frame mode\n",
    "new spf_oot:8=spf_oot:2\n",
    "free spf_oot:2"
   ]
  },
  {
   "cell_type": "markdown",
   "metadata": {},
   "source": [
    "SUP1 freeze spf, thaw GH T"
   ]
  },
  {
   "cell_type": "code",
   "execution_count": null,
   "metadata": {
    "vscode": {
     "languageId": "shellscript"
    }
   },
   "outputs": [],
   "source": [
    "free spf:6-30\n",
    "thaw 12"
   ]
  },
  {
   "cell_type": "markdown",
   "metadata": {},
   "source": [
    "SUP2 freeze rest, thaw line center of inst lines"
   ]
  },
  {
   "cell_type": "code",
   "execution_count": null,
   "metadata": {
    "vscode": {
     "languageId": "shellscript"
    }
   },
   "outputs": [],
   "source": [
    "free 1-119\n",
    "\n",
    "# alter mos 1.253 line to 1.739 line (mos only)\n",
    "new alsi:3 1.739\n",
    "thaw alsi:3\n",
    "new alsi:5 1e-5\n",
    "new alsi:39 0\n",
    "# alter pn 5.947 kev line to 8.03 kev Cu Ka line\n",
    "new alsi:37 8.03\n",
    "thaw alsi:37\n",
    "new alsi:39 1e-6\n",
    "new alsi:67 1e-6"
   ]
  },
  {
   "cell_type": "markdown",
   "metadata": {},
   "source": [
    "SUP3 thaw pn const of inst in alsi"
   ]
  },
  {
   "cell_type": "code",
   "execution_count": null,
   "metadata": {
    "vscode": {
     "languageId": "shellscript"
    }
   },
   "outputs": [],
   "source": [
    "# 8.03 kev Cu Ka line can't fit since the band has been ignored\n",
    "new alsi:37 0\n",
    "new alsi:39 0\n",
    "new alsi:67 0\n",
    "free alsi:37,39,67\n",
    "\n",
    "thaw alsi:"
   ]
  },
  {
   "cell_type": "markdown",
   "metadata": {},
   "source": [
    "SUP3 thaw pn-oot const of inst"
   ]
  },
  {
   "cell_type": "code",
   "execution_count": null,
   "metadata": {
    "vscode": {
     "languageId": "shellscript"
    }
   },
   "outputs": [],
   "source": [
    "free alsi:1-64\n",
    "thaw 70"
   ]
  },
  {
   "cell_type": "markdown",
   "metadata": {},
   "source": [
    "SUP 4 thaw gauss line centers"
   ]
  },
  {
   "cell_type": "code",
   "execution_count": null,
   "metadata": {
    "vscode": {
     "languageId": "shellscript"
    }
   },
   "outputs": [],
   "source": [
    "thaw alsi:3,6,9\n",
    "new alsi:31 1.557"
   ]
  },
  {
   "cell_type": "markdown",
   "metadata": {},
   "source": [
    "SUP 5 decouple Al Ka line 1.486 kev\n"
   ]
  },
  {
   "cell_type": "code",
   "execution_count": null,
   "metadata": {
    "vscode": {
     "languageId": "shellscript"
    }
   },
   "outputs": [],
   "source": [
    "new alsi:34 1.486\n",
    "new alsi:48=alsi:34\n",
    "new alsi:62 1.486\n",
    "new alsi:76=alsi:62"
   ]
  },
  {
   "cell_type": "code",
   "execution_count": null,
   "metadata": {
    "vscode": {
     "languageId": "shellscript"
    }
   },
   "outputs": [],
   "source": [
    "SUP 5 decouple all instlines center btw pn-oot and pn"
   ]
  },
  {
   "cell_type": "code",
   "execution_count": null,
   "metadata": {
    "vscode": {
     "languageId": "shellscript"
    }
   },
   "outputs": [],
   "source": [
    "new alsi:59 1.72\n",
    "new alsi:65 1.253\n",
    "thaw alsi:59,65"
   ]
  },
  {
   "cell_type": "markdown",
   "metadata": {},
   "source": [
    "SUP 6 couple pn oot inst const with pn inst const"
   ]
  },
  {
   "cell_type": "code",
   "execution_count": null,
   "metadata": {
    "vscode": {
     "languageId": "shellscript"
    }
   },
   "outputs": [],
   "source": [
    "new 70=36"
   ]
  },
  {
   "cell_type": "markdown",
   "metadata": {},
   "source": [
    "SUP 7 thaw bkg again and freeze all other para\n",
    "also add mg line in pn for alsi, or can't be fitted well"
   ]
  },
  {
   "cell_type": "code",
   "execution_count": null,
   "metadata": {
    "vscode": {
     "languageId": "shellscript"
    }
   },
   "outputs": [],
   "source": [
    "free alsi:3-67\n",
    "thaw 6,12,15,17"
   ]
  }
 ],
 "metadata": {
  "kernelspec": {
   "display_name": "Python 3.10.11 ('base')",
   "language": "python",
   "name": "python3"
  },
  "language_info": {
   "codemirror_mode": {
    "name": "ipython",
    "version": 3
   },
   "file_extension": ".py",
   "mimetype": "text/x-python",
   "name": "python",
   "nbconvert_exporter": "python",
   "pygments_lexer": "ipython3",
   "version": "3.10.11"
  },
  "orig_nbformat": 4,
  "vscode": {
   "interpreter": {
    "hash": "58ee13649a3e33612fea9b2fc6712fa52e5371c54a9ff454aedbace36da48a84"
   }
  }
 },
 "nbformat": 4,
 "nbformat_minor": 2
}
