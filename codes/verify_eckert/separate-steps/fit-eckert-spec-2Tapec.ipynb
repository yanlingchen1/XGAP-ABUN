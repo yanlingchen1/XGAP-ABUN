{
 "cells": [
  {
   "cell_type": "markdown",
   "metadata": {},
   "source": [
    "0 get backscal"
   ]
  },
  {
   "cell_type": "code",
   "execution_count": 416,
   "metadata": {
    "vscode": {
     "languageId": "shellscript"
    }
   },
   "outputs": [
    {
     "name": "stdout",
     "output_type": "stream",
     "text": [
      "mos1S001: 128.681\n",
      "mos2S002: 128.729\n",
      "pnS003: 116.368\n"
     ]
    }
   ],
   "source": [
    "# get backscal in the pi files\n",
    "from astropy.io import fits\n",
    "import os\n",
    "import numpy as np\n",
    "from glob import glob\n",
    "\n",
    "regname = 'reg12'\n",
    "\n",
    "srcname = 'RGH80'\n",
    "# srcnum = '9647'\n",
    "homepath = glob(f'/Users/eusracenorth/Documents/work/XGAP-ABUN/data/RGH80/eckert/0105860101/{srcname}_{regname}')[0]\n",
    "os.chdir(homepath)\n",
    "\n",
    "inst_dict = {}\n",
    "# every pixel length is 0.05 arcsec\n",
    "for name in ['mos1S001', 'mos2S002', 'pnS003']:\n",
    "    f = fits.open(f'{name}-back-{srcname}_{regname}.pi')\n",
    "    print(f'''{name}: {np.round(f[1].header['BACKSCAL'] * (0.05/60) ** 2, 3)}''')\n",
    "    inst_dict[name] = np.round(f[1].header['BACKSCAL'] * (0.05/60) ** 2, 3)"
   ]
  },
  {
   "cell_type": "markdown",
   "metadata": {},
   "source": [
    "0.1 set bkg para"
   ]
  },
  {
   "cell_type": "code",
   "execution_count": null,
   "metadata": {
    "vscode": {
     "languageId": "shellscript"
    }
   },
   "outputs": [],
   "source": []
  },
  {
   "cell_type": "markdown",
   "metadata": {},
   "source": [
    "1 fit oot spec"
   ]
  },
  {
   "cell_type": "code",
   "execution_count": 276,
   "metadata": {
    "vscode": {
     "languageId": "shellscript"
    }
   },
   "outputs": [
    {
     "name": "stdout",
     "output_type": "stream",
     "text": [
      "\n",
      "ftgrouppha infile=pnS003-obj-oot-SDSSTG9647_reg1.pi outfile=pnS003-obj-oot-SDSSTG9647_reg1-grp.pi respfile=pnS003-SDSSTG9647_reg1.rmf grouptype=opt\n",
      "\n"
     ]
    }
   ],
   "source": [
    "# optional\n",
    "print(f'''\n",
    "ftgrouppha infile=pnS003-obj-oot-SDSSTG{srcnum}_{regname}.pi outfile=pnS003-obj-oot-SDSSTG{srcnum}_{regname}-grp.pi respfile=pnS003-SDSSTG{srcnum}_{regname}.rmf grouptype=opt\n",
    "''')"
   ]
  },
  {
   "cell_type": "code",
   "execution_count": 417,
   "metadata": {
    "vscode": {
     "languageId": "shellscript"
    }
   },
   "outputs": [
    {
     "name": "stdout",
     "output_type": "stream",
     "text": [
      "\n",
      "abun aspl\n",
      "statistic cstat\n",
      "\n",
      "data pnS003-obj-oot-RGH80_reg12-grp.pi\n",
      "res pnS003-RGH80_reg12.rmf\n",
      "arf pnS003-RGH80_reg12.arf\n",
      "backgrnd pnS003-back-RGH80_reg12.pi\n",
      "\n",
      "ign 1.2-1.5\n",
      "ign bad\n",
      "ign **-0.3,7.0-**\n",
      "\n",
      "mo const*const*(pow+pow+apec+apec)\n",
      "\n"
     ]
    }
   ],
   "source": [
    "print(f'''\n",
    "abun aspl\n",
    "statistic cstat\n",
    "\n",
    "data pnS003-obj-oot-{srcname}_{regname}-grp.pi\n",
    "res pnS003-{srcname}_{regname}.rmf\n",
    "arf pnS003-{srcname}_{regname}.arf\n",
    "backgrnd pnS003-back-{srcname}_{regname}.pi\n",
    "\n",
    "ign 1.2-1.5\n",
    "ign bad\n",
    "ign **-0.3,7.0-**\n",
    "\n",
    "mo const*const*(pow+pow+apec+apec)\n",
    "''')"
   ]
  },
  {
   "cell_type": "code",
   "execution_count": 418,
   "metadata": {
    "vscode": {
     "languageId": "shellscript"
    }
   },
   "outputs": [
    {
     "name": "stdout",
     "output_type": "stream",
     "text": [
      "\n",
      "new 1 116.368\n",
      "new 2 1\n",
      "free 1,2\n",
      "\n"
     ]
    }
   ],
   "source": [
    "print(f'''\n",
    "new 1 {inst_dict['pnS003']}\n",
    "new 2 1\n",
    "free 1,2\n",
    "''')"
   ]
  },
  {
   "cell_type": "code",
   "execution_count": 109,
   "metadata": {
    "vscode": {
     "languageId": "shellscript"
    }
   },
   "outputs": [
    {
     "ename": "NameError",
     "evalue": "name 'fit' is not defined",
     "output_type": "error",
     "traceback": [
      "\u001b[0;31m---------------------------------------------------------------------------\u001b[0m",
      "\u001b[0;31mNameError\u001b[0m                                 Traceback (most recent call last)",
      "Cell \u001b[0;32mIn[109], line 1\u001b[0m\n\u001b[0;32m----> 1\u001b[0m fit\n",
      "\u001b[0;31mNameError\u001b[0m: name 'fit' is not defined"
     ]
    }
   ],
   "source": [
    "fit"
   ]
  },
  {
   "cell_type": "code",
   "execution_count": null,
   "metadata": {
    "vscode": {
     "languageId": "shellscript"
    }
   },
   "outputs": [],
   "source": [
    "cpd /xs\n",
    "setp energy\n",
    "pl ldat rat"
   ]
  },
  {
   "cell_type": "code",
   "execution_count": null,
   "metadata": {
    "vscode": {
     "languageId": "shellscript"
    }
   },
   "outputs": [],
   "source": [
    "save all oot.xcm\n",
    "\n",
    "rm oot.log\n",
    "log >oot.log\n",
    "sho par \n",
    "log done\n",
    "exit"
   ]
  },
  {
   "cell_type": "markdown",
   "metadata": {},
   "source": [
    "2 load the data"
   ]
  },
  {
   "cell_type": "code",
   "execution_count": 419,
   "metadata": {
    "vscode": {
     "languageId": "shellscript"
    }
   },
   "outputs": [
    {
     "name": "stdout",
     "output_type": "stream",
     "text": [
      "\n",
      "data 1:1 mos1S001-obj-RGH80_reg12-grp.pi\n",
      "data 2:2 mos2S002-obj-RGH80_reg12-grp.pi\n",
      "data 3:3 pnS003-obj-RGH80_reg12-grp.pi\n",
      "\n",
      "res 1 mos1S001-RGH80_reg12.rmf\n",
      "res 2 mos2S002-RGH80_reg12.rmf\n",
      "res 3 pnS003-RGH80_reg12.rmf\n",
      "\n",
      "arf 1 mos1S001-RGH80_reg12.arf\n",
      "arf 2 mos2S002-RGH80_reg12.arf\n",
      "arf 3 pnS003-RGH80_reg12.arf\n",
      "\n",
      "# backgrnd 1 mos1S001-back-RGH80_reg12.pi\n",
      "# backgrnd 2 mos2S002-back-RGH80_reg12.pi\n",
      "# backgrnd 3 pnS003-back-RGH80_reg12.pi\n",
      "\n",
      "setp energy\n",
      "statistic cstat\n",
      "abun aspl\n",
      "\n",
      "ign 1:0.0-0.5,7.0-** \n",
      "ign 2:0.0-0.5,7.0-**\n",
      "ign 3:0.0-0.5,7.0-**\n",
      "\n",
      "# ign instrumental lines\n",
      "ign 1:1.2-1.85\n",
      "ign 2:1.2-1.85\n",
      "ign 3:1.2-1.55\n",
      "ign bad\n",
      "\n",
      "cpd /xs\n",
      "pl ldat\n",
      "\n"
     ]
    }
   ],
   "source": [
    "print(f'''\n",
    "data 1:1 mos1S001-obj-{srcname}_{regname}-grp.pi\n",
    "data 2:2 mos2S002-obj-{srcname}_{regname}-grp.pi\n",
    "data 3:3 pnS003-obj-{srcname}_{regname}-grp.pi\n",
    "\n",
    "res 1 mos1S001-{srcname}_{regname}.rmf\n",
    "res 2 mos2S002-{srcname}_{regname}.rmf\n",
    "res 3 pnS003-{srcname}_{regname}.rmf\n",
    "\n",
    "arf 1 mos1S001-{srcname}_{regname}.arf\n",
    "arf 2 mos2S002-{srcname}_{regname}.arf\n",
    "arf 3 pnS003-{srcname}_{regname}.arf\n",
    "\n",
    "# backgrnd 1 mos1S001-back-{srcname}_{regname}.pi\n",
    "# backgrnd 2 mos2S002-back-{srcname}_{regname}.pi\n",
    "# backgrnd 3 pnS003-back-{srcname}_{regname}.pi\n",
    "\n",
    "setp energy\n",
    "statistic cstat\n",
    "abun aspl\n",
    "\n",
    "ign 1:0.0-0.5,7.0-** \n",
    "ign 2:0.0-0.5,7.0-**\n",
    "ign 3:0.0-0.5,7.0-**\n",
    "\n",
    "# ign instrumental lines\n",
    "ign 1:1.2-1.85\n",
    "ign 2:1.2-1.85\n",
    "ign 3:1.2-1.55\n",
    "ign bad\n",
    "\n",
    "cpd /xs\n",
    "pl ldat\n",
    "''')"
   ]
  },
  {
   "cell_type": "markdown",
   "metadata": {},
   "source": [
    "3 set mdl"
   ]
  },
  {
   "cell_type": "code",
   "execution_count": null,
   "metadata": {
    "vscode": {
     "languageId": "shellscript"
    }
   },
   "outputs": [],
   "source": [
    "mo const*const*(apec + tbabs*(apec+apec+pow))"
   ]
  },
  {
   "cell_type": "code",
   "execution_count": 420,
   "metadata": {
    "vscode": {
     "languageId": "shellscript"
    }
   },
   "outputs": [
    {
     "name": "stdout",
     "output_type": "stream",
     "text": [
      "\n",
      "# extract region area\n",
      "new 1 128.681\n",
      "new 18 128.729\n",
      "new 35 116.368\n",
      "free 1,18,35\n",
      "\n",
      "# inst variance\n",
      "new 2 1\n",
      "new 19 1\n",
      "new 36 1\n",
      "free 2,19,36\n",
      "\n",
      "# LHB\n",
      "new 3 0.11\n",
      "new 6 8.416E-07\n",
      "free 3,6\n",
      "\n",
      "# nH\n",
      "new 7 0.0131\n",
      "free 7\n",
      "\n",
      "# GH_hard\n",
      "# not always need to consider\n",
      "new 8 0.191207\n",
      "new 11 2.01079E-06\n",
      "free 8,11\n",
      "\n",
      "\n",
      "# ICM\n",
      "new 12 0.2\n",
      "new 13 0.3\n",
      "new 14 0.037\n",
      "new 15 2e-6\n",
      "free 14\n",
      "thaw 12,13,15\n",
      "\n",
      "# cxb\n",
      "new 16 1.46\n",
      "new 17 1.00448E-06\n",
      "free 16,17\n",
      "# always needs to be frozen \n",
      "\n"
     ]
    }
   ],
   "source": [
    "print(f'''\n",
    "# extract region area\n",
    "new 1 {inst_dict['mos1S001']}\n",
    "new 18 {inst_dict['mos2S002']}\n",
    "new 35 {inst_dict['pnS003']}\n",
    "free 1,18,35\n",
    "\n",
    "# inst variance\n",
    "new 2 1\n",
    "new 19 1\n",
    "new 36 1\n",
    "free 2,19,36\n",
    "\n",
    "# LHB\n",
    "new 3 0.11\n",
    "new 6 8.416E-07\n",
    "free 3,6\n",
    "\n",
    "# nH\n",
    "new 7 0.0131\n",
    "free 7\n",
    "\n",
    "# GH_hard\n",
    "# not always need to consider\n",
    "new 8 0.191207\n",
    "new 11 2.01079E-06\n",
    "free 8,11\n",
    "\n",
    "\n",
    "# ICM\n",
    "new 12 0.2\n",
    "new 13 0.3\n",
    "new 14 0.037\n",
    "new 15 2e-6\n",
    "free 14\n",
    "thaw 12,13,15\n",
    "\n",
    "# cxb\n",
    "new 16 1.46\n",
    "new 17 1.00448E-06\n",
    "free 16,17\n",
    "# always needs to be frozen \n",
    "''')\n"
   ]
  },
  {
   "cell_type": "markdown",
   "metadata": {},
   "source": [
    "6 set oot model"
   ]
  },
  {
   "cell_type": "code",
   "execution_count": 421,
   "metadata": {
    "vscode": {
     "languageId": "shellscript"
    }
   },
   "outputs": [
    {
     "name": "stdout",
     "output_type": "stream",
     "text": [
      "\n",
      "res 2:3 pnS003-RGH80_reg12.rmf\n",
      "arf 2:3 pnS003-RGH80_reg12.arf\n",
      "backgrnd 2:3 pnS003-back-RGH80_reg12.pi\n",
      "\n",
      "mo 2:oot const*const*(pow + pow + apec + apec)\n",
      "\n"
     ]
    }
   ],
   "source": [
    "print(f'''\n",
    "res 2:3 pnS003-{srcname}_{regname}.rmf\n",
    "arf 2:3 pnS003-{srcname}_{regname}.arf\n",
    "backgrnd 2:3 pnS003-back-{srcname}_{regname}.pi\n",
    "\n",
    "mo 2:oot const*const*(pow + pow + apec + apec)\n",
    "''')"
   ]
  },
  {
   "cell_type": "markdown",
   "metadata": {},
   "source": []
  },
  {
   "cell_type": "code",
   "execution_count": 422,
   "metadata": {},
   "outputs": [
    {
     "name": "stdout",
     "output_type": "stream",
     "text": [
      "new oot:1 116.368\n",
      "new oot:2 1.00000\n",
      "new oot:3 9.50000\n",
      "new oot:4 1.07794E-09\n",
      "new oot:5 1.77479\n",
      "new oot:6 2.33262E-06\n",
      "new oot:7 0.201209\n",
      "new oot:8 1.00000\n",
      "new oot:9 0.0\n",
      "new oot:10 1.64413E-06\n",
      "new oot:11 0.717842\n",
      "new oot:12 1.00000\n",
      "new oot:13 0.0\n",
      "new oot:14 1.20215E-06\n",
      "free oot:1-14\n"
     ]
    }
   ],
   "source": [
    "import re\n",
    "\n",
    "with open(f'oot.log', 'r') as file:\n",
    "    lines = file.readlines()\n",
    "\n",
    "value_data = []\n",
    "\n",
    "# Iterate through the lines and extract the Value column using regex\n",
    "for line in lines:\n",
    "    if line.startswith('# '):\n",
    "        if re.search(r'\\d', line):  # Check if the line contains a number\n",
    "            columns = line.split()\n",
    "            if 'frozen' in line:\n",
    "                value = columns[-2]\n",
    "            else:\n",
    "                value = columns[-3]\n",
    "            value_data.append(value)\n",
    "\n",
    "# Print the Value data\n",
    "for i, value in enumerate(value_data):\n",
    "    print(f'new oot:{int(i+1)} {value}' )\n",
    "print(f'free oot:1-14')\n"
   ]
  },
  {
   "cell_type": "code",
   "execution_count": null,
   "metadata": {},
   "outputs": [],
   "source": [
    "new oot:2 0.063\n",
    "free oot:2"
   ]
  },
  {
   "cell_type": "markdown",
   "metadata": {},
   "source": [
    "5 set spf mdl"
   ]
  },
  {
   "cell_type": "code",
   "execution_count": 423,
   "metadata": {},
   "outputs": [
    {
     "name": "stdout",
     "output_type": "stream",
     "text": [
      "\n",
      "resp 3:1 ../mos1-diag.rsp \n",
      "resp 3:2 ../mos2-diag.rsp \n",
      "resp 3:3 ../pn-diag.rsp \n",
      "\n",
      "# backgrnd 3:1 mos1S001-back-RGH80_reg12.pi\t\n",
      "# backgrnd 3:2 mos2S002-back-RGH80_reg12.pi\n",
      "# backgrnd 3:3 pnS003-back-RGH80_reg12.pi\n",
      "\n",
      "model 3:spf const*const*(bknpow)\n",
      "\n"
     ]
    }
   ],
   "source": [
    "print(f'''\n",
    "resp 3:1 ../mos1-diag.rsp \n",
    "resp 3:2 ../mos2-diag.rsp \n",
    "resp 3:3 ../pn-diag.rsp \n",
    "\n",
    "# backgrnd 3:1 mos1S001-back-{srcname}_{regname}.pi\t\n",
    "# backgrnd 3:2 mos2S002-back-{srcname}_{regname}.pi\n",
    "# backgrnd 3:3 pnS003-back-{srcname}_{regname}.pi\n",
    "\n",
    "model 3:spf const*const*(bknpow)\n",
    "''')"
   ]
  },
  {
   "cell_type": "code",
   "execution_count": 415,
   "metadata": {},
   "outputs": [
    {
     "name": "stdout",
     "output_type": "stream",
     "text": [
      "\n",
      "# set area const\n",
      "new spf:1=1\n",
      "new spf:7=18\n",
      "new spf:13=35\n",
      "free spf:1,7,13\n",
      "\n",
      "new spf:2=2\n",
      "new spf:8=19\n",
      "new spf:14=36\n",
      "\n",
      "# set bknpow index\n",
      "new spf:3 0.7\n",
      "new spf:9 0.7\n",
      "new spf:15 0.7\n",
      "\n",
      "new spf:5 0.7\n",
      "new spf:11 0.7\n",
      "new spf:17 0.7\n",
      "free spf:3,9,15,5,11,17\n",
      "\n",
      "# set breakE\n",
      "free spf:4,10,16\n",
      "\n",
      "# estimate spf norm\n",
      "new spf:6 4.78172E-06\n",
      "new spf:12 6.60607E-06\n",
      "new spf:18 7.1487E-06\n",
      "free spf:6,12,18\n",
      "\n"
     ]
    }
   ],
   "source": [
    "print(f'''\n",
    "# set area const\n",
    "new spf:1=1\n",
    "new spf:7=18\n",
    "new spf:13=35\n",
    "free spf:1,7,13\n",
    "\n",
    "new spf:2=2\n",
    "new spf:8=19\n",
    "new spf:14=36\n",
    "\n",
    "# set bknpow index\n",
    "new spf:3 0.7\n",
    "new spf:9 0.7\n",
    "new spf:15 0.7\n",
    "\n",
    "new spf:5 0.7\n",
    "new spf:11 0.7\n",
    "new spf:17 0.7\n",
    "free spf:3,9,15,5,11,17\n",
    "\n",
    "# set breakE\n",
    "free spf:4,10,16\n",
    "\n",
    "# estimate spf norm\n",
    "new spf:6 4.78172E-06\n",
    "new spf:12 6.60607E-06\n",
    "new spf:18 7.1487E-06\n",
    "free spf:6,12,18\n",
    "''')"
   ]
  },
  {
   "cell_type": "code",
   "execution_count": null,
   "metadata": {},
   "outputs": [],
   "source": [
    "fit"
   ]
  },
  {
   "cell_type": "code",
   "execution_count": null,
   "metadata": {},
   "outputs": [],
   "source": [
    "cpd /xs\n",
    "setp energy\n",
    "pl ldat rat"
   ]
  },
  {
   "cell_type": "code",
   "execution_count": null,
   "metadata": {},
   "outputs": [],
   "source": [
    "sho fre"
   ]
  },
  {
   "cell_type": "code",
   "execution_count": null,
   "metadata": {},
   "outputs": [],
   "source": [
    "save all fit_pnmos.xcm\n",
    "exit"
   ]
  }
 ],
 "metadata": {
  "kernelspec": {
   "display_name": "Python 3.10.1 64-bit ('3.10.1')",
   "language": "python",
   "name": "python3"
  },
  "language_info": {
   "codemirror_mode": {
    "name": "ipython",
    "version": 3
   },
   "file_extension": ".py",
   "mimetype": "text/x-python",
   "name": "python",
   "nbconvert_exporter": "python",
   "pygments_lexer": "ipython3",
   "version": "3.10.1"
  },
  "orig_nbformat": 4,
  "vscode": {
   "interpreter": {
    "hash": "1302458d99d58fefb56dc0fec08d039cf240bdcae78a53a9226b7c46b3832fa1"
   }
  }
 },
 "nbformat": 4,
 "nbformat_minor": 2
}
