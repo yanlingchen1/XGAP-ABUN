{
 "cells": [
  {
   "cell_type": "code",
   "execution_count": null,
   "metadata": {},
   "outputs": [],
   "source": [
    "'''\n",
    "Known \n",
    "1. ICM fitting result\n",
    "RGH80_reg0_spectral_results.txt \n",
    "NH     0.0134\n",
    "REDSHIFT      0.0361\n",
    "tbabs * apec\n",
    "\n",
    "2. BKG fitting result\n",
    "data: bkgregion + rosat\n",
    "cxbpars.txt\n",
    "lhb    8.78236e-07   5.26693e-08\n",
    "ght    0.168069   0.00567776\n",
    "ghn    1.80237e-06   1.135e-07\n",
    "cxb    1.12266e-06   3.34785e-08\n",
    "NH     0.0134\n",
    "REDSHIFT      0.0361\n",
    "apec + tbabs*(apec+apec+pow)\n",
    "\n",
    "3. My result\n",
    "\n",
    "1) lower lhb norm\n",
    "2) higher gh temperature, slightly higher gh norm\n",
    "3) lower cxb norm\n",
    "\n",
    "   3    3   apec       kT         keV      0.127901     +/-  0.0          \n",
    "   6    3   apec       norm                8.07050E-07  +/-  0.0          \n",
    "  12    6   apec       kT         keV      0.199997     +/-  0.0          \n",
    "  15    6   apec       norm                1.83883E-06  +/-  0.0          \n",
    "  17    7   powerlaw   norm                9.61054E-07  +/-  0.0  \n",
    "\n",
    "Total fit statistic                          2844.32     with 2391 d.o.f.\n",
    "\n",
    "'''\n",
    "\n"
   ]
  },
  {
   "cell_type": "markdown",
   "metadata": {},
   "source": [
    "1 set sky bkg model"
   ]
  },
  {
   "cell_type": "code",
   "execution_count": 1,
   "metadata": {
    "vscode": {
     "languageId": "shellscript"
    }
   },
   "outputs": [
    {
     "ename": "SyntaxError",
     "evalue": "invalid syntax (1054460081.py, line 2)",
     "output_type": "error",
     "traceback": [
      "\u001b[0;36m  Cell \u001b[0;32mIn[1], line 2\u001b[0;36m\u001b[0m\n\u001b[0;31m    abun aspl\u001b[0m\n\u001b[0m         ^\u001b[0m\n\u001b[0;31mSyntaxError\u001b[0m\u001b[0;31m:\u001b[0m invalid syntax\n"
     ]
    }
   ],
   "source": [
    "# > bkg_all.xcm\n",
    "abun aspl\n",
    "statistic cstat\n",
    "\n",
    "# Cstat should be used here. Since rass spec is counts spectrum now, \n",
    "# therefore it obeys poisson statistics. \n",
    "# Then cstat is better for spectrum fitting. \n",
    "\n",
    "data 1:1 mos1S001-obj-RGH80_bkg-grp.pi\n",
    "data 2:2 mos2S002-obj-RGH80_bkg-grp.pi\n",
    "data 3:3 pnS003-obj-RGH80_bkg-grp.pi\n",
    "res 1 mos1S001-RGH80_bkg.rmf\n",
    "res 2 mos2S002-RGH80_bkg.rmf\n",
    "res 3 pnS003-RGH80_bkg.rmf\n",
    "arf 1 mos1S001-RGH80_bkg.arf\n",
    "arf 2 mos2S002-RGH80_bkg.arf\n",
    "arf 3 pnS003-RGH80_bkg.arf\n",
    "backgrnd 1 mos1S001-back-RGH80_bkg.pi\n",
    "backgrnd 2 mos2S002-back-RGH80_bkg.pi\n",
    "backgrnd 3 pnS003-back-RGH80_bkg.pi\n",
    "\n",
    "ign **-**:**-0.3,7.-**\n",
    "data 4:4 ../rosat.pi\n",
    "res 4 ../rosat.rsp\n",
    "ign bad\n",
    "cpd /xs\n",
    "pl ldat"
   ]
  },
  {
   "cell_type": "code",
   "execution_count": null,
   "metadata": {
    "vscode": {
     "languageId": "shellscript"
    }
   },
   "outputs": [],
   "source": [
    "'''\n",
    "BACKSCAL \n",
    "mos1: 2.136593E+08 pix # 148.38 arcmin2\n",
    "mos2: 2.114375E+08 pix # 146.83 arcmin2\n",
    "pn: 1.689255E+08 pix # 117.31 arcmin2\n",
    "'''"
   ]
  },
  {
   "cell_type": "code",
   "execution_count": 6,
   "metadata": {},
   "outputs": [
    {
     "name": "stdout",
     "output_type": "stream",
     "text": [
      "mos1S001: 93.5147277777778\n",
      "mos2S002: 127.54238888888891\n",
      "pnS003-0: 121.32156736111114\n",
      "pnS003-4: 121.32156736111114\n"
     ]
    }
   ],
   "source": [
    "# get backscal in the pi files\n",
    "from astropy.io import fits\n",
    "import os\n",
    "\n",
    "homepath = f'/Users/eusracenorth/Documents/work/XGAP-ABUN/data/ID3460/reduction/SDSSTG3460/SDSSTG3460_bkg'\n",
    "os.chdir(homepath)\n",
    "\n",
    "# every pixel length is 0.05 arcsec\n",
    "\n",
    "for name in ['mos1S001', 'mos2S002', 'pnS003-0', 'pnS003-4']:\n",
    "    f = fits.open(f'{name}-bkg.pi')\n",
    "    print(f'''{name}: {f[1].header['BACKSCAL'] * (0.05/60) ** 2}''')"
   ]
  },
  {
   "cell_type": "code",
   "execution_count": null,
   "metadata": {
    "vscode": {
     "languageId": "shellscript"
    }
   },
   "outputs": [],
   "source": [
    "# set bkg model\n",
    "# >bkg_mdl.xcm \n",
    "mo const*const*(apec + tbabs*(apec+apec+pow))"
   ]
  },
  {
   "cell_type": "code",
   "execution_count": null,
   "metadata": {
    "vscode": {
     "languageId": "shellscript"
    }
   },
   "outputs": [],
   "source": [
    "\n",
    "\n",
    "# extract region area\n",
    "new 1 148.38\n",
    "new 18 146.83\n",
    "new 35 117.31\n",
    "new 52 1 \n",
    "# rosat spectrum has been normalized to 1 arcmin2 ? yes!\n",
    "free 1,18,35,52\n",
    "\n",
    "# inst variance\n",
    "new 2 1\n",
    "new 19 1\n",
    "new 36 1\n",
    "new 53 1\n",
    "free 2,19,36,53\n",
    "\n",
    "# LHB\n",
    "new 3 0.11\n",
    "new 6 9e-7\n",
    "free 3 # keep fixed\n",
    "\n",
    "# nH\n",
    "new 7 0.0134\n",
    "free 7\n",
    "\n",
    "# GH_soft\n",
    "# not always need to consider\n",
    "new 8 0.05\n",
    "new 11 0\n",
    "free 8,11\n",
    "# maybe thaw later\n",
    "\n",
    "# GH_hard \n",
    "# norm can be spatially variable\n",
    "new 12 0.2\n",
    "new 15 2e-6\n",
    "free 12 \n",
    "# thaw later\n",
    "\n",
    "# cxb\n",
    "new 16 1.46\n",
    "new 17 1.1e-6\n",
    "free 16 \n",
    "# always needs to be frozen \n",
    "\n"
   ]
  },
  {
   "cell_type": "markdown",
   "metadata": {},
   "source": [
    "2 set alsi model"
   ]
  },
  {
   "cell_type": "code",
   "execution_count": null,
   "metadata": {
    "vscode": {
     "languageId": "shellscript"
    }
   },
   "outputs": [],
   "source": [
    "res 2:1 mos1S001-RGH80_bkg.rmf\n",
    "res 2:2 mos2S002-RGH80_bkg.rmf\n",
    "res 2:3 pnS003-RGH80_bkg.rmf\n",
    "arf 2:1 mos1S001-RGH80_bkg.arf\n",
    "arf 2:2 mos2S002-RGH80_bkg.arf\n",
    "arf 2:3 pnS003-RGH80_bkg.arf\n",
    "backgrnd 2:1 mos1S001-back-RGH80_bkg.pi\n",
    "backgrnd 2:2 mos2S002-back-RGH80_bkg.pi\n",
    "backgrnd 2:3 pnS003-back-RGH80_bkg.pi\n",
    "\n",
    "mo 2:alsi const*const*(gauss + gauss + gauss + gauss)\n"
   ]
  },
  {
   "cell_type": "code",
   "execution_count": 2,
   "metadata": {},
   "outputs": [
    {
     "name": "stdout",
     "output_type": "stream",
     "text": [
      "\n",
      "new alsi:1 148.38\n",
      "new alsi:15 146.83\n",
      "new alsi:29 117.31\n",
      "free alsi:1,15,29\n",
      "\n",
      "new alsi:2 1\n",
      "new alsi:16 1\n",
      "new alsi:30 1\n",
      "free alsi:2,16,30\n",
      "\n",
      "# Mg Ka 1.253\n",
      "new alsi:3 1.253\n",
      "new alsi:4 0\n",
      "new alsi:5 1e-3\n",
      "free alsi:3,4\n",
      "\n",
      "new alsi:17=alsi:3\n",
      "new alsi:18=alsi:4\n",
      "new alsi:19=alsi:5\n",
      "\n",
      "new alsi:31=alsi:3\n",
      "new alsi:32=alsi:4\n",
      "new alsi:33=alsi:5\n",
      "\n"
     ]
    }
   ],
   "source": [
    "# set alsi parameter\n",
    "print(\n",
    "'''\n",
    "new alsi:1 148.38\n",
    "new alsi:15 146.83\n",
    "new alsi:29 117.31\n",
    "free alsi:1,15,29\n",
    "\n",
    "new alsi:2 1\n",
    "new alsi:16 1\n",
    "new alsi:30 1\n",
    "free alsi:2,16,30\n",
    "\n",
    "# Mg Ka 1.253\n",
    "new alsi:3 1.253\n",
    "new alsi:4 0\n",
    "new alsi:5 1e-6\n",
    "free alsi:3,4\n",
    "\n",
    "new alsi:17=alsi:3\n",
    "new alsi:18=alsi:4\n",
    "new alsi:19=alsi:5\n",
    "\n",
    "new alsi:31=alsi:3\n",
    "new alsi:32=alsi:4\n",
    "new alsi:33=alsi:5\n",
    "\n",
    "\n",
    "''')\n",
    "\n"
   ]
  },
  {
   "cell_type": "code",
   "execution_count": 4,
   "metadata": {},
   "outputs": [
    {
     "name": "stdout",
     "output_type": "stream",
     "text": [
      "\n",
      "new alsi:6 1.486\n",
      "new alsi:7 0\n",
      "new alsi:8 1e-5\n",
      "free alsi:6, 7\n",
      "\n",
      "new alsi:20=alsi:6\n",
      "new alsi:21=alsi:7\n",
      "new alsi:22=alsi:8\n",
      "\n",
      "new alsi:34=alsi:6\n",
      "new alsi:35=alsi:7\n",
      "new alsi:36=alsi:8\n",
      "\n"
     ]
    }
   ],
   "source": [
    "# Al Ka 1.486\n",
    "step = 3\n",
    "print(\n",
    "f'''\n",
    "new alsi:{step+3} 1.486\n",
    "new alsi:{step+4} 0\n",
    "new alsi:{step+5} 1e-5\n",
    "free alsi:{step+3}, {step+4}\n",
    "\n",
    "new alsi:{step+17}=alsi:{step+3}\n",
    "new alsi:{step+18}=alsi:{step+4}\n",
    "new alsi:{step+19}=alsi:{step+5}\n",
    "\n",
    "new alsi:{step+31}=alsi:{step+3}\n",
    "new alsi:{step+32}=alsi:{step+4}\n",
    "new alsi:{step+33}=alsi:{step+5}\n",
    "'''\n",
    ")\n"
   ]
  },
  {
   "cell_type": "code",
   "execution_count": 9,
   "metadata": {},
   "outputs": [
    {
     "name": "stdout",
     "output_type": "stream",
     "text": [
      "\n",
      "new alsi:9 1.557\n",
      "new alsi:10 0\n",
      "new alsi:11 1e-5\n",
      "free alsi:9, 10\n",
      "\n",
      "new alsi:23=alsi:9\n",
      "new alsi:24=alsi:10\n",
      "new alsi:25=alsi:11\n",
      "\n",
      "\n"
     ]
    }
   ],
   "source": [
    "# Al Kb 1.557, mos only\n",
    "step = 6\n",
    "print(\n",
    "f'''\n",
    "new alsi:{step+3} 1.557\n",
    "new alsi:{step+4} 0\n",
    "new alsi:{step+5} 1e-5\n",
    "free alsi:{step+3}, {step+4}\n",
    "\n",
    "new alsi:{step+17}=alsi:{step+3}\n",
    "new alsi:{step+18}=alsi:{step+4}\n",
    "new alsi:{step+19}=alsi:{step+5}\n",
    "\n",
    "'''\n",
    ")\n"
   ]
  },
  {
   "cell_type": "code",
   "execution_count": 10,
   "metadata": {},
   "outputs": [
    {
     "name": "stdout",
     "output_type": "stream",
     "text": [
      "\n",
      "new alsi:37 5.947\n",
      "new alsi:38 0\n",
      "new alsi:39 1e-5\n",
      "free alsi:37,38\n",
      "\n",
      "\n"
     ]
    }
   ],
   "source": [
    "# Cr Kb 5.947, pn only\n",
    "step = 6\n",
    "print(\n",
    "f'''\n",
    "new alsi:{step+31} 5.947\n",
    "new alsi:{step+32} 0\n",
    "new alsi:{step+33} 1e-5\n",
    "free alsi:{step+31},{step+32}\n",
    "\n",
    "'''\n",
    ")\n"
   ]
  },
  {
   "cell_type": "code",
   "execution_count": 11,
   "metadata": {},
   "outputs": [
    {
     "name": "stdout",
     "output_type": "stream",
     "text": [
      "\n",
      "new alsi:40 0\n",
      "new alsi:41 0\n",
      "new alsi:42 0\n",
      "free alsi:40,41,42\n",
      "\n",
      "\n"
     ]
    }
   ],
   "source": [
    "# set last gauss of pn as 0\n",
    "step = 9\n",
    "print(\n",
    "f'''\n",
    "new alsi:{step+31} 0\n",
    "new alsi:{step+32} 0\n",
    "new alsi:{step+33} 0\n",
    "free alsi:{step+31},{step+32},{step+33}\n",
    "\n",
    "'''\n",
    ")"
   ]
  },
  {
   "cell_type": "code",
   "execution_count": null,
   "metadata": {},
   "outputs": [],
   "source": [
    "# thaw the line center\n",
    "thaw alsi:3,6,9"
   ]
  },
  {
   "cell_type": "markdown",
   "metadata": {},
   "source": [
    "4 set pn oot model"
   ]
  },
  {
   "cell_type": "code",
   "execution_count": null,
   "metadata": {},
   "outputs": [],
   "source": [
    "res 4:3 pnS003-RGH80_bkg.rmf\n",
    "arf 4:3 pnS003-RGH80_bkg.arf\n",
    "backgrnd 4:1 mos1S001-back-RGH80_bkg.pi\n",
    "backgrnd 4:2 mos2S002-back-RGH80_bkg.pi\n",
    "backgrnd 4:3 pnS003-back-RGH80_bkg.pi\n",
    "\n",
    "\n",
    "mo 4:oot const*const*(apec + tbabs*(apec+apec+pow) + gauss + gauss + gauss + gauss + bknpow)\n",
    "\n",
    "mo 4:oot const*const*()\n"
   ]
  },
  {
   "cell_type": "markdown",
   "metadata": {},
   "source": [
    "3 set spf model"
   ]
  },
  {
   "cell_type": "code",
   "execution_count": null,
   "metadata": {
    "vscode": {
     "languageId": "shellscript"
    }
   },
   "outputs": [],
   "source": [
    "resp 3:1 mos1-diag.rsp \n",
    "resp 3:2 mos2-diag.rsp \n",
    "resp 3:3 pn-diag.rsp \n",
    "model 3:spf const*const*(bknpow)"
   ]
  },
  {
   "cell_type": "code",
   "execution_count": null,
   "metadata": {
    "vscode": {
     "languageId": "shellscript"
    }
   },
   "outputs": [],
   "source": [
    "# set area const\n",
    "new spf:1 148.38\n",
    "new spf:7 146.83\n",
    "new spf:13 117.31\n",
    "free spf:1,7,13\n",
    "\n",
    "new spf:2 1\n",
    "new spf:8 1\n",
    "new spf:14 1\n",
    "free spf:2,8,14\n",
    "\n",
    "# set bknpow index\n",
    "new spf:3 0.7\n",
    "new spf:9 0.7\n",
    "new spf:15 0.7\n",
    "\n",
    "new spf:5 0.7\n",
    "new spf:11 0.7\n",
    "new spf:17 0.7\n",
    "free spf:3,9,15,5,11,17\n",
    "\n",
    "# set breakE\n",
    "free spf:4,10,16\n",
    "\n",
    "# estimate spf norm\n",
    "new spf:6 1e-5\n",
    "new spf:12 1e-5\n",
    "new spf:18 1e-5\n"
   ]
  }
 ],
 "metadata": {
  "kernelspec": {
   "display_name": "Python 3.10.11 ('base')",
   "language": "python",
   "name": "python3"
  },
  "language_info": {
   "codemirror_mode": {
    "name": "ipython",
    "version": 3
   },
   "file_extension": ".py",
   "mimetype": "text/x-python",
   "name": "python",
   "nbconvert_exporter": "python",
   "pygments_lexer": "ipython3",
   "version": "3.10.11"
  },
  "orig_nbformat": 4,
  "vscode": {
   "interpreter": {
    "hash": "58ee13649a3e33612fea9b2fc6712fa52e5371c54a9ff454aedbace36da48a84"
   }
  }
 },
 "nbformat": 4,
 "nbformat_minor": 2
}
