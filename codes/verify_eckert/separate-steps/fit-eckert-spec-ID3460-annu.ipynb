{
 "cells": [
  {
   "cell_type": "markdown",
   "metadata": {},
   "source": [
    "0 get backscal"
   ]
  },
  {
   "cell_type": "code",
   "execution_count": 1,
   "metadata": {
    "vscode": {
     "languageId": "shellscript"
    }
   },
   "outputs": [
    {
     "name": "stdout",
     "output_type": "stream",
     "text": [
      "mos1S001: 5.046\n",
      "mos2S002: 4.971\n",
      "pnS003: 4.843\n"
     ]
    }
   ],
   "source": [
    "# get backscal in the pi files\n",
    "from astropy.io import fits\n",
    "import os\n",
    "import numpy as np\n",
    "from glob import glob\n",
    "\n",
    "regname = 'reg4'\n",
    "\n",
    "# srcname = 'RGH80'\n",
    "srcnum = '3460'\n",
    "homepath = glob(f'/Users/eusracenorth/Documents/work/XGAP-ABUN/data/ID{srcnum}/eckert/ID{srcnum}/*/SDSSTG{srcnum}_{regname}')[0]\n",
    "# homepath = glob(f'/Users/eusracenorth/Documents/work/XGAP-ABUN/data/RGH80/eckert/0105860101/{srcname}_{regname}')[0]\n",
    "os.chdir(homepath)\n",
    "\n",
    "inst_dict = {}\n",
    "# every pixel length is 0.05 arcsec\n",
    "for name in ['mos1S001', 'mos2S002', 'pnS003']:\n",
    "    f = fits.open(f'{name}-back-SDSSTG{srcnum}_{regname}.pi')\n",
    "    print(f'''{name}: {np.round(f[1].header['BACKSCAL'] * (0.05/60) ** 2, 3)}''')\n",
    "    inst_dict[name] = np.round(f[1].header['BACKSCAL'] * (0.05/60) ** 2, 3)"
   ]
  },
  {
   "cell_type": "code",
   "execution_count": 548,
   "metadata": {
    "vscode": {
     "languageId": "shellscript"
    }
   },
   "outputs": [
    {
     "name": "stdout",
     "output_type": "stream",
     "text": [
      "\n",
      "backgrnd 1 mos1S001-back-SDSSTG828_reg12.pi\n",
      "backgrnd 2 mos2S002-back-SDSSTG828_reg12.pi\n",
      "backgrnd 3 pnS003-back-SDSSTG828_reg12.pi\n",
      "\n"
     ]
    }
   ],
   "source": [
    "srcname = 'SDSSTG828'\n",
    "regnum = '12'\n",
    "print(f'''\n",
    "backgrnd 1 mos1S001-back-{srcname}_reg{regnum}.pi\n",
    "backgrnd 2 mos2S002-back-{srcname}_reg{regnum}.pi\n",
    "backgrnd 3 pnS003-back-{srcname}_reg{regnum}.pi\n",
    "''')"
   ]
  },
  {
   "cell_type": "markdown",
   "metadata": {},
   "source": [
    "0.1 set bkg para"
   ]
  },
  {
   "cell_type": "code",
   "execution_count": 6,
   "metadata": {
    "vscode": {
     "languageId": "shellscript"
    }
   },
   "outputs": [],
   "source": [
    "lhb_n = 1.05275E-06\n",
    "gh_t = 0.224606\n",
    "gh_n = 7.86682E-07\n",
    "cxb = 8.86557E-07\n",
    "spf_mos1 = 0\n",
    "spf_mos2 = 0\n",
    "spf_pn = 0\n",
    "redshift = 0.043\n",
    "\n"
   ]
  },
  {
   "cell_type": "markdown",
   "metadata": {},
   "source": [
    "1 fit oot spec"
   ]
  },
  {
   "cell_type": "code",
   "execution_count": 467,
   "metadata": {
    "vscode": {
     "languageId": "shellscript"
    }
   },
   "outputs": [
    {
     "name": "stdout",
     "output_type": "stream",
     "text": [
      "\n",
      "ftgrouppha infile=pnS003-obj-oot-SDSSTG9647_reg4.pi outfile=pnS003-obj-oot-SDSSTG9647_reg4-grp.pi respfile=pnS003-SDSSTG9647_reg4.rmf grouptype=opt\n",
      "\n"
     ]
    }
   ],
   "source": [
    "# optional\n",
    "print(f'''\n",
    "ftgrouppha infile=pnS003-obj-oot-SDSSTG{srcnum}_{regname}.pi outfile=pnS003-obj-oot-SDSSTG{srcnum}_{regname}-grp.pi respfile=pnS003-SDSSTG{srcnum}_{regname}.rmf grouptype=opt\n",
    "''')"
   ]
  },
  {
   "cell_type": "code",
   "execution_count": 3,
   "metadata": {
    "vscode": {
     "languageId": "shellscript"
    }
   },
   "outputs": [
    {
     "name": "stdout",
     "output_type": "stream",
     "text": [
      "\n",
      "abun aspl\n",
      "statistic cstat\n",
      "\n",
      "data pnS003-obj-oot-SDSSTG3460_reg4-grp.pi\n",
      "res pnS003-SDSSTG3460_reg4.rmf\n",
      "arf pnS003-SDSSTG3460_reg4.arf\n",
      "backgrnd pnS003-back-SDSSTG3460_reg4.pi\n",
      "\n",
      "ign 1.2-1.5\n",
      "ign bad\n",
      "ign **-0.6,7.0-**\n",
      "\n",
      "mo const*const*(pow+pow+apec+apec)\n",
      "\n"
     ]
    }
   ],
   "source": [
    "print(f'''\n",
    "abun aspl\n",
    "statistic cstat\n",
    "\n",
    "data pnS003-obj-oot-SDSSTG{srcnum}_{regname}-grp.pi\n",
    "res pnS003-SDSSTG{srcnum}_{regname}.rmf\n",
    "arf pnS003-SDSSTG{srcnum}_{regname}.arf\n",
    "backgrnd pnS003-back-SDSSTG{srcnum}_{regname}.pi\n",
    "\n",
    "ign 1.2-1.5\n",
    "ign bad\n",
    "ign **-0.6,7.0-**\n",
    "\n",
    "mo const*const*(pow+pow+apec+apec)\n",
    "''')"
   ]
  },
  {
   "cell_type": "code",
   "execution_count": 541,
   "metadata": {
    "vscode": {
     "languageId": "shellscript"
    }
   },
   "outputs": [
    {
     "name": "stdout",
     "output_type": "stream",
     "text": [
      "\n",
      "new 1 126.104\n",
      "new 2 1\n",
      "free 1,2\n",
      "\n"
     ]
    }
   ],
   "source": [
    "print(f'''\n",
    "new 1 {inst_dict['pnS003']}\n",
    "new 2 1\n",
    "free 1,2\n",
    "''')"
   ]
  },
  {
   "cell_type": "code",
   "execution_count": 109,
   "metadata": {
    "vscode": {
     "languageId": "shellscript"
    }
   },
   "outputs": [
    {
     "ename": "NameError",
     "evalue": "name 'fit' is not defined",
     "output_type": "error",
     "traceback": [
      "\u001b[0;31m---------------------------------------------------------------------------\u001b[0m",
      "\u001b[0;31mNameError\u001b[0m                                 Traceback (most recent call last)",
      "Cell \u001b[0;32mIn[109], line 1\u001b[0m\n\u001b[0;32m----> 1\u001b[0m fit\n",
      "\u001b[0;31mNameError\u001b[0m: name 'fit' is not defined"
     ]
    }
   ],
   "source": [
    "fit"
   ]
  },
  {
   "cell_type": "code",
   "execution_count": null,
   "metadata": {
    "vscode": {
     "languageId": "shellscript"
    }
   },
   "outputs": [],
   "source": [
    "cpd /xs\n",
    "setp energy\n",
    "setp rebin 3 30\n",
    "pl ldat rat"
   ]
  },
  {
   "cell_type": "code",
   "execution_count": null,
   "metadata": {
    "vscode": {
     "languageId": "shellscript"
    }
   },
   "outputs": [],
   "source": [
    "save all oot.xcm\n",
    "\n",
    "rm oot.log\n",
    "log >oot.log\n",
    "sho par \n",
    "log done\n",
    "exit"
   ]
  },
  {
   "cell_type": "markdown",
   "metadata": {},
   "source": [
    "2 load the data"
   ]
  },
  {
   "cell_type": "code",
   "execution_count": 7,
   "metadata": {
    "vscode": {
     "languageId": "shellscript"
    }
   },
   "outputs": [
    {
     "name": "stdout",
     "output_type": "stream",
     "text": [
      "\n",
      "data 1:1 mos1S001-obj-SDSSTG3460_reg4-grp.pi\n",
      "data 2:2 mos2S002-obj-SDSSTG3460_reg4-grp.pi\n",
      "data 3:3 pnS003-obj-SDSSTG3460_reg4-grp.pi\n",
      "\n",
      "res 1 mos1S001-SDSSTG3460_reg4.rmf\n",
      "res 2 mos2S002-SDSSTG3460_reg4.rmf\n",
      "res 3 pnS003-SDSSTG3460_reg4.rmf\n",
      "\n",
      "arf 1 mos1S001-SDSSTG3460_reg4.arf\n",
      "arf 2 mos2S002-SDSSTG3460_reg4.arf\n",
      "arf 3 pnS003-SDSSTG3460_reg4.arf\n",
      "\n",
      "backgrnd 1 mos1S001-back-SDSSTG3460_reg4.pi\n",
      "backgrnd 2 mos2S002-back-SDSSTG3460_reg4.pi\n",
      "backgrnd 3 pnS003-back-SDSSTG3460_reg4.pi\n",
      "\n",
      "setp energy\n",
      "statistic cstat\n",
      "abun aspl\n",
      "\n",
      "ign 1:0.0-0.6,7.0-** \n",
      "ign 2:0.0-0.6,7.0-**\n",
      "ign 3:0.0-0.6,7.0-**\n",
      "\n",
      "# ign instrumental lines\n",
      "ign 1:1.2-1.85\n",
      "ign 2:1.2-1.85\n",
      "ign 3:1.2-1.55\n",
      "ign bad\n",
      "\n",
      "cpd /xs\n",
      "pl ldat\n",
      "\n"
     ]
    }
   ],
   "source": [
    "print(f'''\n",
    "data 1:1 mos1S001-obj-SDSSTG{srcnum}_{regname}-grp.pi\n",
    "data 2:2 mos2S002-obj-SDSSTG{srcnum}_{regname}-grp.pi\n",
    "data 3:3 pnS003-obj-SDSSTG{srcnum}_{regname}-grp.pi\n",
    "\n",
    "res 1 mos1S001-SDSSTG{srcnum}_{regname}.rmf\n",
    "res 2 mos2S002-SDSSTG{srcnum}_{regname}.rmf\n",
    "res 3 pnS003-SDSSTG{srcnum}_{regname}.rmf\n",
    "\n",
    "arf 1 mos1S001-SDSSTG{srcnum}_{regname}.arf\n",
    "arf 2 mos2S002-SDSSTG{srcnum}_{regname}.arf\n",
    "arf 3 pnS003-SDSSTG{srcnum}_{regname}.arf\n",
    "\n",
    "backgrnd 1 mos1S001-back-SDSSTG{srcnum}_{regname}.pi\n",
    "backgrnd 2 mos2S002-back-SDSSTG{srcnum}_{regname}.pi\n",
    "backgrnd 3 pnS003-back-SDSSTG{srcnum}_{regname}.pi\n",
    "\n",
    "setp energy\n",
    "statistic cstat\n",
    "abun aspl\n",
    "\n",
    "ign 1:0.0-0.6,7.0-** \n",
    "ign 2:0.0-0.6,7.0-**\n",
    "ign 3:0.0-0.6,7.0-**\n",
    "\n",
    "# ign instrumental lines\n",
    "ign 1:1.2-1.85\n",
    "ign 2:1.2-1.85\n",
    "ign 3:1.2-1.55\n",
    "ign bad\n",
    "\n",
    "cpd /xs\n",
    "pl ldat\n",
    "''')"
   ]
  },
  {
   "cell_type": "markdown",
   "metadata": {},
   "source": [
    "3 set mdl"
   ]
  },
  {
   "cell_type": "code",
   "execution_count": null,
   "metadata": {
    "vscode": {
     "languageId": "shellscript"
    }
   },
   "outputs": [],
   "source": [
    "mo const*const*(apec + tbabs*(apec+apec+pow))"
   ]
  },
  {
   "cell_type": "code",
   "execution_count": 8,
   "metadata": {
    "vscode": {
     "languageId": "shellscript"
    }
   },
   "outputs": [
    {
     "name": "stdout",
     "output_type": "stream",
     "text": [
      "\n",
      "# extract region area\n",
      "new 1 5.046\n",
      "new 18 4.971\n",
      "new 35 4.843\n",
      "free 1,18,35\n",
      "\n",
      "# inst variance\n",
      "new 2 1\n",
      "new 19 1\n",
      "new 36 1\n",
      "free 2,19,36\n",
      "\n",
      "# LHB\n",
      "new 3 0.11\n",
      "new 6 1.05275e-06\n",
      "free 3,6\n",
      "\n",
      "# nH\n",
      "new 7 0.0131\n",
      "free 7\n",
      "\n",
      "# GH_hard\n",
      "# not always need to consider\n",
      "new 8 0.224606\n",
      "new 11 7.86682e-07\n",
      "free 8,11\n",
      "\n",
      "\n",
      "# ICM\n",
      "new 12 0.2\n",
      "new 13 0.3\n",
      "new 14 0.043\n",
      "new 15 1e-6\n",
      "free 14\n",
      "thaw 12,13,15\n",
      "\n",
      "# cxb\n",
      "new 16 1.46\n",
      "new 17 8.86557e-07\n",
      "free 16,17\n",
      "# always needs to be frozen \n",
      "\n"
     ]
    }
   ],
   "source": [
    "print(f'''\n",
    "# extract region area\n",
    "new 1 {inst_dict['mos1S001']}\n",
    "new 18 {inst_dict['mos2S002']}\n",
    "new 35 {inst_dict['pnS003']}\n",
    "free 1,18,35\n",
    "\n",
    "# inst variance\n",
    "new 2 1\n",
    "new 19 1\n",
    "new 36 1\n",
    "free 2,19,36\n",
    "\n",
    "# LHB\n",
    "new 3 0.11\n",
    "new 6 {lhb_n}\n",
    "free 3,6\n",
    "\n",
    "# nH\n",
    "new 7 0.0131\n",
    "free 7\n",
    "\n",
    "# GH_hard\n",
    "# not always need to consider\n",
    "new 8 {gh_t}\n",
    "new 11 {gh_n}\n",
    "free 8,11\n",
    "\n",
    "\n",
    "# ICM\n",
    "new 12 0.2\n",
    "new 13 0.3\n",
    "new 14 {redshift}\n",
    "new 15 1e-6\n",
    "free 14\n",
    "thaw 12,13,15\n",
    "\n",
    "# cxb\n",
    "new 16 1.46\n",
    "new 17 {cxb}\n",
    "free 16,17\n",
    "# always needs to be frozen \n",
    "''')\n"
   ]
  },
  {
   "cell_type": "markdown",
   "metadata": {},
   "source": [
    "6 set oot model"
   ]
  },
  {
   "cell_type": "code",
   "execution_count": 10,
   "metadata": {
    "vscode": {
     "languageId": "shellscript"
    }
   },
   "outputs": [
    {
     "name": "stdout",
     "output_type": "stream",
     "text": [
      "\n",
      "res 2:3 pnS003-SDSSTG3460_reg4.rmf\n",
      "arf 2:3 pnS003-SDSSTG3460_reg4.arf\n",
      "backgrnd 2:3 pnS003-back-SDSSTG3460_reg4.pi\n",
      "\n",
      "mo 2:oot const*const*(pow + pow + apec + apec)\n",
      "\n"
     ]
    }
   ],
   "source": [
    "print(f'''\n",
    "res 2:3 pnS003-SDSSTG{srcnum}_{regname}.rmf\n",
    "arf 2:3 pnS003-SDSSTG{srcnum}_{regname}.arf\n",
    "backgrnd 2:3 pnS003-back-SDSSTG{srcnum}_{regname}.pi\n",
    "\n",
    "mo 2:oot const*const*(pow + pow + apec + apec)\n",
    "''')"
   ]
  },
  {
   "cell_type": "markdown",
   "metadata": {},
   "source": []
  },
  {
   "cell_type": "code",
   "execution_count": 11,
   "metadata": {},
   "outputs": [
    {
     "name": "stdout",
     "output_type": "stream",
     "text": [
      "new oot:1 4.84300\n",
      "new oot:2 1.00000\n",
      "new oot:3 9.50000\n",
      "new oot:4 1.31547E-09\n",
      "new oot:5 9.50000\n",
      "new oot:6 1.31542E-09\n",
      "new oot:7 2.10285\n",
      "new oot:8 1.00000\n",
      "new oot:9 0.0\n",
      "new oot:10 5.59925E-06\n",
      "new oot:11 0.932790\n",
      "new oot:12 1.00000\n",
      "new oot:13 0.0\n",
      "new oot:14 1.22694E-06\n",
      "free oot:1-14\n"
     ]
    }
   ],
   "source": [
    "import re\n",
    "\n",
    "with open(f'oot.log', 'r') as file:\n",
    "    lines = file.readlines()\n",
    "\n",
    "value_data = []\n",
    "\n",
    "# Iterate through the lines and extract the Value column using regex\n",
    "for line in lines:\n",
    "    if line.startswith('# '):\n",
    "        if re.search(r'\\d', line):  # Check if the line contains a number\n",
    "            columns = line.split()\n",
    "            if 'frozen' in line:\n",
    "                value = columns[-2]\n",
    "            else:\n",
    "                value = columns[-3]\n",
    "            value_data.append(value)\n",
    "\n",
    "# Print the Value data\n",
    "for i, value in enumerate(value_data):\n",
    "    print(f'new oot:{int(i+1)} {value}' )\n",
    "print(f'free oot:1-14')\n"
   ]
  },
  {
   "cell_type": "code",
   "execution_count": null,
   "metadata": {},
   "outputs": [],
   "source": [
    "new oot:2 0.063\n",
    "free oot:2"
   ]
  },
  {
   "cell_type": "markdown",
   "metadata": {},
   "source": [
    "5 set spf mdl"
   ]
  },
  {
   "cell_type": "code",
   "execution_count": 13,
   "metadata": {},
   "outputs": [
    {
     "name": "stdout",
     "output_type": "stream",
     "text": [
      "\n",
      "resp 3:1 ../mos1-diag.rsp \n",
      "resp 3:2 ../mos2-diag.rsp \n",
      "resp 3:3 ../pn-diag.rsp \n",
      "\n",
      "backgrnd 3:1 mos1S001-back-SDSSTG3460_reg4.pi\t\n",
      "backgrnd 3:2 mos2S002-back-SDSSTG3460_reg4.pi\n",
      "backgrnd 3:3 pnS003-back-SDSSTG3460_reg4.pi\n",
      "\n",
      "model 3:spf const*const*(bknpow)\n",
      "\n"
     ]
    }
   ],
   "source": [
    "print(f'''\n",
    "resp 3:1 ../mos1-diag.rsp \n",
    "resp 3:2 ../mos2-diag.rsp \n",
    "resp 3:3 ../pn-diag.rsp \n",
    "\n",
    "backgrnd 3:1 mos1S001-back-SDSSTG{srcnum}_{regname}.pi\t\n",
    "backgrnd 3:2 mos2S002-back-SDSSTG{srcnum}_{regname}.pi\n",
    "backgrnd 3:3 pnS003-back-SDSSTG{srcnum}_{regname}.pi\n",
    "\n",
    "model 3:spf const*const*(bknpow)\n",
    "''')"
   ]
  },
  {
   "cell_type": "code",
   "execution_count": 14,
   "metadata": {},
   "outputs": [
    {
     "name": "stdout",
     "output_type": "stream",
     "text": [
      "\n",
      "# set area const\n",
      "new spf:1=1\n",
      "new spf:7=18\n",
      "new spf:13=35\n",
      "free spf:1,7,13\n",
      "\n",
      "new spf:2=2\n",
      "new spf:8=19\n",
      "new spf:14=36\n",
      "\n",
      "# set bknpow index\n",
      "new spf:3 0.7\n",
      "new spf:9 0.7\n",
      "new spf:15 0.7\n",
      "\n",
      "new spf:5 0.7\n",
      "new spf:11 0.7\n",
      "new spf:17 0.7\n",
      "free spf:3,9,15,5,11,17\n",
      "\n",
      "# set breakE\n",
      "free spf:4,10,16\n",
      "\n",
      "# estimate spf norm\n",
      "new spf:6 0\n",
      "new spf:12 0\n",
      "new spf:18 0\n",
      "free spf:6,12,18\n",
      "\n"
     ]
    }
   ],
   "source": [
    "print(f'''\n",
    "# set area const\n",
    "new spf:1=1\n",
    "new spf:7=18\n",
    "new spf:13=35\n",
    "free spf:1,7,13\n",
    "\n",
    "new spf:2=2\n",
    "new spf:8=19\n",
    "new spf:14=36\n",
    "\n",
    "# set bknpow index\n",
    "new spf:3 0.7\n",
    "new spf:9 0.7\n",
    "new spf:15 0.7\n",
    "\n",
    "new spf:5 0.7\n",
    "new spf:11 0.7\n",
    "new spf:17 0.7\n",
    "free spf:3,9,15,5,11,17\n",
    "\n",
    "# set breakE\n",
    "free spf:4,10,16\n",
    "\n",
    "# estimate spf norm\n",
    "new spf:6 {spf_mos1}\n",
    "new spf:12 {spf_mos2}\n",
    "new spf:18 {spf_pn}\n",
    "free spf:6,12,18\n",
    "''')"
   ]
  },
  {
   "cell_type": "code",
   "execution_count": null,
   "metadata": {},
   "outputs": [],
   "source": [
    "fit"
   ]
  },
  {
   "cell_type": "code",
   "execution_count": null,
   "metadata": {},
   "outputs": [],
   "source": [
    "cpd /xs\n",
    "setp energy\n",
    "pl ldat rat"
   ]
  },
  {
   "cell_type": "code",
   "execution_count": null,
   "metadata": {},
   "outputs": [],
   "source": [
    "sho fre"
   ]
  },
  {
   "cell_type": "code",
   "execution_count": null,
   "metadata": {},
   "outputs": [],
   "source": [
    "save all fit_pnmos.xcm\n",
    "exit"
   ]
  }
 ],
 "metadata": {
  "kernelspec": {
   "display_name": "Python 3.10.11 ('base')",
   "language": "python",
   "name": "python3"
  },
  "language_info": {
   "codemirror_mode": {
    "name": "ipython",
    "version": 3
   },
   "file_extension": ".py",
   "mimetype": "text/x-python",
   "name": "python",
   "nbconvert_exporter": "python",
   "pygments_lexer": "ipython3",
   "version": "3.10.11"
  },
  "orig_nbformat": 4,
  "vscode": {
   "interpreter": {
    "hash": "58ee13649a3e33612fea9b2fc6712fa52e5371c54a9ff454aedbace36da48a84"
   }
  }
 },
 "nbformat": 4,
 "nbformat_minor": 2
}
