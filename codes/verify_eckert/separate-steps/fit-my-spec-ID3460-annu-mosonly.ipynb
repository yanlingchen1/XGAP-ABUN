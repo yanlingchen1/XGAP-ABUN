{
 "cells": [
  {
   "cell_type": "code",
   "execution_count": 2,
   "metadata": {},
   "outputs": [],
   "source": [
    "import numpy as np"
   ]
  },
  {
   "cell_type": "markdown",
   "metadata": {},
   "source": [
    "-1 Group the spectrum"
   ]
  },
  {
   "cell_type": "code",
   "execution_count": null,
   "metadata": {},
   "outputs": [],
   "source": [
    "for f in *-fovt.pi\n",
    "do\n",
    "export name=$(basename \"$f\" -fovt.pi)\n",
    "ftgrouppha infile=$f outfile=${name}_opt.pi respfile=${name}.rmf grouptype=opt\n",
    "done"
   ]
  },
  {
   "cell_type": "markdown",
   "metadata": {},
   "source": [
    "0 load the data"
   ]
  },
  {
   "cell_type": "code",
   "execution_count": null,
   "metadata": {
    "vscode": {
     "languageId": "shellscript"
    }
   },
   "outputs": [],
   "source": [
    "data 1:1 mos1S001_opt.pi\n",
    "data 2:2 mos2S002_opt.pi\n",
    "\n",
    "res 1 mos1S001.rmf\n",
    "res 2 mos2S002.rmf\n",
    "\n",
    "arf 1 mos1S001.arf\n",
    "arf 2 mos2S002.arf\n",
    "\n",
    "backgrnd 1 mos1S001-bkg.pi\t\n",
    "backgrnd 2 mos2S002-bkg.pi\n",
    "\n",
    "\n",
    "setp energy\n",
    "statistic cstat\n",
    "abun aspl\n",
    "\n",
    "ign 1:0.0-0.3,11.0-** \n",
    "ign 2:0.0-0.3,11.0-**\n",
    "\n",
    "# ignore instrumental lines band\n",
    "ign 1:1.2-1.8 \n",
    "ign 2:1.2-1.8\n",
    "ign bad\n",
    "\n",
    "\n",
    "cpd /xs\n",
    "pl ldat"
   ]
  },
  {
   "cell_type": "markdown",
   "metadata": {},
   "source": [
    "1 get backscal"
   ]
  },
  {
   "cell_type": "code",
   "execution_count": 3,
   "metadata": {
    "vscode": {
     "languageId": "shellscript"
    }
   },
   "outputs": [
    {
     "name": "stdout",
     "output_type": "stream",
     "text": [
      "mos1S001: 0.82\n",
      "mos2S002: 0.834\n"
     ]
    }
   ],
   "source": [
    "# get backscal in the pi files\n",
    "from astropy.io import fits\n",
    "import os\n",
    "\n",
    "# homepath = f'/Users/eusracenorth/Documents/work/XGAP-ABUN/data/ID3460/reduction/SDSSTG3460/SDSSTG3460_bkg'\n",
    "homepath = f'/Users/eusracenorth/Documents/work/XGAP-ABUN/data/ID3460/fitting/reg1'\n",
    "\n",
    "os.chdir(homepath)\n",
    "\n",
    "# every pixel length is 0.05 arcsec\n",
    "\n",
    "for name in ['mos1S001', 'mos2S002']:\n",
    "    f = fits.open(f'{name}-bkg.pi')\n",
    "    print(f'''{name}: {np.round(f[1].header['BACKSCAL'] * (0.05/60) ** 2, 3)}''')"
   ]
  },
  {
   "cell_type": "markdown",
   "metadata": {},
   "source": [
    "3 set bkg mdl"
   ]
  },
  {
   "cell_type": "code",
   "execution_count": null,
   "metadata": {
    "vscode": {
     "languageId": "shellscript"
    }
   },
   "outputs": [],
   "source": [
    "# set bkg model\n",
    "# >bkg_mdl.xcm \n",
    "mo const*const*(apec + tbabs*(apec+apec+pow))"
   ]
  },
  {
   "cell_type": "code",
   "execution_count": null,
   "metadata": {
    "vscode": {
     "languageId": "shellscript"
    }
   },
   "outputs": [],
   "source": [
    "# extract region area\n",
    "new 1 0.82\n",
    "new 18 0.834\n",
    "\n",
    "# rosat spectrum has been normalized to 1 arcmin2 ? yes!\n",
    "free 1,18\n",
    "\n",
    "# inst variance\n",
    "new 2 1\n",
    "new 19 1\n",
    "free 2,19\n",
    "\n",
    "# LHB\n",
    "new 3 0.11\n",
    "new 6 7.98669E-07\n",
    "free 3,6\n",
    "\n",
    "# nH\n",
    "new 7 0.0243\n",
    "free 7\n",
    "\n",
    "# GH_hard\n",
    "# not always need to consider\n",
    "new 8 0.19156\n",
    "new 11 1.53306E-06\n",
    "free 8,11\n",
    "\n",
    "# ICM\n",
    "# norm can be spatially variable\n",
    "new 12 1\n",
    "new 15 1e-5\n",
    "new 13 0.3\n",
    "new 14 0.043 \n",
    "\n",
    "\n",
    "# cxb\n",
    "new 16 1.46\n",
    "new 17 7.65062E-07\n",
    "free 16,17\n",
    "\n",
    "#fix abun first. thaw later\n",
    "thaw 13"
   ]
  },
  {
   "cell_type": "markdown",
   "metadata": {},
   "source": [
    "5 set spf mdl\n",
    "don't set if the spf norm is 0 !!"
   ]
  },
  {
   "cell_type": "code",
   "execution_count": null,
   "metadata": {
    "vscode": {
     "languageId": "shellscript"
    }
   },
   "outputs": [],
   "source": [
    "resp 2:1 mos1-diag.rsp\n",
    "resp 2:2 mos2-diag.rsp \n",
    "\n",
    "backgrnd 2:1 mos1S001-bkg.pi\t\n",
    "backgrnd 2:2 mos2S002-bkg.pi\n",
    "\n",
    "model 2:spf const*const*(bknpow)"
   ]
  },
  {
   "cell_type": "code",
   "execution_count": null,
   "metadata": {
    "vscode": {
     "languageId": "shellscript"
    }
   },
   "outputs": [],
   "source": [
    "# set area const\n",
    "new spf:1=1\n",
    "new spf:7=18\n",
    "new spf:2=2\n",
    "new spf:8=19\n",
    "\n",
    "# set bknpow index\n",
    "new spf:3 0.7\n",
    "new spf:9 0.7\n",
    "new spf:5 0.7\n",
    "new spf:11 0.7\n",
    "free spf:3,9,5,11\n",
    "\n",
    "# set breakE\n",
    "free spf:4\n",
    "\n",
    "# estimate spf norm\n",
    "new spf:6 1e-5\n",
    "new spf:12 1e-5\n",
    "\n"
   ]
  }
 ],
 "metadata": {
  "kernelspec": {
   "display_name": "Python 3.10.11 ('base')",
   "language": "python",
   "name": "python3"
  },
  "language_info": {
   "codemirror_mode": {
    "name": "ipython",
    "version": 3
   },
   "file_extension": ".py",
   "mimetype": "text/x-python",
   "name": "python",
   "nbconvert_exporter": "python",
   "pygments_lexer": "ipython3",
   "version": "3.10.11"
  },
  "orig_nbformat": 4,
  "vscode": {
   "interpreter": {
    "hash": "58ee13649a3e33612fea9b2fc6712fa52e5371c54a9ff454aedbace36da48a84"
   }
  }
 },
 "nbformat": 4,
 "nbformat_minor": 2
}
