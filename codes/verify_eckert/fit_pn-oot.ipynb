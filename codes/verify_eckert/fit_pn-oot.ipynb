{
 "cells": [
  {
   "cell_type": "code",
   "execution_count": null,
   "metadata": {},
   "outputs": [],
   "source": [
    "'''\n",
    "Fit the pn-oot spectra and let it be one of the models of the pn spectra.\n",
    "\n",
    "\n",
    "'''\n",
    "\n"
   ]
  },
  {
   "cell_type": "code",
   "execution_count": null,
   "metadata": {},
   "outputs": [],
   "source": [
    "homepath = f'/Users/eusracenorth/Documents/work/XGAP-ABUN/data/RGH80/eckert/0105860101/RGH80_bkg'"
   ]
  },
  {
   "cell_type": "markdown",
   "metadata": {},
   "source": [
    "1 load the data"
   ]
  },
  {
   "cell_type": "code",
   "execution_count": null,
   "metadata": {},
   "outputs": [],
   "source": [
    "# > bkg_all.xcm\n",
    "abun aspl\n",
    "statistic cstat\n",
    "data 1:1 pnS003-0-fovtoot.pi\n",
    "data 2:2 pnS003-4-fovtoot.pi\n",
    "data 3:3 rosat.pi\n",
    "\n",
    "res 1 pnS003-0.rmf\n",
    "res 2 pnS003-4.rmf\n",
    "\n",
    "arf 1 pnS003-0.arf\n",
    "arf 2 pnS003-4.arf\n",
    "\n",
    "backgrnd 1 pnS003-0-bkg.pi\t\n",
    "backgrnd 2 pnS003-4-bkg.pi\t\n",
    "\n",
    "ig 1:0.0-0.3,2.0-**\n",
    "ig 2:0.0-1.0,11.0-**\n",
    "ig 2:7.2-9.2\n",
    "\n",
    "\n",
    "res 4 rosat.rsp\n",
    "\n",
    "ign bad\n",
    "\n",
    "setp energy\n",
    "\n",
    "cpd /xs\n",
    "pl ldat"
   ]
  }
 ],
 "metadata": {
  "kernelspec": {
   "display_name": "Python 3.9.6 64-bit",
   "language": "python",
   "name": "python3"
  },
  "language_info": {
   "name": "python",
   "version": "3.9.6"
  },
  "orig_nbformat": 4,
  "vscode": {
   "interpreter": {
    "hash": "31f2aee4e71d21fbe5cf8b01ff0e069b9275f58929596ceb00d14d90e3e16cd6"
   }
  }
 },
 "nbformat": 4,
 "nbformat_minor": 2
}
