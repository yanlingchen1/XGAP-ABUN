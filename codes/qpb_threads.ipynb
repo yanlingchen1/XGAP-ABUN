{
 "cells": [
  {
   "cell_type": "code",
   "execution_count": null,
   "metadata": {},
   "outputs": [],
   "source": [
    "'''\n",
    "They extract QPB spectral information from three sources: \n",
    "the corner spectra from each chip of the observation being analyzed, \n",
    "the corner spectra from each chip of the FWC data, \n",
    "and the FOV spectra from each chip of the FWC data.\n",
    "\n",
    "\n",
    "0. Select the time near the observation time\n",
    "1. Filter the sp flares\n",
    "2. Take the corner data spectrum, compare its count rate with the qpb data\n",
    "3. weight the qpb spectra\n",
    "\n",
    "\n",
    "'''"
   ]
  },
  {
   "cell_type": "code",
   "execution_count": null,
   "metadata": {},
   "outputs": [],
   "source": [
    "import numpy as np\n",
    "from astropy.io import fits\n",
    "import matplotlib.pyplot as plt\n",
    "\n"
   ]
  },
  {
   "cell_type": "markdown",
   "metadata": {},
   "source": [
    "0 select time"
   ]
  },
  {
   "cell_type": "code",
   "execution_count": 2,
   "metadata": {},
   "outputs": [
    {
     "name": "stdout",
     "output_type": "stream",
     "text": [
      "768197130.0\n",
      "for mos: 755237130, 781157130\n",
      "for pn: 720893130, 815501130\n"
     ]
    }
   ],
   "source": [
    "# The TIME is expressed in terms of number of seconds since the reference time (1998-01-01T00:00:00) \n",
    "# the observe date of A222/223 of xmm is OBS1: 2007.6.18-19, OBS2:2007.6.22-23\n",
    "# for mos: take the time +/- 150 days, same as xisnxbgen\n",
    "# for pn: take +/- 1.5yr, \n",
    "# in XMM evqpb, they take two times of obs exp time centered by obs time\n",
    "from datetime import datetime\n",
    "\n",
    "date_format = '%Y-%m-%d %H:%M:%S'\n",
    "\n",
    "# Example dates\n",
    "date1 = '1998-01-01 00:00:00'\n",
    "date2 = '2022-05-06 04:05:30'\n",
    "\n",
    "# Convert dates to datetime objects\n",
    "datetime1 = datetime.strptime(date1, date_format)\n",
    "datetime2 = datetime.strptime(date2, date_format)\n",
    "\n",
    "# Calculate the difference in seconds\n",
    "difference_in_seconds = (datetime2 - datetime1).total_seconds()\n",
    "\n",
    "print(difference_in_seconds)\n",
    "print(f'for mos: {int(difference_in_seconds - 150*24*3600)}, {int(difference_in_seconds + 150*24*3600)}')\n",
    "print(f'for pn: {int(difference_in_seconds - 365*1.5*24*3600)}, {int(difference_in_seconds + 365*1.5*24*3600)}')\n",
    "\n"
   ]
  },
  {
   "cell_type": "code",
   "execution_count": null,
   "metadata": {},
   "outputs": [],
   "source": []
  }
 ],
 "metadata": {
  "kernelspec": {
   "display_name": "Python 3.10.11 ('base')",
   "language": "python",
   "name": "python3"
  },
  "language_info": {
   "codemirror_mode": {
    "name": "ipython",
    "version": 3
   },
   "file_extension": ".py",
   "mimetype": "text/x-python",
   "name": "python",
   "nbconvert_exporter": "python",
   "pygments_lexer": "ipython3",
   "version": "3.10.11"
  },
  "orig_nbformat": 4,
  "vscode": {
   "interpreter": {
    "hash": "58ee13649a3e33612fea9b2fc6712fa52e5371c54a9ff454aedbace36da48a84"
   }
  }
 },
 "nbformat": 4,
 "nbformat_minor": 2
}
