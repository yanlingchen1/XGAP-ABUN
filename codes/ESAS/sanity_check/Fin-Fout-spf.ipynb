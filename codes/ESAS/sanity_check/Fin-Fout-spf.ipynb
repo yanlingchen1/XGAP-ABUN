{
 "cells": [
  {
   "cell_type": "markdown",
   "metadata": {},
   "source": [
    "# 1 Run Fin_over_Fout"
   ]
  },
  {
   "cell_type": "code",
   "execution_count": null,
   "metadata": {},
   "outputs": [],
   "source": [
    "# reference\n",
    "https://www.cosmos.esa.int/web/xmm-newton/epic-scripts\n",
    "download the script as below"
   ]
  },
  {
   "cell_type": "code",
   "execution_count": null,
   "metadata": {},
   "outputs": [],
   "source": [
    "# !! install dependencies!\n",
    "\n",
    "sudo apt-get update\n",
    "sudo apt-get install tcsh\n",
    "sudo apt-get update\n",
    "sudo apt-get install gawk"
   ]
  },
  {
   "cell_type": "code",
   "execution_count": null,
   "metadata": {},
   "outputs": [],
   "source": [
    "\n",
    "\n",
    "chmod 755 Fin_over_Fout\n",
    "./Fin_over_Fout m1ev m2ev pnev elo ehi keepfiles outfile\n",
    "  m1ev      - MOS1 event file (N = ignore)\n",
    "  m2ev      - MOS2 event file (N = ignore)\n",
    "  pnev      - pn event file   (N = ignore)\n",
    "  elo       - low-energy threshold  [eV] (N = use recommended default values)\n",
    "  ehi       - high-energy threshold [eV] (N = use recommended default values)\n",
    "  keepfiles - keep intermediate files (Y/N)\n",
    "  outfile   - ouput file name (N = just output to screen)\n",
    "\n",
    "# example\n",
    "./Fin_over_Fout myM1ev.fits myM2ev.fits myPNev.fits 7000 12000 Y MyFinFout.dat"
   ]
  },
  {
   "cell_type": "code",
   "execution_count": null,
   "metadata": {},
   "outputs": [],
   "source": [
    "# save Fin_over_Fout at the outer root dir\n",
    "\n",
    "\n",
    "./Fin_over_Fout myM1ev.fits myM2ev.fits myPNev.fits 7000 12000 Y MyFinFout.dat\n"
   ]
  },
  {
   "cell_type": "code",
   "execution_count": null,
   "metadata": {},
   "outputs": [],
   "source": [
    "## onserver: Finout_all.py  \n",
    "## onserver: Finout_all.sh\n",
    "\n",
    "def reorder_list(input_list):\n",
    "    order = ['mos1', 'mos2', 'pn']\n",
    "    return sorted(input_list, key=lambda x: (order.index(x[:-4]), x[-4:]))\n",
    "\n",
    "import os\n",
    "from glob import glob\n",
    "\n",
    "homepaths = glob('/data/yanling/XGAP-ABUN/data/alldata/XGAP/SDSSTG*')\n",
    "\n",
    "for homepath in homepaths:\n",
    "    if os.path.isdir(homepath):\n",
    "        os.chdir(homepath)\n",
    "        with open('FinFout.sh', 'w') as f:\n",
    "\n",
    "            elo = 500\n",
    "            ehi = 7000\n",
    "\n",
    "            name_dir = {'mos1':'mos1*-allevc', 'mos2':'mos2*-allevc', 'pn':'pn*-allevc'}\n",
    "\n",
    "            express = f'(PATTERN<=4)&&((FLAG & 0xb0000) == 0)&&((FLAG & 0x762a097c) == 0)&&(PI in [{elo}:{ehi}])&&(DETY in [-16510:14345])'\n",
    "            plot_express = f'''imagebinning='imageSize' imagedatatype='Int32' squarepixels=yes ignorelegallimits=yes withxranges=yes withyranges=yes xcolumn='X' ximagesize=900 ximagemax=48400 ximagemin=3401 ycolumn='Y' yimagesize=900 yimagemax=48400 yimagemin=3401'''\n",
    "\n",
    "            name_lst = []\n",
    "            prefix_lst = ''\n",
    "            for file in glob(f'*0*-allevc.fits'):\n",
    "                prefix = file.split('-')[0]\n",
    "                name_lst.append(prefix)\n",
    "            name_lst = reorder_list(name_lst)\n",
    "            f.write(f'cp ../Fin_over_Fout .\\n')\n",
    "            f.write(f'chmod 755 Fin_over_Fout\\n')\n",
    "            f.write(f'./Fin_over_Fout {name_lst[0]}-allevc.fits {name_lst[1]}-allevc.fits {name_lst[2]}-allevc.fits 7000 12000 Y MyFinFout.dat')\n",
    "\n",
    "            # f.write(f'''combimage prefixlist=\"{prefix_lst}\" withcheese=no elowlist={elo} ehighlist={ehi} > -a combimg.log 2>&1 \\n''')\n",
    "            # f.write(f'''mv comb-fovimsky-{elo}-{ehi}.fits comb-fovimsky-{elo}-{ehi}_unmasked.fits\\n''')\n",
    "            # f.write(f'''mv comb-expimsky-{elo}-{ehi}.fits comb-expimsky-{elo}-{ehi}_unmasked.fits\\n''')\n",
    "            \n"
   ]
  },
  {
   "cell_type": "markdown",
   "metadata": {},
   "source": [
    "# 2 Compare the SPF in FinFout with results in MyFinFout.dat\n",
    "make a table about it "
   ]
  },
  {
   "cell_type": "code",
   "execution_count": null,
   "metadata": {},
   "outputs": [],
   "source": [
    "# on server: gen_Fin-Fout_csv.py\n",
    "\n",
    "import os\n",
    "from glob import glob\n",
    "import pandas as pd\n",
    "\n",
    "homepaths = glob('/data/yanling/XGAP-ABUN/data/alldata/XGAP/SDSSTG*')\n",
    "for inst_i, inst in enumerate(['M1', 'M2', 'PN']):\n",
    "    output_dict = {'ID': [], 'Fin/Fout(7-12keV)': [], 'Fin/Fout-status': [], 'SPF-fitnorm':[], 'BKG-fitting':[]}\n",
    "\n",
    "    for homepath in homepaths:\n",
    "        print(homepath)\n",
    "        # read MyFinFout.dat in every subdir and read ID\n",
    "        id  = homepath.split('/')[-1]\n",
    "        output_dict['ID'].append(id)\n",
    "        output_dict['BKG-fitting'].append('uncheck')\n",
    "\n",
    "        # read FinFout ratio\n",
    "        df = pd.read_table(f'{homepath}/MyFinFout.dat', skiprows=2, sep='\\s+', header=None)\n",
    "\n",
    "        # Extract relevant information\n",
    "        exptime = float(df.iloc[inst_i, 3])\n",
    "        ratio = float(df.iloc[inst_i, 5])\n",
    "        status = df.iloc[inst_i, -5]\n",
    "\n",
    "        # Print the extracted values\n",
    "        print(\"Exposure Time:\", exptime)\n",
    "        print(\"Ratio:\", ratio)\n",
    "        print(\"Status:\", status)\n",
    "\n",
    "        output_dict['Fin/Fout(7-12keV)'].append(ratio)\n",
    "        output_dict['Fin/Fout-status'].append(status)\n",
    "\n",
    "        # read SPF fitting norm\n",
    "        logfile = f'{homepath}/fit_231115/logs/bkg_bkg_freepar.log'\n",
    "        with open(logfile) as logf:\n",
    "            lines = logf.readlines()\n",
    "            for i, line in enumerate(lines):\n",
    "                if 'M' in inst:\n",
    "                    if f'Model {inst.lower()}_bg' in line:\n",
    "                        norm_line = lines[i+4].split()\n",
    "                        print(norm_line)\n",
    "\n",
    "                        output_dict['SPF-fitnorm'].append(float(norm_line[-3]))\n",
    "                elif 'PN' in inst:\n",
    "                    if f'Model {inst.lower()}_bg1' in line:\n",
    "                        norm_line = lines[i+4].split()\n",
    "\n",
    "                        output_dict['SPF-fitnorm'].append(float(norm_line[-3]))\n",
    "\n",
    "    print(output_dict)\n",
    "    df = pd.DataFrame(output_dict)\n",
    "    \n",
    "    df.to_csv(f'{homepath}/../dats/Fin-Fout-{inst}.csv')\n",
    "\n",
    "\n"
   ]
  },
  {
   "cell_type": "markdown",
   "metadata": {},
   "source": [
    "# 3 visualize and compare the results of FinFout ratio and the SPF norm"
   ]
  },
  {
   "cell_type": "code",
   "execution_count": 3,
   "metadata": {},
   "outputs": [
    {
     "data": {
      "image/png": "[encoded data removed]",
      "text/plain": [
       "<Figure size 640x480 with 3 Axes>"
      ]
     },
     "metadata": {},
     "output_type": "display_data"
    }
   ],
   "source": [
    "import matplotlib.pyplot as plt\n",
    "import pandas as pd\n",
    "import numpy as np\n",
    "\n",
    "datpath = f'/Users/eusracenorth/Documents/work/XGAP-ABUN/alldata/dats'\n",
    "\n",
    "fig, ax = plt.subplots(3,1)\n",
    "for inst_i, inst in enumerate(['M1', 'M2', 'PN']):\n",
    "    # read the table\n",
    "    df = pd.read_csv(f'{datpath}/Fin-Fout-{inst}.csv')\n",
    "\n",
    "    for i in range(len(df['SPF-fitnorm'])):\n",
    "        if df['Fin/Fout-status'][i] == 'not':\n",
    "            ax[inst_i].scatter(i,df['SPF-fitnorm'][i], c = 'b')\n",
    "        elif df['Fin/Fout-status'][i] == 'very':\n",
    "            ax[inst_i].scatter(i,df['SPF-fitnorm'][i], c = 'r')\n",
    "        elif df['Fin/Fout-status'][i] == 'slightly':\n",
    "            ax[inst_i].scatter(i,df['SPF-fitnorm'][i], c = 'magenta')\n",
    "        elif df['Fin/Fout-status'][i] == 'extremely':\n",
    "            ax[inst_i].scatter(i,df['SPF-fitnorm'][i], c = 'brown')\n",
    "        else:\n",
    "            print(df['Fin/Fout-status'][i])\n",
    "            raise ValueError('Wrong Fin/Fout-status key!')\n",
    "            \n",
    "    ax[inst_i].set_ylabel(f'{inst}-SPF-fitnorm')\n",
    "    ax[inst_i].set_yscale('log')\n",
    "    ax[inst_i].set_ylim(1e-17, 1e-2)\n",
    "    ax[inst_i].axhline(1e-6)\n",
    "\n",
    "\n"
   ]
  },
  {
   "cell_type": "code",
   "execution_count": null,
   "metadata": {},
   "outputs": [],
   "source": []
  }
 ],
 "metadata": {
  "kernelspec": {
   "display_name": "Python 3.10.1 64-bit ('3.10.1')",
   "language": "python",
   "name": "python3"
  },
  "language_info": {
   "codemirror_mode": {
    "name": "ipython",
    "version": 3
   },
   "file_extension": ".py",
   "mimetype": "text/x-python",
   "name": "python",
   "nbconvert_exporter": "python",
   "pygments_lexer": "ipython3",
   "version": "3.10.1"
  },
  "orig_nbformat": 4,
  "vscode": {
   "interpreter": {
    "hash": "1302458d99d58fefb56dc0fec08d039cf240bdcae78a53a9226b7c46b3832fa1"
   }
  }
 },
 "nbformat": 4,
 "nbformat_minor": 2
}
