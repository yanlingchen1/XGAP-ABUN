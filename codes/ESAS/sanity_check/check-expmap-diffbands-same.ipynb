{
 "cells": [
  {
   "cell_type": "code",
   "execution_count": null,
   "metadata": {},
   "outputs": [],
   "source": [
    "# !!! Conclusion: No, diff band expmap are not the same!! "
   ]
  },
  {
   "cell_type": "code",
   "execution_count": null,
   "metadata": {},
   "outputs": [],
   "source": [
    "from glob import glob\n",
    "from astropy.io import fits\n",
    "# read files\n",
    "datapath = '/data/yanling/XGAP-ABUN/data/alldata/XGAP/SDSSTG10094'\n",
    "f1_name = f'{datapath}/img/SDSSTG10094_noreg/img/mos1S001-expimsky-500-4000.fits'\n",
    "f2_name = f'{datapath}/mos1S001-expimsky-350-2000.fits'\n",
    "\n",
    "# compare\n",
    "f1 = fits.open(f1_name)\n",
    "d1 = f1[0].data\n",
    "f2 = fits.open(f2_name)\n",
    "d2 = f2[0].data\n",
    "\n",
    "print((d1==d2).all())\n",
    "print(d1,d2)"
   ]
  },
  {
   "cell_type": "code",
   "execution_count": null,
   "metadata": {},
   "outputs": [],
   "source": []
  }
 ],
 "metadata": {
  "kernelspec": {
   "display_name": "Python 3.10.1 64-bit ('3.10.1')",
   "language": "python",
   "name": "python3"
  },
  "language_info": {
   "codemirror_mode": {
    "name": "ipython",
    "version": 3
   },
   "file_extension": ".py",
   "mimetype": "text/x-python",
   "name": "python",
   "nbconvert_exporter": "python",
   "pygments_lexer": "ipython3",
   "version": "3.10.1"
  },
  "orig_nbformat": 4,
  "vscode": {
   "interpreter": {
    "hash": "1302458d99d58fefb56dc0fec08d039cf240bdcae78a53a9226b7c46b3832fa1"
   }
  }
 },
 "nbformat": 4,
 "nbformat_minor": 2
}
