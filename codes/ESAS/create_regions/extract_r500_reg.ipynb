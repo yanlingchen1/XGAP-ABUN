{
 "cells": [
  {
   "cell_type": "code",
   "execution_count": 41,
   "metadata": {},
   "outputs": [],
   "source": [
    "import numpy as np\n",
    "from astropy.io import fits\n",
    "import os\n",
    "from astropy.cosmology import FlatLambdaCDM\n",
    "import astropy.units as u\n",
    "from glob import glob\n",
    "import pandas as pd\n",
    "cosmo = FlatLambdaCDM(H0=70, Om0=0.3)"
   ]
  },
  {
   "cell_type": "code",
   "execution_count": null,
   "metadata": {},
   "outputs": [],
   "source": []
  },
  {
   "cell_type": "markdown",
   "metadata": {},
   "source": [
    "1 r500 NFW"
   ]
  },
  {
   "cell_type": "code",
   "execution_count": 57,
   "metadata": {},
   "outputs": [
    {
     "name": "stdout",
     "output_type": "stream",
     "text": [
      "/Users/eusracenorth/Documents/work/XGAP-ABUN/alldata/XGAP/SDSSTG9370\n",
      "/Users/eusracenorth/Documents/work/XGAP-ABUN/alldata/XGAP/SDSSTG24595\n"
     ]
    }
   ],
   "source": [
    "datapath = '/Users/eusracenorth/Documents/work/XGAP-ABUN/alldata/XGAP/dom'\n",
    "rootdir = f'/Users/eusracenorth/Documents/work/XGAP-ABUN/alldata/XGAP'\n",
    "with fits.open(f'{datapath}/xgap_m500_forecast.fits') as f:\n",
    "    dat = f[1].data\n",
    "    for i in range(len(dat['ID'])):\n",
    "        subdir = f\"{rootdir}/SDSSTG{dat['ID'][i]}\"\n",
    "        if os.path.exists(subdir):\n",
    "            savepath = f'{subdir}/fk5_regs'\n",
    "            peras = cosmo.arcsec_per_kpc_proper(dat['z'][i])\n",
    "            rad = np.round((peras*dat['R500_NFW'][i]* u.kpc ).to_value(u.arcmin), decimals=4)\n",
    "            with open(f'{savepath}/R500_fk5.reg', 'w') as newf:\n",
    "                newf.write('global color=magenta dashlist=8 3 width=2 font=\"helvetica 12 normal roman\" select=1 highlite=1 dash=0 fixed=0 edit=1 move=1 delete=1 include=1 source=1 \\n')\n",
    "                newf.write('fk5 \\n')\n",
    "                newf.write(f'''circle({dat[\"RA_C\"][i]}, {dat[\"DEC_C\"][i]}, {rad}')''')\n",
    "        else:\n",
    "            print(subdir)\n"
   ]
  },
  {
   "cell_type": "markdown",
   "metadata": {},
   "source": [
    "2 bkg 12.1242',14.799'"
   ]
  },
  {
   "cell_type": "code",
   "execution_count": 27,
   "metadata": {},
   "outputs": [
    {
     "name": "stdout",
     "output_type": "stream",
     "text": [
      "/Users/eusracenorth/Documents/work/XGAP-ABUN/alldata/XGAP/SDSSTG9370\n",
      "/Users/eusracenorth/Documents/work/XGAP-ABUN/alldata/XGAP/SDSSTG24595\n"
     ]
    }
   ],
   "source": [
    "datapath = '/Users/eusracenorth/Documents/work/XGAP-ABUN/alldata/XGAP/dom'\n",
    "rootdir = f'/Users/eusracenorth/Documents/work/XGAP-ABUN/alldata/XGAP'\n",
    "with fits.open(f'{datapath}/xgap_m500_forecast.fits') as f:\n",
    "    dat = f[1].data\n",
    "    for i in range(len(dat['ID'])):\n",
    "        subdir = f\"{rootdir}/SDSSTG{dat['ID'][i]}\"\n",
    "        if os.path.exists(subdir):\n",
    "            savepath = f'{subdir}/fk5_regs'\n",
    "            os.makedirs(savepath, exist_ok=True)\n",
    "            with open(f'{savepath}/bkg.reg', 'w') as newf:\n",
    "                newf.write('global color=cyan dashlist=8 3 width=2 font=\"helvetica 12 normal roman\" select=1 highlite=1 dash=0 fixed=0 edit=1 move=1 delete=1 include=1 source=1 \\n')\n",
    "                newf.write('fk5 \\n')\n",
    "                newf.write(f'''annulus({dat[\"RA_C\"][i]}, {dat[\"DEC_C\"][i]}, 12.1242',14.799')''')\n",
    "        else:\n",
    "            print(subdir)\n"
   ]
  },
  {
   "cell_type": "markdown",
   "metadata": {},
   "source": [
    "3 r500 estimated from 0.7R200"
   ]
  },
  {
   "cell_type": "code",
   "execution_count": 58,
   "metadata": {},
   "outputs": [
    {
     "name": "stdout",
     "output_type": "stream",
     "text": [
      "22635\n",
      "28674\n",
      "11320\n",
      "3669\n",
      "11631\n",
      "10159\n",
      "16386\n",
      "16393\n",
      "3513\n",
      "4047\n"
     ]
    }
   ],
   "source": [
    "rootdir = f'/Users/eusracenorth/Documents/work/XGAP-ABUN/alldata/XGAP'\n",
    "datapath = f'{rootdir}/dom'\n",
    "\n",
    "with fits.open(f'{datapath}/xgap_m500_forecast.fits') as f:\n",
    "    dat = f[1].data\n",
    "    doc_ids = dat['ID']\n",
    "all_ids = np.array([f.split('/')[-1].split('G')[-1] for f in glob(f'{rootdir}/SDSS*')]).astype(int)\n",
    "docmiss_ids = all_ids[~np.isin(all_ids, doc_ids)]\n",
    "\n",
    "# load manually chosen group centers\n",
    "cen = pd.read_csv(f'{datapath}/my_centers.csv')\n",
    "\n",
    "# for sources not in *forecast.fits\n",
    "ids = docmiss_ids\n",
    "with fits.open(f'{datapath}/xgap_master_v1.1.fits') as f:\n",
    "    dat = f[1].data\n",
    "    for id in ids:\n",
    "        subdir = f\"{rootdir}/SDSSTG{id}\"\n",
    "        if os.path.exists(subdir):\n",
    "            savepath = f'{subdir}/fk5_regs'\n",
    "            os.makedirs(savepath, exist_ok=True)\n",
    "            print(id)\n",
    "            msk = dat['GROUP_ID']==f'{id}'\n",
    "            msk_cen = cen['ID'] == f'SDSSTG{id}'\n",
    "            rad = np.round((dat['R200_deg'][msk][0]* 0.7 *0.1* 60), decimals=4)\n",
    "            with open(f'{savepath}/R500_01_fk5.reg', 'w') as newf:\n",
    "                newf.write('global color=magenta dashlist=8 3 width=2 font=\"helvetica 12 normal roman\" select=1 highlite=1 dash=0 fixed=0 edit=1 move=1 delete=1 include=1 source=1 \\n')\n",
    "                newf.write('fk5 \\n')\n",
    "                newf.write(f'''circle({np.array(cen[\"RA\"])[msk_cen][0]}, {np.array(cen[\"DEC\"])[msk_cen][0]}, {rad}')''')\n",
    "            # also bkg\n",
    "            with open(f'{savepath}/bkg.reg', 'w') as newf:\n",
    "                newf.write('global color=magenta dashlist=8 3 width=2 font=\"helvetica 12 normal roman\" select=1 highlite=1 dash=0 fixed=0 edit=1 move=1 delete=1 include=1 source=1 \\n')\n",
    "                newf.write('fk5 \\n')\n",
    "                newf.write(f'''annulus({np.array(cen[\"RA\"])[msk_cen][0]}, {np.array(cen[\"DEC\"])[msk_cen][0]}, 12.1242',14.799')''')\n",
    "        else:\n",
    "            print(subdir)\n"
   ]
  },
  {
   "cell_type": "markdown",
   "metadata": {},
   "source": [
    "automatically open ds9, load regions and save plots"
   ]
  },
  {
   "cell_type": "code",
   "execution_count": 29,
   "metadata": {},
   "outputs": [
    {
     "name": "stderr",
     "output_type": "stream",
     "text": [
      "rm: /Users/eusracenorth/Documents/work/XGAP-ABUN/alldata/XGAP/figs/bkgs/SDSSTG8050_bkg.png: No such file or directory\n",
      "Fontconfig warning: ignoring UTF-8: not a valid region tag\n",
      "rm: /Users/eusracenorth/Documents/work/XGAP-ABUN/alldata/XGAP/figs/bkgs/SDSSTG10842_bkg.png: No such file or directory\n",
      "Fontconfig warning: ignoring UTF-8: not a valid region tag\n",
      "rm: /Users/eusracenorth/Documents/work/XGAP-ABUN/alldata/XGAP/figs/bkgs/SDSSTG885_bkg.png: No such file or directory\n",
      "Fontconfig warning: ignoring UTF-8: not a valid region tag\n",
      "rm: /Users/eusracenorth/Documents/work/XGAP-ABUN/alldata/XGAP/figs/bkgs/SDSSTG1011_bkg.png: No such file or directory\n",
      "Fontconfig warning: ignoring UTF-8: not a valid region tag\n",
      "Fontconfig warning: ignoring UTF-8: not a valid region tag\n",
      "XPA$ERROR no 'xpaset' access points match template: ds9\n",
      "rm: /Users/eusracenorth/Documents/work/XGAP-ABUN/alldata/XGAP/figs/bkgs/SDSSTG4654_bkg.png: No such file or directory\n",
      "Fontconfig warning: ignoring UTF-8: not a valid region tag\n",
      "rm: /Users/eusracenorth/Documents/work/XGAP-ABUN/alldata/XGAP/figs/bkgs/SDSSTG1695_bkg.png: No such file or directory\n",
      "Fontconfig warning: ignoring UTF-8: not a valid region tag\n",
      "rm: /Users/eusracenorth/Documents/work/XGAP-ABUN/alldata/XGAP/figs/bkgs/SDSSTG15641_bkg.png: No such file or directory\n",
      "Fontconfig warning: ignoring UTF-8: not a valid region tag\n",
      "rm: /Users/eusracenorth/Documents/work/XGAP-ABUN/alldata/XGAP/figs/bkgs/SDSSTG3128_bkg.png: No such file or directory\n",
      "Fontconfig warning: ignoring UTF-8: not a valid region tag\n",
      "rm: /Users/eusracenorth/Documents/work/XGAP-ABUN/alldata/XGAP/figs/bkgs/SDSSTG2620_bkg.png: No such file or directory\n",
      "Fontconfig warning: ignoring UTF-8: not a valid region tag\n",
      "rm: /Users/eusracenorth/Documents/work/XGAP-ABUN/alldata/XGAP/figs/bkgs/SDSSTG12349_bkg.png: No such file or directory\n",
      "Fontconfig warning: ignoring UTF-8: not a valid region tag\n",
      "rm: /Users/eusracenorth/Documents/work/XGAP-ABUN/alldata/XGAP/figs/bkgs/SDSSTG16150_bkg.png: No such file or directory\n",
      "Fontconfig warning: ignoring UTF-8: not a valid region tag\n",
      "XPA$ERROR: invalid host name specified: $host:$port.\n",
      "XPA$ERROR no 'xpaset' access points match template: ds9\n",
      "rm: /Users/eusracenorth/Documents/work/XGAP-ABUN/alldata/XGAP/figs/bkgs/SDSSTG3460_bkg.png: No such file or directory\n",
      "Fontconfig warning: ignoring UTF-8: not a valid region tag\n",
      "rm: /Users/eusracenorth/Documents/work/XGAP-ABUN/alldata/XGAP/figs/bkgs/SDSSTG9771_bkg.png: No such file or directory\n",
      "Fontconfig warning: ignoring UTF-8: not a valid region tag\n",
      "rm: /Users/eusracenorth/Documents/work/XGAP-ABUN/alldata/XGAP/figs/bkgs/SDSSTG1601_bkg.png: No such file or directory\n",
      "Fontconfig warning: ignoring UTF-8: not a valid region tag\n",
      "rm: /Users/eusracenorth/Documents/work/XGAP-ABUN/alldata/XGAP/figs/bkgs/SDSSTG10094_bkg.png: No such file or directory\n",
      "Fontconfig warning: ignoring UTF-8: not a valid region tag\n",
      "rm: /Users/eusracenorth/Documents/work/XGAP-ABUN/alldata/XGAP/figs/bkgs/SDSSTG6159_bkg.png: No such file or directory\n",
      "Fontconfig warning: ignoring UTF-8: not a valid region tag\n",
      "rm: /Users/eusracenorth/Documents/work/XGAP-ABUN/alldata/XGAP/figs/bkgs/SDSSTG8102_bkg.png: No such file or directory\n",
      "Fontconfig warning: ignoring UTF-8: not a valid region tag\n",
      "rm: /Users/eusracenorth/Documents/work/XGAP-ABUN/alldata/XGAP/figs/bkgs/SDSSTG9178_bkg.png: No such file or directory\n",
      "Fontconfig warning: ignoring UTF-8: not a valid region tag\n",
      "rm: /Users/eusracenorth/Documents/work/XGAP-ABUN/alldata/XGAP/figs/bkgs/SDSSTG39344_bkg.png: No such file or directory\n",
      "Fontconfig warning: ignoring UTF-8: not a valid region tag\n",
      "rm: /Users/eusracenorth/Documents/work/XGAP-ABUN/alldata/XGAP/figs/bkgs/SDSSTG5742_bkg.png: No such file or directory\n",
      "Fontconfig warning: ignoring UTF-8: not a valid region tag\n",
      "rm: /Users/eusracenorth/Documents/work/XGAP-ABUN/alldata/XGAP/figs/bkgs/SDSSTG6058_bkg.png: No such file or directory\n",
      "Fontconfig warning: ignoring UTF-8: not a valid region tag\n",
      "rm: /Users/eusracenorth/Documents/work/XGAP-ABUN/alldata/XGAP/figs/bkgs/SDSSTG1162_bkg.png: No such file or directory\n",
      "Fontconfig warning: ignoring UTF-8: not a valid region tag\n",
      "rm: /Users/eusracenorth/Documents/work/XGAP-ABUN/alldata/XGAP/figs/bkgs/SDSSTG15354_bkg.png: No such file or directory\n",
      "Fontconfig warning: ignoring UTF-8: not a valid region tag\n",
      "rm: /Users/eusracenorth/Documents/work/XGAP-ABUN/alldata/XGAP/figs/bkgs/SDSSTG2424_bkg.png: No such file or directory\n",
      "Fontconfig warning: ignoring UTF-8: not a valid region tag\n",
      "rm: /Users/eusracenorth/Documents/work/XGAP-ABUN/alldata/XGAP/figs/bkgs/SDSSTG46701_bkg.png: No such file or directory\n",
      "Fontconfig warning: ignoring UTF-8: not a valid region tag\n",
      "rm: /Users/eusracenorth/Documents/work/XGAP-ABUN/alldata/XGAP/figs/bkgs/SDSSTG35976_bkg.png: No such file or directory\n",
      "Fontconfig warning: ignoring UTF-8: not a valid region tag\n",
      "rm: /Users/eusracenorth/Documents/work/XGAP-ABUN/alldata/XGAP/figs/bkgs/SDSSTG9399_bkg.png: No such file or directory\n",
      "Fontconfig warning: ignoring UTF-8: not a valid region tag\n",
      "rm: /Users/eusracenorth/Documents/work/XGAP-ABUN/alldata/XGAP/figs/bkgs/SDSSTG4436_bkg.png: No such file or directory\n",
      "Fontconfig warning: ignoring UTF-8: not a valid region tag\n",
      "rm: /Users/eusracenorth/Documents/work/XGAP-ABUN/alldata/XGAP/figs/bkgs/SDSSTG9647_bkg.png: No such file or directory\n",
      "Fontconfig warning: ignoring UTF-8: not a valid region tag\n",
      "XPA$ERROR no 'xpaset' access points match template: ds9\n",
      "Fontconfig warning: ignoring UTF-8: not a valid region tag\n",
      "XPA$ERROR no 'xpaset' access points match template: ds9\n",
      "rm: /Users/eusracenorth/Documents/work/XGAP-ABUN/alldata/XGAP/figs/bkgs/SDSSTG828_bkg.png: No such file or directory\n",
      "Fontconfig warning: ignoring UTF-8: not a valid region tag\n",
      "XPA$ERROR no 'xpaset' access points match template: ds9\n",
      "rm: /Users/eusracenorth/Documents/work/XGAP-ABUN/alldata/XGAP/figs/bkgs/SDSSTG15776_bkg.png: No such file or directory\n",
      "Fontconfig warning: ignoring UTF-8: not a valid region tag\n",
      "rm: /Users/eusracenorth/Documents/work/XGAP-ABUN/alldata/XGAP/figs/bkgs/SDSSTG21128_bkg.png: No such file or directory\n",
      "Fontconfig warning: ignoring UTF-8: not a valid region tag\n",
      "rm: /Users/eusracenorth/Documents/work/XGAP-ABUN/alldata/XGAP/figs/bkgs/SDSSTG1398_bkg.png: No such file or directory\n",
      "Fontconfig warning: ignoring UTF-8: not a valid region tag\n",
      "XPA$ERROR no 'xpaset' access points match template: ds9\n",
      "rm: /Users/eusracenorth/Documents/work/XGAP-ABUN/alldata/XGAP/figs/bkgs/SDSSTG40241_bkg.png: No such file or directory\n",
      "Fontconfig warning: ignoring UTF-8: not a valid region tag\n",
      "rm: /Users/eusracenorth/Documents/work/XGAP-ABUN/alldata/XGAP/figs/bkgs/SDSSTG11844_bkg.png: No such file or directory\n",
      "Fontconfig warning: ignoring UTF-8: not a valid region tag\n"
     ]
    }
   ],
   "source": [
    "rootdir = f'/Users/eusracenorth/Documents/work/XGAP-ABUN/alldata/XGAP'\n",
    "with fits.open(f'{datapath}/xgap_m500_forecast.fits') as f:\n",
    "    dat = f[1].data\n",
    "    ids = dat['ID']\n",
    "regionfile = f'fk5_regs/bkg.reg'\n",
    "for i in range(len(ids)):\n",
    "    subdir = f\"{rootdir}/SDSSTG{ids[i]}\"\n",
    "    savepath = f'{rootdir}/figs/bkgs'\n",
    "    os.makedirs(savepath, exist_ok = True)\n",
    "    savefile = f'SDSSTG{ids[i]}_bkg.png'\n",
    "    if os.path.exists(subdir):\n",
    "        os.chdir(subdir)\n",
    "        os.system(f\"rm {savepath}/{savefile}\")\n",
    "        os.system(f'ds9 comb-fovimsky-350-2000.fits -region emllist_every.reg -region {regionfile} -scale log -cmap b -zoom to fit -smooth yes &')\n",
    "        os.system(f'sleep 5')\n",
    "        os.system(f\"xpaset -p ds9 saveimage png {savepath}/{savefile}\")\n",
    "        os.system(f\"xpaset -p ds9 exit\")\n",
    "\n",
    "\n"
   ]
  },
  {
   "cell_type": "code",
   "execution_count": null,
   "metadata": {},
   "outputs": [],
   "source": []
  }
 ],
 "metadata": {
  "kernelspec": {
   "display_name": "Python 3.10.1 64-bit ('3.10.1')",
   "language": "python",
   "name": "python3"
  },
  "language_info": {
   "codemirror_mode": {
    "name": "ipython",
    "version": 3
   },
   "file_extension": ".py",
   "mimetype": "text/x-python",
   "name": "python",
   "nbconvert_exporter": "python",
   "pygments_lexer": "ipython3",
   "version": "3.10.1"
  },
  "orig_nbformat": 4,
  "vscode": {
   "interpreter": {
    "hash": "1302458d99d58fefb56dc0fec08d039cf240bdcae78a53a9226b7c46b3832fa1"
   }
  }
 },
 "nbformat": 4,
 "nbformat_minor": 2
}
