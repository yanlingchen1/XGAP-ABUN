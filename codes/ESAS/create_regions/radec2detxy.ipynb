{
 "cells": [
  {
   "cell_type": "code",
   "execution_count": 2,
   "metadata": {},
   "outputs": [],
   "source": [
    "import os\n",
    "from glob import glob\n",
    "import numpy as np\n",
    "import pandas as pd\n",
    "from tqdm import tqdm"
   ]
  },
  {
   "cell_type": "code",
   "execution_count": 3,
   "metadata": {},
   "outputs": [],
   "source": [
    "from astropy.coordinates import SkyCoord\n",
    "import astropy.units as u\n",
    "\n",
    "def deg2sex(ra_deg, dec_deg):\n",
    "    # Create a SkyCoord object with the specified units\n",
    "    coords = SkyCoord(ra=ra_deg * u.degree, dec=dec_deg * u.degree)\n",
    "    # Extract the converted sexagesimal values\n",
    "    ra_sexagesimal = coords.to_string(style='hmsdms', precision=2)\n",
    "    return f\"{ra_sexagesimal.split(' ')[0]}\", f\"{ra_sexagesimal.split(' ')[1]}\""
   ]
  },
  {
   "cell_type": "markdown",
   "metadata": {},
   "source": [
    "# 1 convert the center coords to det XY"
   ]
  },
  {
   "cell_type": "code",
   "execution_count": 8,
   "metadata": {},
   "outputs": [
    {
     "name": "stderr",
     "output_type": "stream",
     "text": [
      "100%|██████████| 45/45 [00:00<00:00, 3714.48it/s]\n"
     ]
    }
   ],
   "source": [
    "# convert the center coords to det XY\n",
    "\n",
    "# read the fk5 eckert region\n",
    "rootdir = '/Users/eusracenorth/Documents/work/XGAP-ABUN/alldata/XGAP/'\n",
    "datpath = f'{rootdir}/dats/logNS'\n",
    "dat_f = pd.read_csv(f'{datpath}/readme.csv')\n",
    "\n",
    "ids = dat_f['SRCID']\n",
    "# ids = ['SDSSTG40241']\n",
    "\n",
    "for ID in tqdm(ids): \n",
    "    os.chdir(f'{rootdir}/{ID}/fk5_regs')\n",
    "    for regfile in glob('R500_fk5.reg'):\n",
    "        with open(regfile) as f:\n",
    "            line = f.readlines()[-1]\n",
    "            ra = line.split('(')[-1].split(',')[0]\n",
    "            dec = line.split(',')[1].split()[0]\n",
    "\n",
    "        # write the command to convert \n",
    "        \n",
    "        with open('deg2det.sh', 'w') as f:\n",
    "            f.write('source ../set_sas.txt\\n')\n",
    "            for name in ['mos1', 'mos2', 'pn']:\n",
    "                f.write(f'''esky2det datastyle=user ra={ra} dec={dec} outunit=det calinfoset='../{name}-allevc-exchips.fits' 2>&1 | tee deg2det-{name}.log\\n''')\n",
    "\n"
   ]
  },
  {
   "cell_type": "markdown",
   "metadata": {},
   "source": [
    "# 2 create the region files"
   ]
  },
  {
   "cell_type": "markdown",
   "metadata": {},
   "source": [
    "2.1 define the shape and the radius of the region in XMM region format"
   ]
  },
  {
   "cell_type": "code",
   "execution_count": 14,
   "metadata": {},
   "outputs": [],
   "source": [
    "#### define the shape and the radius of the region in XMM region format####\n",
    "\n",
    "def xmm_circ(x, y, r):\n",
    "    return f'&&((DETX,DETY) IN circle({x},{y},{r}))'\n",
    "def xmm_annu(x, y, r1, r2):\n",
    "    return f'&&((DETX,DETY) IN annulus({x},{y},{r1},{r2}))'\n",
    "def xmm_elli(x, y, r1, r2, rot):\n",
    "    return f'&&((DETX,DETY) IN ellipse({x},{y},{r1},{r2},{rot}))'"
   ]
  },
  {
   "cell_type": "markdown",
   "metadata": {},
   "source": [
    "2.2 load the detxy of the center of the source"
   ]
  },
  {
   "cell_type": "code",
   "execution_count": 12,
   "metadata": {},
   "outputs": [
    {
     "name": "stderr",
     "output_type": "stream",
     "text": [
      "45it [00:00, 6834.82it/s]\n",
      "45it [00:00, 8495.84it/s]\n",
      "45it [00:00, 7667.21it/s]\n"
     ]
    }
   ],
   "source": [
    "rootdir = '/Users/eusracenorth/Documents/work/XGAP-ABUN/alldata/XGAP/'\n",
    "datpath = f'{rootdir}/dats/logNS'\n",
    "dat_f = pd.read_csv(f'{datpath}/readme.csv')\n",
    "savepath = f'{rootdir}/dom'\n",
    "savefile = f'source_centers'\n",
    "ids = dat_f['SRCID']\n",
    "    \n",
    "for name in ['mos1', 'mos2', 'pn']:\n",
    "    op_dict = {'SRCID':ids, 'detX':np.zeros(len(ids)), 'detY':np.zeros(len(ids))}\n",
    "    for i, ID in tqdm(enumerate(ids)): \n",
    "        os.chdir(f'{rootdir}/{ID}/fk5_regs')\n",
    "        with open(f'deg2det-{name}.log') as f:\n",
    "            for line in f:\n",
    "                if '# detX' in line:\n",
    "                    # Extract detX and detY values\n",
    "                    op_dict['detX'][i], op_dict['detY'][i] = map(float, next(f).split())\n",
    "    \n",
    "    df = pd.DataFrame(op_dict)\n",
    "    df.to_csv(f'{savepath}/{savefile}_{name}.csv')\n"
   ]
  },
  {
   "cell_type": "markdown",
   "metadata": {},
   "source": [
    "2.3 create the region files"
   ]
  },
  {
   "cell_type": "code",
   "execution_count": 18,
   "metadata": {},
   "outputs": [
    {
     "name": "stderr",
     "output_type": "stream",
     "text": [
      "45it [00:00, 2229.59it/s]\n",
      "45it [00:00, 3632.62it/s]\n",
      "45it [00:00, 4991.77it/s]\n"
     ]
    }
   ],
   "source": [
    "#### basic parameters ####\n",
    "am2xy = 60 * 20\n",
    "bkg_rad = (12.1242,14.799) # arcmin\n",
    "\n",
    "#### define paths ####\n",
    "rootdir = '/Users/eusracenorth/Documents/work/XGAP-ABUN/alldata/XGAP/'\n",
    "datpath = f'{rootdir}/dom'\n",
    "\n",
    "\n",
    "for name in ['mos1', 'mos2', 'pn']:\n",
    "    # load the detxy of the center of the source\n",
    "    dat_f = pd.read_csv(f'{datpath}/source_centers_{name}.csv')\n",
    "    ids = dat_f['SRCID']\n",
    "    for i, ID in tqdm(enumerate(ids)): \n",
    "        os.chdir(f'{rootdir}/{ID}/fk5_regs')\n",
    "        ## bkg ##\n",
    "        with open(f'{ID}-{name}_bkg.txt', 'w') as f:\n",
    "            f.write(xmm_annu(dat_f['detX'][i], dat_f['detY'][i], np.round(bkg_rad[0] * am2xy, decimals=2), np.round(bkg_rad[1]* am2xy, decimals=2)))\n",
    "        ## 0.1r500c ##\n",
    "        # read radius from fk5 regfile\n",
    "        with open(f'R500_01_fk5.reg') as f:\n",
    "            line = f.readlines()[-1]\n",
    "            rad = float(line.split(',')[-1].split(')')[0][:-1])\n",
    "\n",
    "        with open(f'{ID}-{name}_R500_01.txt', 'w') as f:\n",
    "            f.write(xmm_circ(dat_f['detX'][i], dat_f['detY'][i], np.round(rad * am2xy, decimals=2)))\n",
    "\n",
    "\n",
    "\n",
    "\n",
    "\n"
   ]
  },
  {
   "cell_type": "code",
   "execution_count": null,
   "metadata": {},
   "outputs": [],
   "source": []
  }
 ],
 "metadata": {
  "kernelspec": {
   "display_name": "Python 3.10.1 64-bit ('3.10.1')",
   "language": "python",
   "name": "python3"
  },
  "language_info": {
   "codemirror_mode": {
    "name": "ipython",
    "version": 3
   },
   "file_extension": ".py",
   "mimetype": "text/x-python",
   "name": "python",
   "nbconvert_exporter": "python",
   "pygments_lexer": "ipython3",
   "version": "3.10.1"
  },
  "orig_nbformat": 4,
  "vscode": {
   "interpreter": {
    "hash": "1302458d99d58fefb56dc0fec08d039cf240bdcae78a53a9226b7c46b3832fa1"
   }
  }
 },
 "nbformat": 4,
 "nbformat_minor": 2
}
