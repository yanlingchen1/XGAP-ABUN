{
 "cells": [
  {
   "cell_type": "code",
   "execution_count": 5,
   "metadata": {},
   "outputs": [],
   "source": [
    "import numpy as np\n",
    "import pandas as pd\n",
    "from astropy.io import fits"
   ]
  },
  {
   "cell_type": "markdown",
   "metadata": {},
   "source": [
    "1 create coords txt"
   ]
  },
  {
   "cell_type": "code",
   "execution_count": 75,
   "metadata": {},
   "outputs": [
    {
     "name": "stdout",
     "output_type": "stream",
     "text": [
      "1\n",
      "1\n",
      "['SDSSTG4047', 'SDSSTG3513', 'SDSSTG16393', 'SDSSTG15354', 'SDSSTG16386', 'SDSSTG10159', 'SDSSTG11631', 'SDSSTG3669', 'SDSSTG11320', 'SDSSTG28674', 'SDSSTG22635']\n",
      "[1 1 1 1 1 1 1 1 1 1 2 1 1 1 1 1 1 1 1 1 1 1 1 1 1 1 1 1 1 1 1 1 1 1 1 1 1\n",
      " 1 1 1 1 1 1 1 1 1 1 1 1]\n",
      "SDSSTG15354\n"
     ]
    }
   ],
   "source": [
    "my_rootdir = f'/Users/eusracenorth/Documents/work/XGAP-ABUN/alldata/XGAP'\n",
    "\n",
    "datapath = f'{my_rootdir}/../dom'\n",
    "f = fits.open(f'{datapath}/xgap_m500_forecast.fits')\n",
    "ids = [f'SDSSTG{I}' for I in f[1].data['ID']]\n",
    "ras = list(f[1].data['RA_C'])\n",
    "decs = list(f[1].data['DEC_C'])\n",
    "# print(ids)\n",
    "print(np.sum(np.isin('SDSSTG15354', ids)))\n",
    "f = pd.read_csv(f'{datapath}/my_centers.csv')\n",
    "ids += list(f['ID'])\n",
    "print(np.sum(np.isin('SDSSTG15354', list(f['ID']))))\n",
    "print(list(f['ID']))\n",
    "ras += list(f['RA'])\n",
    "decs += list(f['DEC'])\n",
    "arr, cts = np.unique(ids, return_counts=True)\n",
    "print(cts)\n",
    "print(arr[10])\n",
    "\n",
    "# with open(\"coords_allsources.txt\", 'w') as newf:\n",
    "#     for i in range(len(ras)):\n",
    "#         newf.write(f'{ras[i]} {decs[i]} J2000\\n')\n"
   ]
  },
  {
   "cell_type": "markdown",
   "metadata": {},
   "source": [
    "2 tidy swift output"
   ]
  },
  {
   "cell_type": "code",
   "execution_count": 108,
   "metadata": {},
   "outputs": [
    {
     "name": "stdout",
     "output_type": "stream",
     "text": [
      "['1011' '9647' '6159' '15641' '10159' '16150' '1601' '22635' '5742'\n",
      " '15776' '35976' '28674' '12349' '9695' '2620' '10842' '9178' '1695'\n",
      " '2424' '46701' '3460' '1162' '11320' '6058' '828' '4436' '11631' '8050'\n",
      " '16393' '885' '3669' '9399' '1398' '16386' '4654' '8102' '9771' '40241'\n",
      " '4936' '3513' '9370' '10094' '39344' '3128' '11844' '4047' '2473' '15354'\n",
      " '21128']\n"
     ]
    }
   ],
   "source": [
    "### NOTE: 16386 has wrong id, should be 24595,\n",
    "### to not cause err, here 16386 and 24595 is the same group, which is 16386. \n",
    "\n",
    "# read reds\n",
    "with fits.open(f'{datapath}/xgap_master_v1.1.fits') as f:\n",
    "    zs = f[1].data['zcmb']\n",
    "    masids = f[1].data['GROUP_ID']\n",
    "# read nH\n",
    "df = pd.read_csv('swift_output.txt', skiprows=3, delimiter='|', header=None)\n",
    "# print(df)\n",
    "nhs = np.array(df.iloc[:,-2])[:-1]\n",
    "print(masids)\n",
    "with open(\"basics_allsources.csv\", 'w') as newf:\n",
    "    newf.write(f'ID,RA,DEC,nH(1e22cm-2),z\\n')\n",
    "    for i, id in enumerate(ids):\n",
    "        if id =='SDSSTG24595':\n",
    "            idmsk = np.isin(masids, '16386')\n",
    "        else:\n",
    "            idmsk = np.isin(masids, id.split('G')[-1])\n",
    "        nh = nhs[i]\n",
    "        newf.write(f'{id},{ras[i]},{decs[i]},{nh},{zs[idmsk][0]}\\n')"
   ]
  },
  {
   "cell_type": "code",
   "execution_count": null,
   "metadata": {},
   "outputs": [],
   "source": []
  }
 ],
 "metadata": {
  "kernelspec": {
   "display_name": "Python 3.10.1 64-bit ('3.10.1')",
   "language": "python",
   "name": "python3"
  },
  "language_info": {
   "codemirror_mode": {
    "name": "ipython",
    "version": 3
   },
   "file_extension": ".py",
   "mimetype": "text/x-python",
   "name": "python",
   "nbconvert_exporter": "python",
   "pygments_lexer": "ipython3",
   "version": "3.10.1"
  },
  "orig_nbformat": 4,
  "vscode": {
   "interpreter": {
    "hash": "1302458d99d58fefb56dc0fec08d039cf240bdcae78a53a9226b7c46b3832fa1"
   }
  }
 },
 "nbformat": 4,
 "nbformat_minor": 2
}
