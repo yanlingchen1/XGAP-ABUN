{
 "cells": [
  {
   "cell_type": "code",
   "execution_count": null,
   "metadata": {},
   "outputs": [],
   "source": []
  },
  {
   "cell_type": "markdown",
   "metadata": {},
   "source": [
    "pn-spectra & pn_back"
   ]
  },
  {
   "cell_type": "code",
   "execution_count": null,
   "metadata": {},
   "outputs": [],
   "source": [
    "os.chdir('/Users/eusracenorth/Documents/work/XGAP-ABUN/codes/ESAS/tmp')\n",
    "f = open('pnspectra_reg_rest.sh', 'w')\n",
    "\n",
    "f.write('''\n",
    "source set_chips_on.txt\n",
    "source set_sas.txt\n",
    "\n",
    "export PN=pnS003\n",
    "export ELO=700\n",
    "export EHI=1200\n",
    "\n",
    "for pat in 0 4\n",
    "do\n",
    "for num in 1 2 3 4 5 6 7 8 9 10 11 12 13\n",
    "do\n",
    "for regfile in spec_reg/reg${num}-mos1S001.reg\n",
    "do\n",
    "regname=$(basename $regfile | cut -d'-' -f 1)\n",
    "echo $PN\n",
    "echo $regname\n",
    "\n",
    "rm ${regname}/logs/pnspectra_${pat}_${PN}.log\n",
    "rm ${regname}/logs/pnback_${pat}_${PN}.log\n",
    "\n",
    "pnspectra eventfile=${PN}-allevc.fits ootevtfile=${PN}-allevcoot.fits keepinterfiles=yes withregion=yes regionfile=spec_reg/${regname}-${PN}.reg pattern=${pat} withsrcrem=yes maskdet=${PN}-bkgregtdet.fits masksky=${PN}-bkgregtsky.fits elow=${ELO} ehigh=${EHI} quads=\"${PNON}\" badpixelresolution=1 -V=7 2>&1 | tee  ${regname}/logs/pnspectra_${pat}_${PN}.log\n",
    "pnback inspecfile=${PN}-fovt.pi inspecoot=${PN}-fovtoot.pi elow=${ELO} ehigh=${EHI} quads=\"${PNON}\" 2>&1 | tee ${regname}/logs/pnback_${pat}_${PN}.log \n",
    "\n",
    "rm -r ${regname}/${PN}_${pat}\n",
    "mkdir ${regname}/${PN}_${pat}\n",
    "\n",
    "mv pn*-${ELO}-${EHI}* ${regname}/${PN}_${pat}\n",
    "mv pn*.pi ${regname}/${PN}_${pat}\n",
    "mv pn*.qdp ${regname}/${PN}_${pat}\n",
    "mv pn*imt* ${regname}/${PN}_${pat}\n",
    "mv pn*.arf ${regname}/${PN}_${pat}\n",
    "mv pn*.rmf ${regname}/${PN}_${pat}\n",
    "mv pn*imspdet* ${regname}/${PN}_${pat}\n",
    "\n",
    "\n",
    "cp ${regname}/${PN}_${pat}/${PN}-fovt.pi ${regname}/fitting/${PN}-${pat}-fovt.pi\n",
    "cp ${regname}/${PN}_${pat}/${PN}-fovtoot.pi ${regname}/fitting/${PN}-${pat}-fovtoot.pi\n",
    "cp ${regname}/${PN}_${pat}/${PN}-bkg.pi ${regname}/fitting/${PN}-${pat}-bkg.pi\n",
    "cp ${regname}/${PN}_${pat}/${PN}.rmf ${regname}/fitting/${PN}-${pat}.rmf\n",
    "cp ${regname}/${PN}_${pat}/${PN}.arf ${regname}/fitting/${PN}-${pat}.arf\n",
    "\n",
    "done\n",
    "done\n",
    "done\n",
    "'''\n",
    ")\n",
    "f.close()"
   ]
  }
 ],
 "metadata": {
  "kernelspec": {
   "display_name": "Python 3.10.1 64-bit ('3.10.1')",
   "language": "python",
   "name": "python3"
  },
  "language_info": {
   "name": "python",
   "version": "3.10.1"
  },
  "orig_nbformat": 4,
  "vscode": {
   "interpreter": {
    "hash": "1302458d99d58fefb56dc0fec08d039cf240bdcae78a53a9226b7c46b3832fa1"
   }
  }
 },
 "nbformat": 4,
 "nbformat_minor": 2
}
