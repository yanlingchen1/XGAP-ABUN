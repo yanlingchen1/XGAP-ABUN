{
 "cells": [
  {
   "cell_type": "code",
   "execution_count": null,
   "metadata": {},
   "outputs": [],
   "source": []
  },
  {
   "cell_type": "code",
   "execution_count": null,
   "metadata": {},
   "outputs": [],
   "source": [
    "# import webdriver\n",
    "from selenium import webdriver\n",
    "from selenium.webdriver.chrome.options import Options\n",
    "from selenium.webdriver.common.by import By\n",
    "import time\n",
    "import os\n",
    "import glob\n",
    "from astropy.io import fits\n",
    "import numpy as np\n",
    "\n",
    "## load the coordinates\n",
    "with fits.open(f'/Users/eusracenorth/Downloads/xgap_m500_forecast.fits') as f:\n",
    "    srcids = f[1].data['ID']\n",
    "    ras = f[1].data['RA_C']  # Right Ascension in decimal degrees\n",
    "    decs = f[1].data['DEC_C']  # Declination in decimal degrees\n",
    "\n",
    "\n",
    "for i in range(len(srcids)):\n",
    "    ra = np.round(ras[i], decimals=4)\n",
    "    dec = np.round(decs[i], decimals=4)\n",
    "\n",
    "    #### Download on rosat website #### \n",
    "    url = f'https://heasarc.gsfc.nasa.gov/cgi-bin/Tools/xraybg/xraybg.pl?Entry={ra}%2C{dec}&NR=GRB%2FSIMBAD%2BSesame%2FNED&CoordSys=J2000&radius=1.00&region=cone&inner_radius=n%2Fa&spectrum=create&scaling=hist'\n",
    "    # create webdriver object\n",
    "    # Set up ChromeOptions for headless mode\n",
    "    chrome_options = Options()\n",
    "    chrome_options.add_argument('--headless')  # Run Chrome in headless mode\n",
    "    driver = webdriver.Chrome(options=chrome_options)\n",
    "\n",
    "    driver.get(url)\n",
    "\n",
    "    # Find specific links based on their text content\n",
    "    # links_to_download = driver.find_elements(By.XPATH, '//a[text()=\"ROSAT PSPCc response matrix\"]')\n",
    "\n",
    "    # Download files\n",
    "    links = driver.find_elements(By.XPATH, '//a[text()=\"ROSAT PSPCc response matrix\"]')\n",
    "    for link in links:\n",
    "        link.click()\n",
    "        time.sleep(5)\n",
    "\n",
    "    links = driver.find_elements(By.XPATH, '//a[text()=\"FITS counts spectrum\"]')\n",
    "    for link in links:\n",
    "        link.click()\n",
    "        time.sleep(5)\n",
    "\n",
    "    # Close the browser window\n",
    "    driver.quit()\n",
    "    \n",
    "    savepath = f'/Users/eusracenorth/Downloads/ROSAT_specs/ID{srcids[i]}'\n",
    "    os.makedirs(savepath, exist_ok=True)\n",
    "\n",
    "    os.system(f'mv *.pi {savepath}/rosat.pi')\n",
    "    os.system(f'mv *.rsp {savepath}/rosat.rsp')\n"
   ]
  },
  {
   "cell_type": "code",
   "execution_count": null,
   "metadata": {},
   "outputs": [],
   "source": [
    "from astropy import coordinates as coord\n",
    "import astropy.units as u\n",
    "import numpy as np\n",
    "\n",
    "def deci2gala(ra_decimal, dec_decimal):\n",
    "    # Create an Astropy SkyCoord object\n",
    "    icrs = coord.SkyCoord(ra=ra_decimal*u.degree, dec=dec_decimal*u.degree, frame='icrs')\n",
    "\n",
    "    # Convert to Galactic coordinates\n",
    "    galactic_coords = icrs.transform_to(coord.Galactic)\n",
    "\n",
    "    if galactic_coords.b.degree>0:\n",
    "        # Print the Galactic coordinates\n",
    "        return f'{np.round(galactic_coords.l.degree, decimals=4)}', f'+{np.round(galactic_coords.b.degree, decimals=4)}'\n",
    "    else:\n",
    "        return f'{np.round(galactic_coords.l.degree, decimals=4)}', f'{np.round(galactic_coords.b.degree, decimals=4)}'\n",
    "\n"
   ]
  },
  {
   "cell_type": "code",
   "execution_count": null,
   "metadata": {},
   "outputs": [],
   "source": [
    "# Input celestial coordinates in decimal degrees\n",
    "ra_decimal = 169.088  # Right Ascension in decimal degrees\n",
    "dec_decimal = 29.22171  # Declination in decimal degrees\n",
    "\n",
    "deci2gala(ra_decimal, dec_decimal)"
   ]
  },
  {
   "cell_type": "code",
   "execution_count": null,
   "metadata": {},
   "outputs": [],
   "source": []
  }
 ],
 "metadata": {
  "kernelspec": {
   "display_name": "Python 3.11.5 ('base')",
   "language": "python",
   "name": "python3"
  },
  "language_info": {
   "codemirror_mode": {
    "name": "ipython",
    "version": 3
   },
   "file_extension": ".py",
   "mimetype": "text/x-python",
   "name": "python",
   "nbconvert_exporter": "python",
   "pygments_lexer": "ipython3",
   "version": "3.11.5"
  },
  "orig_nbformat": 4,
  "vscode": {
   "interpreter": {
    "hash": "58ee13649a3e33612fea9b2fc6712fa52e5371c54a9ff454aedbace36da48a84"
   }
  }
 },
 "nbformat": 4,
 "nbformat_minor": 2
}
