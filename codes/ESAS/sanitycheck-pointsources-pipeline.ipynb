{
 "cells": [
  {
   "cell_type": "code",
   "execution_count": null,
   "metadata": {},
   "outputs": [],
   "source": [
    "\"\"\"\n",
    "doi:10.1111/j.1365-2966.2012.21831.x\n",
    "\n",
    "1. exclude the point sources regions\n",
    "1.1 region command, set the bkg fraction as the variable: np.arange(0.5, 2.5, 0.1)\n",
    "1.2 get different band images 0.5-2, 2-8, 0.5-8 keV\n",
    "\n",
    "2. define the bkg region\n",
    "2.1 get the exp-corr and bkg-sub sb profile (0.5-2, 2-8 keV)\n",
    "criteria for bkg region: 2-8 keV sb fluctuation < 10% of the bkg level\n",
    "\n",
    "\n",
    "\"\"\""
   ]
  },
  {
   "cell_type": "markdown",
   "metadata": {},
   "source": [
    "# 1 Exclude the point sources regions"
   ]
  },
  {
   "cell_type": "markdown",
   "metadata": {},
   "source": [
    "## 1.1 region command"
   ]
  },
  {
   "cell_type": "code",
   "execution_count": null,
   "metadata": {},
   "outputs": [],
   "source": [
    "## edit region files\n",
    "# onserver: region_2nd_scripts.py\n",
    "# then run . region_2nd_all.sh\n",
    "\"\"\"local\n",
    "# create emllist_final.fits, to convert the centers of fk5 coords to detxy and xy coords\n",
    "rootdir = '/Users/eusracenorth/Documents/work/XGAP-ABUN/alldata/XGAP/'\n",
    "datpath = f'{rootdir}/dats/logNS'\n",
    "dat_f = pd.read_csv(f'{datpath}/readme.csv')\n",
    "\n",
    "# ids = dat_f['SRCID']\n",
    "ids = ['SDSSTG40241']\n",
    "\"\"\"\n",
    "from glob import glob\n",
    "import os\n",
    "from astropy.io import fits\n",
    "from tqdm import tqdm\n",
    "\n",
    "rootdir = '/data/yanling/XGAP-ABUN/data/alldata/XGAP'\n",
    "ids = [name.split('/')[-1] for name in glob(f'{rootdir}/SDSSTG*')]\n",
    "\n",
    "for ID in tqdm(ids): \n",
    "    os.chdir(f'{rootdir}/{ID}')\n",
    "    os.makedirs('cheese_before', exist_ok=True)\n",
    "    \n",
    "    f = open(f'region_2nd.sh', 'w')\n",
    "    f.write(\n",
    "'''\n",
    "#!/bin/bash\n",
    ". ./set_sas.txt\n",
    "export elo=350\n",
    "export ehi=8000\n",
    "''')\n",
    "    for inst in ['mos1', 'mos2', 'pn']:\n",
    "        evtfile = glob(f'{inst}*-allevc.fits')[0]\n",
    "        name = evtfile.split('-')[0]\n",
    "        f.write(\n",
    "f'''\n",
    "region eventset={evtfile} operationstyle=global srclisttab=emllist_final.fits:SRCLIST expression=\"(ID_INST == 0)&&(DET_ML >= 1)\" bkgregionset={name}-bkgregtdet.fits energyfraction=0.9 radiusstyle=enfrac outunit=detxy verbosity=4 2>&1 | tee region-det-{name}_2nd.log\n",
    "region eventset={evtfile} operationstyle=global srclisttab=emllist_final.fits:SRCLIST expression=\"(ID_INST == 0)&&(DET_ML >= 1)\" bkgregionset={name}-bkgregtsky.fits energyfraction=0.9 radiusstyle=enfrac outunit=xy verbosity=4 2>&1 | tee region-sky-{name}_2nd.log\n",
    "'''\n",
    ")\n",
    "    f.close()"
   ]
  },
  {
   "cell_type": "markdown",
   "metadata": {},
   "source": []
  },
  {
   "cell_type": "code",
   "execution_count": null,
   "metadata": {},
   "outputs": [],
   "source": []
  },
  {
   "cell_type": "markdown",
   "metadata": {},
   "source": [
    "## 1.2.1 alter the radius of the regions"
   ]
  },
  {
   "cell_type": "code",
   "execution_count": null,
   "metadata": {},
   "outputs": [],
   "source": [
    "# the physical coordinates in mos1S001,mos2S002,pnS003-bkgregtsky should be the same\n",
    "# onserver: alter_bkgfrac_radius_bkgregt.py\n",
    "\"\"\" local\n",
    "rootdir = '/Users/eusracenorth/Documents/work/XGAP-ABUN/alldata/XGAP/'\n",
    "datpath = f'{rootdir}/dats/logNS'\n",
    "dat_f = pd.read_csv(f'{datpath}/readme.csv')\n",
    "# ids = dat_f['SRCID']\n",
    "ids = ['SDSSTG40241']\n",
    "\"\"\"\n",
    "from glob import glob\n",
    "import os\n",
    "from astropy.io import fits\n",
    "from tqdm import tqdm\n",
    "import numpy as np\n",
    "\n",
    "rootdir = '/data/yanling/XGAP-ABUN/data/alldata/XGAP'\n",
    "ids = [name.split('/')[-1] for name in glob(f'{rootdir}/SDSSTG*')]\n",
    "bkgfracs = np.arange(0.5, 2.6, 0.1)\n",
    "\n",
    "for ID in tqdm(ids): \n",
    "    os.chdir(f'{rootdir}/{ID}')\n",
    "    for name in ['mos1', 'mos2', 'pn']:\n",
    "        for bkgfrac in bkgfracs:\n",
    "            bkgfrac = np.round(bkgfrac,1)\n",
    "            os.system(f'cp {name}-bkgregtsky.fits {name}-bkgregtsky_{bkgfrac}_09fov.fits')\n",
    "            data_f = fits.open(f'{name}-bkgregtsky_{bkgfrac}_09fov.fits', mode = 'update')\n",
    "            dat = data_f[1].data\n",
    "            dat['R'][:,0] = dat['R'][:,0] * bkgfrac\n",
    "            dat['R'][:,1] = dat['R'][:,1] * bkgfrac\n",
    "\n",
    "            data_f.flush()\n",
    "\n"
   ]
  },
  {
   "cell_type": "markdown",
   "metadata": {},
   "source": [
    "## 1.2 convert the *bkgregtsky.fits to region file to check"
   ]
  },
  {
   "cell_type": "code",
   "execution_count": 1,
   "metadata": {},
   "outputs": [
    {
     "name": "stderr",
     "output_type": "stream",
     "text": [
      "0it [00:00, ?it/s]\n"
     ]
    }
   ],
   "source": [
    "# the physical coordinates in mos1S001,mos2S002,pnS003-bkgregtsky should be the same\n",
    "# onserver: ps-bkgregt-reg.py, ps-bkgregt-coords.py\n",
    "\"\"\" local\n",
    "rootdir = '/Users/eusracenorth/Documents/work/XGAP-ABUN/alldata/XGAP/'\n",
    "datpath = f'{rootdir}/dats/logNS'\n",
    "dat_f = pd.read_csv(f'{datpath}/readme.csv')\n",
    "# ids = dat_f['SRCID']\n",
    "ids = ['SDSSTG40241']\n",
    "\"\"\"\n",
    "from glob import glob\n",
    "import os\n",
    "from astropy.io import fits\n",
    "from tqdm import tqdm\n",
    "\n",
    "rootdir = '/data/yanling/XGAP-ABUN/data/alldata/XGAP'\n",
    "ids = [name.split('/')[-1] for name in glob(f'{rootdir}/SDSSTG*')]\n",
    "bkgfrac =1 \n",
    "\n",
    "for ID in tqdm(ids): \n",
    "    os.chdir(f'{rootdir}/{ID}')\n",
    "    for name in ['mos1', 'mos2', 'pn']:\n",
    "        for file in glob(f'{name}-bkgregtsky_*.*_09fov.fits'):\n",
    "            data_f = fits.open(file)\n",
    "            dat = data_f[1].data\n",
    "\n",
    "            f = open(f'{file.split(\".fits\")[0]}.reg','w')\n",
    "            f.write('physical\\n')\n",
    "            for i in range(len(dat)):\n",
    "                f.write(f'''ellipse({dat[i]['X'][0]},{dat[i]['Y'][0]},{dat[i]['R'][0]},{dat[i]['R'][1]},{dat[i]['ROTANG'][0]})\\n''')\n",
    "            f.close()\n",
    "\n"
   ]
  },
  {
   "cell_type": "markdown",
   "metadata": {},
   "source": [
    "## 1.3 make mask"
   ]
  },
  {
   "cell_type": "code",
   "execution_count": null,
   "metadata": {},
   "outputs": [],
   "source": [
    "## make mask!\n",
    "# onserver: makemask_2nd_scripts.py\n",
    "# onserver: makemask_2nd_all.sh\n",
    "\n",
    "\"\"\"local\n",
    "rootdir = '/Users/eusracenorth/Documents/work/XGAP-ABUN/alldata/XGAP/'\n",
    "datpath = f'{rootdir}/dats/logNS'\n",
    "dat_f = pd.read_csv(f'{datpath}/readme.csv')\n",
    "\n",
    "ids = dat_f['SRCID']\n",
    "# ids = ['SDSSTG40241']\n",
    "\"\"\"\n",
    "\n",
    "from glob import glob\n",
    "import os\n",
    "from astropy.io import fits\n",
    "from tqdm import tqdm\n",
    "import pandas as pd\n",
    "\n",
    "rootdir = '/data/yanling/XGAP-ABUN/data/alldata/XGAP'\n",
    "ids = [name.split('/')[-1] for name in glob(f'{rootdir}/SDSSTG*')]\n",
    "\n",
    "for ID in tqdm(ids): \n",
    "    os.chdir(f'{rootdir}/{ID}')\n",
    "    f = open(f'makemask_2nd.sh', 'w')\n",
    "    for name in ['mos1', 'mos2', 'pn']:\n",
    "        imgfile = glob(f'{name}*-fovimsky-350-2000.fits')[0]\n",
    "        mskfile = glob(f'{name}*-fovimtmask.fits')[0]\n",
    "        longname = mskfile.split('-')[0]\n",
    "        f.write(f'''\n",
    "makemask imagefile={imgfile} maskfile={mskfile} regionfile={name}-bkgregtsky.fits cheesefile={longname}-cheeset.fits 2>&1 | tee makemask-{name}_2nd.log\n",
    "        ''')\n",
    "\n",
    "    f.close()"
   ]
  },
  {
   "cell_type": "markdown",
   "metadata": {},
   "source": [
    "## 1.4 comb images (go to image_pipeline first)"
   ]
  },
  {
   "cell_type": "code",
   "execution_count": null,
   "metadata": {},
   "outputs": [],
   "source": [
    "## onserver: comb_img_final.py  \n",
    "## onserver: comb_img_all.sh\n",
    "\n",
    "def reorder_list(input_list):\n",
    "    order = ['mos1', 'mos2', 'pn']\n",
    "    return sorted(input_list, key=lambda x: (order.index(x[:-4]), x[-4:]))\n",
    "\n",
    "import os\n",
    "from glob import glob\n",
    "\n",
    "homepaths = glob('/data/yanling/XGAP-ABUN/data/alldata/XGAP/SDSSTG*')\n",
    "\n",
    "for homepath in homepaths:\n",
    "    if os.path.isdir(homepath):\n",
    "        os.chdir(homepath)\n",
    "        f = open('comb_img.sh', 'w')\n",
    "\n",
    "        elo = 500\n",
    "        ehi = 2000\n",
    "        bkgfrac = 1\n",
    "\n",
    "        name_dir = {'mos1':'mos1*-allevc', 'mos2':'mos2*-allevc', 'pn':'pn*-allevc'}\n",
    "\n",
    "        express = f'(PATTERN<=4)&&((FLAG & 0xb0000) == 0)&&((FLAG & 0x762a097c) == 0)&&(PI in [{elo}:{ehi}])&&(DETY in [-16510:14345])'\n",
    "        plot_express = f'''imagebinning='imageSize' imagedatatype='Int32' squarepixels=yes ignorelegallimits=yes withxranges=yes withyranges=yes xcolumn='X' ximagesize=900 ximagemax=48400 ximagemin=3401 ycolumn='Y' yimagesize=900 yimagemax=48400 yimagemin=3401'''\n",
    "\n",
    "        name_lst = []\n",
    "        prefix_lst = ''\n",
    "        for file in glob(f'*0*-allevc.fits'):\n",
    "            prefix = file.split('-')[0]\n",
    "            name_lst.append(prefix)\n",
    "        name_lst = reorder_list(name_lst)\n",
    "        for prefix in name_lst:\n",
    "            if 'mos' in prefix:\n",
    "                prefix_lst += f\"{prefix[-5:]}  \"\n",
    "            else:\n",
    "                prefix_lst += f\"{prefix[-4:]}\"\n",
    "\n",
    "        for name in name_lst:\n",
    "            f.write(f'''source set_sas.txt \\n''')\n",
    "            f.write(f'''source set_chips_on.txt \\n''')\n",
    "            f.write(f'''evselect table={name}-allevc.fits withimageset=Y {plot_express} expression='{express}' imageset='{name}-fovimsky-{elo}-{ehi}.fits'  \\n''')\n",
    "            if 'pn' in name:\n",
    "                f.write(f'''evselect table={name}-allevcoot.fits withimageset=Y {plot_express} expression='{express}' imageset='{name}-fovimootsky-{elo}-{ehi}.fits'  \\n''')\n",
    "            f.write(f'mv {name}-fovimt.fits {name}-fovimsky-{elo}-{ehi}.fits\\n')\n",
    "            f.write(f'eexpmap imageset={name}-fovimsky-{elo}-{ehi}.fits attitudeset=atthk.fits eventset={name}-allevc.fits pimin={elo} pimax={ehi} expimageset={name}-expimsky-{elo}-{ehi}.fits  2>&1 | tee create_expmaps.log\\n')\n",
    "            # f.write(f'cp {name[:-4]}-cheeset.fits {name}-cheeset.fits\\n')\n",
    "\n",
    "        f.write(f'''combimage prefixlist=\"{prefix_lst}\" withcheese=yes cheesetype=t elowlist={elo} ehighlist={ehi} > combimg_{elo}-{ehi}_{bkgfrac}_09psf.log 2>&1 \\n''')\n",
    "        f.write(f'''mv comb-fovimsky-{elo}-{ehi}.fits comb-fovimsky-{elo}-{ehi}_masked_{bkgfrac}_09psf.fits\\n''')\n",
    "        f.write(f'''mv comb-expimsky-{elo}-{ehi}.fits comb-expimsky-{elo}-{ehi}_masked_{bkgfrac}_09psf.fits\\n''')\n",
    "        f.write(f'farith comb-fovimsky-{elo}-{ehi}_masked.fits comb-expimsky-{elo}-{ehi}_masked.fits comb-ctr-{elo}-{ehi}_masked_{bkgfrac}_09psf.fits / \\n')\n",
    "        f.write(f'fimgtrim comb-ctr-{elo}-{ehi}_masked.fits threshlo=0 threshup=1e-3 const_lo=0 const_up=0 outfile=comb-ctr-{elo}-{ehi}_masked_trimmed_{bkgfrac}_09psf.fits clobber=yes\\n')\n",
    "\n",
    "        # f.write(f'''combimage prefixlist=\"{prefix_lst}\" withcheese=no elowlist={elo} ehighlist={ehi} > -a combimg.log 2>&1 \\n''')\n",
    "        # f.write(f'''mv comb-fovimsky-{elo}-{ehi}.fits comb-fovimsky-{elo}-{ehi}_unmasked.fits\\n''')\n",
    "        # f.write(f'''mv comb-expimsky-{elo}-{ehi}.fits comb-expimsky-{elo}-{ehi}_unmasked.fits\\n''')\n",
    "        \n",
    "        f.close()"
   ]
  },
  {
   "cell_type": "markdown",
   "metadata": {},
   "source": [
    "# 2 "
   ]
  },
  {
   "cell_type": "markdown",
   "metadata": {},
   "source": [
    "## 2.1 go to image_pipeline.ipynb"
   ]
  },
  {
   "cell_type": "code",
   "execution_count": null,
   "metadata": {},
   "outputs": [],
   "source": []
  }
 ],
 "metadata": {
  "kernelspec": {
   "display_name": "Python 3.10.1 64-bit ('3.10.1')",
   "language": "python",
   "name": "python3"
  },
  "language_info": {
   "codemirror_mode": {
    "name": "ipython",
    "version": 3
   },
   "file_extension": ".py",
   "mimetype": "text/x-python",
   "name": "python",
   "nbconvert_exporter": "python",
   "pygments_lexer": "ipython3",
   "version": "3.10.1"
  },
  "orig_nbformat": 4,
  "vscode": {
   "interpreter": {
    "hash": "1302458d99d58fefb56dc0fec08d039cf240bdcae78a53a9226b7c46b3832fa1"
   }
  }
 },
 "nbformat": 4,
 "nbformat_minor": 2
}
