{
 "cells": [
  {
   "cell_type": "code",
   "execution_count": null,
   "metadata": {},
   "outputs": [],
   "source": [
    "\"\"\"\n",
    "doi:10.1111/j.1365-2966.2012.21831.x\n",
    "\n",
    "1. exclude the point sources regions\n",
    "1.1 region command, set the bkg fraction as the variable: np.arange(0.5, 2.5, 0.1)\n",
    "1.2 get different band images 0.5-2, 2-8, 0.5-8 keV\n",
    "\n",
    "2. define the bkg region\n",
    "2.1 get the exp-corr and bkg-sub sb profile (0.5-2, 2-8 keV)\n",
    "criteria for bkg region: 2-8 keV sb fluctuation < 10% of the bkg level\n",
    "\n",
    "\n",
    "\"\"\""
   ]
  },
  {
   "cell_type": "markdown",
   "metadata": {},
   "source": [
    "# 1 Exclude the point sources regions"
   ]
  },
  {
   "cell_type": "markdown",
   "metadata": {},
   "source": [
    "## 1.1 region command"
   ]
  },
  {
   "cell_type": "markdown",
   "metadata": {},
   "source": [
    "### 1.1.1 basic"
   ]
  },
  {
   "cell_type": "code",
   "execution_count": null,
   "metadata": {},
   "outputs": [],
   "source": [
    "## edit region files\n",
    "# onserver: region_2nd_scripts.py\n",
    "# then run . region_2nd_all.sh\n",
    "\n",
    "## 1. iterate 0.8-0.99 enfrac \n",
    "## 2. use contour, iterate para\n",
    "\n",
    "\"\"\"local\n",
    "# create emllist_final.fits, to convert the centers of fk5 coords to detxy and xy coords\n",
    "rootdir = '/Users/eusracenorth/Documents/work/XGAP-ABUN/alldata/XGAP/'\n",
    "datpath = f'{rootdir}/dats/logNS'\n",
    "dat_f = pd.read_csv(f'{datpath}/readme.csv')\n",
    "\n",
    "# ids = dat_f['SRCID']\n",
    "ids = ['SDSSTG40241']\n",
    "\"\"\"\n",
    "from glob import glob\n",
    "import os\n",
    "from astropy.io import fits\n",
    "from tqdm import tqdm\n",
    "\n",
    "rootdir = '/data/yanling/XGAP-ABUN/data/alldata/XGAP'\n",
    "ids = [name.split('/')[-1] for name in glob(f'{rootdir}/SDSSTG*')]\n",
    "\n",
    "for ID in tqdm(ids): \n",
    "    os.chdir(f'{rootdir}/{ID}')\n",
    "    \n",
    "    f = open(f'region_2nd.sh', 'w')\n",
    "    f.write(\n",
    "'''\n",
    "#!/bin/bash\n",
    ". ./set_sas.txt\n",
    "export elo=350\n",
    "export ehi=8000\n",
    "''')\n",
    "    for inst in ['mos1', 'mos2', 'pn']:\n",
    "        evtfile = glob(f'{inst}*-allevc.fits')[0]\n",
    "        name = evtfile.split('-')[0]\n",
    "        f.write(\n",
    "f'''\n",
    "region eventset={evtfile} operationstyle=global srclisttab=emllist_final.fits:SRCLIST expression=\"(ID_INST == 0)&&(DET_ML >= 1)\" bkgregionset={name}-bkgregtdet.fits energyfraction=0.9 radiusstyle=enfrac outunit=detxy verbosity=4 2>&1 | tee region-det-{name}_2nd.log\n",
    "region eventset={evtfile} operationstyle=global srclisttab=emllist_final.fits:SRCLIST expression=\"(ID_INST == 0)&&(DET_ML >= 1)\" bkgregionset={name}-bkgregtsky.fits energyfraction=0.9 radiusstyle=enfrac outunit=xy verbosity=4 2>&1 | tee region-sky-{name}_2nd.log\n",
    "'''\n",
    ")\n",
    "    f.close()"
   ]
  },
  {
   "cell_type": "markdown",
   "metadata": {},
   "source": [
    "### 1.1.2 vary enfrac from 0.8-1.01, parse 0.01"
   ]
  },
  {
   "cell_type": "code",
   "execution_count": null,
   "metadata": {},
   "outputs": [],
   "source": [
    "## edit region files\n",
    "# onserver: region_2nd_scripts.py\n",
    "# then run . region_2nd_all.sh\n",
    "\n",
    "## 1. iterate 0.8-1.0 enfrac \n",
    "## 2. use contour, iterate para\n",
    "\n",
    "\"\"\"local\n",
    "# create emllist_final.fits, to convert the centers of fk5 coords to detxy and xy coords\n",
    "rootdir = '/Users/eusracenorth/Documents/work/XGAP-ABUN/alldata/XGAP/'\n",
    "datpath = f'{rootdir}/dats/logNS'\n",
    "dat_f = pd.read_csv(f'{datpath}/readme.csv')\n",
    "\n",
    "# ids = dat_f['SRCID']\n",
    "ids = ['SDSSTG40241']\n",
    "\"\"\"\n",
    "\n",
    "from glob import glob\n",
    "import os\n",
    "from astropy.io import fits\n",
    "from tqdm import tqdm\n",
    "import numpy as np\n",
    "\n",
    "rootdir = '/data/yanling/XGAP-ABUN/data/alldata/XGAP'\n",
    "ids = [name.split('/')[-1] for name in glob(f'{rootdir}/SDSSTG11844')]\n",
    "\n",
    "enfracs = np.arange(0.8, 1.01, 0.01)\n",
    "\n",
    "for ID in tqdm(ids): \n",
    "    os.chdir(f'{rootdir}/{ID}')\n",
    "    \n",
    "    f = open(f'region_2nd.sh', 'w')\n",
    "    f.write(\n",
    "'''\n",
    "#!/bin/bash\n",
    ". ./set_sas.txt\n",
    "export elo=350\n",
    "export ehi=8000\n",
    "''')\n",
    "    for inst in ['mos1', 'mos2', 'pn']:\n",
    "        for enf in enfracs:\n",
    "            evtfile = glob(f'{inst}*-allevc.fits')[0]\n",
    "            name = evtfile.split('-')[0]\n",
    "            f.write(\n",
    "f'''\n",
    "region eventset={evtfile} operationstyle=global srclisttab=emllist_final.fits:SRCLIST expression=\"(ID_INST == 0)&&(DET_ML >= 1)\" bkgregionset={name}-bkgregtdet_enfrac_{enf:.2f}.fits energyfraction={enf:.2f} radiusstyle=enfrac outunit=detxy verbosity=4 2>&1 | tee region-det-{name}_2nd.log\n",
    "region eventset={evtfile} operationstyle=global srclisttab=emllist_final.fits:SRCLIST expression=\"(ID_INST == 0)&&(DET_ML >= 1)\" bkgregionset={name}-bkgregtsky_enfrac_{enf:.2f}.fits energyfraction={enf:.2f} radiusstyle=enfrac outunit=xy verbosity=4 2>&1 | tee region-sky-{name}_2nd.log\n",
    "'''\n",
    ")\n",
    "    f.close()"
   ]
  },
  {
   "cell_type": "markdown",
   "metadata": {},
   "source": [
    "### 1.1.3 vary contour "
   ]
  },
  {
   "cell_type": "code",
   "execution_count": null,
   "metadata": {},
   "outputs": [],
   "source": [
    "## edit region files\n",
    "# onserver: region_2nd_scripts.py\n",
    "# then run . region_2nd_all.sh\n",
    "\n",
    "## 1. iterate 0.05-0.4, 0.05 contour \n",
    "## 2. use contour, iterate para\n",
    "\n",
    "\"\"\"local\n",
    "# create emllist_final.fits, to convert the centers of fk5 coords to detxy and xy coords\n",
    "rootdir = '/Users/eusracenorth/Documents/work/XGAP-ABUN/alldata/XGAP/'\n",
    "datpath = f'{rootdir}/dats/logNS'\n",
    "dat_f = pd.read_csv(f'{datpath}/readme.csv')\n",
    "\n",
    "# ids = dat_f['SRCID']\n",
    "ids = ['SDSSTG40241']\n",
    "\"\"\"\n",
    "\n",
    "from glob import glob\n",
    "import os\n",
    "from astropy.io import fits\n",
    "from tqdm import tqdm\n",
    "import numpy as np\n",
    "\n",
    "rootdir = '/data/yanling/XGAP-ABUN/data/alldata/XGAP'\n",
    "# ids = [name.split('/')[-1] for name in glob(f'{rootdir}/SDSSTG11844')]\n",
    "ids = [f'SDSSTG1162', f'SDSSTG828', f'SDSSTG12349']\n",
    "bkgfracs = np.arange(0.05, 1.05, 0.05)\n",
    "\n",
    "for ID in tqdm(ids): \n",
    "    os.chdir(f'{rootdir}/{ID}')\n",
    "    \n",
    "    f = open(f'region_2nd.sh', 'w')\n",
    "    f.write(\n",
    "'''\n",
    "#!/bin/bash\n",
    ". ./set_sas.txt\n",
    "export elo=350\n",
    "export ehi=8000\n",
    "''')\n",
    "    for inst in ['mos1', 'mos2', 'pn']:\n",
    "        for bgf in bkgfracs:\n",
    "            evtfile = glob(f'{inst}*-allevc.fits')[0]\n",
    "            name = evtfile.split('-')[0]\n",
    "            f.write(\n",
    "f'''\n",
    "region eventset={evtfile} operationstyle=global srclisttab=emllist_final.fits:SRCLIST expression=\"(ID_INST == 0)&&(DET_ML >= 1)\" bkgregionset={name}-bkgregtdet_contour_{bgf:.2f}.fits bkgratestyle=col bkgfraction={bgf:.2f} radiusstyle=contour outunit=detxy verbosity=4 2>&1 | tee region-det-{name}_2nd.log\n",
    "region eventset={evtfile} operationstyle=global srclisttab=emllist_final.fits:SRCLIST expression=\"(ID_INST == 0)&&(DET_ML >= 1)\" bkgregionset={name}-bkgregtsky_contour_{bgf:.2f}.fits bkgratestyle=col bkgfraction={bgf:.2f} radiusstyle=contour outunit=xy verbosity=4 2>&1 | tee region-sky-{name}_2nd.log\n",
    "'''\n",
    ")\n",
    "    f.close()"
   ]
  },
  {
   "cell_type": "markdown",
   "metadata": {},
   "source": [
    "## 1.2 manage the *bkgregtsky*.fits"
   ]
  },
  {
   "cell_type": "markdown",
   "metadata": {},
   "source": [
    "### 1.2.1 alter the radius of the regions"
   ]
  },
  {
   "cell_type": "code",
   "execution_count": null,
   "metadata": {},
   "outputs": [],
   "source": [
    "# the physical coordinates in mos1S001,mos2S002,pnS003-bkgregtsky should be the same\n",
    "# onserver: alter_bkgfrac_radius_bkgregt.py\n",
    "\"\"\" local\n",
    "rootdir = '/Users/eusracenorth/Documents/work/XGAP-ABUN/alldata/XGAP/'\n",
    "datpath = f'{rootdir}/dats/logNS'\n",
    "dat_f = pd.read_csv(f'{datpath}/readme.csv')\n",
    "# ids = dat_f['SRCID']\n",
    "ids = ['SDSSTG40241']\n",
    "\"\"\"\n",
    "from glob import glob\n",
    "import os\n",
    "from astropy.io import fits\n",
    "from tqdm import tqdm\n",
    "import numpy as np\n",
    "\n",
    "rootdir = '/data/yanling/XGAP-ABUN/data/alldata/XGAP'\n",
    "ids = [name.split('/')[-1] for name in glob(f'{rootdir}/SDSSTG11844')]\n",
    "bkgfracs = np.arange(0.5, 2.6, 0.1)\n",
    "\n",
    "for ID in tqdm(ids): \n",
    "    os.chdir(f'{rootdir}/{ID}')\n",
    "    for inst in ['mos1', 'mos2', 'pn']:\n",
    "        for bkgfrac in bkgfracs:\n",
    "            bkgfrac = np.round(bkgfrac,1)\n",
    "            evtfile = glob(f'{inst}*-allevc.fits')[0]\n",
    "            lname = evtfile.split('-')[0]\n",
    "            orifile = glob(f'{lname}-bkgregtsky.fits')[0]\n",
    "            os.system(f'cp {lname}-bkgregtsky.fits {lname}-bkgregtsky_{bkgfrac}_09fov_run2.fits')\n",
    "            data_f = fits.open(f'{lname}-bkgregtsky_{bkgfrac}_09fov_run2.fits', mode = 'update')\n",
    "            dat = data_f[1].data\n",
    "            dat['R'][:,0] = dat['R'][:,0] * bkgfrac\n",
    "\n",
    "            data_f.flush()\n",
    "            os.system(f'cp {lname}-bkgregtdet.fits {lname}-bkgregtdet_{bkgfrac}_09fov_run2.fits')\n",
    "            data_f = fits.open(f'{lname}-bkgregtdet_{bkgfrac}_09fov_run2.fits', mode = 'update')\n",
    "            dat = data_f[1].data\n",
    "            dat['R'][:,0] = dat['R'][:,0] * bkgfrac\n",
    "\n",
    "            data_f.flush()\n",
    "\n"
   ]
  },
  {
   "cell_type": "markdown",
   "metadata": {},
   "source": [
    "### 1.2.2 add the region on bkgregtsky.fits"
   ]
  },
  {
   "cell_type": "code",
   "execution_count": null,
   "metadata": {},
   "outputs": [],
   "source": [
    "# the physical coordinates in mos1S001,mos2S002,pnS003-bkgregtsky should be the same\n",
    "# onserver: alter_bkgfrac_radius_bkgregt.py\n",
    "\"\"\" local\n",
    "rootdir = '/Users/eusracenorth/Documents/work/XGAP-ABUN/alldata/XGAP/'\n",
    "datpath = f'{rootdir}/dats/logNS'\n",
    "dat_f = pd.read_csv(f'{datpath}/readme.csv')\n",
    "# ids = dat_f['SRCID']\n",
    "ids = ['SDSSTG40241']\n",
    "\"\"\"\n",
    "from glob import glob\n",
    "import os\n",
    "from astropy.table import Table\n",
    "from tqdm import tqdm\n",
    "import numpy as np\n",
    "\n",
    "rootdir = '/data/yanling/XGAP-ABUN/data/alldata/XGAP'\n",
    "ids = [name.split('/')[-1] for name in glob(f'{rootdir}/SDSSTG11844')]\n",
    "bkgfracs = np.arange(0.8, 1.0, 0.01)\n",
    "\n",
    "for ID in tqdm(ids):\n",
    "    os.chdir(f'{rootdir}/{ID}')\n",
    "    for inst in ['mos1', 'mos2', 'pn']:\n",
    "        for bkgfrac in bkgfracs:\n",
    "            evtfile = glob(f'{inst}*-allevc.fits')[0]\n",
    "            lname = evtfile.split('-')[0]\n",
    "\n",
    "            t = Table.read(f'{lname}-bkgregtsky_enfrac_{bkgfrac:.2f}.fits')\n",
    "            t.add_row(t[-1])          \n",
    "            t['X'][-1][0] = 37375.71\n",
    "            t['Y'][-1][0] = 32401.44\n",
    "            t['R'][-1][0] = 3600.0\n",
    "            t['R'][-1][1] = 3600.0\n",
    "            \n",
    "            t.add_row(t[-1])  \n",
    "            t['X'][-1][0] = 37469.56\n",
    "            t['Y'][-1][0] = 13536.76\n",
    "            t['R'][-1][0] = 4800.0\n",
    "            t['R'][-1][1] = 4800.0\n",
    "\n",
    "            t.write(f'{lname}-bkgregtsky_enfrac_{bkgfrac:.2f}.fits', overwrite=True)\n",
    "\n"
   ]
  },
  {
   "cell_type": "markdown",
   "metadata": {},
   "source": [
    "### 1.2.3 convert the *bkgregtsky.fits to region file to check"
   ]
  },
  {
   "cell_type": "code",
   "execution_count": null,
   "metadata": {},
   "outputs": [],
   "source": [
    "## NOTICE: Ignore the diffuse sources exclusion for now.\n",
    "\n",
    "# the physical coordinates in mos1S001,mos2S002,pnS003-bkgregtsky should be the same\n",
    "# onserver: ps-bkgregt-reg.py, ps-bkgregt-coords.py\n",
    "\"\"\" local\n",
    "rootdir = '/Users/eusracenorth/Documents/work/XGAP-ABUN/alldata/XGAP/'\n",
    "datpath = f'{rootdir}/dats/logNS'\n",
    "dat_f = pd.read_csv(f'{datpath}/readme.csv')\n",
    "# ids = dat_f['SRCID']\n",
    "ids = ['SDSSTG40241']\n",
    "\"\"\"\n",
    "from glob import glob\n",
    "import os\n",
    "from astropy.io import fits\n",
    "from tqdm import tqdm\n",
    "\n",
    "rootdir = '/data/yanling/XGAP-ABUN/data/alldata/XGAP'\n",
    "ids = [name.split('/')[-1] for name in glob(f'{rootdir}/SDSSTG11844')]\n",
    "bkgfrac =1 \n",
    "\n",
    "for ID in tqdm(ids): \n",
    "    os.chdir(f'{rootdir}/{ID}')\n",
    "    for inst in ['mos1', 'mos2', 'pn']:\n",
    "        evtfile = glob(f'{inst}*-allevc.fits')[0]\n",
    "        name = evtfile.split('-')[0]\n",
    "        for file in glob(f'{name}-bkgregtsky_*.*_09fov_run2.fits'):\n",
    "            data_f = fits.open(file)\n",
    "            dat = data_f[1].data\n",
    "\n",
    "            f = open(f'{file.split(\".fits\")[0]}.reg','w')\n",
    "            f.write('physical\\n')\n",
    "            for i in range(len(dat)):\n",
    "                f.write(f'''circle({dat[i]['X'][0]},{dat[i]['Y'][0]},{dat[i]['R'][0]})\\n''')\n",
    "            f.close()\n",
    "\n"
   ]
  },
  {
   "cell_type": "markdown",
   "metadata": {},
   "source": [
    "## 1.3 make mask"
   ]
  },
  {
   "cell_type": "markdown",
   "metadata": {},
   "source": [
    "before run this, run 1.1 and 1.2 in sanitycheck-pointsources-pipeline.ipynb"
   ]
  },
  {
   "cell_type": "code",
   "execution_count": null,
   "metadata": {},
   "outputs": [],
   "source": [
    "## make mask!\n",
    "# onserver: makemask_2nd_contour_vary_scripts.py\n",
    "# onserver: makemask_2nd_contour_vary_all.sh\n",
    "\n",
    "\"\"\"local\n",
    "rootdir = '/Users/eusracenorth/Documents/work/XGAP-ABUN/alldata/XGAP/'\n",
    "datpath = f'{rootdir}/dats/logNS'\n",
    "dat_f = pd.read_csv(f'{datpath}/readme.csv')\n",
    "\n",
    "ids = dat_f['SRCID']\n",
    "# ids = ['SDSSTG40241']\n",
    "\"\"\"\n",
    "\n",
    "from glob import glob\n",
    "import os\n",
    "from astropy.io import fits\n",
    "from tqdm import tqdm\n",
    "import numpy as np\n",
    "\n",
    "rootdir = '/data/yanling/XGAP-ABUN/data/alldata/XGAP'\n",
    "# ids = [name.split('/')[-1] for name in glob(f'{rootdir}/SDSSTG11844')]\n",
    "ids = [f'SDSSTG1162', f'SDSSTG828', f'SDSSTG12349']\n",
    "\n",
    "\n",
    "for ID in tqdm(ids): \n",
    "    print(ID)\n",
    "    os.chdir(f'{rootdir}/{ID}/{ID}_allfov/final_img')\n",
    "    with open(f'makemask_2nd_contour_vary.sh', 'w') as f:\n",
    "        for inst in ['mos1', 'mos2', 'pn']:\n",
    "            evtfile = glob(f'../../{inst}*-allevc.fits')[0]\n",
    "            name = evtfile.split('/')[-1].split('-')[0]\n",
    "            if 'mos' in name:\n",
    "                longname = glob(f'../img/{name}*-maskimt.fits')[0].split('/')[-1].split('-')[0]\n",
    "                print(longname)\n",
    "                os.system(f'cp ../img/{name}*-maskimt.fits {longname}-fovimtmask.fits')\n",
    "            elif 'pn' in name:\n",
    "                os.system(f'cp {name}*-fovimtmask-500-2000.fits pnS003-fovimtmask.fits')\n",
    "            else:\n",
    "                raise ValueError(f'Wrong Inst name: {name}')\n",
    "\n",
    "            imgfile = glob(f'{name}*-fovimsky-500-2000.fits')[0]\n",
    "            mskfile = glob(f'{name}*-fovimtmask.fits')[0]\n",
    "            longname = mskfile.split('-')[0]\n",
    "\n",
    "            for contour in np.arange(0.05, 1.0, 0.05):\n",
    "                f.write(f'''\n",
    "makemask imagefile={imgfile} maskfile={mskfile} regionfile=../../{name}-bkgregtsky_contour_{contour:.2f}.fits cheesefile={longname}-cheeset_contour_{contour:.2f}.fits 2>&1 | tee makemask-{name}_2nd.log\n",
    "                ''')\n",
    "        f.write(f'mv *cheeset*fits ../../')\n"
   ]
  },
  {
   "cell_type": "markdown",
   "metadata": {},
   "source": [
    "## 1.4 comb images (go to image_pipeline )"
   ]
  },
  {
   "cell_type": "markdown",
   "metadata": {},
   "source": [
    "# 2 plot the profile"
   ]
  },
  {
   "cell_type": "markdown",
   "metadata": {},
   "source": [
    "## 2.1 radial profile"
   ]
  },
  {
   "cell_type": "markdown",
   "metadata": {},
   "source": [
    "## 2.2 norm ctr vs point src size"
   ]
  },
  {
   "cell_type": "code",
   "execution_count": null,
   "metadata": {},
   "outputs": [],
   "source": []
  }
 ],
 "metadata": {
  "kernelspec": {
   "display_name": "Python 3.10.11 ('base')",
   "language": "python",
   "name": "python3"
  },
  "language_info": {
   "codemirror_mode": {
    "name": "ipython",
    "version": 3
   },
   "file_extension": ".py",
   "mimetype": "text/x-python",
   "name": "python",
   "nbconvert_exporter": "python",
   "pygments_lexer": "ipython3",
   "version": "3.10.11"
  },
  "orig_nbformat": 4,
  "vscode": {
   "interpreter": {
    "hash": "58ee13649a3e33612fea9b2fc6712fa52e5371c54a9ff454aedbace36da48a84"
   }
  }
 },
 "nbformat": 4,
 "nbformat_minor": 2
}
