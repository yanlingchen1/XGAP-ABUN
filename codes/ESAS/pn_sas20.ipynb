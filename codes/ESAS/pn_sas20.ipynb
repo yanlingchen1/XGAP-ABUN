{
 "cells": [
  {
   "cell_type": "code",
   "execution_count": null,
   "metadata": {},
   "outputs": [],
   "source": [
    "\"\"\"\n",
    "We have to switch back to sas20 for pnback since sas21 has bug for small regions \n",
    "which also includes 0.1r500 circle.\n",
    "\n",
    "\"\"\""
   ]
  },
  {
   "cell_type": "markdown",
   "metadata": {},
   "source": [
    "1 rename espfilt(sas21) to pn-filter(sas20) product"
   ]
  },
  {
   "cell_type": "code",
   "execution_count": null,
   "metadata": {
    "vscode": {
     "languageId": "shellscript"
    }
   },
   "outputs": [],
   "source": [
    "export inst='pnS003'\n",
    "# mkdir sas20-pn-test\n",
    "cp ${inst}-allevc.fits sas20-pn-test/${inst}-clean.fits\n",
    "cp ${inst}-allevcoot.fits sas20-pn-test/${inst}-clean-oot.fits\n",
    "cp ${inst}-corevc.fits sas20-pn-test/${inst}-corn.fits\n",
    "cp ${inst}-corevcoot.fits sas20-pn-test/${inst}-corn-oot.fits\n",
    "\n",
    "cp atthk.fits sas20-pn-test/atthk.fits\n"
   ]
  },
  {
   "cell_type": "markdown",
   "metadata": {},
   "source": [
    "2 rename cheese product"
   ]
  },
  {
   "cell_type": "code",
   "execution_count": null,
   "metadata": {
    "vscode": {
     "languageId": "shellscript"
    }
   },
   "outputs": [],
   "source": [
    "cp ${inst}-bkgregtdet.fits sas20-pn-test/${inst}-bkg_region-sky.fits \n",
    "cp ${inst}-bkgregtsky.fits sas20-pn-test/${inst}-bkg_region-det.fits "
   ]
  },
  {
   "cell_type": "markdown",
   "metadata": {},
   "source": [
    "3 run pn-spectra"
   ]
  },
  {
   "cell_type": "code",
   "execution_count": null,
   "metadata": {
    "vscode": {
     "languageId": "shellscript"
    }
   },
   "outputs": [],
   "source": [
    "source ../set_sas.txt\n",
    "source ../set_chips_on.txt\n",
    "\n",
    "pn-spectra prefix='S003' caldb=/data/yanling/sas20/esas-caldb region=spec_reg/R500_01-pnS003.reg mask=1 elow=700 ehigh=1200 pattern=4 quad1=1 quad2=1 quad3=1 quad4=1 | tee pnspectra_1.log"
   ]
  },
  {
   "cell_type": "markdown",
   "metadata": {},
   "source": [
    "4 run pn_back"
   ]
  },
  {
   "cell_type": "code",
   "execution_count": null,
   "metadata": {
    "vscode": {
     "languageId": "shellscript"
    }
   },
   "outputs": [],
   "source": [
    "pn_back prefix=S003 caldb=/data/yanling/sas20/esas-caldb diag=0 elow=700 ehigh=1200 pattern=4 quad1=1 quad2=1 quad3=1 quad4=1 | tee pnback_1.log"
   ]
  },
  {
   "cell_type": "markdown",
   "metadata": {},
   "source": [
    "5 rename the files"
   ]
  },
  {
   "cell_type": "code",
   "execution_count": null,
   "metadata": {
    "vscode": {
     "languageId": "shellscript"
    }
   },
   "outputs": [],
   "source": [
    "export SRCNAME2='SDSSTG3460'\n",
    "export REGNAME='01r500'\n",
    "export PAT='4'\n",
    "export inst='pnS003'\n",
    "export DIR='pn-sas20'\n",
    "\n",
    "mkdir $DIR\n",
    "mv ${inst}-obj.pi $DIR/${inst}-obj-${PAT}-${SRCNAME2}_${REGNAME}.pi\t\n",
    "mv ${inst}-obj-oot.pi $DIR/${inst}-obj-${PAT}-oot-${SRCNAME2}_${REGNAME}.pi\t\n",
    "mv ${inst}-back.pi $DIR/${inst}-back-${PAT}-${SRCNAME2}_${REGNAME}.pi\n",
    "mv ${inst}.rmf $DIR/pnS003-${PAT}-${SRCNAME2}_${REGNAME}.rmf\n",
    "mv ${inst}.arf $DIR/pnS003-${PAT}-${SRCNAME2}_${REGNAME}.arf\n"
   ]
  }
 ],
 "metadata": {
  "kernelspec": {
   "display_name": "Python 3.10.1 64-bit ('3.10.1')",
   "language": "python",
   "name": "python3"
  },
  "language_info": {
   "name": "python",
   "version": "3.10.1"
  },
  "orig_nbformat": 4,
  "vscode": {
   "interpreter": {
    "hash": "1302458d99d58fefb56dc0fec08d039cf240bdcae78a53a9226b7c46b3832fa1"
   }
  }
 },
 "nbformat": 4,
 "nbformat_minor": 2
}
