{
 "cells": [
  {
   "cell_type": "markdown",
   "metadata": {},
   "source": [
    "1 define path"
   ]
  },
  {
   "cell_type": "code",
   "execution_count": 3,
   "metadata": {},
   "outputs": [],
   "source": [
    "import os\n",
    "from glob import glob"
   ]
  },
  {
   "cell_type": "code",
   "execution_count": null,
   "metadata": {},
   "outputs": [],
   "source": [
    "#### Eckert 4 sources ####\n",
    "\n",
    "# homepath = f'/Users/eusracenorth/Documents/work/XGAP-ABUN/data/ID828/reduction'\n",
    "# homepath = f'/Users/eusracenorth/Documents/work/XGAP-ABUN/data/ID9647/reduction'\n",
    "homepath = f'/Users/eusracenorth/Documents/work/XGAP-ABUN/data/ID3460/reduction/SDSSTG3460'\n",
    "# homepath = f'/Users/eusracenorth/Documents/work/XGAP-ABUN/data/RGH80/reduction'\n",
    "os.chdir(homepath)"
   ]
  },
  {
   "cell_type": "code",
   "execution_count": null,
   "metadata": {},
   "outputs": [],
   "source": [
    "\n",
    "\n"
   ]
  },
  {
   "cell_type": "markdown",
   "metadata": {},
   "source": [
    "2 Initialize steps"
   ]
  },
  {
   "cell_type": "code",
   "execution_count": 14,
   "metadata": {},
   "outputs": [],
   "source": [
    "#### alldata ####\n",
    "homepaths = glob(f'/Users/eusracenorth/Documents/work/XGAP-ABUN/alldata/XGAP/SDSS*')\n",
    "for homepath in homepaths:\n",
    "    os.chdir(homepath)\n",
    "    SRCNAME2 = homepath.split('/')[-1]\n",
    "    f = open('cifbuild.sh', 'w')\n",
    "    f.write(\n",
    "    f'''\n",
    "    export SAS_ODF={homepath}\n",
    "    cifbuild 2>&1 | tee cifbuild.log\n",
    "\n",
    "    '''\n",
    "    )\n",
    "    f.close()\n"
   ]
  },
  {
   "cell_type": "code",
   "execution_count": 15,
   "metadata": {},
   "outputs": [],
   "source": [
    "#### alldata ####\n",
    "homepaths = glob(f'/Users/eusracenorth/Documents/work/XGAP-ABUN/alldata/XGAP/SDSS*')\n",
    "for homepath in homepaths:\n",
    "    os.chdir(homepath)\n",
    "    f = open('odfingest.sh', 'w')\n",
    "    f.write(f'''\n",
    "export SAS_CCF={homepath}/ccf.cif\n",
    "export SAS_ODF={homepath}\n",
    "odfingest odfdir=$SAS_ODF outdir=$SAS_ODF 2>&1 | tee odfingest.log\n",
    "    ''')\n",
    "    f.close()"
   ]
  },
  {
   "cell_type": "markdown",
   "metadata": {},
   "source": [
    "3 Set SAS environment"
   ]
  },
  {
   "cell_type": "code",
   "execution_count": 31,
   "metadata": {},
   "outputs": [
    {
     "name": "stdout",
     "output_type": "stream",
     "text": [
      "Number of directories without *SUM.SAS files: 0\n"
     ]
    }
   ],
   "source": [
    "from glob import glob\n",
    "import os\n",
    "\n",
    "homepaths = glob('/Users/eusracenorth/Documents/work/XGAP-ABUN/alldata/XGAP/SDSSTG2620/*0*')\n",
    "i = 0\n",
    "\n",
    "for homepath in homepaths:\n",
    "    os.chdir(homepath)\n",
    "    f = open('set_sas.txt', 'w')\n",
    "    \n",
    "    # Check if there are any files matching the pattern *SUM.SAS\n",
    "    matching_files = glob('*SUM.SAS')\n",
    "    \n",
    "    if matching_files:\n",
    "        sasfile = matching_files[0]\n",
    "        f.write(f'''\n",
    "export SAS_CCF={homepath}/ccf.cif\n",
    "export SAS_ODF={homepath}/{sasfile}\n",
    "sasversion\n",
    "        ''')\n",
    "        f.close()\n",
    "    else:\n",
    "        i += 1\n",
    "        print(homepath)\n",
    "\n",
    "print(f\"Number of directories without *SUM.SAS files: {i}\")\n"
   ]
  },
  {
   "cell_type": "markdown",
   "metadata": {},
   "source": [
    "4 emproc"
   ]
  },
  {
   "cell_type": "code",
   "execution_count": 30,
   "metadata": {},
   "outputs": [],
   "source": [
    "from glob import glob\n",
    "import os\n",
    "\n",
    "homepaths = glob('/Users/eusracenorth/Documents/work/XGAP-ABUN/alldata/XGAP/SDSSTG2620/*0*')\n",
    "\n",
    "for homepath in homepaths:\n",
    "    os.chdir(homepath)\n",
    "\n",
    "    # Check if there are any files matching the pattern *SUM.SAS\n",
    "    matching_files = glob('*SUM.SAS')\n",
    "\n",
    "    if matching_files:\n",
    "        # Open emproc.sh and write the necessary content\n",
    "        with open('emproc.sh', 'w') as f_emproc:\n",
    "            f_emproc.write(f'''\n",
    "source {homepath}/set_sas.txt\n",
    "emproc 2>&1 | tee emproc.log\n",
    "\n",
    "# mv *EMOS1_*_ImagingEvts.ds mos1-S001.evt\n",
    "# mv *EMOS2_*_ImagingEvts.ds mos2-S002.evt\n",
    "            ''')\n",
    "\n",
    "        # Make emproc.sh executable\n",
    "        os.system('chmod +x emproc.sh')\n",
    "\n"
   ]
  },
  {
   "cell_type": "markdown",
   "metadata": {},
   "source": [
    "5 epproc"
   ]
  },
  {
   "cell_type": "code",
   "execution_count": 29,
   "metadata": {},
   "outputs": [],
   "source": [
    "from glob import glob\n",
    "import os\n",
    "\n",
    "homepaths = glob('/Users/eusracenorth/Documents/work/XGAP-ABUN/alldata/XGAP/SDSSTG2620/*0*')\n",
    "\n",
    "for homepath in homepaths:\n",
    "    os.chdir(homepath)\n",
    "\n",
    "    # Check if there are any files matching the pattern *SUM.SAS\n",
    "    matching_files = glob('*SUM.SAS')\n",
    "\n",
    "    if matching_files:\n",
    "        f = open('epproc.sh', 'w')\n",
    "        f.write(\n",
    "        '''\n",
    "source set_sas.txt\n",
    "epproc 2>&1 |tee epproc.log\n",
    "mv *EPN*ImagingEvts.ds pn-S003.evt\n",
    "epproc withoutoftime=true 2>&1 |tee epproc_oot.log\n",
    "mv *EPN*ImagingEvts.ds pn-oot-S003.evt\n",
    "        '''\n",
    "        )\n",
    "        f.close()\n",
    "\n",
    "        # Make epproc.sh executable\n",
    "        os.system('chmod +x epproc.sh')\n"
   ]
  },
  {
   "cell_type": "markdown",
   "metadata": {},
   "source": [
    "6 emanom: diagnose abnormal bright chips in MOS\n",
    "NO NEED! the esas has run the *-anom.log!"
   ]
  },
  {
   "cell_type": "code",
   "execution_count": 41,
   "metadata": {},
   "outputs": [],
   "source": [
    "from glob import glob\n",
    "import os\n",
    "\n",
    "homepaths = glob('/Users/eusracenorth/Documents/work/XGAP-ABUN/alldata/XGAP/SDSS*')\n",
    "for homepath in homepaths:\n",
    "    if os.path.isdir(homepath):\n",
    "        os.chdir(homepath)\n",
    "        f = open('emanom.sh', 'w')\n",
    "        f.write(\n",
    "'''\n",
    "emanom eventfile=mos1-S001.evt keepcorner=no 2>&1 | tee emanom_mos1.log\n",
    "emanom eventfile=mos2-S002.evt keepcorner=no 2>&1 | tee emanom_mos2.log\n",
    "'''\n",
    "        )\n",
    "        f.close()\n",
    "\n",
    "    # mos2 chip5 is I, but not serious by visually inspect, not excluded. \n",
    "    # This observation is indeed contaminated by SP. (40% exp time is flared)\n"
   ]
  },
  {
   "cell_type": "code",
   "execution_count": 43,
   "metadata": {},
   "outputs": [],
   "source": [
    "##### automatic one ######\n",
    "# if the chip is B or O, set chip to F\n",
    "homepaths = glob('/Users/eusracenorth/Documents/work/XGAP-ABUN/alldata/XGAP/SDSS*')\n",
    "\n",
    "for homepath in homepaths:\n",
    "    if os.path.isdir(homepath):\n",
    "        os.chdir(homepath)\n",
    "        # Initialize M1ON and M2ON\n",
    "        output_dir = {'mos1':[\"T\", \"T\", \"T\", \"T\", \"T\", \"T\", \"T\"], 'mos2':[\"T\", \"T\", \"T\", \"T\", \"T\", \"T\", \"T\"]}\n",
    "        for inst in ['mos1', 'mos2']:\n",
    "            with open(f'emanom_{inst}.log') as f:\n",
    "\n",
    "                # Parse the output of emanom\n",
    "                for line in f.readlines():\n",
    "                    # Extract CCD index, status, and M1/M2 information from the line\n",
    "                    parts = line.split()\n",
    "                    is_m1 = \"CCD:\" in line\n",
    "                    \n",
    "                    # Check if the status is 'O' or 'B'\n",
    "                    if is_m1:\n",
    "                        ccd_index = int(parts[3])\n",
    "                        status = parts[10]\n",
    "                        if status in [\"O\", \"B\"]:\n",
    "                            # Set the corresponding CCD index of M1ON or M2ON as 'F'\n",
    "                            output_dir[inst][ccd_index - 1] = \"F\"\n",
    "                    \n",
    "            # Output the resulting export commands\n",
    "            with open('set_chips_on.txt', 'w') as newf:\n",
    "                newf.write(f'''\n",
    "export M1ON=\"{' '.join(output_dir['mos1'])}\"\n",
    "export M2ON=\"{' '.join(output_dir['mos2'])}\"\n",
    "export PNON=\"T T T T\"\n",
    "''')\n",
    "\n",
    "                \n"
   ]
  },
  {
   "cell_type": "code",
   "execution_count": 43,
   "metadata": {},
   "outputs": [],
   "source": [
    "##### manual one #####\n",
    "f = open('set_chips_on.txt', 'w')\n",
    "f.write(\n",
    "'''\n",
    "export M1ON=\"T T F F T F T\"\n",
    "export M2ON=\"T T T T F T T\"\n",
    "export PNON=\"T T T T\"\n",
    "'''\n",
    ")\n",
    "f.close()"
   ]
  },
  {
   "cell_type": "code",
   "execution_count": 42,
   "metadata": {},
   "outputs": [],
   "source": [
    "# visual inspect\n",
    "## NOTE: The abnormal state of mos1 chip4 can't be seen from the image!\n",
    "homepaths = glob('/Users/eusracenorth/Documents/work/XGAP-ABUN/alldata/XGAP/SDSS*')\n",
    "\n",
    "for homepath in homepaths:\n",
    "    if os.path.isdir(homepath):\n",
    "        os.chdir(homepath)\n",
    "        f = open('chips_visual_inspect.sh', 'w')\n",
    "        f.write(\n",
    "'''\n",
    "evselect table=mos1-S001.evt withimageset=yes imageset=mos1S001-diag-det-unfilt.fits filtertype=expression expression=\"(PI in [300:1000])&&(PATTERN<=12)&&((FLAG & 0x766aa000)==0)\" ignorelegallimits=yes imagebinning=imageSize xcolumn=DETX ximagesize=780 ximagemax=19500 ximagemin=-19499 ycolumn=DETY yimagesize=780 yimagemax=19500 yimagemin=-19499\n",
    "evselect table=mos2-S002.evt withimageset=yes imageset=mos2S002-diag-det-unfilt.fits filtertype=expression expression=\"(PI in [300:1000])&& (PATTERN<=12)&&((FLAG & 0x766aa000)==0)\" ignorelegallimits=yes imagebinning=imageSize xcolumn=DETX ximagesize=780 ximagemax=19500 ximagemin=-19499 ycolumn=DETY yimagesize=780 yimagemax=19500 yimagemin=-19499\n",
    "evselect table=pn-S003.evt withimageset=yes imageset=pnS003-diag-det-unfilt.fits filtertype=expression expression=\"(PI in [300:1000])&& (PATTERN <= 4)&&(#XMMEA_EP)\" ignorelegallimits=yes imagebinning=imageSize xcolumn=DETX ximagesize=780 ximagemax=19500 ximagemin=-19499 ycolumn=DETY yimagesize=780 yimagemax=19500 yimagemin=-19499\n",
    "evselect table=pn-oot-S003.evt withimageset=yes imageset=pnS003-oot-diag-det-unfilt.fits filtertype=expression expression=\"(PI in [300:1000])&& (PATTERN <= 4)&&(#XMMEA_EP)\" ignorelegallimits=yes imagebinning=imageSize xcolumn=DETX ximagesize=780 ximagemax=19500 ximagemin=-19499 ycolumn=DETY yimagesize=780 yimagemax=19500 yimagemin=-19499\n",
    "'''\n",
    "        )\n",
    "        f.close()\n"
   ]
  },
  {
   "cell_type": "markdown",
   "metadata": {},
   "source": [
    "APPENDIX check the image of event files\n",
    "NOTE: ds9 event files and ds9 image extract from event files are not the same!"
   ]
  },
  {
   "cell_type": "code",
   "execution_count": 51,
   "metadata": {},
   "outputs": [
    {
     "name": "stdout",
     "output_type": "stream",
     "text": [
      "/Users/eusracenorth/Documents/work/XGAP-ABUN/alldata/XGAP/SDSSTG2620\n",
      "pn-allevc-exchips.fits\n",
      "pnS003-allevcoot-exchips.fits\n",
      "mos1-allevc-exchips.fits\n",
      "mos2-allevc-exchips.fits\n"
     ]
    }
   ],
   "source": [
    "# visual inspect\n",
    "## NOTE: The abnormal state of mos1 chip4 can't be seen from the image!\n",
    "homepaths = glob('/Users/eusracenorth/Documents/work/XGAP-ABUN/alldata/XGAP/SDSSTG2620')\n",
    "\n",
    "for homepath in homepaths:\n",
    "    if os.path.isdir(homepath):\n",
    "        os.chdir(homepath)\n",
    "        print(homepath)\n",
    "        with open('ext_img.sh', 'w') as f:\n",
    "            for evtfile in glob('*-exchips.fits'):\n",
    "                print(evtfile)\n",
    "                f.write(\n",
    "f'''\n",
    "evselect table={evtfile} withimageset=yes imageset={evtfile}_img.fits filtertype=expression expression=\"(PI in [300:1000])&&(PATTERN<=12)&&((FLAG & 0x766aa000)==0)\" ignorelegallimits=yes imagebinning=imageSize xcolumn=DETX ximagesize=780 ximagemax=19500 ximagemin=-19499 ycolumn=DETY yimagesize=780 yimagemax=19500 yimagemin=-19499\n",
    "'''\n",
    "        )\n"
   ]
  },
  {
   "cell_type": "markdown",
   "metadata": {},
   "source": [
    "7 SP flare filtering"
   ]
  },
  {
   "cell_type": "code",
   "execution_count": 46,
   "metadata": {},
   "outputs": [],
   "source": [
    "homepaths = glob('/Users/eusracenorth/Documents/work/XGAP-ABUN/alldata/XGAP/SDSS*')\n",
    "\n",
    "for homepath in homepaths:\n",
    "    if os.path.isdir(homepath):\n",
    "        os.chdir(homepath)\n",
    "        f = open('sp_flare.sh', 'w')\n",
    "        f.write(\n",
    "'''\n",
    "rm *allevc*fits\n",
    "espfilt eventfile=mos1-S001.evt elow=2500 ehigh=8500 withsmoothing=yes smooth=51 rangescale=6.0 allowsigma=3.0 method=histogram keepinterfiles=false 2>&1 | tee flare_filter_mos1-S001.log\n",
    "espfilt eventfile=mos2-S002.evt elow=2500 ehigh=8500 withsmoothing=yes smooth=51 rangescale=6.0 allowsigma=3.0 method=histogram keepinterfiles=false 2>&1 | tee flare_filter_mos2-S002.log\n",
    "espfilt eventfile=pn-S003.evt elow=2500 ehigh=8500 withsmoothing=yes smooth=51 rangescale=15.0 allowsigma=3.0 method=histogram withoot=Y ootfile=pn-oot-S003.evt keepinterfiles=false 2>&1 | tee flare_filter_pn-S003.log\n",
    "'''\n",
    "        )\n",
    "\n",
    "        f.close()\n",
    "        # except for P-allevc.fits and P-gti.fits are kept, others are moved to DIAGNOISE dir after checking\n",
    "##!!!! NOTE: output the *allevc*fits files!"
   ]
  },
  {
   "cell_type": "markdown",
   "metadata": {},
   "source": [
    "APPENDIX Merge diff obs if they point the same but on diff orbit\n",
    "(see p67 cookbook)\n"
   ]
  },
  {
   "cell_type": "code",
   "execution_count": null,
   "metadata": {
    "vscode": {
     "languageId": "shellscript"
    }
   },
   "outputs": [],
   "source": [
    "\"\"\"\n",
    "1. atthkgen\n",
    "2. merge the events and the atthks\n",
    "NOTE: \n",
    "1. Make sure the set1 is observed before set2!\n",
    "2. Make sure their pointing are close enough!\n",
    "\"\"\"\n",
    "\n",
    "\n",
    "source set_sas.txt\n",
    "rm atthkgen.log\n",
    "atthkgen 2>&1 | tee -a atthkgen.log\n",
    "\n",
    "merge set1=0091140401/atthk.dat set2=0841481301/atthk.dat outset=atthk.dat\n",
    "merge set1=0091140401/atthk.dat set2=0841481301/atthk.dat outset=atthk.dat\n",
    "\n",
    "merge set1=0091140401/mos1S002-allevc.fits set2=0841481301/mos1S001-allevc.fits outset=mos1S001-allevc.fits mergedifferentobs=\"yes\"\n",
    "merge set1=0091140401/mos2S003-allevc.fits set2=0841481301/mos2S002-allevc.fits outset=mos2S002-allevc.fits mergedifferentobs=\"yes\"\n",
    "merge set1=0091140401/pnS005-allevc.fits set2=0841481301/pnS003-allevc.fits outset=pnS003-allevc.fits mergedifferentobs=\"yes\"\n",
    "merge set1=0091140401/pnS005-allevcoot.fits set2=0841481301/pnS003-allevcoot.fits outset=pnS003-allevcoot.fits mergedifferentobs=\"yes\"\n",
    "\n",
    "for f in *allevc*\n",
    "do\n",
    "evselect table=$f withimageset=yes imageset=$f.img.fits filtertype=expression expression=\"(PI in [300:1000])&&(PATTERN<=12)&&((FLAG & 0x766aa000)==0)\" ignorelegallimits=yes imagebinning=imageSize xcolumn=DETX ximagesize=780 ximagemax=19500 ximagemin=-19499 ycolumn=DETY yimagesize=780 yimagemax=19500 yimagemin=-19499\n",
    "\n",
    "done"
   ]
  },
  {
   "cell_type": "markdown",
   "metadata": {},
   "source": [
    "8 check sp flare filtering diagnostic files\n",
    "Files: P-hist.qdp\n",
    "Conclusion: \n",
    "not very flared\n"
   ]
  },
  {
   "cell_type": "markdown",
   "metadata": {},
   "source": [
    "9 Remove the point sources: go to pointsources-pipeline.ipynb"
   ]
  },
  {
   "cell_type": "markdown",
   "metadata": {},
   "source": [
    "10 Convert the annuli region from fk5 coords to detXY"
   ]
  },
  {
   "cell_type": "code",
   "execution_count": null,
   "metadata": {},
   "outputs": [],
   "source": [
    "from astropy.coordinates import SkyCoord\n",
    "import astropy.units as u\n",
    "\n",
    "def deg2sex(ra_deg, dec_deg):\n",
    "    # Create a SkyCoord object with the specified units\n",
    "    coords = SkyCoord(ra=ra_deg * u.degree, dec=dec_deg * u.degree)\n",
    "    # Extract the converted sexagesimal values\n",
    "    ra_sexagesimal = coords.to_string(style='hmsdms', precision=2)\n",
    "    return f\"{ra_sexagesimal.split(' ')[0]}\", f\"{ra_sexagesimal.split(' ')[1]}\""
   ]
  },
  {
   "cell_type": "code",
   "execution_count": null,
   "metadata": {},
   "outputs": [],
   "source": [
    "# convert the center coords to det XY\n",
    "\n",
    "# read the fk5 eckert region\n",
    "# datapath = f'/Users/eusracenorth/Documents/work/XGAP-ABUN/data/RGH80/eckert/0105860101/region'\n",
    "# datapath = f'/Users/eusracenorth/Documents/work/XGAP-ABUN/data/ID828/eckert/ID828/0904720501/regions'\n",
    "# datapath = f'/Users/eusracenorth/Documents/work/XGAP-ABUN/data/ID9647/eckert/ID9647/0904720201/regions'\n",
    "datapath = f'/Users/eusracenorth/Documents/work/XGAP-ABUN/data/ID9647/eckert/ID9647/0904720201/regions'\n",
    "\n",
    "file = f'{datapath}/SDSSTG9647_reg0.reg'\n",
    "f = open(file)\n",
    "line = f.readlines()[-1]\n",
    "ra = line.split('(')[-1].split(',')[0]\n",
    "dec = line.split(',')[1]\n",
    "f.close()\n",
    "\n",
    "# write the command to convert \n",
    "f = open('deg2det.sh', 'w')\n",
    "\n",
    "f.write(\n",
    "f'''\n",
    "source set_sas.txt\n",
    "export M1=mos1S001\n",
    "export M2=mos2S002\n",
    "export PN=pnS003\n",
    "\n",
    "esky2det datastyle=user ra={ra} dec={dec} outunit=det calinfoset='mos1S001-allevc-exchips.fits' 2>&1 | tee deg2det-$M1.log\n",
    "esky2det datastyle=user ra={ra} dec={dec} outunit=det calinfoset='mos2S002-allevc-exchips.fits' 2>&1 | tee deg2det-$M2.log\n",
    "esky2det datastyle=user ra={ra} dec={dec} outunit=det calinfoset='pnS003-allevc-exchips.fits' 2>&1 | tee deg2det-$PN.log\n",
    "''')\n",
    "\n",
    "f.close()\n"
   ]
  },
  {
   "cell_type": "code",
   "execution_count": null,
   "metadata": {},
   "outputs": [],
   "source": [
    "''' RGH 80\n",
    "   307.6     -183.9\n",
    "   15.1       90.4\n",
    "   132.2     -235.2\n",
    "\n",
    "'''\n",
    "\n",
    "detx_dict = {'mos1S001':307.6, 'mos2S002':15.1, 'pnS003':132.2}\n",
    "dety_dict = {'mos1S001':-183.9, 'mos2S002':90.4, 'pnS003':-235.2}"
   ]
  },
  {
   "cell_type": "code",
   "execution_count": null,
   "metadata": {},
   "outputs": [],
   "source": [
    "print(os.getcwd())\n",
    "'''ID3460\n",
    "294.8     -203.6\n",
    "34.7       77.5\n",
    "112.5     -222.4\n",
    "\n",
    "\n",
    "'''\n",
    "\n",
    "detx_dict = {'mos1S001':294.8 , 'mos2S002':34.7, 'pnS003':112.5}\n",
    "dety_dict = {'mos1S001':-203.6, 'mos2S002':77.5, 'pnS003':-222.4}"
   ]
  },
  {
   "cell_type": "code",
   "execution_count": null,
   "metadata": {},
   "outputs": [],
   "source": [
    "# read the fk5 eckert region\n",
    "from glob import glob\n",
    "import numpy as np\n",
    "\n",
    "# datapath = f'/Users/eusracenorth/Documents/work/XGAP-ABUN/data/ID3460/eckert/ID3460/0903892401/regions'\n",
    "# datapath = f'/Users/eusracenorth/Documents/work/XGAP-ABUN/data/ID9647/eckert/ID9647/0904720201/regions'\n",
    "datapath = glob(f'/Users/eusracenorth/Documents/work/XGAP-ABUN/data/RGH80/eckert/*/regions')[0]\n",
    "files = glob(f'{datapath}/RGH80_reg*.reg')\n",
    "\n",
    "reg_radius = []\n",
    "for file in files:\n",
    "    f = open(file)\n",
    "    line = f.readlines()[-1]\n",
    "    reg_radius.append(float(line.split(',')[-1].split(\"'\")[0]))\n",
    "    f.close()\n",
    "\n",
    "reg_radius = np.unique(reg_radius)\n",
    "print(reg_radius)"
   ]
  },
  {
   "cell_type": "code",
   "execution_count": null,
   "metadata": {},
   "outputs": [],
   "source": [
    "## create the region files\n",
    "\n",
    "# detx_dict = {'mos1S001':255.7, 'mos2S002':70.1, 'pnS003':76.8}\n",
    "# dety_dict = {'mos1S001':-239.1, 'mos2S002':38.3, 'pnS003':-183.5}\n",
    "\n",
    "# os.makedirs(f'{homepath}/spec_reg')\n",
    "os.chdir(f'{homepath}/spec_reg')\n",
    "\n",
    "r500 = 7.35216\n",
    "bkg_r2 = 14.799\n",
    "\n",
    "\n",
    "for name in ['mos1S001', 'mos2S002', 'pnS003']: # \n",
    "    for i in range(1, len(reg_radius)):\n",
    "        f = open(f'reg{i}-{name}.reg', 'w')\n",
    "        f.write(\n",
    "f'''&&((DETX,DETY) IN annulus({detx_dict[name]},{dety_dict[name]},{(reg_radius[int(i-1)] * 60/0.05):.2f},{(reg_radius[i]* 60/0.05):.2f}))''')\n",
    "    \n",
    "        f.close()\n",
    "\n",
    "    f = open(f'reg0-{name}.reg', 'w')\n",
    "    f.write(\n",
    "f'''&&((DETX,DETY) IN circle({detx_dict[name]},{dety_dict[name]},{(reg_radius[0]*60/0.05):.2f}))\n",
    "''')\n",
    "    f.close()\n",
    "\n",
    "    f = open(f'reg{len(reg_radius)}-{name}.reg', 'w')\n",
    "    f.write(\n",
    "f'''&&((DETX,DETY) IN circle({detx_dict[name]},{dety_dict[name]},{(reg_radius[-1]*60/0.05):.2f}))\n",
    "''')\n",
    "    f.close()\n",
    "\n",
    "    f = open(f'R500-{name}.reg', 'w')\n",
    "    f.write(\n",
    "f'''&&((DETX,DETY) IN circle({detx_dict[name]},{dety_dict[name]},{(r500*60/0.05):.2f}))\n",
    "''')\n",
    "    f.close()\n",
    "\n",
    "    f = open(f'bkg-{name}.reg', 'w')\n",
    "    f.write(\n",
    "f'''&&((DETX,DETY) IN annulus({detx_dict[name]},{dety_dict[name]},{(reg_radius[-1]*60/0.05):.2f},{(bkg_r2*60/0.05):.2f}))\n",
    "''')\n",
    "    f.close()\n",
    "\n",
    "\n",
    "\n"
   ]
  },
  {
   "cell_type": "markdown",
   "metadata": {},
   "source": [
    "13 mosspectra mosback"
   ]
  },
  {
   "cell_type": "code",
   "execution_count": null,
   "metadata": {},
   "outputs": [],
   "source": [
    "# os.chdir(homepath)\n",
    "\n",
    "f = open('mosspectra_reg_rest.sh', 'w')\n",
    "f.write(\n",
    "'''\n",
    "source set_chips_on.txt\n",
    "source set_sas.txt\n",
    "\n",
    "export ELO=700\n",
    "export EHI=1200\n",
    "export M1=mos1S001\n",
    "export M2=mos2S002\n",
    "\n",
    "for regfile in spec_reg/*-mos1S001.reg\n",
    "do\n",
    "regname=$(basename $regfile | cut -d'-' -f 1)\n",
    "\n",
    "echo $regname\n",
    "\n",
    "mkdir ${regname}\n",
    "mkdir ${regname}/img\n",
    "mkdir ${regname}/logs\n",
    "mkdir ${regname}/diagnose\n",
    "mkdir ${regname}/mos_spec\n",
    "mkdir ${regname}/fitting\n",
    "\n",
    "rm ${regname}/logs/mosspectra_${M1}.log\n",
    "rm ${regname}/logs/mosspectra_${M2}.log\n",
    "\n",
    "mosspectra eventfile=${M1}-allevc.fits keepinterfiles=yes withregion=yes regionfile=spec_reg/${regname}-${M1}.reg pattern=12 withsrcrem=yes maskdet=${M1}-bkgregtdet.fits masksky=${M1}-bkgregtsky.fits elow=${ELO} ehigh=${EHI} ccds=\"${M1ON}\" -V=7  >> ${regname}/logs/mosspectra_${M1}.log 2>&1\n",
    "mosback inspecfile=${M1}-fovt.pi elow=${ELO} ehigh=${EHI} ccds=\"${M1ON}\" >> mosback_${M1}.log 2>&1 \n",
    "mosspectra eventfile=${M2}-allevc.fits keepinterfiles=yes withregion=yes regionfile=spec_reg/${regname}-${M1}.reg pattern=12 withsrcrem=yes maskdet=${M2}-bkgregtdet.fits masksky=${M2}-bkgregtsky.fits elow=${ELO} ehigh=${EHI} ccds=\"${M2ON}\" -V=7 >> ${regname}/logs/mosspectra_${M2}.log 2>&1\n",
    "mosback inspecfile=${M2}-fovt.pi elow=${ELO} ehigh=${EHI} ccds=\"${M2ON}\" >> mosback_${M2}.log 2>&1\n",
    "\n",
    "for name in $M1 $M2\n",
    "do\n",
    "echo $name\n",
    "\n",
    "mv ${name}*-${ELO}-${EHI}* ${regname}/img\n",
    "mv ${name}*.pi ${regname}/mos_spec\n",
    "mv ${name}*.qdp ${regname}/diagnose\n",
    "mv ${name}*imt* ${regname}/img\n",
    "mv ${name}*.arf ${regname}/fitting\n",
    "mv ${name}*.rmf ${regname}/fitting\n",
    "mv ${name}*imspdet* ${regname}/img\n",
    "\n",
    "cp ${regname}/mos_spec/${name}-fovt.pi ${regname}/fitting\n",
    "cp ${regname}/mos_spec/${name}-bkg.pi ${regname}/fitting\n",
    "\n",
    "done\n",
    "done\n",
    "'''\n",
    ")\n",
    "f.close()"
   ]
  },
  {
   "cell_type": "markdown",
   "metadata": {},
   "source": [
    "14 pnspectra, pnback"
   ]
  },
  {
   "cell_type": "code",
   "execution_count": null,
   "metadata": {},
   "outputs": [],
   "source": [
    "os.chdir('/Users/eusracenorth/Documents/work/XGAP-ABUN/codes/ESAS/tmp')\n",
    "f = open('pnspectra_01r500.sh', 'w')\n",
    "\n",
    "f.write('''\n",
    "source set_chips_on.txt\n",
    "source set_sas.txt\n",
    "\n",
    "export PN=pnS003\n",
    "export ELO=700\n",
    "export EHI=1200\n",
    "\n",
    "for pat in 0 4\n",
    "do\n",
    "for regfile in spec_reg/R500-01-mos1S001.reg\n",
    "do\n",
    "regname=$(basename $regfile | cut -d'-' -f 1)\n",
    "echo $PN\n",
    "echo $regname\n",
    "\n",
    "mkdir ${regname}\n",
    "mkdir ${regname}/img\n",
    "mkdir ${regname}/logs\n",
    "mkdir ${regname}/diagnose\n",
    "mkdir ${regname}/mos_spec\n",
    "mkdir ${regname}/fitting\n",
    "\n",
    "rm ${regname}/logs/pnspectra_${pat}_${PN}.log\n",
    "rm ${regname}/logs/pnback_${pat}_${PN}.log\n",
    "\n",
    "pnspectra eventfile=${PN}-allevc.fits ootevtfile=${PN}-allevcoot.fits keepinterfiles=yes withregion=yes regionfile=spec_reg/${regname}-${PN}.reg pattern=${pat} withsrcrem=yes maskdet=${PN}-bkgregtdet.fits masksky=${PN}-bkgregtsky.fits elow=${ELO} ehigh=${EHI} quads=\"${PNON}\" badpixelresolution=1 -V=7 2>&1 | tee  ${regname}/logs/pnspectra_${pat}_${PN}.log\n",
    "pnback inspecfile=${PN}-fovt.pi inspecoot=${PN}-fovtoot.pi elow=${ELO} ehigh=${EHI} quads=\"${PNON}\" 2>&1 | tee ${regname}/logs/pnback_${pat}_${PN}.log \n",
    "\n",
    "rm -r ${regname}/${PN}_${pat}\n",
    "mkdir ${regname}/${PN}_${pat}\n",
    "\n",
    "mv pn*-${ELO}-${EHI}* ${regname}/${PN}_${pat}\n",
    "mv pn*.pi ${regname}/${PN}_${pat}\n",
    "mv pn*.qdp ${regname}/${PN}_${pat}\n",
    "mv pn*imt* ${regname}/${PN}_${pat}\n",
    "mv pn*.arf ${regname}/${PN}_${pat}\n",
    "mv pn*.rmf ${regname}/${PN}_${pat}\n",
    "mv pn*imspdet* ${regname}/${PN}_${pat}\n",
    "\n",
    "\n",
    "cp ${regname}/${PN}_${pat}/${PN}-fovt.pi ${regname}/fitting/${PN}-${pat}-fovt.pi\n",
    "cp ${regname}/${PN}_${pat}/${PN}-fovtoot.pi ${regname}/fitting/${PN}-${pat}-fovtoot.pi\n",
    "cp ${regname}/${PN}_${pat}/${PN}-bkg.pi ${regname}/fitting/${PN}-${pat}-bkg.pi\n",
    "cp ${regname}/${PN}_${pat}/${PN}.rmf ${regname}/fitting/${PN}-${pat}.rmf\n",
    "cp ${regname}/${PN}_${pat}/${PN}.arf ${regname}/fitting/${PN}-${pat}.arf\n",
    "\n",
    "done\n",
    "done\n",
    "'''\n",
    ")\n",
    "f.close()"
   ]
  },
  {
   "cell_type": "code",
   "execution_count": null,
   "metadata": {},
   "outputs": [],
   "source": [
    "os.chdir(f'/Users/eusracenorth/Documents/work/XGAP-ABUN/data/ID3460/reduction/SDSSTG3460/reg0/pnS003_0/spec')\n",
    "\n",
    "f = open('pnback_sup.sh', 'w')\n",
    "\n",
    "f.write('''\n",
    "source ../../../set_chips_on.txt\n",
    "source ../../../set_sas.txt\n",
    "export PN=pnS003\n",
    "export ELO=700\n",
    "export EHI=1200\n",
    "\n",
    "\n",
    "pnback inspecfile=${PN}-fovt.pi inspecoot=${PN}-fovtoot.pi elow=${ELO} ehigh=${EHI} quads=\"${PNON}\" >> pnback_${PN}.log 2>&1 \n",
    "\n",
    "''')\n",
    "\n",
    "f.close()"
   ]
  },
  {
   "cell_type": "code",
   "execution_count": null,
   "metadata": {},
   "outputs": [],
   "source": [
    "pnback inspecfile=pnS003-fovt.pi inspecoot=pnS003-fovtoot.pi withplotfiles=yes elow=700 ehigh=1200 quads='yes yes yes yes'  -w 1 -V 10"
   ]
  },
  {
   "cell_type": "code",
   "execution_count": null,
   "metadata": {},
   "outputs": [],
   "source": [
    "rmfgen rmfset=pnS003-0.rmf threshold=1e-06 withenergybins=no energymin=0 energymax=15 nenergybins=30 spectrumset=pnS003-fovt.pi format=var detmaptype=psf detmaparray=detmapfile.ds: withdetbounds=no detxoffset=1200 detyoffset=1200 detxbins=160 detybins=160 withdetbins=yes raweventfile=rawevents.ds correctforpileup=no filterdss=yes withfilteredset=no filteredset=filteredpixellist.ds withrmfset=no psfenergy=2 withsourcepos=no sourcecoords=eqpos sourcex=0 sourcey=0 extendedsource=no modeleffarea=no modelquantumeff=no modelfiltertrans=no modelcontamination=no modelee=yes modelootcorr=no eegridfactor=100 withbadpixcorr=no badpixlocation=notSpecified setbackscale=no keeparfset=yes useodfatt=no ignoreoutoffov=yes crossreg_spectrumset='' crossregionarf=no psfmodel=notSpecified badpixelresolution=2 withbadpixres=no applyxcaladjustment=no acceptchanrange=no applyabsfluxcorr=no  -w 1 -V 4"
   ]
  },
  {
   "cell_type": "code",
   "execution_count": null,
   "metadata": {},
   "outputs": [],
   "source": [
    "rmfgen rmfset=pnS003-0.rmf threshold=1e-06 withenergybins=no energymin=0 energymax=15 nenergybins=30 spectrumset=pnS003-fovt.pi format=var detmaptype=psf detmaparray=detmapfile.ds: withdetbounds=no detxoffset=1200 detyoffset=1200 detxbins=160 detybins=160 withdetbins=yes raweventfile=rawevents.ds correctforpileup=no filterdss=yes withfilteredset=no filteredset=filteredpixellist.ds withrmfset=no psfenergy=2 withsourcepos=no sourcecoords=eqpos sourcex=0 sourcey=0 extendedsource=no modeleffarea=no modelquantumeff=no modelfiltertrans=no modelcontamination=no modelee=yes modelootcorr=no eegridfactor=100 withbadpixcorr=no badpixlocation=notSpecified setbackscale=no keeparfset=yes useodfatt=no ignoreoutoffov=yes crossreg_spectrumset='' crossregionarf=no psfmodel=notSpecified badpixelresolution=2 withbadpixres=no applyxcaladjustment=no acceptchanrange=no applyabsfluxcorr=no  -w 1 -V 4"
   ]
  }
 ],
 "metadata": {
  "kernelspec": {
   "display_name": "Python 3.10.1 64-bit ('3.10.1')",
   "language": "python",
   "name": "python3"
  },
  "language_info": {
   "codemirror_mode": {
    "name": "ipython",
    "version": 3
   },
   "file_extension": ".py",
   "mimetype": "text/x-python",
   "name": "python",
   "nbconvert_exporter": "python",
   "pygments_lexer": "ipython3",
   "version": "3.10.1"
  },
  "orig_nbformat": 4,
  "vscode": {
   "interpreter": {
    "hash": "1302458d99d58fefb56dc0fec08d039cf240bdcae78a53a9226b7c46b3832fa1"
   }
  }
 },
 "nbformat": 4,
 "nbformat_minor": 2
}
