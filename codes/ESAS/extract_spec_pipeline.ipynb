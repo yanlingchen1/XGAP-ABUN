{
 "cells": [
  {
   "cell_type": "markdown",
   "metadata": {},
   "source": []
  },
  {
   "cell_type": "markdown",
   "metadata": {},
   "source": [
    "1 define path"
   ]
  },
  {
   "cell_type": "code",
   "execution_count": 76,
   "metadata": {},
   "outputs": [],
   "source": [
    "import os\n",
    "from glob import glob"
   ]
  },
  {
   "cell_type": "code",
   "execution_count": 57,
   "metadata": {},
   "outputs": [],
   "source": [
    "homepath = f'/Users/eusracenorth/Documents/work/XGAP-ABUN/data/RGH80/reduction'\n",
    "obsid = '0105860101'\n",
    "os.chdir(homepath)"
   ]
  },
  {
   "cell_type": "markdown",
   "metadata": {},
   "source": [
    "2 Initialize steps"
   ]
  },
  {
   "cell_type": "code",
   "execution_count": 5,
   "metadata": {},
   "outputs": [],
   "source": [
    "f = open('cifbuild.sh', 'w')\n",
    "f.write(\n",
    "f'''\n",
    "export SAS_ODF={homepath}\n",
    "cifbuild 2>&1 | tee cifbuild.log\n",
    "\n",
    "'''\n",
    ")\n",
    "f.close()\n",
    "\n",
    "\n"
   ]
  },
  {
   "cell_type": "code",
   "execution_count": 8,
   "metadata": {},
   "outputs": [],
   "source": [
    "f = open('odfingest.sh', 'w')\n",
    "f.write(f'''\n",
    "export SAS_CCF={homepath}/ccf.cif\n",
    "export SAS_ODF={homepath}\n",
    "odfingest odfdir=$SAS_ODF outdir=$SAS_ODF 2>&1 | tee odfingest.log\n",
    "''')\n",
    "f.close()"
   ]
  },
  {
   "cell_type": "markdown",
   "metadata": {},
   "source": [
    "3 Set SAS environment"
   ]
  },
  {
   "cell_type": "code",
   "execution_count": 77,
   "metadata": {},
   "outputs": [],
   "source": [
    "homepath = f'/Users/eusracenorth/Documents/work/XGAP-ABUN/data/ID3460/reduction/SDSSTG3460'\n",
    "\n",
    "f = open('set_sas.txt', 'w')\n",
    "sasfile= glob('*SUM.SAS')[0] \n",
    "f.write(f'''\n",
    "export SAS_CCF={homepath}/ccf.cif\n",
    "export SAS_ODF={homepath}/{sasfile}\n",
    "sasversion\n",
    "''')\n",
    "f.close()"
   ]
  },
  {
   "cell_type": "markdown",
   "metadata": {},
   "source": [
    "4 emproc"
   ]
  },
  {
   "cell_type": "code",
   "execution_count": 14,
   "metadata": {},
   "outputs": [],
   "source": [
    "f = open('emproc.sh', 'w')\n",
    "f.write(\n",
    "'''\n",
    "emproc 2>&1 |tee emproc.log\n",
    "mv *EMOS1_S001_ImagingEvts.ds mos1-S001.evt\n",
    "mv *EMOS2_S002_ImagingEvts.ds mos2-S002.evt\n",
    "'''\n",
    ")\n",
    "f.close()"
   ]
  },
  {
   "cell_type": "markdown",
   "metadata": {},
   "source": [
    "5 epproc"
   ]
  },
  {
   "cell_type": "code",
   "execution_count": 15,
   "metadata": {},
   "outputs": [],
   "source": [
    "f = open('epproc.sh', 'w')\n",
    "f.write(\n",
    "'''\n",
    "epproc 2>&1 |tee epproc.log\n",
    "mv *ImagingEvts.ds pn-S003.evt\n",
    "# epproc withoutoftime=true 2>&1 |tee epproc_oot.log\n",
    "# mv *EPN_S003_ImagingEvts.ds pn-oot-S003.evt\n",
    "'''\n",
    ")\n",
    "f.close()"
   ]
  },
  {
   "cell_type": "markdown",
   "metadata": {},
   "source": [
    "6 emanom: diagnose abnormal bright chips in MOS\n",
    "NO NEED! the esas has run the *-anom.log!"
   ]
  },
  {
   "cell_type": "code",
   "execution_count": 18,
   "metadata": {},
   "outputs": [],
   "source": [
    "f = open('emanom.sh', 'w')\n",
    "f.write(\n",
    "'''\n",
    "emanom eventfile=mos1-S001.evt keepcorner=no 2>&1 | tee emanom_mos1.log\n",
    "emanom eventfile=mos2-S002.evt keepcorner=no 2>&1 | tee emanom_mos2.log\n",
    "'''\n",
    ")\n",
    "f.close()\n",
    "\n",
    "# mos2 chip5 is I, but not serious by visually inspect, not excluded. \n",
    "# This observation is indeed contaminated by SP. (40% exp time is flared)\n"
   ]
  },
  {
   "cell_type": "code",
   "execution_count": 17,
   "metadata": {},
   "outputs": [],
   "source": [
    "f = open('set_chips_on.txt', 'w')\n",
    "f.write(\n",
    "'''\n",
    "export M1ON=\"T T T T T T T\"\n",
    "export M2ON=\"T T T T T T T\"\n",
    "export PNON=\"T T T T\"\n",
    "'''\n",
    ")\n",
    "f.close()"
   ]
  },
  {
   "cell_type": "code",
   "execution_count": 21,
   "metadata": {},
   "outputs": [],
   "source": [
    "# visual inspect\n",
    "f = open('chips_visual_inspect.sh', 'w')\n",
    "f.write(\n",
    "'''\n",
    "evselect table=mos1-S001.evt withimageset=yes imageset=mos1S001-diag-det-unfilt.fits filtertype=expression expression=\"(PI in [300:1000])&&(PATTERN<=12)&&((FLAG & 0x766aa000)==0)\" ignorelegallimits=yes imagebinning=imageSize xcolumn=DETX ximagesize=780 ximagemax=19500 ximagemin=-19499 ycolumn=DETY yimagesize=780 yimagemax=19500 yimagemin=-19499\n",
    "evselect table=mos2-S002.evt withimageset=yes imageset=mos2S002-diag-det-unfilt.fits filtertype=expression expression=\"(PI in [300:1000])&& (PATTERN<=12)&&((FLAG & 0x766aa000)==0)\" ignorelegallimits=yes imagebinning=imageSize xcolumn=DETX ximagesize=780 ximagemax=19500 ximagemin=-19499 ycolumn=DETY yimagesize=780 yimagemax=19500 yimagemin=-19499\n",
    "evselect table=pn-S003.evt withimageset=yes imageset=pnS003-diag-det-unfilt.fits filtertype=expression expression=\"(PI in [300:1000])&& (PATTERN <= 4)&&(#XMMEA_EP)\" ignorelegallimits=yes imagebinning=imageSize xcolumn=DETX ximagesize=780 ximagemax=19500 ximagemin=-19499 ycolumn=DETY yimagesize=780 yimagemax=19500 yimagemin=-19499\n",
    "evselect table=pn-oot-S003.evt withimageset=yes imageset=pnS003-oot-diag-det-unfilt.fits filtertype=expression expression=\"(PI in [300:1000])&& (PATTERN <= 4)&&(#XMMEA_EP)\" ignorelegallimits=yes imagebinning=imageSize xcolumn=DETX ximagesize=780 ximagemax=19500 ximagemin=-19499 ycolumn=DETY yimagesize=780 yimagemax=19500 yimagemin=-19499\n",
    "'''\n",
    ")\n",
    "f.close()\n"
   ]
  },
  {
   "cell_type": "markdown",
   "metadata": {},
   "source": [
    "7 SP flare filtering"
   ]
  },
  {
   "cell_type": "code",
   "execution_count": 24,
   "metadata": {},
   "outputs": [],
   "source": [
    "f = open('sp_flare.sh', 'w')\n",
    "f.write(\n",
    "'''\n",
    "espfilt eventfile=mos1-S001.evt elow=2500 ehigh=8500 withsmoothing=yes smooth=51 rangescale=6.0 allowsigma=3.0 method=histogram keepinterfiles=false 2>&1 | tee flare_filter_mos1-S001.log\n",
    "espfilt eventfile=mos2-S002.evt elow=2500 ehigh=8500 withsmoothing=yes smooth=51 rangescale=6.0 allowsigma=3.0 method=histogram keepinterfiles=false 2>&1 | tee flare_filter_mos2-S002.log\n",
    "espfilt eventfile=pn-S003.evt elow=2500 ehigh=8500 withsmoothing=yes smooth=51 rangescale=15.0 allowsigma=3.0 method=histogram withoot=Y ootfile=pn-oot-S003.evt keepinterfiles=false 2>&1 | tee flare_filter_pn-S003.log\n",
    "'''\n",
    ")\n",
    "\n",
    "f.close()\n",
    "# except for P-allevc.fits and P-gti.fits are kept, others are moved to DIAGNOISE dir after checking\n"
   ]
  },
  {
   "cell_type": "markdown",
   "metadata": {},
   "source": [
    "8 check sp flare filtering diagnostic files\n",
    "Files: P-hist.qdp\n",
    "Conclusion: \n",
    "not very flared\n"
   ]
  },
  {
   "cell_type": "markdown",
   "metadata": {},
   "source": [
    "9 Remove the point sources: go to pointsources-pipeline.ipynb"
   ]
  },
  {
   "cell_type": "markdown",
   "metadata": {},
   "source": [
    "10 Convert the annuli region from fk5 coords to detXY"
   ]
  },
  {
   "cell_type": "code",
   "execution_count": null,
   "metadata": {},
   "outputs": [],
   "source": [
    "from astropy.coordinates import SkyCoord\n",
    "import astropy.units as u\n",
    "\n",
    "def deg2sex(ra_deg, dec_deg):\n",
    "    # Create a SkyCoord object with the specified units\n",
    "    coords = SkyCoord(ra=ra_deg * u.degree, dec=dec_deg * u.degree)\n",
    "    # Extract the converted sexagesimal values\n",
    "    ra_sexagesimal = coords.to_string(style='hmsdms', precision=2)\n",
    "    return f\"{ra_sexagesimal.split(' ')[0]}\", f\"{ra_sexagesimal.split(' ')[1]}\""
   ]
  },
  {
   "cell_type": "code",
   "execution_count": 78,
   "metadata": {},
   "outputs": [],
   "source": [
    "# convert the center coords to det XY\n",
    "\n",
    "# read the fk5 eckert region\n",
    "datapath = f'/Users/eusracenorth/Documents/work/XGAP-ABUN/data/RGH80/eckert/0105860101/region'\n",
    "file = glob(f'{datapath}/RGH80_reg0.reg')\n",
    "f = open(file)\n",
    "line = f.readlines()[-1]\n",
    "ra = line.split('(')[-1].split(',')[0]\n",
    "dec = line.split(',')[1]\n",
    "f.close()\n",
    "\n",
    "# write the command to convert \n",
    "f = open('deg2det.sh', 'w')\n",
    "\n",
    "f.write(\n",
    "f'''\n",
    "export M1=mos1S001\n",
    "export M2=mos2S002\n",
    "export PN=pnS003\n",
    "\n",
    "esky2det datastyle=user ra={ra} dec={dec} outunit=det calinfoset='mos1S001-allevc-exchips.fits' 2>&1 | tee deg2det-$M1.log\n",
    "esky2det datastyle=user ra={ra} dec={dec} outunit=det calinfoset='mos2S002-allevc-exchips.fits' 2>&1 | tee deg2det-$M2.log\n",
    "esky2det datastyle=user ra={ra} dec={dec} outunit=det calinfoset='pnS003-allevc-exchips.fits' 2>&1 | tee deg2det-$PN.log\n",
    "''')\n",
    "\n",
    "f.close()\n"
   ]
  },
  {
   "cell_type": "code",
   "execution_count": 46,
   "metadata": {},
   "outputs": [],
   "source": [
    "''' RGH 80\n",
    "   307.6     -183.9\n",
    "   15.1       90.4\n",
    "   132.2     -235.2\n",
    "\n",
    "'''\n",
    "\n",
    "detx_dict = {'mos1S001':307.6, 'mos2S002':15.1, 'pnS003':132.2}\n",
    "dety_dict = {'mos1S001':-183.9, 'mos2S002':90.4, 'pnS003':-235.2}"
   ]
  },
  {
   "cell_type": "code",
   "execution_count": 4,
   "metadata": {},
   "outputs": [
    {
     "name": "stdout",
     "output_type": "stream",
     "text": [
      "/Users/eusracenorth/Documents/work/XGAP-ABUN/codes/ESAS\n"
     ]
    }
   ],
   "source": [
    "print(os.getcwd())\n",
    "'''ID3460\n",
    "294.8     -203.6\n",
    "34.7       77.5\n",
    "112.5     -222.4\n",
    "\n",
    "\n",
    "'''\n",
    "\n",
    "detx_dict = {'mos1S001':294.8 , 'mos2S002':34.7, 'pnS003':112.5}\n",
    "dety_dict = {'mos1S001':-203.6, 'mos2S002':77.5, 'pnS003':-222.4}"
   ]
  },
  {
   "cell_type": "code",
   "execution_count": 10,
   "metadata": {},
   "outputs": [
    {
     "name": "stdout",
     "output_type": "stream",
     "text": [
      "[ 0.25     0.55     0.91     1.342    1.8604   2.48248  3.22898  4.12477\n",
      "  5.19973  6.48967  8.0376   9.89513 12.1242 ]\n"
     ]
    }
   ],
   "source": [
    "# read the fk5 eckert region\n",
    "from glob import glob\n",
    "import numpy as np\n",
    "\n",
    "\n",
    "datapath = f'/Users/eusracenorth/Documents/work/XGAP-ABUN/data/RGH80/eckert/0105860101/regions'\n",
    "files = glob(f'{datapath}/RGH80_reg*.reg')\n",
    "\n",
    "reg_radius = []\n",
    "for file in files:\n",
    "    f = open(file)\n",
    "    line = f.readlines()[-1]\n",
    "    reg_radius.append(float(line.split(',')[-1].split(\"'\")[0]))\n",
    "    f.close()\n",
    "\n",
    "reg_radius = np.unique(reg_radius)\n"
   ]
  },
  {
   "cell_type": "code",
   "execution_count": 50,
   "metadata": {},
   "outputs": [],
   "source": [
    "## create the region files\n",
    "os.makedirs(f'{homepath}/spec_reg')\n",
    "os.chdir(f'{homepath}/spec_reg')\n",
    "\n",
    "r500 = 7.35216\n",
    "bkg_r2 = 14.799\n",
    "\n",
    "\n",
    "for name in ['mos1S001', 'mos2S002', 'pnS003']: # \n",
    "    for i in range(1, len(reg_radius)):\n",
    "        f = open(f'reg{i}-{name}.reg', 'w')\n",
    "        f.write(\n",
    "f'''&&((DETX,DETY) IN annulus({detx_dict[name]},{dety_dict[name]},{(reg_radius[int(i-1)] * 60/0.05):.2f},{(reg_radius[i]* 60/0.05):.2f}))''')\n",
    "    \n",
    "        f.close()\n",
    "\n",
    "    f = open(f'reg0-{name}.reg', 'w')\n",
    "    f.write(\n",
    "f'''&&((DETX,DETY) IN circle({detx_dict[name]},{dety_dict[name]},{(reg_radius[0]*60/0.05):.2f}))\n",
    "''')\n",
    "    f.close()\n",
    "\n",
    "    f = open(f'reg{len(reg_radius)}-{name}.reg', 'w')\n",
    "    f.write(\n",
    "f'''&&((DETX,DETY) IN circle({detx_dict[name]},{dety_dict[name]},{(reg_radius[-1]*60/0.05):.2f}))\n",
    "''')\n",
    "    f.close()\n",
    "\n",
    "    f = open(f'R500-{name}.reg', 'w')\n",
    "    f.write(\n",
    "f'''&&((DETX,DETY) IN circle({detx_dict[name]},{dety_dict[name]},{(r500*60/0.05):.2f}))\n",
    "''')\n",
    "    f.close()\n",
    "\n",
    "    f = open(f'bkg-{name}.reg', 'w')\n",
    "    f.write(\n",
    "f'''&&((DETX,DETY) IN annulus({detx_dict[name]},{dety_dict[name]},{(reg_radius[-1]*60/0.05):.2f},{(bkg_r2*60/0.05):.2f}))\n",
    "''')\n",
    "    f.close()\n",
    "\n",
    "\n",
    "\n"
   ]
  },
  {
   "cell_type": "markdown",
   "metadata": {},
   "source": [
    "13 mosspectra mosback"
   ]
  },
  {
   "cell_type": "code",
   "execution_count": 51,
   "metadata": {},
   "outputs": [
    {
     "name": "stdout",
     "output_type": "stream",
     "text": [
      "/Users/eusracenorth/Documents/work/XGAP-ABUN/data/RGH80/reduction/spec_reg/spec_reg\n"
     ]
    }
   ],
   "source": [
    "print(os.getcwd())\n",
    "f = open('mosspectra_annu.sh', 'w')\n",
    "f.write(\n",
    "'''\n",
    "source set_chips_on.txt\n",
    "source set_sas.txt\n",
    "\n",
    "export ELO=700\n",
    "export EHI=1200\n",
    "export M1=mos1S001\n",
    "export M2=mos2S002\n",
    "\n",
    "rm mosspectra_${M1}.log\n",
    "rm mosspectra_${M2}.log\n",
    "\n",
    "for regfile in spec_reg/bkg-mos1S001.reg\n",
    "do\n",
    "regname=$(basename $regfile | cut -d'-' -f 1)\n",
    "echo $regname\n",
    "\n",
    "mosspectra eventfile=${M1}-allevc.fits keepinterfiles=yes withregion=yes regionfile=spec_reg/${regname}-${M1}.reg pattern=12 withsrcrem=yes maskdet=${M1}-bkgregtdet.fits masksky=${M1}-bkgregtsky.fits elow=${ELO} ehigh=${EHI} ccds=\"${M1ON}\" -V=7 >> mosspectra_${M1}.log 2>&1\n",
    "mosback inspecfile=${M1}-fovt.pi elow=${ELO} ehigh=${EHI} ccds=\"${M1ON}\" 2>&1 |tee mosback_${M1}.log\n",
    "mosspectra eventfile=${M2}-allevc.fits keepinterfiles=yes withregion=yes regionfile=spec_reg/${regname}-${M1}.reg pattern=12 withsrcrem=yes maskdet=${M2}-bkgregtdet.fits masksky=${M2}-bkgregtsky.fits elow=${ELO} ehigh=${EHI} ccds=\"${M2ON}\" -V=7 >> mosspectra_${M2}.log 2>&1\n",
    "mosback inspecfile=${M2}-fovt.pi elow=${ELO} ehigh=${EHI} ccds=\"${M2ON}\" 2>&1 |tee mosback_${M2}.log\n",
    "\n",
    "for name in $M1 $M2\n",
    "do\n",
    "mkdir ${regname}\n",
    "mkdir ${regname}/img\n",
    "mkdir ${regname}/diagnose\n",
    "mv ${name}*-${ELO}-${EHI}* ${regname}/img\n",
    "mv ${name}*.pi ${regname}/spec\n",
    "mv ${name}*.qdp ${regname}/diagnose\n",
    "mv ${name}*imt* ${regname}/img\n",
    "mv ${name}*.arf ${regname}\n",
    "mv ${name}*.rmf ${regname}\n",
    "mv ${name}*imspdet* ${regname}/img\n",
    "\n",
    "cp ${regname}/spec/${name}-fovt.pi ${regname}\n",
    "\n",
    "done\n",
    "done\n",
    "'''\n",
    ")\n",
    "f.close()"
   ]
  },
  {
   "cell_type": "markdown",
   "metadata": {},
   "source": [
    "14 pnspectra, pnback"
   ]
  },
  {
   "cell_type": "code",
   "execution_count": 58,
   "metadata": {},
   "outputs": [],
   "source": [
    "f = open('pnspectra_annu.sh', 'w')\n",
    "\n",
    "f.write('''\n",
    "source set_chips_on.txt\n",
    "source set_sas.txt\n",
    "\n",
    "export PN=pnS003\n",
    "export ELO=700\n",
    "export EHI=1200\n",
    "\n",
    "for pat in 0 4\n",
    "do\n",
    "\n",
    "rm pnspectra_${pat}_${PN}.log\n",
    "rm pnback_${pat}_${PN}.log\n",
    "\n",
    "for regfile in spec_reg/bkg-mos1S001.reg\n",
    "do\n",
    "regname=$(basename $regfile | cut -d'-' -f 1)\n",
    "echo $regname\n",
    "\n",
    "pnspectra eventfile=${PN}-allevc.fits ootevtfile=${PN}-allevcoot.fits keepinterfiles=yes withregion=yes regionfile=spec_reg/${regname}-${PN}.reg pattern=${pat} withsrcrem=yes maskdet=${PN}-bkgregtdet.fits masksky=${PN}-bkgregtsky.fits elow=${ELO} ehigh=${EHI} quads=\"${PNON}\" -V=7 >> pnspectra_${pat}_${PN}.log 2>&1 \n",
    "pnback inspecfile=${PN}-fovt.pi inspecoot=${PN}-fovtoot.pi elow=${ELO} ehigh=${EHI} quads=\"${PNON}\" >> pnback_${pat}_${PN}.log 2>&1 \n",
    "\n",
    "\n",
    "mkdir ${regname}/${PN}_${pat}\n",
    "mkdir ${regname}/${PN}_${pat}/img\n",
    "mkdir ${regname}/${PN}_${pat}/diagnose\n",
    "\n",
    "mv pn*-${ELO}-${EHI}* ${regname}/${PN}_${pat}/img\n",
    "mv pn*.pi ${regname}/${PN}_${pat}_spec\n",
    "mv pn*.qdp ${regname}/${PN}_${pat}/diagnose\n",
    "mv pn*imt* ${regname}/${PN}_${pat}/img\n",
    "mv pn*.arf ${regname}/${PN}-${pat}-fovt.arf\n",
    "mv pn*.rmf ${regname}/${PN}-${pat}-fovt.rmf\n",
    "mv pn*imspdet* ${regname}/${PN}_${pat}/img\n",
    "\n",
    "cp ${regname}/${PN}_${pat}/${PN}-fovt.pi ${regname}/${PN}-${pat}-fovt.pi\n",
    "cp ${regname}/${PN}_${pat}/${PN}-fovtoot.pi ${regname}/${PN}-${pat}-fovtoot.pi\n",
    "\n",
    "done\n",
    "done\n",
    "'''\n",
    ")\n",
    "f.close()"
   ]
  },
  {
   "cell_type": "code",
   "execution_count": null,
   "metadata": {},
   "outputs": [],
   "source": []
  }
 ],
 "metadata": {
  "kernelspec": {
   "display_name": "Python 3.10.11 ('base')",
   "language": "python",
   "name": "python3"
  },
  "language_info": {
   "codemirror_mode": {
    "name": "ipython",
    "version": 3
   },
   "file_extension": ".py",
   "mimetype": "text/x-python",
   "name": "python",
   "nbconvert_exporter": "python",
   "pygments_lexer": "ipython3",
   "version": "3.10.11"
  },
  "orig_nbformat": 4,
  "vscode": {
   "interpreter": {
    "hash": "58ee13649a3e33612fea9b2fc6712fa52e5371c54a9ff454aedbace36da48a84"
   }
  }
 },
 "nbformat": 4,
 "nbformat_minor": 2
}
