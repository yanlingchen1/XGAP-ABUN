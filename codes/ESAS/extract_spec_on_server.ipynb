{
 "cells": [
  {
   "cell_type": "markdown",
   "metadata": {},
   "source": [
    "1 Individual source"
   ]
  },
  {
   "cell_type": "code",
   "execution_count": null,
   "metadata": {},
   "outputs": [],
   "source": [
    "\"\"\"\n",
    "1. Make new dirs: \n",
    "rootdir with region name, \n",
    "{region name}: fitting files,\n",
    "others: for other files\n",
    "log: logs for fitting\n",
    "download the subdir of region name after that.\n",
    "\n",
    "2. mosspectra and mosback in sas21\n",
    "3. pn-spectra and pn_back in sas20\n",
    "\n",
    "note: don't run mosspectra or pnspectra or backs at same time in same dir!\n",
    "\n",
    "\"\"\""
   ]
  },
  {
   "cell_type": "code",
   "execution_count": null,
   "metadata": {},
   "outputs": [],
   "source": [
    "# for a new region 01r500\n",
    "import os\n",
    "from glob import glob\n",
    "\n",
    "# SRCNAME1 = f''\n",
    "# SRCNAME2 = f'RGH80'\n",
    "# workpath = f'/data/yanling/XGAP-ABUN/data/data/{SRCNAME2}/reduction'\n",
    "\n",
    "\n",
    "SRCNAME1 = f'ID828'\n",
    "SRCNAME2 = f'SDSSTG828'\n",
    "workpath = f'/data/yanling/XGAP-ABUN/data/data/{SRCNAME1}/reduction/{SRCNAME2}'\n",
    "\n",
    "\n",
    "regname = 'R500_01'\n",
    "\n",
    "savepath = f'{workpath}/{regname}'\n",
    "\n",
    "ELO=700\n",
    "EHI=1200\n"
   ]
  },
  {
   "cell_type": "code",
   "execution_count": null,
   "metadata": {},
   "outputs": [],
   "source": [
    "f = open('tmp/esas_exspec.sh', 'w')\n",
    "f.write(\n",
    "f'''\n",
    "#!/bin/bash\n",
    "\n",
    "heainit\n",
    "sasinit21\n",
    "source {workpath}/set_chips_on.txt\n",
    "source {workpath}/set_sas.txt\n",
    "# #### MOS ####\n",
    "# export M1=mos1S001\n",
    "# export M2=mos2S002\n",
    "\n",
    "# mkdir {regname}\n",
    "# mkdir {regname}/{regname}\n",
    "# mkdir {regname}/img\n",
    "# mkdir {regname}/logs\n",
    "# mkdir {regname}/diagnose\n",
    "\n",
    "# # mosspectra eventfile=${{M1}}-allevc.fits keepinterfiles=yes withregion=yes regionfile=spec_reg/{regname}-${{M1}}.reg pattern=12 withsrcrem=yes maskdet=${{M1}}-bkgregtdet.fits masksky=${{M1}}-bkgregtsky.fits elow={ELO} ehigh={EHI} ccds=\"${{M1ON}}\" -V=7 2>&1 |tee {regname}/logs/mosspectra_${{M1}}.log \n",
    "# # mosback inspecfile=${{M1}}-fovt.pi elow={ELO} ehigh={EHI} ccds=\"${{M1ON}}\" 2>&1  |tee mosback_${{M1}}.log \n",
    "# mosspectra eventfile=${{M2}}-allevc.fits keepinterfiles=yes withregion=yes regionfile=spec_reg/{regname}-${{M2}}.reg pattern=12 withsrcrem=yes maskdet=${{M2}}-bkgregtdet.fits masksky=${{M2}}-bkgregtsky.fits elow={ELO} ehigh={EHI} ccds=\"${{M2ON}}\" -V=7 2>&1 |tee {regname}/logs/mosspectra_${{M2}}.log\n",
    "# mosback inspecfile=${{M2}}-fovt.pi elow={ELO} ehigh={EHI} ccds=\"${{M2ON}}\" 2>&1  |tee mosback_${{M2}}.log \n",
    "\n",
    "# for name in $M2\n",
    "# do\n",
    "# echo $name\n",
    "\n",
    "# mv $name*-{ELO}-{EHI}* {regname}/img\n",
    "# mv $name-fovt.pi R500_01/R500_01/$name-obj-{SRCNAME2}_R500_01.pi\n",
    "# mv $name-bkg.pi R500_01/R500_01/$name-back-{SRCNAME2}_R500_01.pi\n",
    "# mv $name*.qdp {regname}/diagnose\n",
    "# mv $name*imt* {regname}/img\n",
    "# mv $name*.arf {regname}/{regname}/$name-{SRCNAME2}_{regname}.arf\n",
    "# mv $name*.rmf {regname}/{regname}/$name-{SRCNAME2}_{regname}.rmf\n",
    "# mv $name*imspdet* {regname}/img\n",
    "# done\n",
    "\n",
    "#### PN ####\n",
    "heainit\n",
    "sasinit20\n",
    "source {workpath}/set_chips_on.txt\n",
    "source {workpath}/set_sas.txt\n",
    "export name=pnS003\n",
    "cp $name-allevc.fits $name-clean.fits\n",
    "cp $name-allevcoot.fits $name-clean-oot.fits\n",
    "cp $name-corevc.fits $name-corn.fits\n",
    "cp $name-corevcoot.fits $name-corn-oot.fits\n",
    "cp $name-bkgregtdet.fits sas20-pn-test/$name-bkg_region-sky.fits \n",
    "cp $name-bkgregtsky.fits sas20-pn-test/$name-bkg_region-det.fits \n",
    "\n",
    "for PAT in 0 4\n",
    "do\n",
    "pn-spectra prefix='S003' caldb=/data/yanling/sas20/esas-caldb region=spec_reg/R500_01-pnS003.reg mask=1 elow={ELO} ehigh={EHI} pattern=$PAT quad1=1 quad2=1 quad3=1 quad4=1 2>&1 | tee {regname}/logs/pnspectra_$PAT.log\n",
    "pn_back prefix=S003 caldb=/data/yanling/sas20/esas-caldb diag=0 elow={ELO} ehigh={EHI} pattern=$PAT quad1=1 quad2=1 quad3=1 quad4=1 2>&1 | tee {regname}/logs/pnback_$PAT.log\n",
    "\n",
    "mkdir {regname}/img/pn_$PAT\n",
    "mkdir {regname}/diagnose/pn_$PAT\n",
    "\n",
    "mv $name*-{ELO}-{EHI}* {regname}/img/pn_$PAT\n",
    "mv $name-obj.pi {regname}/{regname}/$name-$PAT-obj-{SRCNAME2}_{regname}.pi\n",
    "mv $name-obj-oot.pi {regname}/{regname}/$name-$PAT-obj-oot-{SRCNAME2}_{regname}.pi\n",
    "mv $name-back.pi {regname}/{regname}/$name-$PAT-back-{SRCNAME2}_{regname}.pi\n",
    "mv $name*.qdp {regname}/diagnose/pn_$PAT\n",
    "mv $name*imt* {regname}/img/pn_$PAT\n",
    "mv $name*.arf {regname}/{regname}/$name-$PAT-{SRCNAME2}_{regname}.arf\n",
    "mv $name*.rmf {regname}/{regname}/$name-$PAT-{SRCNAME2}_{regname}.rmf\n",
    "mv $name*imspdet* {regname}/img/pn_$PAT\n",
    "\n",
    "done\n",
    "'''\n",
    ")\n",
    "f.close()\n",
    "\n",
    "# cd {workpath}\n",
    "# . codes/mosspectra.sh"
   ]
  },
  {
   "cell_type": "markdown",
   "metadata": {},
   "source": [
    "2 All sources-specs"
   ]
  },
  {
   "cell_type": "code",
   "execution_count": null,
   "metadata": {},
   "outputs": [],
   "source": [
    "#NOTE: Never use allevc-exchips events! The chips will be excluded in set_chips_on.txt!!!\n",
    "import os\n",
    "from glob import glob\n",
    "\n",
    "\n",
    "rootdir = '/data/yanling/XGAP-ABUN/data/alldata/XGAP'\n",
    "ELO=500\n",
    "EHI=4000\n",
    "\n",
    "homepaths = glob(f'{rootdir}/SDSSTG*')\n",
    "\n",
    "for homepath in homepaths:\n",
    "    if os.path.isdir(homepath):\n",
    "        os.chdir(homepath)\n",
    "        srcname = homepath.split('/')[-1]\n",
    "        mos1file = glob('mos1*-allevc.fits')[0]\n",
    "        mos2file = glob('mos2*-allevc.fits')[0]\n",
    "        pnfile = glob('pn*-allevc.fits')[0]\n",
    "        pnname = pnfile.split('-')[0]\n",
    "        pnname_suf = pnname[2:]\n",
    "\n",
    "        \n",
    "        for sregname in ['bkg', 'R500-01']:\n",
    "            regname = f'{srcname}_{sregname}'\n",
    "\n",
    "        \n",
    "            f = open(f'mos_exspec_{sregname}.sh', 'w')\n",
    "            f.write(\n",
    "        f'''\n",
    "heainit\n",
    "sasinit21\n",
    "source {homepath}/set_chips_on.txt\n",
    "source {homepath}/set_sas.txt\n",
    "\n",
    "\n",
    "#### MOS ####\n",
    "mkdir {regname}\n",
    "mkdir {regname}/{regname}\n",
    "mkdir {regname}/img\n",
    "mkdir {regname}/logs\n",
    "mkdir {regname}/diagnose\n",
    "\n",
    "mosspectra eventfile={mos1file} keepinterfiles=yes withregion=yes regionfile=fk5_regs/{srcname}-mos1_{sregname}.txt pattern=12 withsrcrem=yes maskdet=mos1-bkgregtdet.fits masksky=mos1-bkgregtsky.fits elow={ELO} ehigh={EHI} ccds=\"${{M1ON}}\" -V=7 > {regname}/logs/mosspectra_mos1.log 2>&1 \n",
    "mosback inspecfile={mos1file.split('-')[0]}-fovt.pi elow={ELO} ehigh={EHI} ccds=\"${{M1ON}}\" > {regname}/logs/mosback_mos1.log 2>&1 \n",
    "mosspectra eventfile={mos2file} keepinterfiles=yes withregion=yes regionfile=fk5_regs/{srcname}-mos2_{sregname}.txt pattern=12 withsrcrem=yes maskdet=mos2-bkgregtdet.fits masksky=mos2-bkgregtsky.fits elow={ELO} ehigh={EHI} ccds=\"${{M2ON}}\" -V=7 > {regname}/logs/mosspectra_mos2.log 2>&1 \n",
    "mosback inspecfile={mos2file.split('-')[0]}-fovt.pi elow={ELO} ehigh={EHI} ccds=\"${{M2ON}}\" > {regname}/logs/mosback_mos2.log 2>&1 \n",
    "\n",
    "for name in mos1 mos2\n",
    "do\n",
    "echo $name\n",
    "mv $name*-{ELO}-{EHI}* {regname}/img\n",
    "mv $name*.qdp {regname}/diagnose\n",
    "mv $name*imt* {regname}/img\n",
    "mv $name*imspdet* {regname}/img\n",
    "done\n",
    "\n",
    "mv mos1*-fovt.pi {regname}/{regname}/mos1S001-obj-{regname}.pi\n",
    "mv mos1*-bkg.pi {regname}/{regname}/mos1S001-back-{regname}.pi\n",
    "mv mos1*.arf {regname}/{regname}/mos1S001-{regname}.arf\n",
    "mv mos1*.rmf {regname}/{regname}/mos1S001-{regname}.rmf\n",
    "\n",
    "mv mos2*-fovt.pi {regname}/{regname}/mos2S002-obj-{regname}.pi\n",
    "mv mos2*-bkg.pi {regname}/{regname}/mos2S002-back-{regname}.pi\n",
    "mv mos2*.arf {regname}/{regname}/mos2S002-{regname}.arf\n",
    "mv mos2*.rmf {regname}/{regname}/mos2S002-{regname}.rmf\n",
    "\n",
    "        '''\n",
    "        )\n",
    "            f.close()\n"
   ]
  },
  {
   "cell_type": "code",
   "execution_count": null,
   "metadata": {},
   "outputs": [],
   "source": [
    "import os\n",
    "from glob import glob\n",
    "\n",
    "\n",
    "rootdir = '/data/yanling/XGAP-ABUN/data/alldata/XGAP'\n",
    "ELO=700\n",
    "EHI=1200\n",
    "\n",
    "homepaths = glob(f'{rootdir}/SDSSTG*')\n",
    "\n",
    "for homepath in homepaths:\n",
    "    if os.path.isdir(homepath):\n",
    "        os.chdir(homepath)\n",
    "        srcname = homepath.split('/')[-1]\n",
    "        mos1file = glob('mos1*-allevc.fits')[0]\n",
    "        mos2file = glob('mos2*-allevc.fits')[0]\n",
    "        pnfile = glob('pn*-allevc.fits')[0]\n",
    "        pnname = pnfile.split('-')[0]\n",
    "        pnname_suf = pnname[2:]\n",
    "\n",
    "        \n",
    "        for sregname in ['bkg']: # 'bkg', 'R500-01'\n",
    "            regname = f'{srcname}_{sregname}'\n",
    "\n",
    "            with open(f'pn_exspec_{sregname}.sh', 'w') as f:\n",
    "                f.write(\n",
    "                f'''\n",
    "\n",
    "#### PN ####\n",
    "heainit\n",
    "sasinit20\n",
    "source {homepath}/set_chips_on.txt\n",
    "source {homepath}/set_sas.txt\n",
    "export sname=pn\n",
    "export name={pnname}\n",
    "cp $sname*-allevc.fits $name-clean.fits\n",
    "cp $sname*-allevcoot.fits $name-clean-oot.fits\n",
    "cp $sname*-corevc.fits $name-corn.fits\n",
    "cp $sname*-corevcoot.fits $name-corn-oot.fits\n",
    "cp $sname-bkgregtdet.fits $name-bkg_region-sky.fits \n",
    "cp $sname-bkgregtsky.fits $name-bkg_region-det.fits \n",
    "\n",
    "for PAT in 0 4\n",
    "do\n",
    "pn-spectra prefix='{pnname_suf}' caldb=/data/yanling/sas20/esas-caldb region=fk5_regs/{srcname}-pn_{sregname}.txt mask=1 elow={ELO} ehigh={EHI} pattern=$PAT quad1=1 quad2=1 quad3=1 quad4=1 > {regname}/logs/pnspectra_$PAT.log 2>&1 \n",
    "pn_back prefix='{pnname_suf}' caldb=/data/yanling/sas20/esas-caldb diag=0 elow={ELO} ehigh={EHI} pattern=$PAT quad1=1 quad2=1 quad3=1 quad4=1 > {regname}/logs/pnback_$PAT.log 2>&1 \n",
    "\n",
    "mkdir {regname}/img/pn_$PAT\n",
    "mkdir {regname}/diagnose/pn_$PAT\n",
    "\n",
    "mv pn*-{ELO}-{EHI}* {regname}/img/pn_$PAT\n",
    "mv pn*-obj.pi {regname}/{regname}/pnS003-$PAT-obj-{regname}.pi\n",
    "mv pn*-obj-oot.pi {regname}/{regname}/pnS003-$PAT-obj-oot-{regname}.pi\n",
    "mv pn*-back.pi {regname}/{regname}/pnS003-$PAT-back-{regname}.pi\n",
    "mv pn*.qdp {regname}/diagnose/pn_$PAT\n",
    "mv pn*imt* {regname}/img/pn_$PAT\n",
    "mv pn*.arf {regname}/{regname}/pnS003-$PAT-{regname}.arf\n",
    "mv pn*.rmf {regname}/{regname}/pnS003-$PAT-{regname}.rmf\n",
    "mv pn*imspdet* {regname}/img/pn_$PAT\n",
    "\n",
    "done\n",
    "''')\n"
   ]
  },
  {
   "cell_type": "markdown",
   "metadata": {},
   "source": [
    "3 All sources-img"
   ]
  },
  {
   "cell_type": "code",
   "execution_count": null,
   "metadata": {},
   "outputs": [],
   "source": [
    "#NOTE: Never use allevc-exchips events! The chips will be excluded in set_chips_on.txt!!!\n",
    "import os\n",
    "from glob import glob\n",
    "\n",
    "\n",
    "rootdir = '/data/yanling/XGAP-ABUN/data/alldata/XGAP'\n",
    "ELO=500\n",
    "EHI=4000\n",
    "\n",
    "homepaths = glob(f'{rootdir}/SDSSTG*')\n",
    "\n",
    "for homepath in homepaths:\n",
    "    if os.path.isdir(homepath):\n",
    "        os.chdir(homepath)\n",
    "        srcname = homepath.split('/')[-1]\n",
    "        mos1file = glob('mos1*-allevc.fits')[0]\n",
    "        mos2file = glob('mos2*-allevc.fits')[0]\n",
    "        pnfile = glob('pn*-allevc.fits')[0]\n",
    "        pnname = pnfile.split('-')[0]\n",
    "        pnname_suf = pnname[2:]\n",
    "\n",
    "        \n",
    "        sregname = 'noreg'\n",
    "        regname = f'{srcname}_{sregname}'\n",
    "\n",
    "        \n",
    "        with open(f'mos_exspec_{sregname}.sh', 'w') as f:\n",
    "            f.write(\n",
    "        f'''\n",
    "heainit\n",
    "sasinit21\n",
    "source {homepath}/set_chips_on.txt\n",
    "source {homepath}/set_sas.txt\n",
    "\n",
    "\n",
    "#### MOS ####\n",
    "mkdir {regname}\n",
    "mkdir {regname}/{regname}\n",
    "mkdir {regname}/img\n",
    "mkdir {regname}/logs\n",
    "mkdir {regname}/diagnose\n",
    "\n",
    "mosspectra eventfile={mos1file} keepinterfiles=yes withregion=no pattern=12 withsrcrem=yes maskdet=mos1-bkgregtdet.fits masksky=mos1-bkgregtsky.fits elow={ELO} ehigh={EHI} ccds=\"${{M1ON}}\" -V=7 > {regname}/logs/mosspectra_mos1.log 2>&1 \n",
    "mosback inspecfile={mos1file.split('-')[0]}-fovt.pi elow={ELO} ehigh={EHI} ccds=\"${{M1ON}}\" > {regname}/logs/mosback_mos1.log 2>&1 \n",
    "mosspectra eventfile={mos2file} keepinterfiles=yes withregion=no pattern=12 withsrcrem=yes maskdet=mos2-bkgregtdet.fits masksky=mos2-bkgregtsky.fits elow={ELO} ehigh={EHI} ccds=\"${{M2ON}}\" -V=7 > {regname}/logs/mosspectra_mos2.log 2>&1 \n",
    "mosback inspecfile={mos2file.split('-')[0]}-fovt.pi elow={ELO} ehigh={EHI} ccds=\"${{M2ON}}\" > {regname}/logs/mosback_mos2.log 2>&1 \n",
    "\n",
    "for name in mos1 mos2\n",
    "do\n",
    "echo $name\n",
    "mv $name*-{ELO}-{EHI}* {regname}/img\n",
    "mv $name*.qdp {regname}/diagnose\n",
    "mv $name*imt* {regname}/img\n",
    "mv $name*imspdet* {regname}/img\n",
    "done\n",
    "\n",
    "mv mos1*-fovt.pi {regname}/{regname}/mos1S001-obj-{regname}.pi\n",
    "mv mos1*-bkg.pi {regname}/{regname}/mos1S001-back-{regname}.pi\n",
    "mv mos1*.arf {regname}/{regname}/mos1S001-{regname}.arf\n",
    "mv mos1*.rmf {regname}/{regname}/mos1S001-{regname}.rmf\n",
    "\n",
    "mv mos2*-fovt.pi {regname}/{regname}/mos2S002-obj-{regname}.pi\n",
    "mv mos2*-bkg.pi {regname}/{regname}/mos2S002-back-{regname}.pi\n",
    "mv mos2*.arf {regname}/{regname}/mos2S002-{regname}.arf\n",
    "mv mos2*.rmf {regname}/{regname}/mos2S002-{regname}.rmf\n",
    "\n",
    "        '''\n",
    "        )\n"
   ]
  },
  {
   "cell_type": "code",
   "execution_count": null,
   "metadata": {},
   "outputs": [],
   "source": [
    "import os\n",
    "from glob import glob\n",
    "\n",
    "\n",
    "rootdir = '/data/yanling/XGAP-ABUN/data/alldata/XGAP'\n",
    "ELO=500\n",
    "EHI=4000\n",
    "\n",
    "homepaths = glob(f'{rootdir}/SDSSTG*')\n",
    "\n",
    "for homepath in homepaths:\n",
    "    if os.path.isdir(homepath):\n",
    "        os.chdir(homepath)\n",
    "        srcname = homepath.split('/')[-1]\n",
    "        mos1file = glob('mos1*-allevc.fits')[0]\n",
    "        mos2file = glob('mos2*-allevc.fits')[0]\n",
    "        pnfile = glob('pn*-allevc.fits')[0]\n",
    "        pnname = pnfile.split('-')[0]\n",
    "        pnname_suf = pnname[2:]\n",
    "\n",
    "        \n",
    "        sregname = 'noreg'\n",
    "        regname = f'{srcname}_{sregname}'\n",
    "        \n",
    "        with open(f'pn_exspec_{sregname}.sh', 'w') as f:\n",
    "            f.write(\n",
    "                f'''\n",
    "\n",
    "#### PN ####\n",
    "heainit\n",
    "sasinit20\n",
    "source {homepath}/set_chips_on.txt\n",
    "source {homepath}/set_sas.txt\n",
    "export sname=pn\n",
    "export name={pnname}\n",
    "cp $sname*-allevc.fits $name-clean.fits\n",
    "cp $sname*-allevcoot.fits $name-clean-oot.fits\n",
    "cp $sname*-corevc.fits $name-corn.fits\n",
    "cp $sname*-corevcoot.fits $name-corn-oot.fits\n",
    "cp $sname-bkgregtdet.fits $name-bkg_region-sky.fits \n",
    "cp $sname-bkgregtsky.fits $name-bkg_region-det.fits \n",
    "\n",
    "for PAT in 0 4\n",
    "do\n",
    "pn-spectra prefix='{pnname_suf}' caldb=/data/yanling/sas20/esas-caldb mask=1 elow={ELO} ehigh={EHI} pattern=$PAT quad1=1 quad2=1 quad3=1 quad4=1 > {regname}/logs/pnspectra_$PAT.log 2>&1 \n",
    "pn_back prefix='{pnname_suf}' caldb=/data/yanling/sas20/esas-caldb diag=0 elow={ELO} ehigh={EHI} pattern=$PAT quad1=1 quad2=1 quad3=1 quad4=1 > {regname}/logs/pnback_$PAT.log 2>&1 \n",
    "\n",
    "mkdir {regname}/img/pn_$PAT\n",
    "mkdir {regname}/diagnose/pn_$PAT\n",
    "\n",
    "mv pn*-{ELO}-{EHI}* {regname}/img/pn_$PAT\n",
    "mv pn*-obj.pi {regname}/{regname}/pnS003-$PAT-obj-{regname}.pi\n",
    "mv pn*-obj-oot.pi {regname}/{regname}/pnS003-$PAT-obj-oot-{regname}.pi\n",
    "mv pn*-back.pi {regname}/{regname}/pnS003-$PAT-back-{regname}.pi\n",
    "mv pn*.qdp {regname}/diagnose/pn_$PAT\n",
    "mv pn*imt* {regname}/img/pn_$PAT\n",
    "mv pn*.arf {regname}/{regname}/pnS003-$PAT-{regname}.arf\n",
    "mv pn*.rmf {regname}/{regname}/pnS003-$PAT-{regname}.rmf\n",
    "mv pn*imspdet* {regname}/img/pn_$PAT\n",
    "\n",
    "done\n",
    "''')\n"
   ]
  },
  {
   "cell_type": "markdown",
   "metadata": {},
   "source": [
    "# 3 run in parallel"
   ]
  },
  {
   "cell_type": "code",
   "execution_count": null,
   "metadata": {},
   "outputs": [],
   "source": [
    "#!/bin/bash\n",
    "find . -mindepth 1 -maxdepth 1 -type d -name 'SDSSTG*' -print0 | parallel -0 -j+0 'cd {} && chmod +x esas_exspec_R500-01.sh && heainit && sasinit21 && source set_sas.txt && source set_chips_on.txt && ./esas_exspec_R500-01.sh'"
   ]
  },
  {
   "cell_type": "markdown",
   "metadata": {},
   "source": [
    "# 4 download from server"
   ]
  },
  {
   "cell_type": "markdown",
   "metadata": {},
   "source": [
    "4.1 download fitting dirs"
   ]
  },
  {
   "cell_type": "code",
   "execution_count": 1,
   "metadata": {},
   "outputs": [
    {
     "name": "stderr",
     "output_type": "stream",
     "text": [
      "  2%|▏         | 1/48 [00:31<24:41, 31.52s/it]scp: remote readdir(\"/data/yanling/XGAP-ABUN/data/alldata/XGAP/SDSSTG10842/fit_spex_231115/spexsys0002484211.dum/\"): No such file or directory\n",
      "scp: remote readdir(\"/data/yanling/XGAP-ABUN/data/alldata/XGAP/SDSSTG10842/fit_spex_231115/spexpar0002488185.dum/\"): No such file or directory\n",
      "scp: remote readdir(\"/data/yanling/XGAP-ABUN/data/alldata/XGAP/SDSSTG10842/fit_spex_231115/spexmod0002785973.dum/\"): No such file or directory\n",
      "scp: remote readdir(\"/data/yanling/XGAP-ABUN/data/alldata/XGAP/SDSSTG10842/fit_spex_231115/spexsys0002488185.dum/\"): No such file or directory\n",
      "scp: remote readdir(\"/data/yanling/XGAP-ABUN/data/alldata/XGAP/SDSSTG10842/fit_spex_231115/spexsys0002785973.dum/\"): No such file or directory\n",
      "scp: remote readdir(\"/data/yanling/XGAP-ABUN/data/alldata/XGAP/SDSSTG10842/fit_spex_231115/spexdat0002484211.dum/\"): No such file or directory\n",
      "scp: remote readdir(\"/data/yanling/XGAP-ABUN/data/alldata/XGAP/SDSSTG10842/fit_spex_231115/spexdat0002488185.dum/\"): No such file or directory\n",
      "scp: remote readdir(\"/data/yanling/XGAP-ABUN/data/alldata/XGAP/SDSSTG10842/fit_spex_231115/spexmod0002484211.dum/\"): No such file or directory\n",
      "scp: remote readdir(\"/data/yanling/XGAP-ABUN/data/alldata/XGAP/SDSSTG10842/fit_spex_231115/spexmod0002488185.dum/\"): No such file or directory\n",
      "scp: remote readdir(\"/data/yanling/XGAP-ABUN/data/alldata/XGAP/SDSSTG10842/fit_spex_231115/spexdat0002785973.dum/\"): No such file or directory\n",
      "scp: remote readdir(\"/data/yanling/XGAP-ABUN/data/alldata/XGAP/SDSSTG10842/fit_spex_231115/spexpar0002785973.dum/\"): No such file or directory\n",
      "scp: remote readdir(\"/data/yanling/XGAP-ABUN/data/alldata/XGAP/SDSSTG10842/fit_spex_231115/spexpar0002484211.dum/\"): No such file or directory\n",
      "  4%|▍         | 2/48 [01:26<34:55, 45.55s/it]scp: remote readdir(\"/data/yanling/XGAP-ABUN/data/alldata/XGAP/SDSSTG885/fit_spex_231115/spexsys0002486354.dum/\"): No such file or directory\n",
      "scp: remote readdir(\"/data/yanling/XGAP-ABUN/data/alldata/XGAP/SDSSTG885/fit_spex_231115/spexpar0002486354.dum/\"): No such file or directory\n",
      "scp: remote readdir(\"/data/yanling/XGAP-ABUN/data/alldata/XGAP/SDSSTG885/fit_spex_231115/spexmod0002486354.dum/\"): No such file or directory\n",
      "scp: remote readdir(\"/data/yanling/XGAP-ABUN/data/alldata/XGAP/SDSSTG885/fit_spex_231115/spexdat0002486354.dum/\"): No such file or directory\n",
      "  8%|▊         | 4/48 [02:33<26:57, 36.75s/it]scp: remote readdir(\"/data/yanling/XGAP-ABUN/data/alldata/XGAP/SDSSTG9695/fit_spex_231115/\"): No such file or directory\n",
      "scp: /data/yanling/XGAP-ABUN/data/alldata/XGAP/SDSSTG9695/fit_spex_231115/*/*GD*: No such file or directory\n",
      " 10%|█         | 5/48 [02:38<18:07, 25.28s/it]scp: remote readdir(\"/data/yanling/XGAP-ABUN/data/alldata/XGAP/SDSSTG4654/fit_spex_231115/spex_lower_stat.com/\"): No such file or directory\n",
      " 17%|█▋        | 8/48 [04:02<17:31, 26.28s/it]scp: remote readdir(\"/data/yanling/XGAP-ABUN/data/alldata/XGAP/SDSSTG3128/fit_spex_231115/spexpar0002483790.dum/\"): No such file or directory\n",
      "scp: remote readdir(\"/data/yanling/XGAP-ABUN/data/alldata/XGAP/SDSSTG3128/fit_spex_231115/spex_lower_stat.com/\"): No such file or directory\n",
      "scp: remote readdir(\"/data/yanling/XGAP-ABUN/data/alldata/XGAP/SDSSTG3128/fit_spex_231115/spexsys0002487892.dum/\"): No such file or directory\n",
      "scp: remote readdir(\"/data/yanling/XGAP-ABUN/data/alldata/XGAP/SDSSTG3128/fit_spex_231115/spexpar0002487892.dum/\"): No such file or directory\n",
      "scp: remote readdir(\"/data/yanling/XGAP-ABUN/data/alldata/XGAP/SDSSTG3128/fit_spex_231115/spexmod0002487892.dum/\"): No such file or directory\n",
      "scp: remote readdir(\"/data/yanling/XGAP-ABUN/data/alldata/XGAP/SDSSTG3128/fit_spex_231115/spexdat0002483790.dum/\"): No such file or directory\n",
      "scp: remote readdir(\"/data/yanling/XGAP-ABUN/data/alldata/XGAP/SDSSTG3128/fit_spex_231115/spexsys0002483790.dum/\"): No such file or directory\n",
      "scp: remote readdir(\"/data/yanling/XGAP-ABUN/data/alldata/XGAP/SDSSTG3128/fit_spex_231115/spexdat0002487892.dum/\"): No such file or directory\n",
      "scp: remote readdir(\"/data/yanling/XGAP-ABUN/data/alldata/XGAP/SDSSTG3128/fit_spex_231115/spexmod0002483790.dum/\"): No such file or directory\n",
      " 19%|█▉        | 9/48 [04:40<19:22, 29.80s/it]scp: remote readdir(\"/data/yanling/XGAP-ABUN/data/alldata/XGAP/SDSSTG2620/fit_spex_231115/\"): No such file or directory\n",
      "scp: /data/yanling/XGAP-ABUN/data/alldata/XGAP/SDSSTG2620/fit_spex_231115/*/*GD*: No such file or directory\n",
      " 21%|██        | 10/48 [04:44<13:55, 21.98s/it]scp: remote readdir(\"/data/yanling/XGAP-ABUN/data/alldata/XGAP/SDSSTG12349/fit_spex_231115/spex_lower_stat.com/\"): No such file or directory\n",
      " 23%|██▎       | 11/48 [05:15<15:14, 24.71s/it]scp: remote readdir(\"/data/yanling/XGAP-ABUN/data/alldata/XGAP/SDSSTG16150/fit_spex_231115/spex_lower_stat.com/\"): No such file or directory\n",
      " 27%|██▋       | 13/48 [06:08<14:43, 25.25s/it]scp: remote readdir(\"/data/yanling/XGAP-ABUN/data/alldata/XGAP/SDSSTG9771/fit_spex_231115/spexpar0002437432.dum/\"): No such file or directory\n",
      "scp: remote readdir(\"/data/yanling/XGAP-ABUN/data/alldata/XGAP/SDSSTG9771/fit_spex_231115/spexdat0002437432.dum/\"): No such file or directory\n",
      "scp: remote readdir(\"/data/yanling/XGAP-ABUN/data/alldata/XGAP/SDSSTG9771/fit_spex_231115/spex_lower_stat.com/\"): No such file or directory\n",
      "scp: remote readdir(\"/data/yanling/XGAP-ABUN/data/alldata/XGAP/SDSSTG9771/fit_spex_231115/spexdat0002487327.dum/\"): No such file or directory\n",
      "scp: remote readdir(\"/data/yanling/XGAP-ABUN/data/alldata/XGAP/SDSSTG9771/fit_spex_231115/spexsys0002437432.dum/\"): No such file or directory\n",
      "scp: remote readdir(\"/data/yanling/XGAP-ABUN/data/alldata/XGAP/SDSSTG9771/fit_spex_231115/spexpar0002484490.dum/\"): No such file or directory\n",
      "scp: remote readdir(\"/data/yanling/XGAP-ABUN/data/alldata/XGAP/SDSSTG9771/fit_spex_231115/spexsys0002484490.dum/\"): No such file or directory\n",
      "scp: remote readdir(\"/data/yanling/XGAP-ABUN/data/alldata/XGAP/SDSSTG9771/fit_spex_231115/spexmod0002484490.dum/\"): No such file or directory\n",
      "scp: remote readdir(\"/data/yanling/XGAP-ABUN/data/alldata/XGAP/SDSSTG9771/fit_spex_231115/spexpar0002487327.dum/\"): No such file or directory\n",
      "scp: remote readdir(\"/data/yanling/XGAP-ABUN/data/alldata/XGAP/SDSSTG9771/fit_spex_231115/spexdat0002484490.dum/\"): No such file or directory\n",
      "scp: remote readdir(\"/data/yanling/XGAP-ABUN/data/alldata/XGAP/SDSSTG9771/fit_spex_231115/spexsys0002487327.dum/\"): No such file or directory\n",
      "scp: remote readdir(\"/data/yanling/XGAP-ABUN/data/alldata/XGAP/SDSSTG9771/fit_spex_231115/spexmod0002437432.dum/\"): No such file or directory\n",
      "scp: remote readdir(\"/data/yanling/XGAP-ABUN/data/alldata/XGAP/SDSSTG9771/fit_spex_231115/spexmod0002487327.dum/\"): No such file or directory\n",
      " 29%|██▉       | 14/48 [06:50<17:18, 30.54s/it]scp: remote readdir(\"/data/yanling/XGAP-ABUN/data/alldata/XGAP/SDSSTG1601/fit_spex_231115/spex_lower_stat.com/\"): No such file or directory\n",
      " 31%|███▏      | 15/48 [07:19<16:27, 29.94s/it]scp: remote readdir(\"/data/yanling/XGAP-ABUN/data/alldata/XGAP/SDSSTG10094/fit_spex_231115/spexpar0002437432.dum/\"): No such file or directory\n",
      "scp: remote readdir(\"/data/yanling/XGAP-ABUN/data/alldata/XGAP/SDSSTG10094/fit_spex_231115/spexdat0002437432.dum/\"): No such file or directory\n",
      "scp: remote readdir(\"/data/yanling/XGAP-ABUN/data/alldata/XGAP/SDSSTG10094/fit_spex_231115/spex_lower_stat.com/\"): No such file or directory\n",
      "scp: remote readdir(\"/data/yanling/XGAP-ABUN/data/alldata/XGAP/SDSSTG10094/fit_spex_231115/spexsys0002437432.dum/\"): No such file or directory\n",
      "scp: remote readdir(\"/data/yanling/XGAP-ABUN/data/alldata/XGAP/SDSSTG10094/fit_spex_231115/spexmod0002437432.dum/\"): No such file or directory\n",
      " 33%|███▎      | 16/48 [07:50<16:13, 30.42s/it]scp: remote readdir(\"/data/yanling/XGAP-ABUN/data/alldata/XGAP/SDSSTG6159/fit_spex_231115/spex_lower_stat.com/\"): No such file or directory\n",
      " 38%|███▊      | 18/48 [08:52<15:18, 30.61s/it]scp: remote readdir(\"/data/yanling/XGAP-ABUN/data/alldata/XGAP/SDSSTG9178/fit_spex_231115/spex_lower_stat.com/\"): No such file or directory\n",
      " 42%|████▏     | 20/48 [09:48<13:42, 29.38s/it]scp: remote readdir(\"/data/yanling/XGAP-ABUN/data/alldata/XGAP/SDSSTG5742/fit_spex_231115/spexmod0002054630.dum/\"): No such file or directory\n",
      "scp: remote readdir(\"/data/yanling/XGAP-ABUN/data/alldata/XGAP/SDSSTG5742/fit_spex_231115/spex_lower_stat.com/\"): No such file or directory\n",
      "scp: remote readdir(\"/data/yanling/XGAP-ABUN/data/alldata/XGAP/SDSSTG5742/fit_spex_231115/spexsys0002054630.dum/\"): No such file or directory\n",
      "scp: remote readdir(\"/data/yanling/XGAP-ABUN/data/alldata/XGAP/SDSSTG5742/fit_spex_231115/spexpar0002054630.dum/\"): No such file or directory\n",
      "scp: remote readdir(\"/data/yanling/XGAP-ABUN/data/alldata/XGAP/SDSSTG5742/fit_spex_231115/spexdat0002054630.dum/\"): No such file or directory\n",
      "client_loop: send disconnect: Broken pipe\n",
      "scp: Connection closed\n",
      " 44%|████▍     | 21/48 [10:36<15:42, 34.89s/it]scp: remote readdir(\"/data/yanling/XGAP-ABUN/data/alldata/XGAP/SDSSTG6058/fit_spex_231115/spex_lower_stat.com/\"): No such file or directory\n",
      "scp: remote readdir(\"/data/yanling/XGAP-ABUN/data/alldata/XGAP/SDSSTG6058/fit_spex_231115/spexpar0002411092.dum/\"): No such file or directory\n",
      "scp: remote readdir(\"/data/yanling/XGAP-ABUN/data/alldata/XGAP/SDSSTG6058/fit_spex_231115/spexsys0002411092.dum/\"): No such file or directory\n",
      "scp: remote readdir(\"/data/yanling/XGAP-ABUN/data/alldata/XGAP/SDSSTG6058/fit_spex_231115/spexmod0002411092.dum/\"): No such file or directory\n",
      "scp: remote readdir(\"/data/yanling/XGAP-ABUN/data/alldata/XGAP/SDSSTG6058/fit_spex_231115/spexdat0002411092.dum/\"): No such file or directory\n",
      "client_loop: send disconnect: Broken pipe\n",
      "scp: Connection closed\n",
      " 46%|████▌     | 22/48 [11:24<16:54, 39.01s/it]scp: /data/yanling/XGAP-ABUN/data/alldata/XGAP/SDSSTG1162/fit_spex_231115/*/*GD*: No such file or directory\n",
      " 48%|████▊     | 23/48 [11:37<13:01, 31.25s/it]client_loop: send disconnect: Broken pipe\n",
      " 50%|█████     | 24/48 [12:21<13:56, 34.83s/it]scp: Connection closed\n",
      "scp: remote readdir(\"/data/yanling/XGAP-ABUN/data/alldata/XGAP/SDSSTG2424/fit_spex_231115/spex_lower_stat.com/\"): No such file or directory\n",
      " 54%|█████▍    | 26/48 [13:19<11:42, 31.94s/it]scp: remote readdir(\"/data/yanling/XGAP-ABUN/data/alldata/XGAP/SDSSTG35976/fit_spex_231115/spex_lower_stat.com/\"): No such file or directory\n",
      " 60%|██████    | 29/48 [14:47<09:34, 30.25s/it]scp: remote readdir(\"/data/yanling/XGAP-ABUN/data/alldata/XGAP/SDSSTG9647/fit_spex_231115/spex_lower_stat.com/\"): No such file or directory\n",
      " 67%|██████▋   | 32/48 [16:22<08:22, 31.42s/it]scp: remote readdir(\"/data/yanling/XGAP-ABUN/data/alldata/XGAP/SDSSTG15776/fit_spex_231115/spex_lower_stat.com/\"): No such file or directory\n",
      "scp: remote readdir(\"/data/yanling/XGAP-ABUN/data/alldata/XGAP/SDSSTG15776/fit_spex_231115/spexmod0003067236.dum/\"): No such file or directory\n",
      "scp: remote readdir(\"/data/yanling/XGAP-ABUN/data/alldata/XGAP/SDSSTG15776/fit_spex_231115/spexdat0003067236.dum/\"): No such file or directory\n",
      "scp: remote readdir(\"/data/yanling/XGAP-ABUN/data/alldata/XGAP/SDSSTG15776/fit_spex_231115/spexsys0003067236.dum/\"): No such file or directory\n",
      "scp: remote readdir(\"/data/yanling/XGAP-ABUN/data/alldata/XGAP/SDSSTG15776/fit_spex_231115/spexpar0003067236.dum/\"): No such file or directory\n",
      "client_loop: send disconnect: Broken pipe\n",
      "scp: Connection closed\n",
      " 69%|██████▉   | 33/48 [17:08<08:56, 35.76s/it]scp: remote readdir(\"/data/yanling/XGAP-ABUN/data/alldata/XGAP/SDSSTG9370/fit_spex_231115/\"): No such file or directory\n",
      "scp: /data/yanling/XGAP-ABUN/data/alldata/XGAP/SDSSTG9370/fit_spex_231115/*/*GD*: No such file or directory\n",
      " 71%|███████   | 34/48 [17:12<06:09, 26.38s/it]scp: /data/yanling/XGAP-ABUN/data/alldata/XGAP/SDSSTG21128/fit_spex_231115/*/*GD*: No such file or directory\n",
      " 75%|███████▌  | 36/48 [17:48<04:31, 22.60s/it]scp: remote readdir(\"/data/yanling/XGAP-ABUN/data/alldata/XGAP/SDSSTG40241/fit_spex_231115/spex_lower_stat.com/\"): No such file or directory\n",
      " 77%|███████▋  | 37/48 [18:16<04:26, 24.23s/it]scp: remote readdir(\"/data/yanling/XGAP-ABUN/data/alldata/XGAP/SDSSTG11844/fit_spex_231115/spexpar0002781723.dum/\"): No such file or directory\n",
      "scp: remote readdir(\"/data/yanling/XGAP-ABUN/data/alldata/XGAP/SDSSTG11844/fit_spex_231115/spex_lower_stat.com/\"): No such file or directory\n",
      "scp: remote readdir(\"/data/yanling/XGAP-ABUN/data/alldata/XGAP/SDSSTG11844/fit_spex_231115/spexdat0002781723.dum/\"): No such file or directory\n",
      "scp: remote readdir(\"/data/yanling/XGAP-ABUN/data/alldata/XGAP/SDSSTG11844/fit_spex_231115/spexmod0002781723.dum/\"): No such file or directory\n",
      "scp: remote readdir(\"/data/yanling/XGAP-ABUN/data/alldata/XGAP/SDSSTG11844/fit_spex_231115/spexsys0002781723.dum/\"): No such file or directory\n",
      "client_loop: send disconnect: Broken pipe\n",
      "scp: Connection closed\n",
      " 79%|███████▉  | 38/48 [19:05<05:14, 31.45s/it]scp: remote readdir(\"/data/yanling/XGAP-ABUN/data/alldata/XGAP/SDSSTG4047/fit_spex_231115/spex_lower_stat.com/\"): No such file or directory\n",
      "client_loop: send disconnect: Broken pipe\n",
      "scp: Connection closed\n",
      " 81%|████████▏ | 39/48 [19:54<05:30, 36.71s/it]scp: remote readdir(\"/data/yanling/XGAP-ABUN/data/alldata/XGAP/SDSSTG3513/fit_spex_231115/spexmod0002782094.dum/\"): No such file or directory\n",
      "scp: remote readdir(\"/data/yanling/XGAP-ABUN/data/alldata/XGAP/SDSSTG3513/fit_spex_231115/spexpar0002782094.dum/\"): No such file or directory\n",
      "scp: remote readdir(\"/data/yanling/XGAP-ABUN/data/alldata/XGAP/SDSSTG3513/fit_spex_231115/spexsys0002782094.dum/\"): No such file or directory\n",
      "scp: remote readdir(\"/data/yanling/XGAP-ABUN/data/alldata/XGAP/SDSSTG3513/fit_spex_231115/spexdat0002782094.dum/\"): No such file or directory\n",
      "client_loop: send disconnect: Broken pipe\n",
      "scp: Connection closed\n",
      " 83%|████████▎ | 40/48 [20:43<05:22, 40.34s/it]scp: remote readdir(\"/data/yanling/XGAP-ABUN/data/alldata/XGAP/SDSSTG16393/fit_spex_231115/spexpar0002782169.dum/\"): No such file or directory\n",
      "scp: remote readdir(\"/data/yanling/XGAP-ABUN/data/alldata/XGAP/SDSSTG16393/fit_spex_231115/spexdat0002782169.dum/\"): No such file or directory\n",
      "scp: remote readdir(\"/data/yanling/XGAP-ABUN/data/alldata/XGAP/SDSSTG16393/fit_spex_231115/spexmod0002782169.dum/\"): No such file or directory\n",
      "scp: remote readdir(\"/data/yanling/XGAP-ABUN/data/alldata/XGAP/SDSSTG16393/fit_spex_231115/spexsys0002782169.dum/\"): No such file or directory\n",
      " 85%|████████▌ | 41/48 [21:14<04:23, 37.60s/it]scp: remote readdir(\"/data/yanling/XGAP-ABUN/data/alldata/XGAP/SDSSTG16386/fit_spex_231115/spex_lower_stat.com/\"): No such file or directory\n",
      " 88%|████████▊ | 42/48 [21:42<03:27, 34.66s/it]scp: remote readdir(\"/data/yanling/XGAP-ABUN/data/alldata/XGAP/SDSSTG10159/fit_spex_231115/spex_lower_stat.com/\"): No such file or directory\n",
      "client_loop: send disconnect: Broken pipe\n",
      "scp: Connection closed\n",
      " 96%|█████████▌| 46/48 [24:00<01:05, 32.68s/it]scp: remote readdir(\"/data/yanling/XGAP-ABUN/data/alldata/XGAP/SDSSTG28674/fit_spex_231115/spex_lower_stat.com/\"): No such file or directory\n",
      " 98%|█████████▊| 47/48 [24:28<00:31, 31.21s/it]scp: remote readdir(\"/data/yanling/XGAP-ABUN/data/alldata/XGAP/SDSSTG22635/fit_spex_231115/spex_lower_stat.com/\"): No such file or directory\n",
      "100%|██████████| 48/48 [24:55<00:00, 31.17s/it]\n"
     ]
    }
   ],
   "source": [
    "import pandas as pd\n",
    "import numpy as np\n",
    "from tqdm import tqdm\n",
    "import os\n",
    "\n",
    "\n",
    "my_rootdir = f'/Users/eusracenorth/Documents/work/XGAP-ABUN/alldata/XGAP'\n",
    "server_rootdir = '/data/yanling/XGAP-ABUN/data/alldata/XGAP'\n",
    "\n",
    "regname = 'R500-01'\n",
    "# read ids\n",
    "datapath = f'/Users/eusracenorth/Documents/work/XGAP-ABUN/codes/ESAS/get_nh'\n",
    "f = pd.read_csv(f'{datapath}/basics_allsources.csv')\n",
    "ids = f['ID']\n",
    "\n",
    "# ids = ['SDSSTG8050']\n",
    "# ids = ['SDSSTG9178', 'SDSSTG3669', 'SDSSTG22635', 'SDSSTG39344', 'SDSSTG11320','SDSSTG6159', 'SDSSTG1601','SDSSTG28674','SDSSTG8102', 'SDSSTG11631', 'SDSSTG16386','SDSSTG10159']\n",
    "# ids = ['SDSSTG10842']\n",
    "for id in tqdm(ids):\n",
    "    savepath = f'{my_rootdir}/{id}'\n",
    "    # files_exist = glob(f'{savepath}/fit_23*/figs/*GD*pdf')\n",
    "    # if not files_exist:\n",
    "    # print(savepath)\n",
    "    # os.makedirs(savepath, exist_ok=True)\n",
    "    os.system(f'scp -P3333 -r yanling@101.6.240.92:{server_rootdir}/{id}/fit_spex_231115/\\*/\\*GD\\* {savepath}/fit_spex_231115')\n",
    "    # os.system(f'cp -r {savepath}/fit_spex_231115/fit_spex_231115/ {savepath}/fit_spex')\n",
    "    # os.system(f'rm -r  {savepath}/fit_spex_231115')\n",
    "    # os.system(f'mv {savepath}fit_spex_231115 {savepath}/fit_spex_231115')"
   ]
  },
  {
   "cell_type": "code",
   "execution_count": null,
   "metadata": {},
   "outputs": [],
   "source": [
    "import pandas as pd\n",
    "import numpy as np\n",
    "import os\n",
    "\n",
    "my_rootdir = f'/Users/eusracenorth/Documents/work/XGAP-ABUN/alldata/XGAP'\n",
    "server_rootdir = '/data/yanling/XGAP-ABUN/data/alldata/XGAP'\n",
    "\n",
    "regname = 'R500-01'\n",
    "# read ids\n",
    "datapath = f'/Users/eusracenorth/Documents/work/XGAP-ABUN/codes/ESAS/get_nh'\n",
    "f = pd.read_csv(f'{datapath}/basics_allsources.csv')\n",
    "ids = f['ID']\n",
    "# print(np.array(ids))\n",
    "ids = ['SDSSTG22635', 'SDSSTG6159', 'SDSSTG9370', 'SDSSTG1601', 'SDSSTG28674', 'SDSSTG11320', 'SDSSTG8102', 'SDSSTG3669', 'SDSSTG11631', 'SDSSTG9178']\n",
    "for id in ids:\n",
    "    savepath = f'{my_rootdir}/{id}'\n",
    "    print(savepath)\n",
    "    os.makedirs(savepath, exist_ok=True)\n",
    "    os.system(f'scp -P3333 -r yanling@101.6.240.92:{server_rootdir}/{id}/fit_231* {savepath}')"
   ]
  },
  {
   "cell_type": "code",
   "execution_count": null,
   "metadata": {},
   "outputs": [],
   "source": [
    "import pandas as pd\n",
    "import numpy as np\n",
    "import os\n",
    "\n",
    "my_rootdir = f'/Users/eusracenorth/Documents/work/XGAP-ABUN/alldata/XGAP'\n",
    "server_rootdir = '/data/yanling/XGAP-ABUN/data/alldata/XGAP'\n",
    "\n",
    "os.system(f'scp -P3333 -r yanling@101.6.240.92:/data/yanling/XGAP-ABUN/data/alldata/XGAP/dats/*.csv {my_rootdir}/../dats')"
   ]
  },
  {
   "cell_type": "code",
   "execution_count": null,
   "metadata": {},
   "outputs": [],
   "source": [
    "spex_set1 = ['SDSSTG8050','SDSSTG10842','SDSSTG885','SDSSTG1011','SDSSTG4654']\n",
    "spex_set2 = ['SDSSTG1695','SDSSTG15641','SDSSTG3128'\n",
    ",'SDSSTG12349','SDSSTG16150']\n",
    "spex_set3 = ['SDSSTG3460','SDSSTG9771','SDSSTG10094'\n",
    ",'SDSSTG5742','SDSSTG6058','SDSSTG1162']\n",
    "spex_set4 = ['SDSSTG15354','SDSSTG2424'\n",
    ",'SDSSTG46701','SDSSTG35976','SDSSTG9399','SDSSTG4436']\n",
    "spex_set5 = ['SDSSTG9647'\n",
    ",'SDSSTG4936','SDSSTG828','SDSSTG15776','SDSSTG9370','SDSSTG21128']\n",
    "spex_set6 = ['SDSSTG1398','SDSSTG40241','SDSSTG11844','SDSSTG4047','SDSSTG3513'\n",
    ",'SDSSTG16393']"
   ]
  },
  {
   "cell_type": "code",
   "execution_count": null,
   "metadata": {},
   "outputs": [],
   "source": [
    "# gdem\n",
    "\n",
    "spex_set1 = ['SDSSTG10842','SDSSTG885','SDSSTG1011','SDSSTG4654', 'SDSSTG8050']\n",
    "spex_set2 = ['SDSSTG3128','SDSSTG12349','SDSSTG16150', 'SDSSTG10094','SDSSTG5742','SDSSTG6058','SDSSTG1162']\n",
    "spex_set4 = ['SDSSTG2424'\n",
    ",'SDSSTG46701','SDSSTG35976','SDSSTG9399','SDSSTG4436']\n",
    "spex_set5 = ['SDSSTG9647'\n",
    ",'SDSSTG4936','SDSSTG15776','SDSSTG21128']\n",
    "spex_set6 = ['SDSSTG11844','SDSSTG4047','SDSSTG3513'\n",
    ",'SDSSTG16393']\n",
    "\n",
    "spex_set = ['SDSSTG22635', 'SDSSTG6159', 'SDSSTG9370', 'SDSSTG1601', 'SDSSTG28674'\n",
    ", 'SDSSTG11320', 'SDSSTG8102', 'SDSSTG3669', 'SDSSTG11631', 'SDSSTG9178']\n",
    "\n",
    "'SDSSTG40241'"
   ]
  },
  {
   "cell_type": "code",
   "execution_count": null,
   "metadata": {},
   "outputs": [],
   "source": [
    "xspec_set1 = ['SDSSTG10842',\n",
    "'SDSSTG10094','SDSSTG6159','SDSSTG8102','SDSSTG9178','SDSSTG39344']\n",
    "xspec_set2 = ['SDSSTG5742','SDSSTG6058','SDSSTG1162','SDSSTG15354','SDSSTG2424'\n",
    ",'SDSSTG46701','SDSSTG35976','SDSSTG9399','SDSSTG4436','SDSSTG9647']\n",
    "xspec_set3 = ['SDSSTG4936','SDSSTG828','SDSSTG15776','SDSSTG9370','SDSSTG21128'\n",
    ",'SDSSTG1398','SDSSTG40241','SDSSTG11844','SDSSTG4047','SDSSTG3513']\n",
    "xspec_set4 = ['SDSSTG16393','SDSSTG16386','SDSSTG10159','SDSSTG11631','SDSSTG3669'\n",
    ",'SDSSTG11320','SDSSTG28674','SDSSTG22635']\n",
    "\n",
    "xspec_set_app1 = []\n",
    "xspec_set_app2 = []"
   ]
  },
  {
   "cell_type": "markdown",
   "metadata": {},
   "source": [
    "4.2 download images"
   ]
  },
  {
   "cell_type": "code",
   "execution_count": 1,
   "metadata": {},
   "outputs": [
    {
     "name": "stderr",
     "output_type": "stream",
     "text": [
      "  0%|          | 0/48 [00:00<?, ?it/s]"
     ]
    },
    {
     "name": "stdout",
     "output_type": "stream",
     "text": [
      "SDSSTG8050\n"
     ]
    },
    {
     "name": "stderr",
     "output_type": "stream",
     "text": [
      "  2%|▏         | 1/48 [00:06<04:51,  6.20s/it]"
     ]
    },
    {
     "name": "stdout",
     "output_type": "stream",
     "text": [
      "SDSSTG10842\n"
     ]
    },
    {
     "name": "stderr",
     "output_type": "stream",
     "text": [
      "  4%|▍         | 2/48 [00:13<05:17,  6.89s/it]"
     ]
    },
    {
     "name": "stdout",
     "output_type": "stream",
     "text": [
      "SDSSTG885\n"
     ]
    },
    {
     "name": "stderr",
     "output_type": "stream",
     "text": [
      "  6%|▋         | 3/48 [00:20<05:10,  6.91s/it]"
     ]
    },
    {
     "name": "stdout",
     "output_type": "stream",
     "text": [
      "SDSSTG1011\n"
     ]
    },
    {
     "name": "stderr",
     "output_type": "stream",
     "text": [
      "  8%|▊         | 4/48 [00:26<04:52,  6.65s/it]"
     ]
    },
    {
     "name": "stdout",
     "output_type": "stream",
     "text": [
      "SDSSTG9695\n"
     ]
    },
    {
     "name": "stderr",
     "output_type": "stream",
     "text": [
      "scp: /data/yanling/XGAP-ABUN/data/alldata/XGAP/SDSSTG9695/R500-01_fk5.reg: No such file or directory\n",
      " 10%|█         | 5/48 [00:31<04:13,  5.89s/it]"
     ]
    },
    {
     "name": "stdout",
     "output_type": "stream",
     "text": [
      "SDSSTG4654\n"
     ]
    },
    {
     "name": "stderr",
     "output_type": "stream",
     "text": [
      " 12%|█▎        | 6/48 [00:36<04:03,  5.80s/it]"
     ]
    },
    {
     "name": "stdout",
     "output_type": "stream",
     "text": [
      "SDSSTG1695\n"
     ]
    },
    {
     "name": "stderr",
     "output_type": "stream",
     "text": [
      " 15%|█▍        | 7/48 [00:43<04:06,  6.01s/it]"
     ]
    },
    {
     "name": "stdout",
     "output_type": "stream",
     "text": [
      "SDSSTG15641\n"
     ]
    },
    {
     "name": "stderr",
     "output_type": "stream",
     "text": [
      " 17%|█▋        | 8/48 [00:49<04:06,  6.16s/it]"
     ]
    },
    {
     "name": "stdout",
     "output_type": "stream",
     "text": [
      "SDSSTG3128\n"
     ]
    },
    {
     "name": "stderr",
     "output_type": "stream",
     "text": [
      " 19%|█▉        | 9/48 [00:55<03:55,  6.03s/it]"
     ]
    },
    {
     "name": "stdout",
     "output_type": "stream",
     "text": [
      "SDSSTG2620\n"
     ]
    },
    {
     "name": "stderr",
     "output_type": "stream",
     "text": [
      "scp: /data/yanling/XGAP-ABUN/data/alldata/XGAP/SDSSTG2620/R500-01_fk5.reg: No such file or directory\n",
      " 21%|██        | 10/48 [01:00<03:38,  5.75s/it]"
     ]
    },
    {
     "name": "stdout",
     "output_type": "stream",
     "text": [
      "SDSSTG12349\n"
     ]
    },
    {
     "name": "stderr",
     "output_type": "stream",
     "text": [
      " 23%|██▎       | 11/48 [01:06<03:28,  5.64s/it]"
     ]
    },
    {
     "name": "stdout",
     "output_type": "stream",
     "text": [
      "SDSSTG16150\n"
     ]
    },
    {
     "name": "stderr",
     "output_type": "stream",
     "text": [
      " 25%|██▌       | 12/48 [01:11<03:25,  5.71s/it]"
     ]
    },
    {
     "name": "stdout",
     "output_type": "stream",
     "text": [
      "SDSSTG3460\n"
     ]
    },
    {
     "name": "stderr",
     "output_type": "stream",
     "text": [
      " 27%|██▋       | 13/48 [01:17<03:15,  5.59s/it]"
     ]
    },
    {
     "name": "stdout",
     "output_type": "stream",
     "text": [
      "SDSSTG9771\n"
     ]
    },
    {
     "name": "stderr",
     "output_type": "stream",
     "text": [
      " 29%|██▉       | 14/48 [01:23<03:13,  5.69s/it]"
     ]
    },
    {
     "name": "stdout",
     "output_type": "stream",
     "text": [
      "SDSSTG1601\n"
     ]
    },
    {
     "name": "stderr",
     "output_type": "stream",
     "text": [
      " 31%|███▏      | 15/48 [01:29<03:15,  5.91s/it]"
     ]
    },
    {
     "name": "stdout",
     "output_type": "stream",
     "text": [
      "SDSSTG10094\n"
     ]
    },
    {
     "name": "stderr",
     "output_type": "stream",
     "text": [
      " 33%|███▎      | 16/48 [01:35<03:04,  5.78s/it]"
     ]
    },
    {
     "name": "stdout",
     "output_type": "stream",
     "text": [
      "SDSSTG6159\n"
     ]
    },
    {
     "name": "stderr",
     "output_type": "stream",
     "text": [
      " 35%|███▌      | 17/48 [01:41<03:00,  5.82s/it]"
     ]
    },
    {
     "name": "stdout",
     "output_type": "stream",
     "text": [
      "SDSSTG8102\n"
     ]
    },
    {
     "name": "stderr",
     "output_type": "stream",
     "text": [
      " 38%|███▊      | 18/48 [01:48<03:05,  6.17s/it]"
     ]
    },
    {
     "name": "stdout",
     "output_type": "stream",
     "text": [
      "SDSSTG9178\n"
     ]
    },
    {
     "name": "stderr",
     "output_type": "stream",
     "text": [
      " 40%|███▉      | 19/48 [01:54<03:01,  6.27s/it]"
     ]
    },
    {
     "name": "stdout",
     "output_type": "stream",
     "text": [
      "SDSSTG39344\n"
     ]
    },
    {
     "name": "stderr",
     "output_type": "stream",
     "text": [
      " 42%|████▏     | 20/48 [01:59<02:46,  5.95s/it]"
     ]
    },
    {
     "name": "stdout",
     "output_type": "stream",
     "text": [
      "SDSSTG5742\n"
     ]
    },
    {
     "name": "stderr",
     "output_type": "stream",
     "text": [
      " 44%|████▍     | 21/48 [02:05<02:41,  5.97s/it]"
     ]
    },
    {
     "name": "stdout",
     "output_type": "stream",
     "text": [
      "SDSSTG6058\n"
     ]
    },
    {
     "name": "stderr",
     "output_type": "stream",
     "text": [
      " 46%|████▌     | 22/48 [02:11<02:30,  5.79s/it]"
     ]
    },
    {
     "name": "stdout",
     "output_type": "stream",
     "text": [
      "SDSSTG1162\n"
     ]
    },
    {
     "name": "stderr",
     "output_type": "stream",
     "text": [
      " 48%|████▊     | 23/48 [02:17<02:28,  5.93s/it]"
     ]
    },
    {
     "name": "stdout",
     "output_type": "stream",
     "text": [
      "SDSSTG15354\n"
     ]
    },
    {
     "name": "stderr",
     "output_type": "stream",
     "text": [
      " 50%|█████     | 24/48 [02:23<02:25,  6.08s/it]"
     ]
    },
    {
     "name": "stdout",
     "output_type": "stream",
     "text": [
      "SDSSTG2424\n"
     ]
    },
    {
     "name": "stderr",
     "output_type": "stream",
     "text": [
      " 52%|█████▏    | 25/48 [02:30<02:27,  6.41s/it]"
     ]
    },
    {
     "name": "stdout",
     "output_type": "stream",
     "text": [
      "SDSSTG46701\n"
     ]
    },
    {
     "name": "stderr",
     "output_type": "stream",
     "text": [
      " 54%|█████▍    | 26/48 [02:37<02:21,  6.42s/it]"
     ]
    },
    {
     "name": "stdout",
     "output_type": "stream",
     "text": [
      "SDSSTG35976\n"
     ]
    },
    {
     "name": "stderr",
     "output_type": "stream",
     "text": [
      " 56%|█████▋    | 27/48 [02:42<02:08,  6.14s/it]"
     ]
    },
    {
     "name": "stdout",
     "output_type": "stream",
     "text": [
      "SDSSTG9399\n"
     ]
    },
    {
     "name": "stderr",
     "output_type": "stream",
     "text": [
      " 58%|█████▊    | 28/48 [02:49<02:03,  6.18s/it]"
     ]
    },
    {
     "name": "stdout",
     "output_type": "stream",
     "text": [
      "SDSSTG4436\n"
     ]
    },
    {
     "name": "stderr",
     "output_type": "stream",
     "text": [
      " 60%|██████    | 29/48 [02:55<01:55,  6.08s/it]"
     ]
    },
    {
     "name": "stdout",
     "output_type": "stream",
     "text": [
      "SDSSTG9647\n"
     ]
    },
    {
     "name": "stderr",
     "output_type": "stream",
     "text": [
      " 62%|██████▎   | 30/48 [03:01<01:51,  6.20s/it]"
     ]
    },
    {
     "name": "stdout",
     "output_type": "stream",
     "text": [
      "SDSSTG4936\n"
     ]
    },
    {
     "name": "stderr",
     "output_type": "stream",
     "text": [
      " 65%|██████▍   | 31/48 [03:07<01:45,  6.18s/it]"
     ]
    },
    {
     "name": "stdout",
     "output_type": "stream",
     "text": [
      "SDSSTG828\n"
     ]
    },
    {
     "name": "stderr",
     "output_type": "stream",
     "text": [
      " 67%|██████▋   | 32/48 [03:13<01:38,  6.17s/it]"
     ]
    },
    {
     "name": "stdout",
     "output_type": "stream",
     "text": [
      "SDSSTG15776\n"
     ]
    },
    {
     "name": "stderr",
     "output_type": "stream",
     "text": [
      " 69%|██████▉   | 33/48 [03:19<01:29,  5.95s/it]"
     ]
    },
    {
     "name": "stdout",
     "output_type": "stream",
     "text": [
      "SDSSTG9370\n"
     ]
    },
    {
     "name": "stderr",
     "output_type": "stream",
     "text": [
      "scp: /data/yanling/XGAP-ABUN/data/alldata/XGAP/SDSSTG9370/R500-01_fk5.reg: No such file or directory\n",
      " 71%|███████   | 34/48 [03:23<01:16,  5.49s/it]"
     ]
    },
    {
     "name": "stdout",
     "output_type": "stream",
     "text": [
      "SDSSTG21128\n"
     ]
    },
    {
     "name": "stderr",
     "output_type": "stream",
     "text": [
      " 73%|███████▎  | 35/48 [03:29<01:14,  5.73s/it]"
     ]
    },
    {
     "name": "stdout",
     "output_type": "stream",
     "text": [
      "SDSSTG1398\n"
     ]
    },
    {
     "name": "stderr",
     "output_type": "stream",
     "text": [
      " 75%|███████▌  | 36/48 [03:38<01:19,  6.60s/it]"
     ]
    },
    {
     "name": "stdout",
     "output_type": "stream",
     "text": [
      "SDSSTG40241\n"
     ]
    },
    {
     "name": "stderr",
     "output_type": "stream",
     "text": [
      " 77%|███████▋  | 37/48 [03:44<01:09,  6.29s/it]"
     ]
    },
    {
     "name": "stdout",
     "output_type": "stream",
     "text": [
      "SDSSTG11844\n"
     ]
    },
    {
     "name": "stderr",
     "output_type": "stream",
     "text": [
      " 79%|███████▉  | 38/48 [03:50<01:02,  6.24s/it]"
     ]
    },
    {
     "name": "stdout",
     "output_type": "stream",
     "text": [
      "SDSSTG4047\n"
     ]
    },
    {
     "name": "stderr",
     "output_type": "stream",
     "text": [
      " 81%|████████▏ | 39/48 [03:56<00:55,  6.16s/it]"
     ]
    },
    {
     "name": "stdout",
     "output_type": "stream",
     "text": [
      "SDSSTG3513\n"
     ]
    },
    {
     "name": "stderr",
     "output_type": "stream",
     "text": [
      " 83%|████████▎ | 40/48 [04:01<00:47,  5.88s/it]"
     ]
    },
    {
     "name": "stdout",
     "output_type": "stream",
     "text": [
      "SDSSTG16393\n"
     ]
    },
    {
     "name": "stderr",
     "output_type": "stream",
     "text": [
      " 85%|████████▌ | 41/48 [04:06<00:40,  5.78s/it]"
     ]
    },
    {
     "name": "stdout",
     "output_type": "stream",
     "text": [
      "SDSSTG16386\n"
     ]
    },
    {
     "name": "stderr",
     "output_type": "stream",
     "text": [
      " 88%|████████▊ | 42/48 [04:13<00:35,  5.90s/it]"
     ]
    },
    {
     "name": "stdout",
     "output_type": "stream",
     "text": [
      "SDSSTG10159\n"
     ]
    },
    {
     "name": "stderr",
     "output_type": "stream",
     "text": [
      " 90%|████████▉ | 43/48 [04:20<00:30,  6.20s/it]"
     ]
    },
    {
     "name": "stdout",
     "output_type": "stream",
     "text": [
      "SDSSTG11631\n"
     ]
    },
    {
     "name": "stderr",
     "output_type": "stream",
     "text": [
      " 92%|█████████▏| 44/48 [04:26<00:24,  6.20s/it]"
     ]
    },
    {
     "name": "stdout",
     "output_type": "stream",
     "text": [
      "SDSSTG3669\n"
     ]
    },
    {
     "name": "stderr",
     "output_type": "stream",
     "text": [
      " 94%|█████████▍| 45/48 [04:32<00:18,  6.17s/it]"
     ]
    },
    {
     "name": "stdout",
     "output_type": "stream",
     "text": [
      "SDSSTG11320\n"
     ]
    },
    {
     "name": "stderr",
     "output_type": "stream",
     "text": [
      " 96%|█████████▌| 46/48 [04:38<00:12,  6.28s/it]"
     ]
    },
    {
     "name": "stdout",
     "output_type": "stream",
     "text": [
      "SDSSTG28674\n"
     ]
    },
    {
     "name": "stderr",
     "output_type": "stream",
     "text": [
      " 98%|█████████▊| 47/48 [04:45<00:06,  6.42s/it]"
     ]
    },
    {
     "name": "stdout",
     "output_type": "stream",
     "text": [
      "SDSSTG22635\n"
     ]
    },
    {
     "name": "stderr",
     "output_type": "stream",
     "text": [
      "100%|██████████| 48/48 [04:51<00:00,  6.07s/it]\n"
     ]
    }
   ],
   "source": [
    "import pandas as pd\n",
    "import numpy as np\n",
    "from tqdm import tqdm\n",
    "from glob import glob\n",
    "\n",
    "my_rootdir = f'/Users/eusracenorth/Documents/work/XGAP-ABUN/alldata/fk5_regs'\n",
    "server_rootdir = '/data/yanling/XGAP-ABUN/data/alldata/XGAP'\n",
    "\n",
    "regname = 'R500-01'\n",
    "# read ids\n",
    "datapath = f'/Users/eusracenorth/Documents/work/XGAP-ABUN/codes/ESAS/get_nh'\n",
    "f = pd.read_csv(f'{datapath}/basics_allsources.csv')\n",
    "ids = f['ID']\n",
    "\n",
    "for id in tqdm(ids):\n",
    "    print(id)\n",
    "    savepath = f'{my_rootdir}/{id}'\n",
    "    os.makedirs(savepath, exist_ok=True)\n",
    "    FILE = f'R500-01_fk5.reg'\n",
    "    files_exist = glob(f'{savepath}/fk5_regs/{FILE}')\n",
    "    if not files_exist:\n",
    "        os.system(f'scp -P3333 yanling@101.6.240.92:{server_rootdir}/{id}/{FILE} {savepath}/')\n",
    "        # os.system(f'scp -P3333 yanling@101.6.240.92:{server_rootdir}/{id}/sources_final_sum_srcreg_fk5_edit.reg {savepath}/')\n",
    "        # os.system(f'scp -P3333 yanling@101.6.240.92:{server_rootdir}/{id}/*-bkgregtsky.reg {savepath}/')"
   ]
  },
  {
   "cell_type": "markdown",
   "metadata": {},
   "source": [
    "4.3 rename files"
   ]
  },
  {
   "cell_type": "code",
   "execution_count": null,
   "metadata": {},
   "outputs": [],
   "source": [
    "from glob import glob\n",
    "import os\n",
    "\n",
    "dirs = glob('SDSS*')\n",
    "for d in dirs:\n",
    "    files = glob(f'{d}/*R500*/*R500*/*SD*SD*')\n",
    "    for f in files:\n",
    "        newf = f.replace(f'{d}_{d}', f'{d}')\n",
    "        print(newf)\n",
    "        os.system(f'mv {f} {newf}')"
   ]
  },
  {
   "cell_type": "code",
   "execution_count": null,
   "metadata": {},
   "outputs": [],
   "source": [
    "from glob import glob\n",
    "import os\n",
    "\n",
    "dirs = glob('IDSDSS*')\n",
    "for d in dirs:\n",
    "    newf = d.replace(f'IDSDSSTG', f'ID')\n",
    "    print(newf)\n",
    "    os.system(f'mv {d} {newf}')"
   ]
  },
  {
   "cell_type": "code",
   "execution_count": null,
   "metadata": {},
   "outputs": [],
   "source": [
    "#!/bin/bash\n",
    "\n",
    "# Iterate through files matching the pattern\n",
    "for file in SDSSTG*R500-01*; do\n",
    "    if [ -f \"$file\" ]; then\n",
    "        # Extract the filename without the path\n",
    "        filename=$(basename \"$file\")\n",
    "        new_filename=\"${filename/R500/R500-}\"\n",
    "\n",
    "        # Move the file to the new name in the same directory\n",
    "        mv \"$file\" \"$new_filename\"\n",
    "    fi\n",
    "done\n"
   ]
  },
  {
   "cell_type": "markdown",
   "metadata": {},
   "source": [
    "4.4 upload rosat spectras"
   ]
  },
  {
   "cell_type": "code",
   "execution_count": 5,
   "metadata": {},
   "outputs": [
    {
     "name": "stdout",
     "output_type": "stream",
     "text": [
      "SDSSTG8050\n",
      "SDSSTG10842\n",
      "SDSSTG885\n",
      "SDSSTG1011\n",
      "SDSSTG9695\n",
      "SDSSTG4654\n"
     ]
    },
    {
     "name": "stderr",
     "output_type": "stream",
     "text": [
      "scp: stat local \"/Users/eusracenorth/Documents/work/XGAP-ABUN/alldata/figs/comb_fits/SDSSTG9695/sources_final_sum_srcreg_fk5_reedit.reg\": No such file or directory\n"
     ]
    },
    {
     "name": "stdout",
     "output_type": "stream",
     "text": [
      "SDSSTG1695\n",
      "SDSSTG15641\n",
      "SDSSTG3128\n",
      "SDSSTG2620\n",
      "SDSSTG12349\n"
     ]
    },
    {
     "name": "stderr",
     "output_type": "stream",
     "text": [
      "scp: stat local \"/Users/eusracenorth/Documents/work/XGAP-ABUN/alldata/figs/comb_fits/SDSSTG2620/sources_final_sum_srcreg_fk5_reedit.reg\": No such file or directory\n"
     ]
    },
    {
     "name": "stdout",
     "output_type": "stream",
     "text": [
      "SDSSTG16150\n",
      "SDSSTG3460\n",
      "SDSSTG9771\n",
      "SDSSTG1601\n",
      "SDSSTG10094\n",
      "SDSSTG6159\n",
      "SDSSTG8102\n",
      "SDSSTG9178\n",
      "SDSSTG39344\n",
      "SDSSTG5742\n",
      "SDSSTG6058\n",
      "SDSSTG1162\n",
      "SDSSTG15354\n",
      "SDSSTG2424\n",
      "SDSSTG46701\n",
      "SDSSTG35976\n",
      "SDSSTG9399\n",
      "SDSSTG4436\n",
      "SDSSTG9647\n",
      "SDSSTG4936\n",
      "SDSSTG828\n",
      "SDSSTG15776\n",
      "SDSSTG9370\n",
      "SDSSTG21128\n"
     ]
    },
    {
     "name": "stderr",
     "output_type": "stream",
     "text": [
      "scp: stat local \"/Users/eusracenorth/Documents/work/XGAP-ABUN/alldata/figs/comb_fits/SDSSTG9370/sources_final_sum_srcreg_fk5_reedit.reg\": No such file or directory\n"
     ]
    },
    {
     "name": "stdout",
     "output_type": "stream",
     "text": [
      "SDSSTG1398\n",
      "SDSSTG40241\n",
      "SDSSTG11844\n",
      "SDSSTG4047\n",
      "SDSSTG3513\n",
      "SDSSTG16393\n",
      "SDSSTG16386\n",
      "SDSSTG10159\n",
      "SDSSTG11631\n",
      "SDSSTG3669\n",
      "SDSSTG11320\n",
      "SDSSTG28674\n",
      "SDSSTG22635\n"
     ]
    }
   ],
   "source": [
    "import pandas as pd\n",
    "from glob import glob\n",
    "\n",
    "# my_dir = f'/Users/eusracenorth/Downloads/ROSAT_specs'\n",
    "my_dir = f'/Users/eusracenorth/Documents/work/XGAP-ABUN/alldata/figs/comb_fits'\n",
    "\n",
    "my_rootdir = f'/Users/eusracenorth/Documents/work/XGAP-ABUN/alldata/XGAP'\n",
    "server_rootdir = '/data/yanling/XGAP-ABUN/data/alldata/XGAP'\n",
    "\n",
    "# datapath = f'{my_rootdir}/../dom'\n",
    "# f = pd.read_csv(f'{datapath}/source_centers_mos1.csv')\n",
    "# ids = f['SRCID']\n",
    "\n",
    "# # load the coordinates\n",
    "# f = pd.read_csv(f'{my_rootdir}/../dom/my_centers.csv')\n",
    "# ids = f['ID']\n",
    "\n",
    "# regname = 'bkg'\n",
    "# ids = ['SDSSTG10842']\n",
    "\n",
    "datapath = f'/Users/eusracenorth/Documents/work/XGAP-ABUN/codes/ESAS/get_nh'\n",
    "f = pd.read_csv(f'{datapath}/basics_allsources.csv')\n",
    "ids = f['ID']\n",
    "\n",
    "for id in ids:\n",
    "    print(id)\n",
    "    # srcname1 = f\"ID{id.split('G')[-1]}\"\n",
    "    os.system(f'scp -P3333 {my_dir}/{id}/sources_final_sum_srcreg_fk5_reedit.reg yanling@101.6.240.92:{server_rootdir}/{id}')"
   ]
  },
  {
   "cell_type": "code",
   "execution_count": null,
   "metadata": {},
   "outputs": [],
   "source": []
  }
 ],
 "metadata": {
  "kernelspec": {
   "display_name": "Python 3.10.1 64-bit ('3.10.1')",
   "language": "python",
   "name": "python3"
  },
  "language_info": {
   "codemirror_mode": {
    "name": "ipython",
    "version": 3
   },
   "file_extension": ".py",
   "mimetype": "text/x-python",
   "name": "python",
   "nbconvert_exporter": "python",
   "pygments_lexer": "ipython3",
   "version": "3.10.1"
  },
  "orig_nbformat": 4,
  "vscode": {
   "interpreter": {
    "hash": "1302458d99d58fefb56dc0fec08d039cf240bdcae78a53a9226b7c46b3832fa1"
   }
  }
 },
 "nbformat": 4,
 "nbformat_minor": 2
}
