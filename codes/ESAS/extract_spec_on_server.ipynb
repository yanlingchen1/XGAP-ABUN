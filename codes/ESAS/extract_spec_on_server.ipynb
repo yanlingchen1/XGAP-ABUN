{
 "cells": [
  {
   "cell_type": "markdown",
   "metadata": {},
   "source": [
    "1 Individual source"
   ]
  },
  {
   "cell_type": "code",
   "execution_count": null,
   "metadata": {},
   "outputs": [],
   "source": [
    "\"\"\"\n",
    "1. Make new dirs: \n",
    "rootdir with region name, \n",
    "{region name}: fitting files,\n",
    "others: for other files\n",
    "log: logs for fitting\n",
    "download the subdir of region name after that.\n",
    "\n",
    "2. mosspectra and mosback in sas21\n",
    "3. pn-spectra and pn_back in sas20\n",
    "\n",
    "note: don't run mosspectra or pnspectra or backs at same time in same dir!\n",
    "\n",
    "\"\"\""
   ]
  },
  {
   "cell_type": "code",
   "execution_count": 2,
   "metadata": {},
   "outputs": [],
   "source": [
    "# for a new region 01r500\n",
    "import os\n",
    "from glob import glob\n",
    "\n",
    "# SRCNAME1 = f''\n",
    "# SRCNAME2 = f'RGH80'\n",
    "# workpath = f'/data/yanling/XGAP-ABUN/data/data/{SRCNAME2}/reduction'\n",
    "\n",
    "\n",
    "SRCNAME1 = f'ID828'\n",
    "SRCNAME2 = f'SDSSTG828'\n",
    "workpath = f'/data/yanling/XGAP-ABUN/data/data/{SRCNAME1}/reduction/{SRCNAME2}'\n",
    "\n",
    "\n",
    "regname = 'R500_01'\n",
    "\n",
    "savepath = f'{workpath}/{regname}'\n",
    "\n",
    "ELO=700\n",
    "EHI=1200\n"
   ]
  },
  {
   "cell_type": "code",
   "execution_count": 3,
   "metadata": {},
   "outputs": [],
   "source": [
    "f = open('tmp/esas_exspec.sh', 'w')\n",
    "f.write(\n",
    "f'''\n",
    "#!/bin/bash\n",
    "\n",
    "heainit\n",
    "sasinit21\n",
    "source {workpath}/set_chips_on.txt\n",
    "source {workpath}/set_sas.txt\n",
    "# #### MOS ####\n",
    "# export M1=mos1S001\n",
    "# export M2=mos2S002\n",
    "\n",
    "# mkdir {regname}\n",
    "# mkdir {regname}/{regname}\n",
    "# mkdir {regname}/img\n",
    "# mkdir {regname}/logs\n",
    "# mkdir {regname}/diagnose\n",
    "\n",
    "# # mosspectra eventfile=${{M1}}-allevc.fits keepinterfiles=yes withregion=yes regionfile=spec_reg/{regname}-${{M1}}.reg pattern=12 withsrcrem=yes maskdet=${{M1}}-bkgregtdet.fits masksky=${{M1}}-bkgregtsky.fits elow={ELO} ehigh={EHI} ccds=\"${{M1ON}}\" -V=7 2>&1 |tee {regname}/logs/mosspectra_${{M1}}.log \n",
    "# # mosback inspecfile=${{M1}}-fovt.pi elow={ELO} ehigh={EHI} ccds=\"${{M1ON}}\" 2>&1  |tee mosback_${{M1}}.log \n",
    "# mosspectra eventfile=${{M2}}-allevc.fits keepinterfiles=yes withregion=yes regionfile=spec_reg/{regname}-${{M2}}.reg pattern=12 withsrcrem=yes maskdet=${{M2}}-bkgregtdet.fits masksky=${{M2}}-bkgregtsky.fits elow={ELO} ehigh={EHI} ccds=\"${{M2ON}}\" -V=7 2>&1 |tee {regname}/logs/mosspectra_${{M2}}.log\n",
    "# mosback inspecfile=${{M2}}-fovt.pi elow={ELO} ehigh={EHI} ccds=\"${{M2ON}}\" 2>&1  |tee mosback_${{M2}}.log \n",
    "\n",
    "# for name in $M2\n",
    "# do\n",
    "# echo $name\n",
    "\n",
    "# mv $name*-{ELO}-{EHI}* {regname}/img\n",
    "# mv $name-fovt.pi R500_01/R500_01/$name-obj-{SRCNAME2}_R500_01.pi\n",
    "# mv $name-bkg.pi R500_01/R500_01/$name-back-{SRCNAME2}_R500_01.pi\n",
    "# mv $name*.qdp {regname}/diagnose\n",
    "# mv $name*imt* {regname}/img\n",
    "# mv $name*.arf {regname}/{regname}/$name-{SRCNAME2}_{regname}.arf\n",
    "# mv $name*.rmf {regname}/{regname}/$name-{SRCNAME2}_{regname}.rmf\n",
    "# mv $name*imspdet* {regname}/img\n",
    "# done\n",
    "\n",
    "#### PN ####\n",
    "heainit\n",
    "sasinit20\n",
    "source {workpath}/set_chips_on.txt\n",
    "source {workpath}/set_sas.txt\n",
    "export name=pnS003\n",
    "cp $name-allevc.fits $name-clean.fits\n",
    "cp $name-allevcoot.fits $name-clean-oot.fits\n",
    "cp $name-corevc.fits $name-corn.fits\n",
    "cp $name-corevcoot.fits $name-corn-oot.fits\n",
    "cp $name-bkgregtdet.fits sas20-pn-test/$name-bkg_region-sky.fits \n",
    "cp $name-bkgregtsky.fits sas20-pn-test/$name-bkg_region-det.fits \n",
    "\n",
    "for PAT in 0 4\n",
    "do\n",
    "pn-spectra prefix='S003' caldb=/data/yanling/sas20/esas-caldb region=spec_reg/R500_01-pnS003.reg mask=1 elow={ELO} ehigh={EHI} pattern=$PAT quad1=1 quad2=1 quad3=1 quad4=1 2>&1 | tee {regname}/logs/pnspectra_$PAT.log\n",
    "pn_back prefix=S003 caldb=/data/yanling/sas20/esas-caldb diag=0 elow={ELO} ehigh={EHI} pattern=$PAT quad1=1 quad2=1 quad3=1 quad4=1 2>&1 | tee {regname}/logs/pnback_$PAT.log\n",
    "\n",
    "mkdir {regname}/img/pn_$PAT\n",
    "mkdir {regname}/diagnose/pn_$PAT\n",
    "\n",
    "mv $name*-{ELO}-{EHI}* {regname}/img/pn_$PAT\n",
    "mv $name-obj.pi {regname}/{regname}/$name-$PAT-obj-{SRCNAME2}_{regname}.pi\n",
    "mv $name-obj-oot.pi {regname}/{regname}/$name-$PAT-obj-oot-{SRCNAME2}_{regname}.pi\n",
    "mv $name-back.pi {regname}/{regname}/$name-$PAT-back-{SRCNAME2}_{regname}.pi\n",
    "mv $name*.qdp {regname}/diagnose/pn_$PAT\n",
    "mv $name*imt* {regname}/img/pn_$PAT\n",
    "mv $name*.arf {regname}/{regname}/$name-$PAT-{SRCNAME2}_{regname}.arf\n",
    "mv $name*.rmf {regname}/{regname}/$name-$PAT-{SRCNAME2}_{regname}.rmf\n",
    "mv $name*imspdet* {regname}/img/pn_$PAT\n",
    "\n",
    "done\n",
    "'''\n",
    ")\n",
    "f.close()\n",
    "\n",
    "# cd {workpath}\n",
    "# . codes/mosspectra.sh"
   ]
  },
  {
   "cell_type": "markdown",
   "metadata": {},
   "source": [
    "2 All sources\n",
    "\n"
   ]
  },
  {
   "cell_type": "code",
   "execution_count": 4,
   "metadata": {},
   "outputs": [],
   "source": [
    "#NOTE: Never use allevc-exchips events! The chips will be excluded in set_chips_on.txt!!!\n",
    "import os\n",
    "from glob import glob\n",
    "\n",
    "\n",
    "rootdir = '/data/yanling/XGAP-ABUN/data/alldata/XGAP'\n",
    "ELO=700\n",
    "EHI=1200\n",
    "\n",
    "homepaths = glob(f'{rootdir}/SDSSTG*')\n",
    "\n",
    "for homepath in homepaths:\n",
    "    if os.path.isdir(homepath):\n",
    "        os.chdir(homepath)\n",
    "        srcname = homepath.split('/')[-1]\n",
    "        mos1file = glob('mos1*-allevc.fits')[0]\n",
    "        mos2file = glob('mos2*-allevc.fits')[0]\n",
    "        pnfile = glob('pn*-allevc.fits')[0]\n",
    "        pnname = pnfile.split('-')[0]\n",
    "        pnname_suf = pnname[2:]\n",
    "\n",
    "        \n",
    "        for sregname in ['bkg', 'R500-01']:\n",
    "            regname = f'{srcname}_{sregname}'\n",
    "\n",
    "        \n",
    "            f = open(f'mos_exspec_{sregname}.sh', 'w')\n",
    "            f.write(\n",
    "        f'''\n",
    "heainit\n",
    "sasinit21\n",
    "source {homepath}/set_chips_on.txt\n",
    "source {homepath}/set_sas.txt\n",
    "\n",
    "\n",
    "#### MOS ####\n",
    "mkdir {regname}\n",
    "mkdir {regname}/{regname}\n",
    "mkdir {regname}/img\n",
    "mkdir {regname}/logs\n",
    "mkdir {regname}/diagnose\n",
    "\n",
    "mosspectra eventfile={mos1file} keepinterfiles=yes withregion=yes regionfile=fk5_regs/{srcname}-mos1_{sregname}.txt pattern=12 withsrcrem=yes maskdet=mos1-bkgregtdet.fits masksky=mos1-bkgregtsky.fits elow={ELO} ehigh={EHI} ccds=\"${{M1ON}}\" -V=7 > {regname}/logs/mosspectra_mos1.log 2>&1 \n",
    "mosback inspecfile={mos1file.split('-')[0]}-fovt.pi elow={ELO} ehigh={EHI} ccds=\"${{M1ON}}\" > {regname}/logs/mosback_mos1.log 2>&1 \n",
    "mosspectra eventfile={mos2file} keepinterfiles=yes withregion=yes regionfile=fk5_regs/{srcname}-mos2_{sregname}.txt pattern=12 withsrcrem=yes maskdet=mos2-bkgregtdet.fits masksky=mos2-bkgregtsky.fits elow={ELO} ehigh={EHI} ccds=\"${{M2ON}}\" -V=7 > {regname}/logs/mosspectra_mos2.log 2>&1 \n",
    "mosback inspecfile={mos2file.split('-')[0]}-fovt.pi elow={ELO} ehigh={EHI} ccds=\"${{M2ON}}\" > {regname}/logs/mosback_mos2.log 2>&1 \n",
    "\n",
    "for name in mos1 mos2\n",
    "do\n",
    "echo $name\n",
    "mv $name*-{ELO}-{EHI}* {regname}/img\n",
    "mv $name*.qdp {regname}/diagnose\n",
    "mv $name*imt* {regname}/img\n",
    "mv $name*imspdet* {regname}/img\n",
    "done\n",
    "\n",
    "mv mos1*-fovt.pi {regname}/{regname}/mos1S001-obj-{regname}.pi\n",
    "mv mos1*-bkg.pi {regname}/{regname}/mos1S001-back-{regname}.pi\n",
    "mv mos1*.arf {regname}/{regname}/mos1S001-{regname}.arf\n",
    "mv mos1*.rmf {regname}/{regname}/mos1S001-{regname}.rmf\n",
    "\n",
    "mv mos2*-fovt.pi {regname}/{regname}/mos2S002-obj-{regname}.pi\n",
    "mv mos2*-bkg.pi {regname}/{regname}/mos2S002-back-{regname}.pi\n",
    "mv mos2*.arf {regname}/{regname}/mos2S002-{regname}.arf\n",
    "mv mos2*.rmf {regname}/{regname}/mos2S002-{regname}.rmf\n",
    "\n",
    "        '''\n",
    "        )\n",
    "            f.close()\n"
   ]
  },
  {
   "cell_type": "code",
   "execution_count": null,
   "metadata": {},
   "outputs": [],
   "source": [
    "import os\n",
    "from glob import glob\n",
    "\n",
    "\n",
    "rootdir = '/data/yanling/XGAP-ABUN/data/alldata/XGAP'\n",
    "ELO=700\n",
    "EHI=1200\n",
    "\n",
    "homepaths = glob(f'{rootdir}/SDSSTG*')\n",
    "\n",
    "for homepath in homepaths:\n",
    "    if os.path.isdir(homepath):\n",
    "        os.chdir(homepath)\n",
    "        srcname = homepath.split('/')[-1]\n",
    "        mos1file = glob('mos1*-allevc.fits')[0]\n",
    "        mos2file = glob('mos2*-allevc.fits')[0]\n",
    "        pnfile = glob('pn*-allevc.fits')[0]\n",
    "        pnname = pnfile.split('-')[0]\n",
    "        pnname_suf = pnname[2:]\n",
    "\n",
    "        \n",
    "        for sregname in ['bkg']: # 'bkg', 'R500-01'\n",
    "            regname = f'{srcname}_{sregname}'\n",
    "\n",
    "            with open(f'pn_exspec_{sregname}.sh', 'w') as f:\n",
    "                f.write(\n",
    "                f'''\n",
    "\n",
    "#### PN ####\n",
    "heainit\n",
    "sasinit20\n",
    "source {homepath}/set_chips_on.txt\n",
    "source {homepath}/set_sas.txt\n",
    "export sname=pn\n",
    "export name={pnname}\n",
    "cp $sname*-allevc.fits $name-clean.fits\n",
    "cp $sname*-allevcoot.fits $name-clean-oot.fits\n",
    "cp $sname*-corevc.fits $name-corn.fits\n",
    "cp $sname*-corevcoot.fits $name-corn-oot.fits\n",
    "cp $sname-bkgregtdet.fits $name-bkg_region-sky.fits \n",
    "cp $sname-bkgregtsky.fits $name-bkg_region-det.fits \n",
    "\n",
    "for PAT in 0 4\n",
    "do\n",
    "pn-spectra prefix='{pnname_suf}' caldb=/data/yanling/sas20/esas-caldb region=fk5_regs/{srcname}-pn_{sregname}.txt mask=1 elow={ELO} ehigh={EHI} pattern=$PAT quad1=1 quad2=1 quad3=1 quad4=1 > {regname}/logs/pnspectra_$PAT.log 2>&1 \n",
    "pn_back prefix='{pnname_suf}' caldb=/data/yanling/sas20/esas-caldb diag=0 elow={ELO} ehigh={EHI} pattern=$PAT quad1=1 quad2=1 quad3=1 quad4=1 > {regname}/logs/pnback_$PAT.log 2>&1 \n",
    "\n",
    "mkdir {regname}/img/pn_$PAT\n",
    "mkdir {regname}/diagnose/pn_$PAT\n",
    "\n",
    "mv pn*-{ELO}-{EHI}* {regname}/img/pn_$PAT\n",
    "mv pn*-obj.pi {regname}/{regname}/pnS003-$PAT-obj-{regname}.pi\n",
    "mv pn*-obj-oot.pi {regname}/{regname}/pnS003-$PAT-obj-oot-{regname}.pi\n",
    "mv pn*-back.pi {regname}/{regname}/pnS003-$PAT-back-{regname}.pi\n",
    "mv pn*.qdp {regname}/diagnose/pn_$PAT\n",
    "mv pn*imt* {regname}/img/pn_$PAT\n",
    "mv pn*.arf {regname}/{regname}/pnS003-$PAT-{regname}.arf\n",
    "mv pn*.rmf {regname}/{regname}/pnS003-$PAT-{regname}.rmf\n",
    "mv pn*imspdet* {regname}/img/pn_$PAT\n",
    "\n",
    "done\n",
    "''')\n"
   ]
  },
  {
   "cell_type": "markdown",
   "metadata": {},
   "source": [
    "# 3 run in parallel"
   ]
  },
  {
   "cell_type": "code",
   "execution_count": null,
   "metadata": {},
   "outputs": [],
   "source": [
    "#!/bin/bash\n",
    "find . -mindepth 1 -maxdepth 1 -type d -name 'SDSSTG*' -print0 | parallel -0 -j+0 'cd {} && chmod +x esas_exspec_R500-01.sh && heainit && sasinit21 && source set_sas.txt && source set_chips_on.txt && ./esas_exspec_R500-01.sh'"
   ]
  },
  {
   "cell_type": "markdown",
   "metadata": {},
   "source": [
    "# 4 download from server"
   ]
  },
  {
   "cell_type": "markdown",
   "metadata": {},
   "source": [
    "4.1 download spectras"
   ]
  },
  {
   "cell_type": "code",
   "execution_count": 3,
   "metadata": {},
   "outputs": [],
   "source": [
    "import pandas as pd\n",
    "\n",
    "my_rootdir = f'/Users/eusracenorth/Documents/work/XGAP-ABUN/alldata/XGAP'\n",
    "server_rootdir = '/data/yanling/XGAP-ABUN/data/alldata/XGAP'\n",
    "\n",
    "regname = 'R500-01'\n",
    "# read ids\n",
    "datapath = f'{my_rootdir}/../dom'\n",
    "f = pd.read_csv(f'{datapath}/source_centers_mos1.csv')\n",
    "ids = f['SRCID']\n",
    "\n",
    "for id in ids:\n",
    "    savepath = f'{my_rootdir}/{id}'\n",
    "    os.makedirs(savepath, exist_ok=True)\n",
    "    # os.system(f'scp -P3333 -r yanling@101.6.240.92:{server_rootdir}/{id}/{id}_{regname}/{id}_{regname} {savepath}')"
   ]
  },
  {
   "cell_type": "markdown",
   "metadata": {},
   "source": [
    "4.2 download images"
   ]
  },
  {
   "cell_type": "code",
   "execution_count": null,
   "metadata": {},
   "outputs": [],
   "source": []
  },
  {
   "cell_type": "markdown",
   "metadata": {},
   "source": [
    "4.3 rename files"
   ]
  },
  {
   "cell_type": "code",
   "execution_count": null,
   "metadata": {},
   "outputs": [],
   "source": [
    "from glob import glob\n",
    "import os\n",
    "\n",
    "dirs = glob('SDSS*')\n",
    "for d in dirs:\n",
    "    files = glob(f'{d}/*R500*/*R500*/*{d}R500*')\n",
    "    for f in files:\n",
    "        newf = f.replace(f'{d}R500', f'{d}_R500')\n",
    "        print(newf)\n",
    "        os.system(f'mv {f} {newf}')"
   ]
  },
  {
   "cell_type": "code",
   "execution_count": null,
   "metadata": {},
   "outputs": [],
   "source": [
    "from glob import glob\n",
    "import os\n",
    "\n",
    "dirs = glob('IDSDSS*')\n",
    "for d in dirs:\n",
    "    newf = d.replace(f'IDSDSSTG', f'ID')\n",
    "    print(newf)\n",
    "    os.system(f'mv {d} {newf}')"
   ]
  },
  {
   "cell_type": "code",
   "execution_count": null,
   "metadata": {},
   "outputs": [],
   "source": [
    "#!/bin/bash\n",
    "\n",
    "# Iterate through files matching the pattern\n",
    "for file in SDSSTG*R500-01*; do\n",
    "    if [ -f \"$file\" ]; then\n",
    "        # Extract the filename without the path\n",
    "        filename=$(basename \"$file\")\n",
    "        new_filename=\"${filename/R500/R500-}\"\n",
    "\n",
    "        # Move the file to the new name in the same directory\n",
    "        mv \"$file\" \"$new_filename\"\n",
    "    fi\n",
    "done\n"
   ]
  },
  {
   "cell_type": "markdown",
   "metadata": {},
   "source": [
    "4.4 upload rosat spectras"
   ]
  },
  {
   "cell_type": "code",
   "execution_count": 1,
   "metadata": {},
   "outputs": [
    {
     "name": "stderr",
     "output_type": "stream",
     "text": [
      "scp: local \"/Users/eusracenorth/Downloads/ROSAT_specs/ID15354/IDSDSSTG15354\" is not a regular file\n",
      "scp: failed to upload file /Users/eusracenorth/Downloads/ROSAT_specs/ID15354/IDSDSSTG15354 to /data/yanling/XGAP-ABUN/data/alldata/XGAP/SDSSTG15354/SDSSTG15354_bkg/SDSSTG15354_bkg\n"
     ]
    }
   ],
   "source": [
    "import pandas as pd\n",
    "from glob import glob\n",
    "\n",
    "my_dir = f'/Users/eusracenorth/Downloads/ROSAT_specs'\n",
    "\n",
    "\n",
    "my_rootdir = f'/Users/eusracenorth/Documents/work/XGAP-ABUN/alldata/XGAP'\n",
    "server_rootdir = '/data/yanling/XGAP-ABUN/data/alldata/XGAP'\n",
    "\n",
    "# datapath = f'{my_rootdir}/../dom'\n",
    "# f = pd.read_csv(f'{datapath}/source_centers_mos1.csv')\n",
    "# ids = f['SRCID']\n",
    "\n",
    "# load the coordinates\n",
    "f = pd.read_csv(f'{my_rootdir}/../dom/my_centers.csv')\n",
    "ids = f['ID']\n",
    "\n",
    "\n",
    "regname = 'bkg'\n",
    "\n",
    "for id in ids:\n",
    "    srcname1 = f\"ID{id.split('G')[-1]}\"\n",
    "    os.system(f'scp -P3333 {my_dir}/{srcname1}/* yanling@101.6.240.92:{server_rootdir}/{id}/{id}_{regname}/{id}_{regname}')"
   ]
  },
  {
   "cell_type": "code",
   "execution_count": null,
   "metadata": {},
   "outputs": [],
   "source": []
  }
 ],
 "metadata": {
  "kernelspec": {
   "display_name": "Python 3.10.1 64-bit ('3.10.1')",
   "language": "python",
   "name": "python3"
  },
  "language_info": {
   "codemirror_mode": {
    "name": "ipython",
    "version": 3
   },
   "file_extension": ".py",
   "mimetype": "text/x-python",
   "name": "python",
   "nbconvert_exporter": "python",
   "pygments_lexer": "ipython3",
   "version": "3.10.1"
  },
  "orig_nbformat": 4,
  "vscode": {
   "interpreter": {
    "hash": "1302458d99d58fefb56dc0fec08d039cf240bdcae78a53a9226b7c46b3832fa1"
   }
  }
 },
 "nbformat": 4,
 "nbformat_minor": 2
}
