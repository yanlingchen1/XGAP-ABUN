{
 "cells": [
  {
   "cell_type": "code",
   "execution_count": null,
   "metadata": {},
   "outputs": [],
   "source": [
    "\"\"\"\n",
    "# load Tmean Tsig in GDEM\n",
    "# calculate Tavg in GDEM to compare with 1T\n",
    "# plot GDEM T distribution, Tmean, Tavg, T_1T, \n",
    "# note cstat/dof at upper left of the plot\n",
    "\"\"\""
   ]
  },
  {
   "cell_type": "code",
   "execution_count": 2,
   "metadata": {},
   "outputs": [],
   "source": [
    "import matplotlib.pyplot as plt\n",
    "\n",
    "def basic_figure_style():\n",
    "    SMALL_SIZE = 5*4                                       \n",
    "    MEDIUM_SIZE = 8*2\n",
    "    BIGGER_SIZE = 10*4\n",
    "\n",
    "    plt.rc('font', size=MEDIUM_SIZE, family='serif')          # controls default text sizes\n",
    "    plt.rc('axes', titlesize=MEDIUM_SIZE)                     # fontsize of the axes title\n",
    "    plt.rc('axes', labelsize=MEDIUM_SIZE)                    # fontsize of the x and y labels\n",
    "    plt.rc('xtick', labelsize=MEDIUM_SIZE, direction='out')    # fontsize of the tick labels\n",
    "    plt.rc('ytick', labelsize=MEDIUM_SIZE, direction='out')    # fontsize of the tick labels\n",
    "    plt.rc('legend', fontsize=MEDIUM_SIZE)                    # legend fontsize\n",
    "    plt.rc('figure', titlesize=BIGGER_SIZE)                  # fontsize of the figure title\n",
    "    plt.rc('lines', linewidth=1) \n",
    "    plt.rc('axes', grid=True) #\n",
    "    plt.rc('grid', alpha=0.7) #\n",
    "    plt.rc('xtick', top=True)\n",
    "    plt.rc('ytick', right=True)\n",
    "    plt.rc('axes.formatter', use_mathtext=True, min_exponent=4, useoffset=False)\n",
    "    plt.rc('figure', figsize='6, 6')                         # size of the figure, used to be '4, 3' in inches\n",
    "\n",
    "    # Set LaTeX rendering to True\n",
    "    plt.rc('text', usetex=False)\n",
    "\n",
    "basic_figure_style()\n"
   ]
  },
  {
   "cell_type": "code",
   "execution_count": 3,
   "metadata": {},
   "outputs": [],
   "source": [
    "import numpy as np \n",
    "import matplotlib.pyplot as plt\n",
    "import os\n",
    "from glob import glob\n",
    "import pandas as pd\n",
    "from tqdm import tqdm\n",
    "from scipy.stats import norm"
   ]
  },
  {
   "cell_type": "markdown",
   "metadata": {},
   "source": [
    "1 plot all"
   ]
  },
  {
   "cell_type": "code",
   "execution_count": 4,
   "metadata": {},
   "outputs": [],
   "source": [
    "# calculate Tavg in GDEM to compare with 1T\n",
    "def gaussian(x, mean, std_dev):\n",
    "    value = np.exp(-0.5 * ((x - mean) / std_dev)**2) / (std_dev * np.sqrt(2 * np.pi))\n",
    "    return value/np.sum(value)\n",
    "    \n",
    "def cal_gadem_Tavg(x, gauss):\n",
    "    fil = x>0\n",
    "    return np.sum(x[fil] * gauss[fil])/np.sum(gauss[fil])"
   ]
  },
  {
   "cell_type": "code",
   "execution_count": 9,
   "metadata": {},
   "outputs": [
    {
     "name": "stderr",
     "output_type": "stream",
     "text": [
      "100%|██████████| 44/44 [00:05<00:00,  7.99it/s]\n"
     ]
    }
   ],
   "source": [
    "# load Tmean Tsig in GDEM\n",
    "\n",
    "#### set paths ####\n",
    "rootdir = f'/Users/eusracenorth/Documents/work/XGAP-ABUN/alldata'\n",
    "savepath = f'{rootdir}/figs/T_distribution'\n",
    "datapath = f'{rootdir}/dats'\n",
    "os.makedirs(f'{savepath}', exist_ok=True)\n",
    "\n",
    "#### load data ####\n",
    "file_1T = f'{datapath}/R500-01_1T_xspec.csv'\n",
    "file_GD = f'{datapath}/R500-01_GDEM_xspec.csv'\n",
    "df_1T = pd.read_csv(file_1T)\n",
    "df_GD = pd.read_csv(file_GD)\n",
    "\n",
    "Tavg_dict = {'ID':[], 'Tavg':[], 'Tavg_lo':[], 'Tavg_hi':[]}\n",
    "#### plot ####\n",
    "# GDEM T distribution\n",
    "for i in tqdm(range(len(df_GD))):\n",
    "    fig,ax = plt.subplots(figsize = (8,8))\n",
    "    xarr = np.linspace(1e-2, 20, 10000)\n",
    "    Tmean = df_GD['T-value'][i]\n",
    "    Tmean_lo = df_GD['T-value'][i] - df_GD['T-errlo'][i]\n",
    "    Tmean_hi = df_GD['T-value'][i] + df_GD['T-errhi'][i]\n",
    "    Tsig = df_GD['Tsig-value'][i]\n",
    "    Tsig_lo = df_GD['Tsig-value'][i] - df_GD['Tsig-errlo'][i]\n",
    "    Tsig_hi = df_GD['Tsig-value'][i] + df_GD['Tsig-errhi'][i]\n",
    "    Tdist = gaussian(xarr, Tmean, Tsig)\n",
    "    Tdist_lo = gaussian(xarr, Tmean_lo, Tsig_lo)\n",
    "    Tdist_hi = gaussian(xarr, Tmean_hi, Tsig_hi)\n",
    "\n",
    "\n",
    "    T1 = df_1T['T-value'][i]\n",
    "    T1_lo = df_1T['T-value'][i] - df_1T['T-errlo'][i]\n",
    "    T1_hi = df_1T['T-value'][i] + df_1T['T-errhi'][i]\n",
    "\n",
    "\n",
    "    # Cal Tavg\n",
    "    Tavg = cal_gadem_Tavg(xarr, Tdist)\n",
    "    Tavg_lo = cal_gadem_Tavg(xarr, Tdist_lo)\n",
    "    Tavg_hi = cal_gadem_Tavg(xarr, Tdist_hi)\n",
    "    Tavg_dict['ID'].append(df_1T[\"reg\"][i])\n",
    "    Tavg_dict['Tavg'].append(Tavg)\n",
    "    Tavg_dict['Tavg_lo'].append(Tavg_lo)\n",
    "    Tavg_dict['Tavg_hi'].append(Tavg_hi)\n",
    "\n",
    "    plt.plot(xarr, Tdist, color= 'r', label = 'GDEM')\n",
    "    # plt.fill_between(xarr, y1 = Tdist_lo, y2 = Tdist_hi, color= 'r', alpha = 0.3)\n",
    "\n",
    "    plt.axvline(Tavg, color = 'r', label = 'Tavg')\n",
    "    plt.fill_betweenx(np.linspace(0,1,2), Tavg_lo, Tavg_hi,  color = 'r', alpha = 0.3)\n",
    "\n",
    "    # plt.axvline(Tmean, color = 'k', label = 'Tmean')\n",
    "    # plt.fill_betweeny(Tmean_lo, Tmean_hi, color = 'k', alpha = 0.3)\n",
    "\n",
    "    plt.axvline(T1, color = 'b', label = 'T_1T')\n",
    "    plt.fill_betweenx(np.linspace(0,1,2),T1_lo, T1_hi, color = 'b', alpha = 0.3)\n",
    "\n",
    "    plt.xlabel('T [keV]')\n",
    "    # plt.ylabel('normalized EM')\n",
    "    plt.ylabel('PDF')\n",
    "    plt.title(f\"{df_1T['reg'][i]}\")\n",
    "    # stat_1t = np.round(df_1T[\"cstat\"][i]/df_1T[\"dof\"][i], decimals=2)\n",
    "    # stat_gd = np.round(df_GD[\"cstat\"][i]/df_GD[\"dof\"][i], decimals=2)\n",
    "    plt.text(0,1, f'cstat/d.o.f \\n 1T: {np.round(df_1T[\"cstat\"][i], decimals = 1)}/{np.round(df_1T[\"dof\"][i], decimals = 1)}\\n GDEM: {np.round(df_GD[\"cstat\"][i], decimals = 1)}/{np.round(df_GD[\"dof\"][i], decimals= 1)}',\n",
    "         bbox=dict(facecolor='white', alpha=0.5),horizontalalignment='left',\n",
    "     verticalalignment='top', transform=ax.transAxes)\n",
    "    plt.ylim(0,2*np.max(Tdist))\n",
    "    plt.xlim(xarr[Tdist>1e-4][0],xarr[Tdist>1e-4][-1])\n",
    "    plt.legend()\n",
    "    plt.tight_layout()\n",
    "    plt.savefig(f'{savepath}/{df_1T[\"reg\"][i]}.png')\n",
    "    plt.close()\n",
    "\n",
    "df = pd.DataFrame(Tavg_dict)\n",
    "df.to_csv(f'{datapath}/GDEM_Tavg_xspec.csv')"
   ]
  },
  {
   "cell_type": "markdown",
   "metadata": {},
   "source": [
    "2 select cstat of GDEM comparable or smaller than 1T, plot in one"
   ]
  },
  {
   "cell_type": "code",
   "execution_count": 12,
   "metadata": {},
   "outputs": [
    {
     "name": "stdout",
     "output_type": "stream",
     "text": [
      "Series([], Name: reg, dtype: object)\n",
      "44\n",
      "33\n",
      "0      0.922195\n",
      "1      3.886560\n",
      "2      0.850750\n",
      "3      0.565004\n",
      "4      0.995525\n",
      "5      0.010000\n",
      "6      1.300990\n",
      "7      1.544470\n",
      "8      0.618656\n",
      "9      3.542010\n",
      "10     1.068280\n",
      "11     1.932730\n",
      "12     1.630630\n",
      "13     2.539550\n",
      "14     3.334990\n",
      "15     0.378389\n",
      "16     2.065590\n",
      "17     1.652060\n",
      "18     0.051479\n",
      "19     1.388210\n",
      "20     2.133020\n",
      "21    10.388200\n",
      "22     3.488830\n",
      "23     1.330790\n",
      "24     0.010000\n",
      "25     2.810980\n",
      "26     7.699310\n",
      "27     6.129990\n",
      "28     0.989132\n",
      "29     4.076010\n",
      "30     2.710970\n",
      "31     0.802445\n",
      "32     1.348850\n",
      "33     0.951306\n",
      "34     0.778462\n",
      "35     0.637700\n",
      "36     0.822176\n",
      "37     0.384632\n",
      "38     0.086452\n",
      "39     1.954270\n",
      "40     2.713060\n",
      "41     3.012340\n",
      "42     1.114610\n",
      "43     1.690060\n",
      "Name: T-value, dtype: float64\n"
     ]
    }
   ],
   "source": [
    "# load Tmean Tsig in GDEM\n",
    "\n",
    "#### set paths ####\n",
    "rootdir = f'/Users/eusracenorth/Documents/work/XGAP-ABUN/alldata'\n",
    "savepath = f'{rootdir}/figs/T_distribution'\n",
    "datapath = f'{rootdir}/dats'\n",
    "os.makedirs(f'{savepath}', exist_ok=True)\n",
    "\n",
    "#### load data ####\n",
    "file_1T = f'{datapath}/R500-01_1T_xspec.csv'\n",
    "file_GD = f'{datapath}/R500-01_GDEM_xspec.csv'\n",
    "df_1T = pd.read_csv(file_1T)\n",
    "df_GD = pd.read_csv(file_GD)\n",
    "print(df_1T['reg'][~np.isin(df_1T['reg'], df_GD['reg'])])\n",
    "#### plot ####\n",
    "# confirm indexes\n",
    "stat_1t = np.round(df_1T[\"cstat\"]/df_1T[\"dof\"], decimals=2)\n",
    "stat_gd = np.round(df_GD[\"cstat\"]/df_GD[\"dof\"], decimals=2)\n",
    "\n",
    "# crit_dict = {'close_cstat':abs(stat_gd-stat_1t)<0.3, 'gdem_better':(stat_gd-stat_1t)<0, 'gdem_worse':(stat_gd-stat_1t)>0}\n",
    "\n",
    "# fil = crit_dict['close_cstat']\n",
    "# num_figs = np.sum(fil)\n",
    "# idxs = np.arange(len(stat_1t))[fil]\n",
    "\n",
    "\n",
    "idxs = np.arange(len(stat_1t))\n",
    "\n",
    "print(len(idxs))\n",
    "print(np.sum(stat_gd - stat_1t<0))\n",
    "print(df_GD['T-value'])\n",
    "Tavg_lst = []\n",
    "# plot\n",
    "fig, axs = plt.subplots(int(len(idxs)//5+1), 5, figsize = (30,45))\n",
    "for j, i in enumerate(idxs):\n",
    "    xarr = np.linspace(1e-2, 20, 10000)\n",
    "    Tmean = df_GD['T-value'][i]\n",
    "    Tmean_lo = df_GD['T-value'][i] - df_GD['T-errlo'][i]\n",
    "    Tmean_hi = df_GD['T-value'][i] + df_GD['T-errhi'][i]\n",
    "    Tsig = df_GD['Tsig-value'][i]\n",
    "    Tsig_lo = df_GD['Tsig-value'][i] - df_GD['Tsig-errlo'][i]\n",
    "    Tsig_hi = df_GD['Tsig-value'][i] + df_GD['Tsig-errhi'][i]\n",
    "    Tdist = gaussian(xarr, Tmean, Tsig)\n",
    "    Tdist_lo = gaussian(xarr, Tmean_lo, Tsig_lo)\n",
    "    Tdist_hi = gaussian(xarr, Tmean_hi, Tsig_hi)\n",
    "\n",
    "\n",
    "    T1 = df_1T['T-value'][i]\n",
    "    T1_lo = df_1T['T-value'][i] - df_1T['T-errlo'][i]\n",
    "    T1_hi = df_1T['T-value'][i] + df_1T['T-errhi'][i]\n",
    "\n",
    "\n",
    "    # Cal Tavg\n",
    "    Tavg = cal_gadem_Tavg(xarr, Tdist)\n",
    "    Tavg_lo = cal_gadem_Tavg(xarr, Tdist_lo)\n",
    "    Tavg_hi = cal_gadem_Tavg(xarr, Tdist_hi)\n",
    "\n",
    "    Tavg_lst.append(Tavg)\n",
    "    \n",
    "    axs[j//axs.shape[1], j%axs.shape[1]].plot(xarr, Tdist, color= 'r', label = 'GDEM')\n",
    "    # axs[j//axs.shape[1], j%axs.shape[1]].fill_between(xarr, y1 = Tdist_lo, y2 = Tdist_hi, color= 'r', alpha = 0.3)\n",
    "\n",
    "    axs[j//axs.shape[1], j%axs.shape[1]].axvline(Tavg, color = 'r', label = 'Tavg')\n",
    "    axs[j//axs.shape[1], j%axs.shape[1]].fill_betweenx(np.linspace(0,1,2), Tavg_lo, Tavg_hi,  color = 'r', alpha = 0.3)\n",
    "\n",
    "    # axs[j//axs.shape[1], j%axs.shape[1]].axvline(Tmean, color = 'k', label = 'Tmean')\n",
    "    # axs[j//axs.shape[1], j%axs.shape[1]].fill_betweeny(Tmean_lo, Tmean_hi, color = 'k', alpha = 0.3)\n",
    "\n",
    "    axs[j//axs.shape[1], j%axs.shape[1]].axvline(T1, color = 'b', label = 'T_1T')\n",
    "    axs[j//axs.shape[1], j%axs.shape[1]].fill_betweenx(np.linspace(0,1,2),T1_lo, T1_hi, color = 'b', alpha = 0.3)\n",
    "\n",
    "    axs[j//axs.shape[1], j%axs.shape[1]].set_xlabel('T [keV]')\n",
    "    axs[j//axs.shape[1], j%axs.shape[1]].set_ylabel('pdf')\n",
    "    axs[j//axs.shape[1], j%axs.shape[1]].set_title(f\"{df_1T['reg'][i]}\")\n",
    "    stat_1t = np.round(df_1T[\"cstat\"][i]/df_1T[\"dof\"][i], decimals=2)\n",
    "    stat_gd = np.round(df_GD[\"cstat\"][i]/df_GD[\"dof\"][i], decimals=2)\n",
    "    \n",
    "    axs[j//axs.shape[1], j%axs.shape[1]].set_ylim(0,2*np.max(Tdist))\n",
    "    axs[j//axs.shape[1], j%axs.shape[1]].set_xlim(xarr[Tdist>1e-4][0],xarr[Tdist>1e-4][-1])\n",
    "    axs[j//axs.shape[1], j%axs.shape[1]].legend()\n",
    "    if stat_1t < stat_gd:\n",
    "        axs[j//axs.shape[1], j%axs.shape[1]].text(0,1, f'cstat/d.o.f \\n 1T: {stat_1t}\\n GDEM: {stat_gd}',\n",
    "        bbox=dict(facecolor='blue', alpha=0.3),horizontalalignment='left',\n",
    "    verticalalignment='top', transform=axs[j // axs.shape[1], j % axs.shape[1]].transAxes)\n",
    "    else:\n",
    "        axs[j//axs.shape[1], j%axs.shape[1]].text(0,1, f'cstat/d.o.f \\n 1T: {stat_1t}\\n GDEM: {stat_gd}',\n",
    "        bbox=dict(facecolor='red', alpha=0.3),horizontalalignment='left',\n",
    "    verticalalignment='top', transform=axs[j // axs.shape[1], j % axs.shape[1]].transAxes)\n",
    "\n",
    "plt.subplots_adjust(top=0.9)  # Adjust the top parameter as needed\n",
    "# plt.suptitle(f'fitting has close cstat {num_figs}, where gdem better: {np.sum(crit_dict[\"gdem_better\"])}, gdem worse: {np.sum(crit_dict[\"gdem_worse\"])}', fontsize = 16, y = 0.98)\n",
    "plt.tight_layout()\n",
    "plt.savefig(f'{savepath}/Tdist_all.png')\n",
    "plt.close()\n",
    "    "
   ]
  },
  {
   "cell_type": "markdown",
   "metadata": {},
   "source": [
    "3 group the groups according to Tavg"
   ]
  },
  {
   "cell_type": "code",
   "execution_count": 32,
   "metadata": {},
   "outputs": [
    {
     "name": "stdout",
     "output_type": "stream",
     "text": [
      "44\n",
      "35    SDSSTG21128\n",
      "Name: reg, dtype: object\n"
     ]
    },
    {
     "data": {
      "image/png": "[encoded data removed]",
      "text/plain": [
       "<Figure size 640x480 with 1 Axes>"
      ]
     },
     "metadata": {},
     "output_type": "display_data"
    }
   ],
   "source": [
    "Tavgs = np.array(Tavg_lst)\n",
    "print(len(Tavgs))\n",
    "plt.hist(Tavgs)\n",
    "print(df_1T['reg'][(Tavgs>0) &(Tavgs<0.7)])\n"
   ]
  },
  {
   "cell_type": "markdown",
   "metadata": {},
   "source": [
    "4 see the T variance distribution"
   ]
  },
  {
   "cell_type": "code",
   "execution_count": null,
   "metadata": {},
   "outputs": [],
   "source": []
  }
 ],
 "metadata": {
  "kernelspec": {
   "display_name": "Python 3.10.1 64-bit ('3.10.1')",
   "language": "python",
   "name": "python3"
  },
  "language_info": {
   "codemirror_mode": {
    "name": "ipython",
    "version": 3
   },
   "file_extension": ".py",
   "mimetype": "text/x-python",
   "name": "python",
   "nbconvert_exporter": "python",
   "pygments_lexer": "ipython3",
   "version": "3.10.1"
  },
  "orig_nbformat": 4,
  "vscode": {
   "interpreter": {
    "hash": "1302458d99d58fefb56dc0fec08d039cf240bdcae78a53a9226b7c46b3832fa1"
   }
  }
 },
 "nbformat": 4,
 "nbformat_minor": 2
}
