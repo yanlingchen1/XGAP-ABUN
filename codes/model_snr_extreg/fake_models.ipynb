{
 "cells": [
  {
   "cell_type": "code",
   "execution_count": null,
   "metadata": {},
   "outputs": [],
   "source": [
    "\"\"\"\n",
    "Use fakeit in xspec\n",
    "1. model and fakeit\n",
    "2. fit it with xspec, check the constraints\n",
    "3. \n",
    "\n",
    "needs to be inst variance\n",
    "\n",
    "\"\"\""
   ]
  },
  {
   "cell_type": "code",
   "execution_count": 2,
   "metadata": {},
   "outputs": [],
   "source": []
  },
  {
   "cell_type": "markdown",
   "metadata": {},
   "source": [
    "# conditions"
   ]
  },
  {
   "cell_type": "markdown",
   "metadata": {},
   "source": [
    "1T \n",
    "1keV\n",
    "abun 0.3\n",
    "norm 1e-5"
   ]
  },
  {
   "cell_type": "markdown",
   "metadata": {},
   "source": [
    "2T\n",
    "1keV and 3keV\n",
    "abun 0.3\n",
    "norm 1e-5"
   ]
  },
  {
   "cell_type": "markdown",
   "metadata": {},
   "source": [
    "GDEM\n",
    "T 1.5\n",
    "sigma 1 \n",
    "norm 1e-5"
   ]
  },
  {
   "cell_type": "code",
   "execution_count": 2,
   "metadata": {},
   "outputs": [],
   "source": [
    "from astropy.io import fits\n",
    "import numpy as np\n",
    "from glob import glob"
   ]
  },
  {
   "cell_type": "markdown",
   "metadata": {},
   "source": [
    "# mincounts from fakeit"
   ]
  },
  {
   "cell_type": "code",
   "execution_count": 26,
   "metadata": {},
   "outputs": [
    {
     "name": "stdout",
     "output_type": "stream",
     "text": [
      "{'mos1': 84, 'mos2': 89, 'pn': 349}\n"
     ]
    }
   ],
   "source": [
    "# expscale 3 can be constrained the Z as 0.35+/-0.1\n",
    "# calculate the minimum counts for every inst\n",
    "\n",
    "datapath = f'/Users/eusracenorth/Documents/work/XGAP-ABUN/data/ID9647/fitting/R500_01/fake_snr'\n",
    "mdl = '2T'\n",
    "app = 'expsc3'\n",
    "mincts_dict = {}\n",
    "for inst in ['mos1', 'mos2', 'pn']:\n",
    "    with fits.open(f'{datapath}/fake_{mdl}_{inst}_R500_01_{app}.fak') as f:\n",
    "        mincts_dict[inst] = np.sum(f[1].data['COUNTS'])\n",
    "\n",
    "print(mincts_dict)"
   ]
  },
  {
   "cell_type": "markdown",
   "metadata": {},
   "source": [
    "# counts from data"
   ]
  },
  {
   "cell_type": "markdown",
   "metadata": {},
   "source": [
    "## 1 just counts "
   ]
  },
  {
   "cell_type": "code",
   "execution_count": 14,
   "metadata": {},
   "outputs": [
    {
     "name": "stdout",
     "output_type": "stream",
     "text": [
      "371\n",
      "431\n"
     ]
    },
    {
     "ename": "IndexError",
     "evalue": "list index out of range",
     "output_type": "error",
     "traceback": [
      "\u001b[0;31m---------------------------------------------------------------------------\u001b[0m",
      "\u001b[0;31mIndexError\u001b[0m                                Traceback (most recent call last)",
      "Cell \u001b[0;32mIn [14], line 15\u001b[0m\n\u001b[1;32m     13\u001b[0m \u001b[39mwith\u001b[39;00m fits\u001b[39m.\u001b[39mopen(glob(\u001b[39mf\u001b[39m\u001b[39m'\u001b[39m\u001b[39m{\u001b[39;00mdatapath\u001b[39m}\u001b[39;00m\u001b[39m/\u001b[39m\u001b[39m{\u001b[39;00minst\u001b[39m}\u001b[39;00m\u001b[39m*-obj-*\u001b[39m\u001b[39m{\u001b[39;00mSRCNAME2\u001b[39m}\u001b[39;00m\u001b[39m_\u001b[39m\u001b[39m{\u001b[39;00mREGNAME\u001b[39m}\u001b[39;00m\u001b[39m.pi\u001b[39m\u001b[39m'\u001b[39m)[\u001b[39m0\u001b[39m]) \u001b[39mas\u001b[39;00m f:\n\u001b[1;32m     14\u001b[0m     cts \u001b[39m=\u001b[39m np\u001b[39m.\u001b[39msum(f[\u001b[39m1\u001b[39m]\u001b[39m.\u001b[39mdata[\u001b[39m'\u001b[39m\u001b[39mCOUNTS\u001b[39m\u001b[39m'\u001b[39m][efil])\n\u001b[0;32m---> 15\u001b[0m \u001b[39mwith\u001b[39;00m fits\u001b[39m.\u001b[39mopen(glob(\u001b[39mf\u001b[39;49m\u001b[39m'\u001b[39;49m\u001b[39m{\u001b[39;49;00mdatapath\u001b[39m}\u001b[39;49;00m\u001b[39m/\u001b[39;49m\u001b[39m{\u001b[39;49;00minst\u001b[39m}\u001b[39;49;00m\u001b[39m*-back-*\u001b[39;49m\u001b[39m{\u001b[39;49;00mSRCNAME2\u001b[39m}\u001b[39;49;00m\u001b[39m_\u001b[39;49m\u001b[39m{\u001b[39;49;00mREGNAME\u001b[39m}\u001b[39;49;00m\u001b[39m.pi\u001b[39;49m\u001b[39m'\u001b[39;49m)[\u001b[39m0\u001b[39;49m]) \u001b[39mas\u001b[39;00m f:\n\u001b[1;32m     16\u001b[0m     \u001b[39mif\u001b[39;00m inst \u001b[39m==\u001b[39m \u001b[39m'\u001b[39m\u001b[39mpn\u001b[39m\u001b[39m'\u001b[39m:\n\u001b[1;32m     17\u001b[0m         bkg \u001b[39m=\u001b[39m np\u001b[39m.\u001b[39msum(f[\u001b[39m1\u001b[39m]\u001b[39m.\u001b[39mdata[\u001b[39m'\u001b[39m\u001b[39mRATE\u001b[39m\u001b[39m'\u001b[39m][efil]) \u001b[39m*\u001b[39m \u001b[39mfloat\u001b[39m(f[\u001b[39m1\u001b[39m]\u001b[39m.\u001b[39mheader[\u001b[39m'\u001b[39m\u001b[39mEXPOSURE\u001b[39m\u001b[39m'\u001b[39m])\n",
      "\u001b[0;31mIndexError\u001b[0m: list index out of range"
     ]
    }
   ],
   "source": [
    "SRCNAME1 = 'ID9647'\n",
    "SRCNAME2 = 'SDSSTG9647'\n",
    "REGNAME = 'R500_01'\n",
    "\n",
    "erange = (0.5,4)\n",
    "datapath = f'/Users/eusracenorth/Documents/work/XGAP-ABUN/data/{SRCNAME1}/fitting/{REGNAME}'\n",
    "\n",
    "datacts_dict = {}\n",
    "for inst in ['mos1', 'mos2']:\n",
    "    with fits.open(glob(f'{datapath}/{inst}*{SRCNAME2}_{REGNAME}.rmf')[0]) as f:\n",
    "        emin = f[2].data['E_MIN']\n",
    "        efil = (emin>erange[0]) & (emin<erange[1])\n",
    "    with fits.open(glob(f'{datapath}/{inst}*-obj-*{SRCNAME2}_{REGNAME}.pi')[0]) as f:\n",
    "        cts = np.sum(f[1].data['COUNTS'][efil])\n",
    "    with fits.open(glob(f'{datapath}/{inst}*-back-*{SRCNAME2}_{REGNAME}.pi')[0]) as f:\n",
    "        if inst == 'pn':\n",
    "            bkg = np.sum(f[1].data['RATE'][efil]) * float(f[1].header['EXPOSURE'])\n",
    "        else:\n",
    "            bkg = np.sum(f[1].data['COUNTS'][efil])\n",
    "    datacts_dict[inst] = cts - bkg\n",
    "print(datacts_dict)"
   ]
  },
  {
   "cell_type": "code",
   "execution_count": null,
   "metadata": {},
   "outputs": [],
   "source": []
  }
 ],
 "metadata": {
  "kernelspec": {
   "display_name": "Python 3.10.1 64-bit ('3.10.1')",
   "language": "python",
   "name": "python3"
  },
  "language_info": {
   "codemirror_mode": {
    "name": "ipython",
    "version": 3
   },
   "file_extension": ".py",
   "mimetype": "text/x-python",
   "name": "python",
   "nbconvert_exporter": "python",
   "pygments_lexer": "ipython3",
   "version": "3.10.1"
  },
  "orig_nbformat": 4,
  "vscode": {
   "interpreter": {
    "hash": "1302458d99d58fefb56dc0fec08d039cf240bdcae78a53a9226b7c46b3832fa1"
   }
  }
 },
 "nbformat": 4,
 "nbformat_minor": 2
}
