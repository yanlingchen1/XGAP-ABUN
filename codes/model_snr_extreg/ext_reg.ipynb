{
 "cells": [
  {
   "cell_type": "code",
   "execution_count": null,
   "metadata": {},
   "outputs": [],
   "source": [
    "\"\"\"\n",
    "Steps:\n",
    "1. get the total counts images (ps excluded) of 0.7-1.2 keV\n",
    "1.1 convert 0.5-4keV flux to 0.7-1.2 keV flux in webpimms\n",
    "\n",
    "2. extract the annu if the region is above certain counts\n",
    "3. save the region as det and sky coords\n",
    "\n",
    "\"\"\""
   ]
  },
  {
   "cell_type": "code",
   "execution_count": null,
   "metadata": {},
   "outputs": [],
   "source": [
    "# load the centers from the regions\n",
    "from glob import glob\n",
    "import numpy as np\n",
    "import pandas as pd\n",
    "\n",
    "\n",
    "regpath = f'/Users/eusracenorth/Documents/work/XGAP-ABUN/alldata/fk5_regs'\n",
    "regdirs = glob(f'{regpath}/SDSSTG*')\n",
    "output_dict = {}\n",
    "output_dict['ID'] = []\n",
    "output_dict['RA'] = []\n",
    "output_dict['DEC'] = []\n",
    "output_dict['01R500'] = []\n",
    "for  dir in regdirs:\n",
    "    if glob(f'{dir}/R500-01_fk5.reg'):\n",
    "        with open(f'{dir}/R500-01_fk5.reg') as f:\n",
    "            lines = f.readlines()\n",
    "            for line in lines:\n",
    "                if 'circle' in line:\n",
    "                    output_dict['ID'].append(dir.split('/')[-1])\n",
    "                    output_dict['RA'].append(line.split(',')[0].split('(')[-1])\n",
    "                    output_dict['DEC'].append(line.split(',')[1])\n",
    "                    output_dict['01R500'].append(line.split(',')[-1].split('\\'')[0])\n",
    "                \n",
    "print(output_dict)\n",
    "df = pd.DataFrame(output_dict)\n",
    "df.to_csv(f'{regpath}/all_centers.csv')\n"
   ]
  },
  {
   "cell_type": "code",
   "execution_count": null,
   "metadata": {},
   "outputs": [],
   "source": [
    "\"\"\" \n",
    "Procedures:\n",
    "1. Get images of 0.5-7 keV\n",
    "1.1 load the centers\n",
    "2. Create multiple circle regions centered by\n",
    "3. count the sum counts in every circle\n",
    "3. Select the radius of SNR>50 or total cts > 2500 (3000?)\n",
    "\n",
    "\"\"\"\n",
    "from glob import glob\n",
    "import numpy as np\n",
    "\n",
    "\n",
    "# get images of 0.7-7 keV\n",
    "rootpath = f'/Users/eusracenorth/Documents/work/XGAP-ABUN/alldata/figs/comb_fits_fan'\n",
    "datdirs = glob(f'{rootpath}/SDSSTG*')\n",
    "regf = pd.read_csv(f'{dir}/../../alldata/fk5_regs/all_centers.csv')\n",
    "for dir in datdirs:\n",
    "    ID = dir.split('/')[-1]\n",
    "    msk = regf['ID'] == ID\n",
    "    ra = regf['RA'][msk]\n",
    "    dec = regf['DEC'][msk]\n",
    "    \n",
    "    DATFILE = f'comb-fovimsky-500-7000_masked.fits'\n",
    "    \n",
    "    with open(f'{dir}/{DATFILE}') as f:\n",
    "        \n",
    "    "
   ]
  },
  {
   "cell_type": "markdown",
   "metadata": {},
   "source": [
    "2.1 cts>3000"
   ]
  },
  {
   "cell_type": "code",
   "execution_count": null,
   "metadata": {},
   "outputs": [],
   "source": [
    "from astropy import wcs\n",
    "from astropy.coordinates import SkyCoord\n",
    "from astropy import units as u\n",
    "from glob import glob\n",
    "import numpy as np\n",
    "from astropy.io import fits\n",
    "from photutils import CircularAperture, aperture_photometry\n",
    "import pandas as pd\n",
    "\n",
    "# get images of 0.7-7 keV\n",
    "rootpath = f'/Users/eusracenorth/Documents/work/XGAP-ABUN/alldata/figs/comb_fits_fan'\n",
    "datdirs = glob(f'{rootpath}/SDSSTG*')\n",
    "savepath = f'{rootpath}/../../fk5_regs'\n",
    "regf = pd.read_csv(f'{savepath}/all_centers.csv')\n",
    "\n",
    "output_dict_name = f'{savepath}/cts3000_reg.csv'\n",
    "output_dict = {}\n",
    "output_dict['ID'] = []\n",
    "output_dict['RA'] = []\n",
    "output_dict['DEC'] = []\n",
    "output_dict['r'] = []\n",
    "\n",
    "\n",
    "for dir in datdirs:\n",
    "    ID = dir.split('/')[-1]\n",
    "    msk = regf['ID'] == ID\n",
    "    ra = regf['RA'][msk]\n",
    "    dec = regf['DEC'][msk]\n",
    "    \n",
    "    print(ra, dec)\n",
    "    DATFILE = f'comb-fovimsky-500-7000_masked.fits'\n",
    "    if glob(f'{dir}/{DATFILE}'):\n",
    "        with fits.open(f'{dir}/{DATFILE}') as hdul:\n",
    "            data = hdul[0].data\n",
    "            header = hdul[0].header\n",
    "\n",
    "            # Create a WCS object to convert RA and Dec to pixel coordinates\n",
    "            w = wcs.WCS(header)\n",
    "\n",
    "            # Create a list to store the selected regions\n",
    "            selected_regions = []\n",
    "\n",
    "            # Iterate over different radii in arcminutes\n",
    "            for radius_arcmin in np.arange(0.5, 10, 0.1):\n",
    "                # Convert radius to pixel coordinates\n",
    "                radius_pixel = np.round((radius_arcmin / 60.0) / w.wcs.cdelt[1])\n",
    "\n",
    "                # Convert RA and Dec to pixel coordinates\n",
    "                sky_coords = SkyCoord(ra, dec, unit='deg')\n",
    "                pixel_coords = sky_coords.to_pixel(w)\n",
    "\n",
    "                # Create CircularAperture objects for each region\n",
    "                apertures = CircularAperture(list(zip(pixel_coords[0], pixel_coords[1])), r=radius_pixel)\n",
    "\n",
    "                # Perform aperture photometry\n",
    "                phot_table = aperture_photometry(data, apertures)\n",
    "\n",
    "                # Assuming 'aperture_sum' is the column containing the sum counts in each circle\n",
    "                sum_counts = phot_table['aperture_sum']\n",
    "                \n",
    "                # Select regions based on total counts > 3000\n",
    "                if sum_counts > 3000:\n",
    "                    # Add the selected regions to the list\n",
    "                    output_dict['ID'].append(ID)\n",
    "                    output_dict['RA'].append(np.round(regf.loc[regf['ID'] == ID, 'RA'].values[0], decimals = 2))\n",
    "                    output_dict['DEC'].append(np.round(regf.loc[regf['ID'] == ID, 'DEC'].values[0], decimals = 2))\n",
    "                    output_dict['r'].append(np.round(radius_arcmin, decimals = 1))\n",
    "                    break\n",
    "\n",
    "df = pd.DataFrame(output_dict)\n",
    "df.to_csv(output_dict_name)"
   ]
  },
  {
   "cell_type": "markdown",
   "metadata": {},
   "source": [
    "2.2 SNR>50"
   ]
  },
  {
   "cell_type": "code",
   "execution_count": null,
   "metadata": {},
   "outputs": [],
   "source": [
    "from astropy import wcs\n",
    "from astropy.coordinates import SkyCoord\n",
    "from astropy import units as u\n",
    "from glob import glob\n",
    "import numpy as np\n",
    "from astropy.io import fits\n",
    "from photutils import CircularAperture, aperture_photometry\n",
    "import pandas as pd\n",
    "\n",
    "# get images of 0.7-7 keV\n",
    "rootpath = f'/Users/eusracenorth/Documents/work/XGAP-ABUN/alldata/figs/comb_fits_fan'\n",
    "datdirs = glob(f'{rootpath}/SDSSTG*')\n",
    "savepath = f'{rootpath}/../../fk5_regs'\n",
    "regf = pd.read_csv(f'{savepath}/all_centers.csv')\n",
    "\n",
    "output_dict_name = f'{savepath}/SNR50_reg.csv'\n",
    "output_dict = {}\n",
    "output_dict['ID'] = []\n",
    "output_dict['RA'] = []\n",
    "output_dict['DEC'] = []\n",
    "output_dict['r'] = []\n",
    "\n",
    "\n",
    "for dir in datdirs:\n",
    "    ID = dir.split('/')[-1]\n",
    "    msk = regf['ID'] == ID\n",
    "    ra = regf['RA'][msk]\n",
    "    dec = regf['DEC'][msk]\n",
    "    \n",
    "    print(ra, dec)\n",
    "    DATFILE = f'comb-fovimsky-500-7000_masked.fits'\n",
    "    if glob(f'{dir}/{DATFILE}'):\n",
    "        with fits.open(f'{dir}/{DATFILE}') as hdul:\n",
    "            data = hdul[0].data\n",
    "            header = hdul[0].header\n",
    "\n",
    "            # Create a WCS object to convert RA and Dec to pixel coordinates\n",
    "            w = wcs.WCS(header)\n",
    "\n",
    "            # Create a list to store the selected regions\n",
    "            selected_regions = []\n",
    "\n",
    "            # Iterate over different radii in arcminutes\n",
    "            for radius_arcmin in np.arange(0.1, 10, 0.1):\n",
    "                # Convert radius to pixel coordinates\n",
    "                radius_pixel = np.round((radius_arcmin / 60.0) / w.wcs.cdelt[1])\n",
    "\n",
    "                # Convert RA and Dec to pixel coordinates\n",
    "                sky_coords = SkyCoord(ra, dec, unit='deg')\n",
    "                pixel_coords = sky_coords.to_pixel(w)\n",
    "\n",
    "                # Create CircularAperture objects for each region\n",
    "                apertures = CircularAperture(list(zip(pixel_coords[0], pixel_coords[1])), r=radius_pixel)\n",
    "\n",
    "                # Perform aperture photometry\n",
    "                phot_table = aperture_photometry(data, apertures)\n",
    "\n",
    "                # Assuming 'aperture_sum' is the column containing the sum counts in each circle\n",
    "                sum_counts = phot_table['aperture_sum']\n",
    "                src_area = 4 * np.pi * radius_arcmin**2\n",
    "                annu_ctr = sum_counts / src_area # cts/arcmin2\n",
    "                # get bkg ctr\n",
    "                r1 = np.round((9.89513 / 60.0) / w.wcs.cdelt[1])\n",
    "                r2 = np.round((12.1242 / 60.0) / w.wcs.cdelt[1])\n",
    "                ap1 = CircularAperture(list(zip(pixel_coords[0], pixel_coords[1])), r=r1)\n",
    "                ap2 = CircularAperture(list(zip(pixel_coords[0], pixel_coords[1])), r=r2)\n",
    "                sc1 = aperture_photometry(data, ap1)\n",
    "                sc2 = aperture_photometry(data, ap2)\n",
    "                bkg_counts1 = sc1['aperture_sum'].data[0]\n",
    "                bkg_counts2 = sc2['aperture_sum'].data[0]\n",
    "                bkg_area = np.pi * 4 * (12.1242**2 - 9.89513**2)\n",
    "                bkg_ctr = (bkg_counts2 - bkg_counts1) / bkg_area # cts/arcmin2\n",
    "\n",
    "\n",
    "                # Select regions based on total counts > 3000\n",
    "                if annu_ctr > 50 * bkg_ctr:\n",
    "                    # Add the selected regions to the list\n",
    "                    output_dict['ID'].append(ID)\n",
    "                    output_dict['RA'].append(np.round(regf.loc[regf['ID'] == ID, 'RA'].values[0], decimals = 2))\n",
    "                    output_dict['DEC'].append(np.round(regf.loc[regf['ID'] == ID, 'DEC'].values[0], decimals = 2))\n",
    "                    output_dict['r'].append(np.round(radius_arcmin, decimals = 1))\n",
    "                    break\n",
    "\n",
    "df = pd.DataFrame(output_dict)\n",
    "df.to_csv(output_dict_name)"
   ]
  },
  {
   "cell_type": "markdown",
   "metadata": {},
   "source": [
    "2.3 plot contours"
   ]
  },
  {
   "cell_type": "code",
   "execution_count": 107,
   "metadata": {},
   "outputs": [
    {
     "name": "stderr",
     "output_type": "stream",
     "text": [
      "/var/folders/sy/vxhnb6x11wz6mkt7x_sw_y140000gn/T/ipykernel_5821/2638914368.py:7: DeprecationWarning: `photutils.CircularAperture` is a deprecated alias for `photutils.aperture.CircularAperture` and will be removed in the future. Instead, please use `from photutils.aperture import CircularAperture` to silence this warning.\n",
      "  from photutils import CircularAperture, aperture_photometry\n",
      "/var/folders/sy/vxhnb6x11wz6mkt7x_sw_y140000gn/T/ipykernel_5821/2638914368.py:7: DeprecationWarning: `photutils.aperture_photometry` is a deprecated alias for `photutils.aperture.aperture_photometry` and will be removed in the future. Instead, please use `from photutils.aperture import aperture_photometry` to silence this warning.\n",
      "  from photutils import CircularAperture, aperture_photometry\n",
      "WARNING: FITSFixedWarning: RADECSYS= 'FK5 ' / World coord. system for this file \n",
      "the RADECSYS keyword is deprecated, use RADESYSa. [astropy.wcs.wcs]\n",
      "WARNING: FITSFixedWarning: 'datfix' made the change 'Set MJD-OBS to 52644.161366 from DATE-OBS.\n",
      "Set MJD-END to 52644.547581 from DATE-END'. [astropy.wcs.wcs]\n"
     ]
    },
    {
     "name": "stdout",
     "output_type": "stream",
     "text": [
      "0.000694444444444445\n"
     ]
    }
   ],
   "source": [
    "from astropy import wcs\n",
    "from astropy.coordinates import SkyCoord\n",
    "from astropy import units as u\n",
    "from glob import glob\n",
    "import numpy as np\n",
    "from astropy.io import fits\n",
    "from photutils import CircularAperture, aperture_photometry\n",
    "import pandas as pd\n",
    "import matplotlib.pyplot as plt\n",
    "from matplotlib.colors import LogNorm\n",
    "from scipy.ndimage import gaussian_filter\n",
    "import os\n",
    "\n",
    "# get images of 0.7-7 keV\n",
    "rootpath = f'/Users/eusracenorth/Documents/work/XGAP-ABUN/alldata/figs/comb_fits_ctr_500-7000'\n",
    "datdirs = glob(f'{rootpath}/SDSSTG12349')\n",
    "savepath = f'/Users/eusracenorth/Documents/work/XGAP-ABUN/alldata/figs/comb_fits_ctr_500-7000_contour'\n",
    "os.makedirs(savepath, exist_ok=True)\n",
    "regf = pd.read_csv(f'/Users/eusracenorth/Documents/work/XGAP-ABUN/alldata/fk5_regs/all_centers.csv')\n",
    "\n",
    "output_dict_name = f'{savepath}/SNR50_reg.csv'\n",
    "output_dict = {}\n",
    "output_dict['ID'] = []\n",
    "output_dict['RA'] = []\n",
    "output_dict['DEC'] = []\n",
    "output_dict['r'] = []\n",
    "\n",
    "\n",
    "for dir in datdirs:\n",
    "    ID = dir.split('/')[-1]\n",
    "    msk = regf['ID'] == ID\n",
    "    ra = regf['RA'][msk]\n",
    "    dec = regf['DEC'][msk]\n",
    "    \n",
    "    DATFILE = f'comb-ctr-500-7000_masked_trimmed.fits'\n",
    "    if glob(f'{dir}/{DATFILE}'):\n",
    "        with fits.open(f'{dir}/{DATFILE}') as hdul:\n",
    "            id = dir.split('/')[-1]\n",
    "            data = hdul[0].data\n",
    "            header = hdul[0].header\n",
    "\n",
    "            # Create a WCS object to convert RA and Dec to pixel coordinates\n",
    "            w = wcs.WCS(header)\n",
    "\n",
    "            # Create a list to store the selected regions\n",
    "            selected_regions = []\n",
    "\n",
    "           # Convert RA and Dec to pixel coordinates\n",
    "            sky_coords = SkyCoord(ra, dec, unit='deg')\n",
    "            pixel_coords = sky_coords.to_pixel(w)\n",
    "            print(w.wcs.cdelt[1])\n",
    "            # get bkg ctr\n",
    "            src_r = 4.5\n",
    "            bkg_r1 = 12.1242\n",
    "            bkg_r2 = 14.799\n",
    "            r1 = np.round((bkg_r1 / 60.0) / w.wcs.cdelt[1])\n",
    "            r2 = np.round((bkg_r2 / 60.0) / w.wcs.cdelt[1])\n",
    "            r_src = np.round((src_r / 60.0) / w.wcs.cdelt[1])\n",
    "            ap1 = CircularAperture(list(zip(pixel_coords[0], pixel_coords[1])), r=r1)\n",
    "            ap2 = CircularAperture(list(zip(pixel_coords[0], pixel_coords[1])), r=r2)\n",
    "            sc1 = aperture_photometry(data, ap1)\n",
    "            sc2 = aperture_photometry(data, ap2)\n",
    "            bkg_counts1 = sc1['aperture_sum'].data[0]\n",
    "            bkg_counts2 = sc2['aperture_sum'].data[0]\n",
    "            bkg_area = np.pi * (bkg_r2**2 - bkg_r1**2) * 3600/2.5**2 # pixel\n",
    "            bkg_ctr = (bkg_counts2 - bkg_counts1) / bkg_area # cts/s/pixel\n",
    "            # Plot contours based on X-ray surface brightness\n",
    "            fig, ax = plt.subplots()\n",
    "            smoothed_data = gaussian_filter(data, sigma=25)\n",
    "            im = ax.imshow(data, cmap='plasma', vmin = data.min()/2, vmax = 0.1*data.max(), origin = 'lower')\n",
    "            cir1 = plt.Circle((pixel_coords[0], pixel_coords[1]), r2, color = 'cyan', fill = False)\n",
    "            cir2 = plt.Circle((pixel_coords[0], pixel_coords[1]), r1, color = 'cyan', fill = False)\n",
    "            cir3 = plt.Circle((pixel_coords[0], pixel_coords[1]), r_src, color = 'red', linewidth = 2, linestyle = 'dashed', fill = False)\n",
    "            ax.add_patch(cir1)\n",
    "            ax.add_patch(cir2)\n",
    "            ax.add_patch(cir3)\n",
    "            # Add colorbar for X-ray surface brightness\n",
    "            cs = ax.contour(smoothed_data, levels = ( 1.2 * bkg_ctr, 1.5 * bkg_ctr, 3 * bkg_ctr), colors = ['w', 'magenta', 'r', 'yellow'], linewidths=1, origin='lower')\n",
    "            plt.savefig(f'{savepath}/{id}_comb-fovimsky-500-7000_masked_contour.png')\n",
    "            plt.close()\n"
   ]
  },
  {
   "cell_type": "code",
   "execution_count": 79,
   "metadata": {},
   "outputs": [
    {
     "name": "stdout",
     "output_type": "stream",
     "text": [
      "0.000809476343527634\n"
     ]
    }
   ],
   "source": [
    "print(bkg_ctr)"
   ]
  },
  {
   "cell_type": "code",
   "execution_count": 68,
   "metadata": {},
   "outputs": [
    {
     "name": "stderr",
     "output_type": "stream",
     "text": [
      "/var/folders/sy/vxhnb6x11wz6mkt7x_sw_y140000gn/T/ipykernel_5821/2869274860.py:7: DeprecationWarning: `photutils.CircularAperture` is a deprecated alias for `photutils.aperture.CircularAperture` and will be removed in the future. Instead, please use `from photutils.aperture import CircularAperture` to silence this warning.\n",
      "  from photutils import CircularAperture, aperture_photometry\n",
      "/var/folders/sy/vxhnb6x11wz6mkt7x_sw_y140000gn/T/ipykernel_5821/2869274860.py:7: DeprecationWarning: `photutils.aperture_photometry` is a deprecated alias for `photutils.aperture.aperture_photometry` and will be removed in the future. Instead, please use `from photutils.aperture import aperture_photometry` to silence this warning.\n",
      "  from photutils import CircularAperture, aperture_photometry\n"
     ]
    }
   ],
   "source": [
    "from astropy import wcs\n",
    "from astropy.coordinates import SkyCoord\n",
    "from astropy import units as u\n",
    "from glob import glob\n",
    "import numpy as np\n",
    "from astropy.io import fits\n",
    "from photutils import CircularAperture, aperture_photometry\n",
    "import pandas as pd\n",
    "import matplotlib.pyplot as plt\n",
    "from matplotlib.colors import LogNorm\n",
    "from scipy.ndimage import gaussian_filter\n",
    "import os\n",
    "\n",
    "# get images of 0.7-7 keV\n",
    "rootpath = f'/Users/eusracenorth/Documents/work/XGAP-ABUN/alldata/figs/comb_fits_ctr_500-7000'\n",
    "datdirs = glob(f'{rootpath}/SDSSTG*')\n",
    "savepath = f'/Users/eusracenorth/Documents/work/XGAP-ABUN/alldata/figs/comb_fits_ctr_500-7000_contour'\n",
    "os.makedirs(savepath, exist_ok=True)\n",
    "# Loop over all regions and plot contours based on X-ray surface brightness\n",
    "for dir in datdirs:\n",
    "    DATFILE = f'comb-ctr-500-7000_masked_trimmed.fits'\n",
    "    if glob(f'{dir}/{DATFILE}'):\n",
    "        id = dir.split('/')[-1]\n",
    "        with fits.open(f'{dir}/{DATFILE}') as hdul:\n",
    "            data = hdul[0].data\n",
    "            header = hdul[0].header\n",
    "\n",
    "\n",
    "            # Plot contours based on X-ray surface brightness\n",
    "            fig, ax = plt.subplots()\n",
    "            smoothed_data = gaussian_filter(data, sigma=20)\n",
    "            im = ax.imshow(data, cmap='plasma', vmin = data.min()/2, vmax = 0.1*data.max(), origin = 'lower')\n",
    "\n",
    "            # Add colorbar for X-ray surface brightness\n",
    "            cs = ax.contour(smoothed_data, levels = np.logspace(-5.7, np.log10(data.max()), 10), colors = 'w', linewidths=1, origin='lower')\n",
    "            plt.savefig(f'{savepath}/{id}_comb-fovimsky-500-7000_masked_contour.png')\n",
    "            plt.close()"
   ]
  },
  {
   "cell_type": "code",
   "execution_count": 63,
   "metadata": {},
   "outputs": [
    {
     "name": "stderr",
     "output_type": "stream",
     "text": [
      "/var/folders/sy/vxhnb6x11wz6mkt7x_sw_y140000gn/T/ipykernel_5821/905136847.py:1: RuntimeWarning: divide by zero encountered in log10\n",
      "  np.log10(smoothed_data.min()), np.log10(smoothed_data.max())\n"
     ]
    },
    {
     "data": {
      "text/plain": [
       "(-inf, -4.76391)"
      ]
     },
     "execution_count": 63,
     "metadata": {},
     "output_type": "execute_result"
    }
   ],
   "source": [
    "np.log10(smoothed_data.min()), np.log10(smoothed_data.max())"
   ]
  },
  {
   "cell_type": "code",
   "execution_count": null,
   "metadata": {},
   "outputs": [],
   "source": [
    "print()"
   ]
  },
  {
   "cell_type": "markdown",
   "metadata": {},
   "source": [
    "3 make plots"
   ]
  },
  {
   "cell_type": "code",
   "execution_count": null,
   "metadata": {},
   "outputs": [],
   "source": [
    "# read 01r500c\n",
    "import matplotlib.pyplot as plt\n",
    "df1 = pd.read_csv(f'{savepath}/all_centers.csv')\n",
    "# read r that cts>3000\n",
    "df2 = pd.read_csv(f'{savepath}/cts3000_reg.csv')\n",
    "\n",
    "plt.scatter(df1['01R500'], df2['r'])\n",
    "plt.xlabel('0.1R500c')\n",
    "plt.ylabel('cts>3000 [<r]')\n",
    "plt.plot(np.arange(0,4), np.arange(0,4))\n",
    "plt.axis('equal')\n",
    "plt.xlim(0,4)\n",
    "plt.ylim(0,4)"
   ]
  },
  {
   "cell_type": "code",
   "execution_count": null,
   "metadata": {},
   "outputs": [],
   "source": [
    "print(selected_regions)"
   ]
  },
  {
   "cell_type": "code",
   "execution_count": null,
   "metadata": {},
   "outputs": [],
   "source": []
  }
 ],
 "metadata": {
  "kernelspec": {
   "display_name": "Python 3.11.6 ('base')",
   "language": "python",
   "name": "python3"
  },
  "language_info": {
   "codemirror_mode": {
    "name": "ipython",
    "version": 3
   },
   "file_extension": ".py",
   "mimetype": "text/x-python",
   "name": "python",
   "nbconvert_exporter": "python",
   "pygments_lexer": "ipython3",
   "version": "3.10.11"
  },
  "orig_nbformat": 4,
  "vscode": {
   "interpreter": {
    "hash": "58ee13649a3e33612fea9b2fc6712fa52e5371c54a9ff454aedbace36da48a84"
   }
  }
 },
 "nbformat": 4,
 "nbformat_minor": 2
}
