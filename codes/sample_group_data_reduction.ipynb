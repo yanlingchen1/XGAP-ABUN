{
 "cells": [
  {
   "cell_type": "code",
   "execution_count": null,
   "metadata": {},
   "outputs": [],
   "source": [
    "'''\n",
    "Reduce data all over again using most updated ESAS pipeline (v21.0 with 23.7.16 updated log)\n",
    "https://pages.jh.edu/kkuntz1/xmm-esas.pdf\n",
    "\n",
    "Hopefully solve the problems occurs in manual pipeline:\n",
    "1. QPB wrong images and spectra: zcolumn can account for chip exptime variation\n",
    "2. enlighted edges for PN\n",
    "\n",
    "And some issues not covered by previous manual pipeline:\n",
    "1. SP correction and SWCX correction in image analysis\n",
    "2. PN spectra patterns\n",
    "3. qpb oversubtracting for MOS caveat.\n",
    "\n",
    "All the Diagnostic files should be saved and documented properly this time. \n",
    "'''\n"
   ]
  },
  {
   "cell_type": "code",
   "execution_count": null,
   "metadata": {},
   "outputs": [],
   "source": [
    "'''\n",
    "SDSSTG 3460\n",
    "0903892401\n",
    "'''"
   ]
  },
  {
   "cell_type": "markdown",
   "metadata": {},
   "source": [
    "1. Setup the directories"
   ]
  },
  {
   "cell_type": "code",
   "execution_count": null,
   "metadata": {},
   "outputs": [],
   "source": [
    "import os\n",
    "from glob import glob\n",
    "\n",
    "workpath = f'/Users/eusracenorth/Documents/work/XGAP-ABUN'\n",
    "datadir = f'{workpath}/data/origin'\n",
    "obsid = '0903892401'\n",
    "os.makedirs(f'{datadir}/{obsid}', exist_ok=True)\n",
    "\n"
   ]
  },
  {
   "cell_type": "code",
   "execution_count": null,
   "metadata": {},
   "outputs": [],
   "source": [
    "os.chdir(f'{datadir}/{obsid}')"
   ]
  },
  {
   "cell_type": "code",
   "execution_count": null,
   "metadata": {
    "vscode": {
     "languageId": "shellscript"
    }
   },
   "outputs": [],
   "source": [
    "heainit\n",
    "sasversion\n",
    "export SAS_ODF=/Users/eusracenorth/Documents/work/XGAP-ABUN/data/origin/0903892401\n",
    "\n",
    "cifbuild\n",
    "export SAS_CCF=/Users/eusracenorth/Documents/work/XGAP-ABUN/data/origin/0903892401/ccf.cif\n",
    "\n",
    "odfingest odfdir=$SAS_ODF outdir=$SAS_ODF\n",
    "export SAS_ODF=/Users/eusracenorth/Documents/work/XGAP-ABUN/data/origin/0903892401/4103_0903892401_SCX00000SUM.SAS"
   ]
  },
  {
   "cell_type": "markdown",
   "metadata": {},
   "source": [
    "0. preprocessing \n",
    "epchain has some constituent tasks error, so switch to *proc\n",
    "(some bugs running epproc )"
   ]
  },
  {
   "cell_type": "code",
   "execution_count": null,
   "metadata": {
    "vscode": {
     "languageId": "shellscript"
    }
   },
   "outputs": [],
   "source": [
    "emproc > emproc.log\n",
    "epproc > epproc.log\n",
    "mv *EPN_S003_ImagingEvts.ds to *EPN-1_S003_ImagingEvts.ds\n",
    "epproc withoutoftime=true > epproc_oot.log\n",
    "mv *EMOS1_S001_ImagingEvts.ds mos1-S001.evt\n",
    "mv *EMOS2_S002_ImagingEvts.ds mos2-S002.evt\n",
    "mv *EPN_S003_ImagingEvts.ds pn-oot-S003.evt\n",
    "mv *EPN-1_S003_ImagingEvts.ds pn-S003.evt\n",
    "\n",
    "epchain exposure=99 > epchain_exp99.log # check if PN has several segments!\n",
    "# ** -: error (exposure), exposure not found in /stage/headat/yanling/SDSSTG3460 directory. Check exposure index 99\n"
   ]
  },
  {
   "cell_type": "markdown",
   "metadata": {},
   "source": [
    "2. diagnose em/epchain by generating images"
   ]
  },
  {
   "cell_type": "code",
   "execution_count": null,
   "metadata": {
    "vscode": {
     "languageId": "shellscript"
    }
   },
   "outputs": [],
   "source": [
    "emanom eventfile=mos1-S001.evt keepcorner=no\n",
    "emanom eventfile=mos2-S002.evt keepcorner=no\n",
    "\n",
    "# mos1 chip3, 6 off\n",
    "# mos2 chip5 bad.\n",
    "export M1ON=\"T T F T T F T\"\n",
    "export M2ON=\"T T T T F T T\"\n",
    "export PNON=\"T T T T\"\n"
   ]
  },
  {
   "cell_type": "code",
   "execution_count": null,
   "metadata": {
    "vscode": {
     "languageId": "shellscript"
    }
   },
   "outputs": [],
   "source": [
    "# visual inspect\n",
    "evselect table=mos1-S001.evt withimageset=yes imageset=mos1S001-diag-det-unfilt.fits filtertype=expression expression=\"(PI in [300:1000])&&(PATTERN<=12)&&((FLAG & 0x766aa000)==0)\" ignorelegallimits=yes imagebinning=imageSize xcolumn=DETX ximagesize=780 ximagemax=19500 ximagemin=-19499 ycolumn=DETY yimagesize=780 yimagemax=19500 yimagemin=-19499\n",
    "evselect table=mos2-S002.evt withimageset=yes imageset=mos2S002-diag-det-unfilt.fits filtertype=expression expression=\"(PI in [300:1000])&& (PATTERN<=12)&&((FLAG & 0x766aa000)==0)\" ignorelegallimits=yes imagebinning=imageSize xcolumn=DETX ximagesize=780 ximagemax=19500 ximagemin=-19499 ycolumn=DETY yimagesize=780 yimagemax=19500 yimagemin=-19499\n",
    "evselect table=pn-S003.evt withimageset=yes imageset=pnS003-diag-det-unfilt.fits filtertype=expression expression=\"(PI in [300:1000])&& (PATTERN <= 4)&&(#XMMEA_EP)\" ignorelegallimits=yes imagebinning=imageSize xcolumn=DETX ximagesize=780 ximagemax=19500 ximagemin=-19499 ycolumn=DETY yimagesize=780 yimagemax=19500 yimagemin=-19499\n",
    "evselect table=pn-oot-S003.evt withimageset=yes imageset=pnS003-oot-diag-det-unfilt.fits filtertype=expression expression=\"(PI in [300:1000])&& (PATTERN <= 4)&&(#XMMEA_EP)\" ignorelegallimits=yes imagebinning=imageSize xcolumn=DETX ximagesize=780 ximagemax=19500 ximagemin=-19499 ycolumn=DETY yimagesize=780 yimagemax=19500 yimagemin=-19499\n",
    "\n"
   ]
  },
  {
   "cell_type": "markdown",
   "metadata": {},
   "source": [
    "3. SP Flare filtering"
   ]
  },
  {
   "cell_type": "code",
   "execution_count": null,
   "metadata": {
    "vscode": {
     "languageId": "shellscript"
    }
   },
   "outputs": [],
   "source": [
    "espfilt eventfile=mos1-S001.evt elow=2500 ehigh=8500 withsmoothing=yes smooth=51 rangescale=6.0 allowsigma=3.0 method=histogram keepinterfiles=false > flare_filter_mos1-S001.log\n",
    "espfilt eventfile=mos2-S002.evt elow=2500 ehigh=8500 withsmoothing=yes smooth=51 rangescale=6.0 allowsigma=3.0 method=histogram keepinterfiles=false > flare_filter_mos2-S002.log\n",
    "espfilt eventfile=pn-S003.evt elow=2500 ehigh=8500 withsmoothing=yes smooth=51 rangescale=15.0 allowsigma=3.0 method=histogram withoot=Y ootfile=pn-oot-S003.evt keepinterfiles=false > flare_filter_pn-S003.log\n",
    "\n",
    "# except for P-allevc.fits and P-gti.fits are kept, others are moved to DIAGNOISE dir after checking\n"
   ]
  },
  {
   "cell_type": "markdown",
   "metadata": {},
   "source": [
    "# 4. remove the point sources"
   ]
  },
  {
   "cell_type": "code",
   "execution_count": null,
   "metadata": {},
   "outputs": [],
   "source": [
    "\n",
    "'''\n",
    "Steps\n",
    "1. cheese the pointsources\n",
    "2. do the histogram of point sources vs flux, take the median as the detection limit of this observation\n",
    "3. calculate unresolved cxb flux\n",
    "4. calculate best exclusion radius using detection limit\n",
    "'''\n",
    "\n",
    "for name in ['mos1S001', 'mos2S002', 'pnS003']:\n",
    "    print(f'region eventset={name}-allevc.fits operationstyle=global srclisttab=emllist.fits:SRCLIST expression=\"(ID_INST==2)&&(DET_ML >= 100)\"')"
   ]
  },
  {
   "cell_type": "code",
   "execution_count": null,
   "metadata": {
    "vscode": {
     "languageId": "shellscript"
    }
   },
   "outputs": [],
   "source": [
    "cheese mos1file='mos1S001-allevc.fits' mos2file='mos2S002-allevc.fits' pnfile='pnS003-allevc.fits' pnootfile='pnS003-allevcoot.fits' elowlist='350 2500' ehighlist='1100 8000' scale=0.5 mlmin=5 dist=50. ratesoft=0.06 ratehard=0.06 ratetotal=0.06 keepinterfiles=no | tee cheese_rate006_ml5.txt\n"
   ]
  },
  {
   "cell_type": "code",
   "execution_count": 174,
   "metadata": {},
   "outputs": [
    {
     "name": "stdout",
     "output_type": "stream",
     "text": [
      "evselect table=mos2S002-allevc.fits withfilteredset=yes filtertype=expression expression=\"#XMMEA_EM&&(PATTERN<=12)&&CCDNR.ne.5\" filteredset=mos2S002-allevc-nechip5.fits keepfilteroutput=yes updateexposure=yes filterexposure=yes\n",
      "\n",
      "cheese mos1file='mos1S001-allevc.fits' mos2file='mos2S002-allevc-nechip5.fits' pnfile='pnS003-allevc.fits' pnootfile='pnS003-allevcoot.fits' elowlist=350 ehighlist=7000 scale=0.5 mlmin=1 dist=1. ratetotal=1e-4 keepinterfiles=no | tee cheese_rate0001_ml01_350-7000_dist1_exchip5.txt\n"
     ]
    }
   ],
   "source": [
    "express = '#XMMEA_EM&&(PATTERN<=12)&&CCDNR.ne.5'\n",
    "print(f'evselect table=mos2S002-allevc.fits withfilteredset=yes filtertype=expression expression=\"{express}\" filteredset=mos2S002-allevc-nechip5.fits keepfilteroutput=yes updateexposure=yes filterexposure=yes\\n')\n",
    "\n",
    "print(\"cheese mos1file='mos1S001-allevc.fits' mos2file='mos2S002-allevc-nechip5.fits' pnfile='pnS003-allevc.fits' pnootfile='pnS003-allevcoot.fits' elowlist=350 ehighlist=7000 scale=0.5 mlmin=1 dist=1. ratetotal=1e-4 keepinterfiles=no | tee cheese_rate0001_ml01_350-7000_dist1_exchip5.txt\")\n"
   ]
  },
  {
   "cell_type": "code",
   "execution_count": null,
   "metadata": {},
   "outputs": [],
   "source": []
  },
  {
   "cell_type": "code",
   "execution_count": null,
   "metadata": {},
   "outputs": [],
   "source": [
    "# eye inspect and add source to emllist.fits -> emllist_add.fits\n",
    "# adding criteria:\n",
    "### 1. not exclude the center of the group\n",
    "### 2. add the missing source (which criteria?)\n",
    "\n",
    "from astropy.io import fits\n",
    "import numpy as np\n",
    "\n",
    "# group center\n",
    "center = ()\n",
    "center_err = ()\n",
    "\n",
    "# point sources centers\n",
    "ps_centers = [()]\n",
    "ps_centers_err = [()]\n",
    "\n",
    "datapath = f'{datadir}/sron/cheese_rate000001_ml01_350-7000_dist1'\n",
    "filename = f'{datapath}/emllist.fits'\n",
    "\n",
    "os.system(f'cp {filename} {filename.split(\".\")[0]}_add.fits')\n",
    "\n",
    "f = fits.open(filename)\n",
    "dat = f[1].data\n",
    "f.close()\n",
    "dat['FLAG'] = 0\n",
    "np.append(dat, np.array([dat[-1]], dtype=dat.dtype))\n",
    "\n",
    "# print(dat)\n",
    "# \n",
    "# ra = dat['RA']\n",
    "# dec = dat['DEC']\n",
    "\n",
    "# minfrac = np.nanmin(dat['MASKFRAC'])\n",
    "\n",
    "# dat\n",
    "# newf = fits.open(f'{filename.split(\".\")}_add.fits')\n"
   ]
  },
  {
   "cell_type": "code",
   "execution_count": null,
   "metadata": {
    "vscode": {
     "languageId": "shellscript"
    }
   },
   "outputs": [],
   "source": [
    "# make the mask fits and mask regions of point sources in sky and det coordinates \n",
    "# mask exclude the radii where the flux of source 50% of total flux\n",
    "\n"
   ]
  },
  {
   "cell_type": "code",
   "execution_count": null,
   "metadata": {
    "vscode": {
     "languageId": "shellscript"
    }
   },
   "outputs": [],
   "source": [
    "## edit region files\n",
    "export M1=mos1S001\n",
    "export M2=mos2S002\n",
    "export PN=pnS003\n",
    "\n",
    "for name in $M1 $M2 $PN\n",
    "do\n",
    "# note, region also doesn't work properly, there is some part in emllist affects the source exclusion using region.\n",
    "# So try to make the *bkgregt*.fits manually.\n",
    "region eventset=${name}-allevc.fits operationstyle=global srclisttab=emllist_complete.fits:SRCLIST expression=\"(ID_INST == 0)&&(DET_ML >= 1)\" bkgregionset=${name}-bkgregtdet.fits energyfraction=0.4 radiusstyle=contour outunit=detxy verbosity=4 |tee region-det-${name}.log\n",
    "# region eventset=${name}-allevc.fits operationstyle=global srclisttab=emllist_complete.fits:SRCLIST expression=\"(ID_INST == 0)&&(DET_ML >= 1)\" bkgregionset=${name}-bkgregtsky.fits energyfraction=0.4 radiusstyle=contour outunit=xy verbosity=4 |tee region-sky-${name}.log\n",
    "\n",
    "# ## note, makemask don't work properly, use ftimgcalc instead!\n",
    "# makemask imagefile=${name}-fovimt.fits maskfile=${name}-fovimtmask.fits regionfile=${name}-bkgregtsky.fits cheesefile=${name}-cheeset.fits | tee makemask-${name}.log\n",
    "done"
   ]
  },
  {
   "cell_type": "markdown",
   "metadata": {},
   "source": [
    "# 5. extract spectrum from interested region"
   ]
  },
  {
   "cell_type": "markdown",
   "metadata": {},
   "source": [
    "0 create the region excluded by point sources regions\n",
    "which is the 0.5r200 circle "
   ]
  },
  {
   "cell_type": "code",
   "execution_count": null,
   "metadata": {
    "vscode": {
     "languageId": "shellscript"
    }
   },
   "outputs": [],
   "source": [
    "esky2det datastyle=user ra=11h22m55.51s dec=34d06m28.26s outunit=det calinfoset='mos1S001-allevc.fits'\n",
    "esky2det datastyle=user ra=11h22m55.51s dec=34d06m28.26s outunit=det calinfoset='mos2S002-allevc.fits'\n",
    "esky2det datastyle=user ra=11h22m55.51s dec=34d06m28.26s outunit=det calinfoset='pnS003-allevc.fits'\n",
    "\n",
    "'''\n",
    "esky2det:- Executing (routine): esky2det intab=inset.ds:INPUT witherrorcol=no outtab=outset.ds:OUTPUT withouttab=no ra=11h22m55.51s dec=34d6m28.26s errorradius=0 witherrorradius=no withheader=yes datastyle=user mosccdnode=primary outunit=det calinfoset=mos1S001-allevc.fits instrument=EMOS1 datetime=0000-00-00T00:00:00 scattra=0 scattdec=0 scattapos=0 calinfostyle=set checkfov=yes withboresightfudge=no  -w 1 -V 4\n",
    "esky2det:- esky2det (esky2det-1.19.2)  [xmmsas_20230412_1735-21.0.0] started:  2023-09-25T14:10:02.000\n",
    "# Instrument: EMOS1\n",
    "# Coord sytem of output is DETXY (CAMCOORD2 but in units of 0.05 arcsec).\n",
    "# Source RA = 170.731293 deg.\n",
    "# Source dec =  34.107849 deg.\n",
    "#\n",
    "# detX       detY\n",
    "   -48.2     -185.1\n",
    "\n",
    "## while pixel is 0.05 arcsec, therefore r = 7.5 arcmin circle is r = 9000\n",
    "\n",
    "## > regmos1.txt\n",
    "'''"
   ]
  },
  {
   "cell_type": "markdown",
   "metadata": {},
   "source": [
    "1 mosspectra & mosback"
   ]
  },
  {
   "cell_type": "code",
   "execution_count": null,
   "metadata": {
    "vscode": {
     "languageId": "shellscript"
    }
   },
   "outputs": [],
   "source": [
    "export ELO=350\n",
    "export EHI=14000\n",
    "mosspectra eventfile=${M1}-allevc.fits keepinterfiles=yes withregion=yes regionfile=reg_${M1}.txt pattern=12 withsrcrem=yes maskdet=${M1}-bkgregtdet.fits masksky=${M1}-bkgregtsky.fits elow=${ELO} ehigh=${EHI} ccds=\"${M1ON}\" -V=7 2>&1 |tee mosspectra_${M1}.log\n",
    "mosback inspecfile=${M1}-fovt.pi elow=${ELO} ehigh=${EHI} ccds=\"${M1ON}\" 2>&1 |tee mosback_${M1}.log\n",
    "\n"
   ]
  },
  {
   "cell_type": "code",
   "execution_count": null,
   "metadata": {
    "vscode": {
     "languageId": "shellscript"
    }
   },
   "outputs": [],
   "source": [
    "mosspectra eventfile=${M2}-allevc.fits keepinterfiles=yes withregion=yes regionfile=reg_${M2}.txt pattern=12 withsrcrem=yes maskdet=${M2}-bkgregtdet.fits masksky=${M2}-bkgregtsky.fits elow=${ELO} ehigh=${EHI} ccds=\"${M2ON}\" -V=7 2>&1 |tee mosspectra_${M2}.log\n",
    "mosback inspecfile=${M2}-fovt.pi elow=${ELO} ehigh=${EHI} ccds=\"${M2ON}\" 2>&1 |tee mosback_${M2}.log"
   ]
  },
  {
   "cell_type": "markdown",
   "metadata": {},
   "source": [
    "2 check the diagnostic file\n"
   ]
  },
  {
   "cell_type": "code",
   "execution_count": null,
   "metadata": {
    "vscode": {
     "languageId": "shellscript"
    }
   },
   "outputs": [],
   "source": [
    "xspec\n",
    "qdp P-.qdp\n",
    "/xw\n"
   ]
  },
  {
   "cell_type": "markdown",
   "metadata": {},
   "source": [
    "3 mv the products to new dir"
   ]
  },
  {
   "cell_type": "code",
   "execution_count": null,
   "metadata": {
    "vscode": {
     "languageId": "shellscript"
    }
   },
   "outputs": [],
   "source": [
    "#!/bin/bash\n",
    "\n",
    "# Define variables\n",
    "export regname=05r200c\n",
    "export M1=mos1S001\n",
    "\n",
    "# Loop over each value in $M1\n",
    "for name in $M2; do\n",
    "    # Create a directory with the specified name\n",
    "    # mkdir ${regname}_${name}\n",
    "\n",
    "    # Move files to the created directory\n",
    "    mv mos2*-${ELO}-${EHI}* ${regname}_${name}\n",
    "    mv mos2*.pi ${regname}_${name}\n",
    "    mv mos2*.qdp ${regname}_${name}\n",
    "    mv mos2*.psf ${regname}_${name}\n",
    "    mv mos2*imt* ${regname}_${name}\n",
    "    mv mos2*.arf ${regname}_${name}\n",
    "    mv mos2*.rmf ${regname}_${name}\n",
    "    mv mos2*imspdet* ${regname}_${name}\n",
    "done\n"
   ]
  },
  {
   "cell_type": "markdown",
   "metadata": {},
   "source": [
    "4 pnspectra & pnback: pn pattern==0 (soft emission)"
   ]
  },
  {
   "cell_type": "code",
   "execution_count": null,
   "metadata": {
    "vscode": {
     "languageId": "shellscript"
    }
   },
   "outputs": [],
   "source": [
    "pnspectra eventfile=${PN}-allevc.fits ootevtfile=${PN}-allevcoot.fits keepinterfiles=yes withregion=yes regionfile=reg_${PN}.txt pattern=0 withsrcrem=yes maskdet=${PN}-bkgregtdet.fits masksky=${PN}-bkgregtsky.fits elow=${ELO} ehigh=${EHI} quads=\"${PNON}\" -V=7 2>&1 |tee pnspectra_0_${PN}.log\n",
    "pnback inspecfile=${PN}-fovt.pi inspecoot=${PN}-fovtoot.pi elow=${ELO} ehigh=${EHI} quads=\"${PNON}\" 2>&1 |tee pnback_0_${PN}.log"
   ]
  },
  {
   "cell_type": "markdown",
   "metadata": {},
   "source": [
    "5 mv pn pat=0 products to new dir\n"
   ]
  },
  {
   "cell_type": "code",
   "execution_count": null,
   "metadata": {
    "vscode": {
     "languageId": "shellscript"
    }
   },
   "outputs": [],
   "source": [
    "mkdir ${regname}_${PN}_0\n",
    "mv pn*-${ELO}-${EHI}* ${regname}_${PN}_0\n",
    "mv pn*.pi ${regname}_${PN}_0\n",
    "mv pn*.qdp ${regname}_${PN}_0\n",
    "mv pn*.ps ${regname}_${PN}_0\n",
    "mv pn*imt* ${regname}_${PN}_0\n",
    "mv pn*.arf ${regname}_${PN}_0\n",
    "mv pn*.rmf ${regname}_${PN}_0\n",
    "mv pn*imspdet* ${regname}_${PN}_0"
   ]
  },
  {
   "cell_type": "markdown",
   "metadata": {},
   "source": [
    "6 pnspectra & pnback: pnpattern<=4 (hard emission)"
   ]
  },
  {
   "cell_type": "code",
   "execution_count": null,
   "metadata": {
    "vscode": {
     "languageId": "shellscript"
    }
   },
   "outputs": [],
   "source": [
    "\n",
    "pnspectra eventfile=${PN}-allevc.fits ootevtfile=${PN}-allevcoot.fits keepinterfiles=yes withregion=yes regionfile=reg_${PN}.txt pattern=4 withsrcrem=yes maskdet=${PN}-bkgregtdet.fits elow=${ELO} ehigh=${EHI} quads=\"${PNON}\" -V=7  2>&1 |tee pnspectra_4_${PN}.log\n",
    "pnback inspecfile=${PN}-fovt.pi inspecoot=${PN}-fovtoot.pi elow=${ELO} ehigh=${EHI} quads=\"${PNON}\"  2>&1 |tee pnback_4_${PN}.log"
   ]
  },
  {
   "cell_type": "markdown",
   "metadata": {},
   "source": [
    "7 mv pn pat=4 products to new dir"
   ]
  },
  {
   "cell_type": "code",
   "execution_count": null,
   "metadata": {
    "vscode": {
     "languageId": "shellscript"
    }
   },
   "outputs": [],
   "source": [
    "mkdir ${regname}_${PN}_4\n",
    "mv pn*${ELO}-${EHI}* ${regname}_${PN}_4\n",
    "mv pn*.pi ${regname}_${PN}_4\n",
    "mv pn*.qdp ${regname}_${PN}_4\n",
    "mv pn*.ps ${regname}_${PN}_4\n",
    "mv pn*imt* ${regname}_${PN}_4\n",
    "mv pn*.arf ${regname}_${PN}_4\n",
    "mv pn*.rmf ${regname}_${PN}_4\n",
    "mv pn*imspdet* ${regname}_${PN}_4\n"
   ]
  },
  {
   "cell_type": "markdown",
   "metadata": {},
   "source": [
    "8 group the spectrums, cal backscal"
   ]
  },
  {
   "cell_type": "code",
   "execution_count": null,
   "metadata": {
    "vscode": {
     "languageId": "shellscript"
    }
   },
   "outputs": [],
   "source": [
    "mkdir ${regname}_spectrum\n",
    "\n",
    "# for mos1 \n",
    "cd ${regname}_${M1}\n",
    "\n",
    "# An easy way to get the BACKSCAL header keyword which you will need for the spectral fitting\n",
    "protonscale mode=1 maskfile=${M1}-fovimspdet.fits specfile=${M1}-fovt.pi\n",
    "\n",
    "# Grouping the spectrum and adding the ANCRFILE, BACKFILE, and RESPFILE header keywords (important)\n",
    "grppha ${M1}-fovt.pi mos1-grp.pi 'chkey BACKFILE mos1-bkg.pi & chkey RESPFILE mos1.rmf & chkey ANCRFILE mos1.arf & group min 50 & exit'\n",
    "mv mos1-grp.pi ../${regname}_spectrum/mos1-grp.pi\n",
    "cp ${M1}-bkg.pi ../${regname}_spectrum/mos1-bkg.pi\n",
    "cp ${M1}.rmf ../${regname}_spectrum/mos1.rmf\n",
    "cp ${M1}.arf ../${regname}_spectrum/mos1.arf\n",
    "cd ..\n",
    "\n",
    "# for mos2 \n",
    "cd ${regname}_${M2}\n",
    "\n",
    "protonscale mode=1 maskfile={$M2}-fovimspdet.fits specfile={$M2}-fovt.pi\n",
    "\n",
    "grppha ${M2}-fovt.pi mos2-grp.pi 'chkey BACKFILE mos2-bkg.pi & chkey RESPFILE mos2.rmf & chkey ANCRFILE mos2.arf & group min 50 & exit'\n",
    "mv mos2-grp.pi ../${regname}_spectrum/mos2-grp.pi\n",
    "cp ${M2}-bkg.pi ../${regname}_spectrum/mos2-bkg.pi\n",
    "cp ${M2}.rmf ../${regname}_spectrum/mos2.rmf\n",
    "cp ${M2}.arf ../${regname}_spectrum/mos2.arf\n",
    "cd ..\n",
    "\n",
    "\n",
    "#for pn pat=0\n",
    "cd ${regname}_${PN}_0\n",
    "protonscale mode=1 maskfile={$PN}-fovimspdet.fits specfile={$PN}-fovt.pi\n",
    "grppha ${PN}-fovtootsub.pi pn0-grp.pi 'chkey BACKFILE pn0-bkg.pi & chkey RESPFILE pn0.rmf & chkey ANCRFILE pn0.arf & group min 50 & exit'\n",
    "mv pn0-grp.pi ../${regname}_spectrum/pn0-grp.pi\n",
    "cp ${PN}-bkg.pi ../${regname}_spectrum/pn0-bkg.pi\n",
    "cp ${PN}.rmf ../${regname}_spectrum/pn0.rmf\n",
    "cp ${PN}.arf ../${regname}_spectrum/pn0.arf\n",
    "cd ..\n",
    "\n",
    "# for pn pat=4\n",
    "cd ${regname}_${PN}_4\n",
    "protonscale mode=1 maskfile={$PN}-fovimspdet.fits specfile={$PN}-fovt.pi\n",
    "grppha ${PN}-fovtootsub.pi pn4-grp.pi 'chkey BACKFILE pn4-bkg.pi & chkey RESPFILE pn4.rmf & chkey ANCRFILE pn4.arf & group min 50 & exit'\n",
    "mv pn4-grp.pi ../${regname}_spectrum/pn4-grp.pi\n",
    "cp ${PN}-bkg.pi ../${regname}_spectrum/pn4-bkg.pi\n",
    "cp ${PN}.rmf ../${regname}_spectrum/pn4.rmf\n",
    "cp ${PN}.arf ../${regname}_spectrum/pn4.arf\n",
    "cd ..\n",
    "\n"
   ]
  },
  {
   "cell_type": "markdown",
   "metadata": {},
   "source": [
    "# 6 fit the spectrum"
   ]
  },
  {
   "cell_type": "markdown",
   "metadata": {},
   "source": [
    "00 load the bkg data"
   ]
  },
  {
   "cell_type": "code",
   "execution_count": null,
   "metadata": {
    "vscode": {
     "languageId": "shellscript"
    }
   },
   "outputs": [],
   "source": [
    "abun aspl\n",
    "statistic chi\n",
    "data 1:1 mos1-bkg.pi \n",
    "res 1 mos1.rmf\n",
    "ig 1:0.0-0.3,11.0-** \n",
    "data 2:2 mos2-bkg.pi \n",
    "res 2 mos2.rmf\n",
    "ig 2:0.0-0.3,11.0-** \n",
    "data 3:3 pn0-bkg.pi \n",
    "res 3 pn0.rmf\n",
    "ig 3:0.0-0.3,2.0-** \n",
    "data 4:4 pn4-bkg.pi \n",
    "res 4 pn4.rmf\n",
    "ig 4:0.0-1.0,11.0-** \n",
    "ig 4:7.2-9.2 \n",
    "data 5:5 rosat.pi \n",
    "res 5 rosat.rmf\n",
    "ig bad\n",
    "\n",
    "cpd /xs\n",
    "setp energy\n",
    "pl ldat\n",
    "\n"
   ]
  },
  {
   "cell_type": "code",
   "execution_count": null,
   "metadata": {
    "vscode": {
     "languageId": "shellscript"
    }
   },
   "outputs": [],
   "source": [
    "1 load the data"
   ]
  },
  {
   "cell_type": "code",
   "execution_count": null,
   "metadata": {
    "vscode": {
     "languageId": "shellscript"
    }
   },
   "outputs": [],
   "source": [
    "abun aspl\n",
    "statistic cstat\n",
    "data 1:1 mos1-grp.pi \n",
    "res 1 mos1.rmf\n",
    "backgrnd mos1-bkg.pi \n",
    "ig 1:0.0-0.3,11.0-** \n",
    "\n",
    "data 2:2 mos2-grp.pi \n",
    "res 2 mos2.rmf\n",
    "backgrnd mos2-bkg.pi \n",
    "ig 2:0.0-0.3,11.0-** \n",
    "\n",
    "data 3:3 pn0-grp.pi \n",
    "res 3 pn0.rmf\n",
    "backgrnd pn0-bkg.pi\n",
    "ig 3:0.0-0.3,2.0-** \n",
    "\n",
    "data 4:4 pn4-grp.pi \n",
    "res 4 pn4.rmf\n",
    "backgrnd pn4-bkg.pi\n",
    "ig 4:0.0-1.0,11.0-** \n",
    "ig 4:7.2-9.2 \n",
    "\n",
    "data 5:5 rosat.pi \n",
    "res 5 rosat.rmf\n",
    "ig bad\n",
    "\n",
    "cpd /xs\n",
    "setp energy\n",
    "pl ldat\n",
    "\n"
   ]
  },
  {
   "cell_type": "markdown",
   "metadata": {},
   "source": [
    "2 fit the data"
   ]
  },
  {
   "cell_type": "code",
   "execution_count": null,
   "metadata": {
    "vscode": {
     "languageId": "shellscript"
    }
   },
   "outputs": [],
   "source": [
    "'''\n",
    "## cxb\n",
    "## 1st const: \n",
    "## number of sq arcmins convered by region, diff by inst, freeze once set.\n",
    "## BACKSCAL keywords records the region area, in units of 0.05\"x0.05\"\n",
    "mos1: 195850532 # 136.00 arcmin2\n",
    "mos2: 228426612 # 158.63 arcmin2\n",
    "pn: 216930929 # 150.65 arcmin2\n",
    "\n",
    "## 2nd const:\n",
    "fudge factor to account for slight mismatches in calibrations of inst\n",
    "should be initially set to 1 and freeze, \n",
    "once fit nearly correct, it can be thawed and the change < 10%\n",
    "\n",
    "## Regarding to GH:\n",
    "whether to include multiple component of GH?\n",
    "depends on data quality, location on the sky and objective.\n",
    "\n",
    "## nH should be frozen: 2.41e20 atom/cm2\n",
    "\n",
    "## CXB pow index should be frozen\n",
    "## If the CXB norm has been carefully calibrated, norm can be frozen.\n",
    "\n",
    "Therefore, only 18 free parameters here. \n",
    "'''\n",
    "model const*const*(apec+tbabs(apec+pow))\n",
    "\n",
    "\n",
    "# par 1, etc.\n",
    "\n",
    "resp 3:1 mos1.rmf \n",
    "arf 3:1 mos1.arf \n",
    "resp 3:2 mos2.rmf \n",
    "arf 3:2 mos2.arf \n",
    "resp 3:3 pn0.rmf \n",
    "arf 3:3 pn0.arf\n",
    "resp 3:4 pn4.rmf \n",
    "arf 3:4 pn4.arf \n",
    "model 3:alsi const*const*(gaus+gaus)\n",
    "\n",
    "'''\n",
    "Residual Soft Proton\n",
    "\n",
    "## The norm of MOS1, MOS2 could be linked initially, \n",
    "but should thaw afterwards, since they are different.\n",
    "\n",
    "## pn cant be linked to mos. \n",
    "## For pn, whether for pat=0 and pat=4 has similar shape or norm is under debated.\n",
    "\n",
    "## pow index typical in range 0.5-1.0, can vary btw 0.1-1.4\n",
    "if the index is out of range, better to freeze to 0.1 and 1.4\n",
    "\n",
    "## breakE is ~3keV, 2.5keV or above\n",
    "\n",
    "## if the SP norm < ~1e-6 arcmin-2, the values are effectively zero\n",
    "\n",
    "'''\n",
    "\n",
    "resp 2:1 mos1-diag.rsp \n",
    "resp 2:2 mos2-diag.rsp \n",
    "resp 2:3 pn-diag.rsp \n",
    "resp 2:4 pn-diag.rsp\n",
    "\n",
    "model 2:spf const*const*(bknpow)\n",
    "# parameter spf:1, etc.\n",
    "\n",
    "'''\n",
    "SWCX lines\n",
    "\n",
    "## two consts should be linked to CXB model \n",
    "\n",
    "## for ROSAT, SWCX was not included\n",
    "\n",
    "## in all cases, line centers are frozen(table 8), line widths are zero.\n",
    "once a good fit is obtained, centers can be thawed,\n",
    "which should only slightly altered. \n",
    "\n",
    "'''\n",
    "resp 3:1 mos1.rmf \n",
    "arf 3:1 mos1.arf \n",
    "resp 3:2 mos2.rmf \n",
    "arf 3:2 mos2.arf \n",
    "resp 3:3 pn0.rmf \n",
    "arf 3:3 pn0.arf \n",
    "resp 3:4 pn4.rmf \n",
    "arf 3:4 pn4.arf \n",
    "model 3:swcx const*const*(gaus+gaus+gaus+gaus+gaus+gaus+gaus+gaus)\n",
    "# parameter swcx:1, etc.\n",
    "\n",
    "\n"
   ]
  },
  {
   "cell_type": "markdown",
   "metadata": {},
   "source": [
    "3 set par cxb"
   ]
  },
  {
   "cell_type": "markdown",
   "metadata": {},
   "source": [
    "4 set par spf"
   ]
  },
  {
   "cell_type": "markdown",
   "metadata": {},
   "source": [
    "5 set par alsi\n"
   ]
  },
  {
   "cell_type": "markdown",
   "metadata": {},
   "source": [
    "# 4.1 extract the spectrum using mosspectra"
   ]
  },
  {
   "cell_type": "markdown",
   "metadata": {},
   "source": [
    "0 make mask including point sources"
   ]
  },
  {
   "cell_type": "code",
   "execution_count": null,
   "metadata": {},
   "outputs": [],
   "source": [
    "for name in ['mos1S001', 'mos2S002', 'pnS003']:\n",
    "    # print(f'ftimgcalc wcs_srcs_msk_{name}.fits \\'regfilter(\"../wcs_srcreg.reg\",A.P1,A.P2) ? (0):(1)\\' a={name}-fovimt.fits clobber=yes')\n",
    "    print(f'farith \"{name}-fovimtmask.fits[1]\" wcs_srcs_msk_{name}.fits {name}_cheeset.fits \"*\" clobber=yes')"
   ]
  },
  {
   "cell_type": "code",
   "execution_count": null,
   "metadata": {},
   "outputs": [],
   "source": [
    "fits.open('')"
   ]
  },
  {
   "cell_type": "code",
   "execution_count": null,
   "metadata": {},
   "outputs": [],
   "source": [
    "mosspectra eventfile=mos1S001-allevc.fits maskdet=mos1S001_fovimtmask.fits withsrcrem=yes withregion=yes regionfile=mos1_reg_detxy.txt keepinterfiles=yes pattern=12 elow=350 ehigh=10000 ccds=\"T T F T T F T\" |  tee mosspectra-mos1.log"
   ]
  },
  {
   "cell_type": "code",
   "execution_count": null,
   "metadata": {},
   "outputs": [],
   "source": []
  },
  {
   "cell_type": "code",
   "execution_count": null,
   "metadata": {},
   "outputs": [],
   "source": [
    "mosback inspecfile=mos1S001-fovt.pi elow=350 ehigh=10000 ccds=\"T T F T T F T\" withplotfiles=True | tee mosback.log"
   ]
  },
  {
   "cell_type": "markdown",
   "metadata": {},
   "source": [
    "# 4. extract the qpb spectrums\n",
    "checke the qpb_threads.ipynb"
   ]
  },
  {
   "cell_type": "markdown",
   "metadata": {},
   "source": [
    "1 compare corner with "
   ]
  },
  {
   "cell_type": "code",
   "execution_count": null,
   "metadata": {},
   "outputs": [],
   "source": []
  }
 ],
 "metadata": {
  "kernelspec": {
   "display_name": "Python 3.10.11 ('base')",
   "language": "python",
   "name": "python3"
  },
  "language_info": {
   "codemirror_mode": {
    "name": "ipython",
    "version": 3
   },
   "file_extension": ".py",
   "mimetype": "text/x-python",
   "name": "python",
   "nbconvert_exporter": "python",
   "pygments_lexer": "ipython3",
   "version": "3.10.11"
  },
  "orig_nbformat": 4,
  "vscode": {
   "interpreter": {
    "hash": "58ee13649a3e33612fea9b2fc6712fa52e5371c54a9ff454aedbace36da48a84"
   }
  }
 },
 "nbformat": 4,
 "nbformat_minor": 2
}
