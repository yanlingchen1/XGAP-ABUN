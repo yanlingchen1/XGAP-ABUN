{
 "cells": [
  {
   "cell_type": "code",
   "execution_count": null,
   "metadata": {},
   "outputs": [],
   "source": [
    "'''\n",
    "1. use bkg model in answer\n",
    "\n",
    "'''"
   ]
  },
  {
   "cell_type": "code",
   "execution_count": null,
   "metadata": {},
   "outputs": [],
   "source": [
    "'''\n",
    "Answer:\n",
    "T keV 0.9891 0.0093 0.0095 FFFFFFFFF\n",
    "Z solar 0.4387 0.0363 0.0331 FFFFFFFFF\n",
    "Norm 8.3036e-04 4.5490e-05 4.4790e-05 FFFFFFFFF\n",
    "\n",
    "My Answer:\n",
    "\n",
    "'''"
   ]
  },
  {
   "cell_type": "markdown",
   "metadata": {},
   "source": [
    "1 eckert bkg mdl"
   ]
  },
  {
   "cell_type": "code",
   "execution_count": null,
   "metadata": {},
   "outputs": [],
   "source": [
    "'''\n",
    "Eckert Result:\n",
    "cxbpars.txt\n",
    "\n",
    "lhb    8.78236e-07   5.26693e-08\n",
    "ght    0.168069   0.00567776\n",
    "ghn    1.80237e-06   1.135e-07\n",
    "cxb    1.12266e-06   3.34785e-08\n",
    "NH     0.0134\n",
    "REDSHIFT      0.0361\n",
    "apec + tbabs*(apec+apec+pow)\n",
    "\n",
    "My results:\n",
    "   4    4   apec       kT         keV      0.964045     +/-  8.88405E-03  \n",
    "   5    4   apec       Abundanc            0.483327     +/-  3.49893E-02  \n",
    "   7    4   apec       norm                7.46394E-04  +/-  3.73102E-05 \n",
    "\n",
    "Total fit statistic                           913.93     with 1647 d.o.f.\n",
    "\n",
    "'''"
   ]
  },
  {
   "cell_type": "code",
   "execution_count": null,
   "metadata": {
    "vscode": {
     "languageId": "shellscript"
    }
   },
   "outputs": [],
   "source": [
    "new 3 0.091\n",
    "new 6 8.78236e-07\n",
    "\n",
    "new 7 0.0134\n",
    "\n",
    "new 8 0.168069\n",
    "new 11 1.80237e-06\n",
    "\n",
    "new 15 0\n",
    "\n",
    "new 16 1.45\n",
    "new 17 1.12266e-06\n",
    "\n",
    "# > eckert_bkg_mdl.xcm"
   ]
  }
 ],
 "metadata": {
  "kernelspec": {
   "display_name": "Python 3.9.6 64-bit",
   "language": "python",
   "name": "python3"
  },
  "language_info": {
   "name": "python",
   "version": "3.9.6"
  },
  "orig_nbformat": 4,
  "vscode": {
   "interpreter": {
    "hash": "31f2aee4e71d21fbe5cf8b01ff0e069b9275f58929596ceb00d14d90e3e16cd6"
   }
  }
 },
 "nbformat": 4,
 "nbformat_minor": 2
}
