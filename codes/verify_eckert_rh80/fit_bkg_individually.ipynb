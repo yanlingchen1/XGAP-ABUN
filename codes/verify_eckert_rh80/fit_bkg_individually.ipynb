{
 "cells": [
  {
   "cell_type": "code",
   "execution_count": null,
   "metadata": {},
   "outputs": [],
   "source": [
    "data 1:1 mos1S001-bkg.pi\t\n",
    "data 2:2 mos2S002-bkg.pi\n",
    "data 3:3 pnS003-0-bkg.pi\n",
    "data 4:4 pnS003-4-bkg.pi\n",
    "\n",
    "res 1 mos1-diag.rsp\n",
    "res 2 mos2-diag.rsp\n",
    "res 3 pn-diag.rsp\n",
    "res 4 pn-diag.rsp\n",
    "\n",
    "\n",
    "ign 1:0.0-0.3,11.0-** \n",
    "ign 2:0.0-0.3,11.0-**\n",
    "ign 3:0.0-0.3,2.0-**\n",
    "ign 4:0.0-1.0,11.0-**\n",
    "ign 4:7.2-9.2\n",
    "\n",
    "setp energy\n",
    "statistic cstat\n",
    "abun aspl\n",
    "\n",
    "cpd /xs\n",
    "pl ldat"
   ]
  },
  {
   "cell_type": "code",
   "execution_count": null,
   "metadata": {},
   "outputs": [],
   "source": [
    "mo const*const*(bknpow)"
   ]
  },
  {
   "cell_type": "code",
   "execution_count": null,
   "metadata": {},
   "outputs": [],
   "source": [
    "# set area\n",
    "new 1 93.51\n",
    "new 7 127.54\n",
    "new 13 121.32\n",
    "new 19=13\n",
    "free 1,7,13,19\n",
    "\n",
    "# set inst \n",
    "new 2 1\n",
    "new 8 1\n",
    "new 14 1\n",
    "new 20=14\n",
    "free 2,8\n",
    "thaw 14\n",
    "\n",
    "# set idx1\n",
    "new 3 0.7\n",
    "new 9 0.7\n",
    "new 14 0.7\n",
    "new 21 0.7\n",
    "\n",
    "# set idx2\n",
    "new 5 0.7\n",
    "new 11 0.7\n",
    "new 16 0.7\n",
    "new 19 0.7\n",
    "\n",
    "# set breakE\n",
    "new 4 0.5\n",
    "new 10 0.5\n",
    "new 15 0.5\n",
    "new 17 2\n",
    "thaw 4,10,15\n",
    "\n",
    "# set norm\n",
    "new 6 1e-3\n",
    "new 12 1e-3\n",
    "new 18 1e-3\n",
    "new 24 1e-3\n",
    "\n",
    "\n"
   ]
  }
 ],
 "metadata": {
  "kernelspec": {
   "display_name": "Python 3.9.6 64-bit",
   "language": "python",
   "name": "python3"
  },
  "language_info": {
   "name": "python",
   "version": "3.9.6"
  },
  "orig_nbformat": 4,
  "vscode": {
   "interpreter": {
    "hash": "31f2aee4e71d21fbe5cf8b01ff0e069b9275f58929596ceb00d14d90e3e16cd6"
   }
  }
 },
 "nbformat": 4,
 "nbformat_minor": 2
}
