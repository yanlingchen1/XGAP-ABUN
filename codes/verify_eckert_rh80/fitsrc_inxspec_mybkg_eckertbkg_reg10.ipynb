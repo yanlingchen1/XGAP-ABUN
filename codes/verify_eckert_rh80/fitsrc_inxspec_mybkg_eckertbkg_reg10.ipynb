{
 "cells": [
  {
   "cell_type": "code",
   "execution_count": null,
   "metadata": {},
   "outputs": [],
   "source": [
    "'''\n",
    "Eckert Answer: \n",
    "T keV 0.8569 0.0246 0.0203 FFFFFFFFF\n",
    "Z solar 0.3628 0.1125 0.0759 FFFFFFFFF\n",
    "Norm 2.3196e-06 4.4250e-07 4.4930e-07 FFFFFFFFF\n",
    "\n",
    "My Answer (mybkg):\n",
    "   4    4   apec       kT         keV      0.925257     +/-  2.78589E-02  \n",
    "   5    4   apec       Abundanc            0.260260     +/-  5.69592E-02  \n",
    "   7    4   apec       norm                7.66301E-04  +/-  1.11185E-04  \n",
    "\n",
    "Total fit statistic                          1645.67     with 2039 d.o.f.\n",
    "\n",
    "My Answer (Eckert bkg) with aspl table:\n",
    "   4    4   apec       kT         keV      0.822212     +/-  2.63052E-02  \n",
    "   5    4   apec       Abundanc            0.144304     +/-  2.62809E-02  \n",
    "   7    4   apec       norm                1.17815E-03  +/-  1.19444E-04\n",
    "Total fit statistic                          1669.34     with 2039 d.o.f.\n",
    "\n",
    "My Answer (Eckert bkg) with lodd table:\n",
    "   4    4   apec       kT         keV      0.825099     +/-  2.57769E-02  \n",
    "   5    4   apec       Abundanc            0.158932     +/-  2.91527E-02  \n",
    "   7    4   apec       norm                1.16294E-03  +/-  1.20400E-04  \n",
    "Total fit statistic                          1663.21     with 2039 d.o.f.\n",
    "\n",
    "My Answer (Eckert bkg) with lpgs table:\n",
    "   4    4   apec       kT         keV      0.835282     +/-  2.45670E-02  \n",
    "   5    4   apec       Abundanc            0.243606     +/-  5.38222E-02  \n",
    "   7    4   apec       norm                7.64150E-04  +/-  1.16663E-04 \n",
    "\n",
    "Total fit statistic                          1669.25     with 2039 d.o.f.\n",
    "   \n",
    "'''"
   ]
  },
  {
   "cell_type": "code",
   "execution_count": null,
   "metadata": {
    "vscode": {
     "languageId": "shellscript"
    }
   },
   "outputs": [],
   "source": [
    "abun aspl\n",
    "statistic cstat\n",
    "\n",
    "data 1:1 mos1S001-obj-RGH80_reg10-grp.pi\n",
    "data 2:2 mos2S002-obj-RGH80_reg10-grp.pi\n",
    "data 3:3 pnS003-obj-RGH80_reg10.pi\n",
    "\n",
    "res 1 mos1S001-RGH80_reg10.rmf\n",
    "res 2 mos2S002-RGH80_reg10.rmf\n",
    "res 3 pnS003-RGH80_reg10.rmf\n",
    "\n",
    "arf 1 mos1S001-RGH80_reg10.arf\n",
    "arf 2 mos2S002-RGH80_reg10.arf\n",
    "arf 3 pnS003-RGH80_reg10.arf\n",
    "\n",
    "backgrnd 1 mos1S001-back-RGH80_reg10.pi\n",
    "backgrnd 2 mos2S002-back-RGH80_reg10.pi\n",
    "backgrnd 3 pnS003-back-RGH80_reg10.pi\n",
    "\n",
    "cpd /xs\n",
    "setp energy\n",
    "notice **-**:0.3-7.0\n",
    "ign 1-3:**-0.3\n",
    "ign 1-3:7.0-**\n",
    "pl ldat\n",
    "save all load_data.xcm\n"
   ]
  },
  {
   "cell_type": "code",
   "execution_count": null,
   "metadata": {
    "vscode": {
     "languageId": "shellscript"
    }
   },
   "outputs": [],
   "source": [
    "res 2:1 mos1S001-RGH80_reg10.rmf\n",
    "res 2:2 mos2S002-RGH80_reg10.rmf\n",
    "res 2:3 pnS003-RGH80_reg10.rmf\n",
    "arf 2:1 mos1S001-RGH80_reg10.arf\n",
    "arf 2:2 mos2S002-RGH80_reg10.arf\n",
    "arf 2:3 pnS003-RGH80_reg10.arf\n",
    "backgrnd 2:1 mos1S001-back-RGH80_reg10.pi\n",
    "backgrnd 2:2 mos2S002-back-RGH80_reg10.pi\n",
    "backgrnd 2:3 pnS003-back-RGH80_reg10.pi\n",
    "\n",
    "@../RGH80_bkg/bkg_mdl_aftfit.xcm\n",
    "free 1-51\n",
    "free alsi:1-42"
   ]
  },
  {
   "cell_type": "code",
   "execution_count": null,
   "metadata": {
    "vscode": {
     "languageId": "shellscript"
    }
   },
   "outputs": [],
   "source": [
    "'''\n",
    "mos1 8.0081E+07 # 55.61 arcmin2\n",
    "mos2 7.9358E+07 # 55.11 arcmin2\n",
    "pn 7.4210E+07 # 51.53 arcmin2\n",
    "\n",
    "'''"
   ]
  },
  {
   "cell_type": "code",
   "execution_count": null,
   "metadata": {
    "vscode": {
     "languageId": "shellscript"
    }
   },
   "outputs": [],
   "source": [
    "new 1 55.61\n",
    "new 18 55.11\n",
    "new 35 51.53\n",
    "\n",
    "new alsi:1 55.61\n",
    "new alsi:15 55.11\n",
    "new alsi:29 51.53\n",
    "\n"
   ]
  },
  {
   "cell_type": "code",
   "execution_count": null,
   "metadata": {
    "vscode": {
     "languageId": "shellscript"
    }
   },
   "outputs": [],
   "source": [
    "res 3:1 mos1S001-RGH80_reg10.rmf\n",
    "res 3:2 mos2S002-RGH80_reg10.rmf\n",
    "res 3:3 pnS003-RGH80_reg10.rmf\n",
    "arf 3:1 mos1S001-RGH80_reg10.arf\n",
    "arf 3:2 mos2S002-RGH80_reg10.arf\n",
    "arf 3:3 pnS003-RGH80_reg10.arf\n",
    "backgrnd 3:1 mos1S001-back-RGH80_reg10.pi\n",
    "backgrnd 3:2 mos2S002-back-RGH80_reg10.pi\n",
    "backgrnd 3:3 pnS003-back-RGH80_reg10.pi\n",
    "\n",
    "mo 3:ICM const*const*(tbabs*apec)\n",
    "\n"
   ]
  },
  {
   "cell_type": "code",
   "execution_count": null,
   "metadata": {
    "vscode": {
     "languageId": "shellscript"
    }
   },
   "outputs": [],
   "source": [
    "new ICM:1 0.196\n",
    "new ICM:8 0.189\n",
    "new ICM:15 0.196\n",
    "free ICM:1,8,15\n",
    "\n",
    "new ICM:2 1\n",
    "new ICM:9 1\n",
    "new ICM:16 1\n",
    "free ICM:2,9,16\n",
    "\n",
    "new ICM:3 0.0134\n",
    "free ICM:3\n",
    "\n",
    "new ICM:6 0.0361\n",
    "free ICM:6\n",
    "\n",
    "\n"
   ]
  },
  {
   "cell_type": "code",
   "execution_count": null,
   "metadata": {
    "vscode": {
     "languageId": "shellscript"
    }
   },
   "outputs": [],
   "source": [
    "# after fitting temperature and norm of ICM\n",
    "new ICM:5 0.3\n",
    "thaw ICM:5"
   ]
  }
 ],
 "metadata": {
  "kernelspec": {
   "display_name": "Python 3.9.6 64-bit",
   "language": "python",
   "name": "python3"
  },
  "language_info": {
   "name": "python",
   "version": "3.9.6"
  },
  "orig_nbformat": 4,
  "vscode": {
   "interpreter": {
    "hash": "31f2aee4e71d21fbe5cf8b01ff0e069b9275f58929596ceb00d14d90e3e16cd6"
   }
  }
 },
 "nbformat": 4,
 "nbformat_minor": 2
}
