{
 "cells": [
  {
   "cell_type": "code",
   "execution_count": null,
   "metadata": {},
   "outputs": [],
   "source": [
    "'''\n",
    "RGH 80\n",
    "0105860101\n",
    "'''"
   ]
  },
  {
   "cell_type": "markdown",
   "metadata": {},
   "source": []
  },
  {
   "cell_type": "markdown",
   "metadata": {},
   "source": [
    "1 define path"
   ]
  },
  {
   "cell_type": "code",
   "execution_count": 76,
   "metadata": {},
   "outputs": [],
   "source": [
    "import os\n",
    "from glob import glob"
   ]
  },
  {
   "cell_type": "code",
   "execution_count": 8,
   "metadata": {},
   "outputs": [],
   "source": [
    "homepath = f'/Users/eusracenorth/Documents/work/XGAP-ABUN/data/RGH80/reduction'\n",
    "obsid = '0105860101'\n",
    "os.chdir(homepath)"
   ]
  },
  {
   "cell_type": "markdown",
   "metadata": {},
   "source": [
    "2 Initialize steps"
   ]
  },
  {
   "cell_type": "code",
   "execution_count": 5,
   "metadata": {},
   "outputs": [],
   "source": [
    "f = open('cifbuild.sh', 'w')\n",
    "f.write(\n",
    "f'''\n",
    "export SAS_ODF={homepath}\n",
    "cifbuild 2>&1 | tee cifbuild.log\n",
    "\n",
    "'''\n",
    ")\n",
    "f.close()\n",
    "\n",
    "\n"
   ]
  },
  {
   "cell_type": "code",
   "execution_count": 8,
   "metadata": {},
   "outputs": [],
   "source": [
    "f = open('odfingest.sh', 'w')\n",
    "f.write(f'''\n",
    "export SAS_CCF={homepath}/ccf.cif\n",
    "export SAS_ODF={homepath}\n",
    "odfingest odfdir=$SAS_ODF outdir=$SAS_ODF 2>&1 | tee odfingest.log\n",
    "''')\n",
    "f.close()"
   ]
  },
  {
   "cell_type": "markdown",
   "metadata": {},
   "source": [
    "3 Set SAS environment"
   ]
  },
  {
   "cell_type": "code",
   "execution_count": 77,
   "metadata": {},
   "outputs": [],
   "source": [
    "homepath = f'/Users/eusracenorth/Documents/work/XGAP-ABUN/data/ID3460/reduction/SDSSTG3460'\n",
    "\n",
    "f = open('set_sas.txt', 'w')\n",
    "sasfile= glob('*SUM.SAS')[0] \n",
    "f.write(f'''\n",
    "export SAS_CCF={homepath}/ccf.cif\n",
    "export SAS_ODF={homepath}/{sasfile}\n",
    "sasversion\n",
    "''')\n",
    "f.close()"
   ]
  },
  {
   "cell_type": "markdown",
   "metadata": {},
   "source": [
    "4 emproc"
   ]
  },
  {
   "cell_type": "code",
   "execution_count": 14,
   "metadata": {},
   "outputs": [],
   "source": [
    "f = open('emproc.sh', 'w')\n",
    "f.write(\n",
    "'''\n",
    "emproc 2>&1 |tee emproc.log\n",
    "mv *EMOS1_S001_ImagingEvts.ds mos1-S001.evt\n",
    "mv *EMOS2_S002_ImagingEvts.ds mos2-S002.evt\n",
    "'''\n",
    ")\n",
    "f.close()"
   ]
  },
  {
   "cell_type": "markdown",
   "metadata": {},
   "source": [
    "5 epproc"
   ]
  },
  {
   "cell_type": "code",
   "execution_count": 15,
   "metadata": {},
   "outputs": [],
   "source": [
    "f = open('epproc.sh', 'w')\n",
    "f.write(\n",
    "'''\n",
    "epproc 2>&1 |tee epproc.log\n",
    "mv *ImagingEvts.ds pn-S003.evt\n",
    "# epproc withoutoftime=true 2>&1 |tee epproc_oot.log\n",
    "# mv *EPN_S003_ImagingEvts.ds pn-oot-S003.evt\n",
    "'''\n",
    ")\n",
    "f.close()"
   ]
  },
  {
   "cell_type": "markdown",
   "metadata": {},
   "source": [
    "6 emanom: diagnose abnormal bright chips in MOS\n",
    "NO NEED! the esas has run the *-anom.log!"
   ]
  },
  {
   "cell_type": "code",
   "execution_count": 18,
   "metadata": {},
   "outputs": [],
   "source": [
    "f = open('emanom.sh', 'w')\n",
    "f.write(\n",
    "'''\n",
    "emanom eventfile=mos1-S001.evt keepcorner=no 2>&1 | tee emanom_mos1.log\n",
    "emanom eventfile=mos2-S002.evt keepcorner=no 2>&1 | tee emanom_mos2.log\n",
    "'''\n",
    ")\n",
    "f.close()\n",
    "\n",
    "# mos2 chip5 is I, but not serious by visually inspect, not excluded. \n",
    "# This observation is indeed contaminated by SP. (40% exp time is flared)\n"
   ]
  },
  {
   "cell_type": "code",
   "execution_count": 81,
   "metadata": {},
   "outputs": [],
   "source": [
    "f = open('set_chips_on.txt', 'w')\n",
    "f.write(\n",
    "'''\n",
    "export M1ON=\"T T F T T F T\"\n",
    "export M2ON=\"T T T T F T T\"\n",
    "export PNON=\"T T T T\"\n",
    "'''\n",
    ")\n",
    "f.close()"
   ]
  },
  {
   "cell_type": "code",
   "execution_count": 21,
   "metadata": {},
   "outputs": [],
   "source": [
    "# visual inspect\n",
    "f = open('chips_visual_inspect.sh', 'w')\n",
    "f.write(\n",
    "'''\n",
    "evselect table=mos1-S001.evt withimageset=yes imageset=mos1S001-diag-det-unfilt.fits filtertype=expression expression=\"(PI in [300:1000])&&(PATTERN<=12)&&((FLAG & 0x766aa000)==0)\" ignorelegallimits=yes imagebinning=imageSize xcolumn=DETX ximagesize=780 ximagemax=19500 ximagemin=-19499 ycolumn=DETY yimagesize=780 yimagemax=19500 yimagemin=-19499\n",
    "evselect table=mos2-S002.evt withimageset=yes imageset=mos2S002-diag-det-unfilt.fits filtertype=expression expression=\"(PI in [300:1000])&& (PATTERN<=12)&&((FLAG & 0x766aa000)==0)\" ignorelegallimits=yes imagebinning=imageSize xcolumn=DETX ximagesize=780 ximagemax=19500 ximagemin=-19499 ycolumn=DETY yimagesize=780 yimagemax=19500 yimagemin=-19499\n",
    "evselect table=pn-S003.evt withimageset=yes imageset=pnS003-diag-det-unfilt.fits filtertype=expression expression=\"(PI in [300:1000])&& (PATTERN <= 4)&&(#XMMEA_EP)\" ignorelegallimits=yes imagebinning=imageSize xcolumn=DETX ximagesize=780 ximagemax=19500 ximagemin=-19499 ycolumn=DETY yimagesize=780 yimagemax=19500 yimagemin=-19499\n",
    "evselect table=pn-oot-S003.evt withimageset=yes imageset=pnS003-oot-diag-det-unfilt.fits filtertype=expression expression=\"(PI in [300:1000])&& (PATTERN <= 4)&&(#XMMEA_EP)\" ignorelegallimits=yes imagebinning=imageSize xcolumn=DETX ximagesize=780 ximagemax=19500 ximagemin=-19499 ycolumn=DETY yimagesize=780 yimagemax=19500 yimagemin=-19499\n",
    "'''\n",
    ")\n",
    "f.close()\n"
   ]
  },
  {
   "cell_type": "markdown",
   "metadata": {},
   "source": [
    "7 SP flare filtering"
   ]
  },
  {
   "cell_type": "code",
   "execution_count": 24,
   "metadata": {},
   "outputs": [],
   "source": [
    "f = open('sp_flare.sh', 'w')\n",
    "f.write(\n",
    "'''\n",
    "espfilt eventfile=mos1-S001.evt elow=2500 ehigh=8500 withsmoothing=yes smooth=51 rangescale=6.0 allowsigma=3.0 method=histogram keepinterfiles=false 2>&1 | tee flare_filter_mos1-S001.log\n",
    "espfilt eventfile=mos2-S002.evt elow=2500 ehigh=8500 withsmoothing=yes smooth=51 rangescale=6.0 allowsigma=3.0 method=histogram keepinterfiles=false 2>&1 | tee flare_filter_mos2-S002.log\n",
    "espfilt eventfile=pn-S003.evt elow=2500 ehigh=8500 withsmoothing=yes smooth=51 rangescale=15.0 allowsigma=3.0 method=histogram withoot=Y ootfile=pn-oot-S003.evt keepinterfiles=false 2>&1 | tee flare_filter_pn-S003.log\n",
    "'''\n",
    ")\n",
    "\n",
    "f.close()\n",
    "# except for P-allevc.fits and P-gti.fits are kept, others are moved to DIAGNOISE dir after checking\n"
   ]
  },
  {
   "cell_type": "markdown",
   "metadata": {},
   "source": [
    "8 check sp flare filtering diagnostic files\n",
    "Files: P-hist.qdp\n",
    "Conclusion: \n",
    "not very flared\n"
   ]
  },
  {
   "cell_type": "markdown",
   "metadata": {},
   "source": [
    "9 Remove the point sources"
   ]
  },
  {
   "cell_type": "code",
   "execution_count": 87,
   "metadata": {},
   "outputs": [],
   "source": [
    "f = open('cheese.sh', 'w')\n",
    "f.write(\n",
    "'''\n",
    "elo=350 \n",
    "ehi=8000\n",
    "cheese mos1file='mos1S001-allevc.fits' mos2file='mos2S002-allevc.fits' pnfile='pnS003-allevc.fits' pnootfile='pnS003-allevcoot.fits' elowlist=$elo ehighlist=$ehi scale=0.5 mlmin=1 dist=1. ratetotal=3e-6 keepinterfiles=no 2>&1 | tee cheese_rate0001_ml01_$elo-$ehi_dist1.log\n",
    "'''\n",
    ")\n",
    "f.close()"
   ]
  },
  {
   "cell_type": "markdown",
   "metadata": {},
   "source": [
    "10 visual inspect and alter emllist.fits \n",
    "blink P-fovimt.fits and P-cheeset.fits"
   ]
  },
  {
   "cell_type": "code",
   "execution_count": 21,
   "metadata": {},
   "outputs": [
    {
     "name": "stdout",
     "output_type": "stream",
     "text": [
      "/Users/eusracenorth/Documents/work/XGAP-ABUN/data/RGH80/reduction\n",
      "448\n"
     ]
    }
   ],
   "source": [
    "# alter emllist.fits to emllist.reg file\n",
    "from astropy.io import fits\n",
    "import numpy as np\n",
    "\n",
    "print(os.getcwd())\n",
    "filename = f'emllist.fits'\n",
    "\n",
    "f = fits.open(filename)\n",
    "dat = f[1].data\n",
    "print(len(dat))\n",
    "f.close()\n",
    "\n",
    "# load the regions of complete pointsources\n",
    "newf = open(f'emllist.reg', 'w')\n",
    "newf.write('fk5\\n')\n",
    "\n",
    "for i in range(len(dat)//4):\n",
    "    newf.write(f'''circle({dat[4*i+1]['RA']}, {dat[4*i+1]['DEC']}, 10\")\\n''')\n",
    "    \n",
    "newf.close()\n"
   ]
  },
  {
   "cell_type": "code",
   "execution_count": 19,
   "metadata": {},
   "outputs": [
    {
     "data": {
      "text/plain": [
       "5"
      ]
     },
     "execution_count": 19,
     "metadata": {},
     "output_type": "execute_result"
    }
   ],
   "source": [
    "10//2"
   ]
  },
  {
   "cell_type": "code",
   "execution_count": 83,
   "metadata": {},
   "outputs": [
    {
     "name": "stdout",
     "output_type": "stream",
     "text": [
      "32\n"
     ]
    }
   ],
   "source": [
    "from astropy.io import fits\n",
    "import numpy as np\n",
    "\n",
    "'''\n",
    "Note: emllist_complete.fits only has reasonable ra dec, x_ima, y_ima, the rest values are wrong. \n",
    "'''\n",
    "\n",
    "# \n",
    "filename = f'{homepath}/emllist.fits'\n",
    "os.system(f'cp {filename} {filename.split(\".\")[0]}_complete.fits')\n",
    "newfilename = f'{filename.split(\".\")[0]}_complete.fits'\n",
    "\n",
    "# \n",
    "f = fits.open(filename)\n",
    "dat = f[1].data\n",
    "f.close()\n",
    "dat['FLAG'] = 0\n",
    "\n",
    "\n",
    "# load the styles of the recarray data \n",
    "sample_dype = dat.dtype\n",
    "sample = dat[0]\n",
    "\n",
    "# load the regions of complete pointsources\n",
    "srcname = f'{homepath}/all_sources.reg'\n",
    "regfile = open(srcname)\n",
    "lines = regfile.readlines()\n",
    "regfile.close()\n",
    "\n",
    "# \n",
    "num = len(lines)-3\n",
    "print(num)\n",
    "dat = dat[:num]\n",
    "\n",
    "# \n",
    "for i, f in enumerate(lines[3:]):\n",
    "    ra = f.split('(')[-1].split(',')[0]\n",
    "    dec = f.split(',')[1]\n",
    "    dat[i]['RA'] = ra\n",
    "    dat[i]['DEC'] = dec\n",
    "    dat[i]['ML_ID_SRC'] = int(i+1)\n",
    "    dat[i]['DIST_NN'] = 1000\n",
    "    dat[i]['DET_ML'] = 20\n",
    "    dat[i]['BOX_ID_SRC'] = int(i+1)\n",
    "    dat[i]['ID_INST'] = 0\n",
    "    dat[i]['ID_BAND'] = 0\n",
    "    dat[i]['ID_CLUSTER'] = int(i+1)\n",
    "\n",
    "\n",
    "newf = fits.open(f'{filename.split(\".\")[0]}_complete.fits', mode='update')\n",
    "newf[1].data = dat\n",
    "newf.flush()\n",
    "newf.close()\n"
   ]
  },
  {
   "cell_type": "code",
   "execution_count": 84,
   "metadata": {},
   "outputs": [
    {
     "name": "stdout",
     "output_type": "stream",
     "text": [
      "/Users/eusracenorth/Documents/work/XGAP-ABUN/data/ID3460/reduction/SDSSTG3460\n",
      "32\n"
     ]
    }
   ],
   "source": [
    "# alter emllist.fits to emllist.reg file\n",
    "from astropy.io import fits\n",
    "import numpy as np\n",
    "\n",
    "print(os.getcwd())\n",
    "filename = f'emllist_complete.fits'\n",
    "\n",
    "f = fits.open(filename)\n",
    "dat = f[1].data\n",
    "print(len(dat))\n",
    "f.close()\n",
    "\n",
    "# load the regions of complete pointsources\n",
    "newf = open(f'emllist_complete.reg', 'w')\n",
    "newf.write('fk5\\n')\n",
    "\n",
    "for i in range(len(dat)):\n",
    "    newf.write(f'''circle({dat[i]['RA']}, {dat[i]['DEC']}, 10\")\\n''')\n",
    "    \n",
    "newf.close()\n"
   ]
  },
  {
   "cell_type": "markdown",
   "metadata": {},
   "source": [
    "11 region & makemask"
   ]
  },
  {
   "cell_type": "code",
   "execution_count": 85,
   "metadata": {},
   "outputs": [],
   "source": [
    "## edit region files\n",
    "\n",
    "f = open(f'makemask.sh', 'w')\n",
    "\n",
    "f.write(\n",
    "'''\n",
    "export M1=mos1S001\n",
    "export M2=mos2S002\n",
    "export PN=pnS003\n",
    "\n",
    "for name in $M1 $M2 $PN\n",
    "do\n",
    "mkdir cheese_old\n",
    "mv ${name}-cheeset.fits cheese_old\n",
    "mv ${name}-bkgregtdet.fits cheese_old\n",
    "mv ${name}-bkgregtsky.fits cheese_old\n",
    "region eventset=${name}-allevc.fits operationstyle=global srclisttab=emllist_complete.fits:SRCLIST expression=\"(ID_INST == 0)&&(DET_ML >= 1)\" bkgregionset=${name}-bkgregtdet.fits energyfraction=0.4 radiusstyle=contour outunit=detxy verbosity=4 2>&1 | tee region-det-${name}.log\n",
    "region eventset=${name}-allevc.fits operationstyle=global srclisttab=emllist_complete.fits:SRCLIST expression=\"(ID_INST == 0)&&(DET_ML >= 1)\" bkgregionset=${name}-bkgregtsky.fits energyfraction=0.4 radiusstyle=contour outunit=xy verbosity=4 2>&1 | tee region-sky-${name}.log\n",
    "\n",
    "makemask imagefile=${name}-fovimt.fits maskfile=${name}-fovimtmask.fits regionfile=${name}-bkgregtsky.fits cheesefile=${name}-cheeset.fits 2>&1 | tee makemask-${name}.log\n",
    "done\n",
    "\n",
    "'''\n",
    ")\n",
    "\n",
    "f.close()"
   ]
  },
  {
   "cell_type": "markdown",
   "metadata": {},
   "source": [
    "12 create the extraction region\n",
    "bkg src\n"
   ]
  },
  {
   "cell_type": "code",
   "execution_count": 37,
   "metadata": {},
   "outputs": [],
   "source": [
    "from astropy.coordinates import SkyCoord\n",
    "import astropy.units as u\n",
    "\n",
    "def deg2sex(ra_deg, dec_deg):\n",
    "    # Create a SkyCoord object with the specified units\n",
    "    coords = SkyCoord(ra=ra_deg * u.degree, dec=dec_deg * u.degree)\n",
    "    # Extract the converted sexagesimal values\n",
    "    ra_sexagesimal = coords.to_string(style='hmsdms', precision=2)\n",
    "    return f\"{ra_sexagesimal.split(' ')[0]}\", f\"{ra_sexagesimal.split(' ')[1]}\"\n",
    "\n"
   ]
  },
  {
   "cell_type": "code",
   "execution_count": 78,
   "metadata": {},
   "outputs": [],
   "source": [
    "os.chdir(f'/Users/eusracenorth/Documents/work/XGAP-ABUN/data/ID3460/reduction/SDSSTG3460')\n",
    "\n",
    "center_coor_deg = (170.735,34.1115)\n",
    "\n",
    "# bkg 12.1242',14.799' \n",
    "# reg10 6.48967',8.0376' \n",
    "\n",
    "ra, dec = deg2sex(center_coor_deg[0], center_coor_deg[1])\n",
    "\n",
    "f = open('deg2det.sh', 'w')\n",
    "\n",
    "f.write(\n",
    "f'''\n",
    "export M1=mos1S001\n",
    "export M2=mos2S002\n",
    "export PN=pnS003\n",
    "\n",
    "esky2det datastyle=user ra={ra} dec={dec} outunit=det calinfoset='mos1S001-allevc.fits' 2>&1 | tee deg2det-$M1.log\n",
    "esky2det datastyle=user ra={ra} dec={dec} outunit=det calinfoset='mos2S002-allevc.fits' 2>&1 | tee deg2det-$M2.log\n",
    "esky2det datastyle=user ra={ra} dec={dec} outunit=det calinfoset='pnS003-allevc.fits' 2>&1 | tee deg2det-$PN.log\n",
    "''')\n",
    "\n",
    "f.close()\n",
    "\n",
    "\n",
    "\n"
   ]
  },
  {
   "cell_type": "code",
   "execution_count": 97,
   "metadata": {},
   "outputs": [],
   "source": [
    "''' RGH 80\n",
    "   307.6     -183.9\n",
    "   15.1       90.4\n",
    "   132.2     -235.2\n",
    "\n",
    "'''\n",
    "\n",
    "detx_dict = {'mos1S001':307.6, 'mos2S002':15.1, 'pnS003':132.2}\n",
    "dety_dict = {'mos1S001':-183.9, 'mos2S002':90.4, 'pnS003':-235.2}"
   ]
  },
  {
   "cell_type": "code",
   "execution_count": 92,
   "metadata": {},
   "outputs": [
    {
     "name": "stdout",
     "output_type": "stream",
     "text": [
      "/Users/eusracenorth/Documents/work/XGAP-ABUN/data/ID3460/reduction/SDSSTG3460\n"
     ]
    }
   ],
   "source": [
    "print(os.getcwd())\n",
    "'''ID3460\n",
    "294.8     -203.6\n",
    "34.7       77.5\n",
    "112.5     -222.4\n",
    "\n",
    "\n",
    "'''\n",
    "\n",
    "detx_dict = {'mos1S001':294.8 , 'mos2S002':34.7, 'pnS003':112.5}\n",
    "dety_dict = {'mos1S001':-203.6, 'mos2S002':77.5, 'pnS003':-222.4}"
   ]
  },
  {
   "cell_type": "code",
   "execution_count": 98,
   "metadata": {},
   "outputs": [],
   "source": [
    "os.chdir('/Users/eusracenorth/Documents/work/XGAP-ABUN/data/RGH80/reduction')\n",
    "\n",
    "reg_radius = [12.1242, 14.799] # arcmin\n",
    "\n",
    "\n",
    "for name in ['mos1S001', 'mos2S002', 'pnS003']:\n",
    "    f = open(f'bkg-{name}.reg', 'w')\n",
    "\n",
    "    f.write(\n",
    "    f'''&&((DETX,DETY) IN annulus({detx_dict[name]},{dety_dict[name]},{reg_radius[0]*60/0.05},{reg_radius[1]*60/0.05}))''')\n",
    "\n",
    "    f.close()\n"
   ]
  },
  {
   "cell_type": "markdown",
   "metadata": {},
   "source": [
    "13 mosspectra mosback"
   ]
  },
  {
   "cell_type": "code",
   "execution_count": 99,
   "metadata": {},
   "outputs": [
    {
     "name": "stdout",
     "output_type": "stream",
     "text": [
      "/Users/eusracenorth/Documents/work/XGAP-ABUN/data/RGH80/reduction\n"
     ]
    }
   ],
   "source": [
    "print(os.getcwd())\n",
    "f = open('mosspectra_bkg.sh', 'w')\n",
    "f.write(\n",
    "'''\n",
    "export ELO=700\n",
    "export EHI=1200\n",
    "export M1=mos1S001\n",
    "export M2=mos2S002\n",
    "export regname=bkg\n",
    "source set_chips_on.txt\n",
    "\n",
    "mosspectra eventfile=${M1}-allevc.fits keepinterfiles=yes withregion=yes regionfile=${regname}-${M1}.reg pattern=12 withsrcrem=yes maskdet=${M1}-${regname}regtdet.fits masksky=${M1}-${regname}regtsky.fits elow=${ELO} ehigh=${EHI} ccds=\"${M1ON}\" -V=7 2>&1 |tee mosspectra_${M1}.log\n",
    "mosback inspecfile=${M1}-fovt.pi elow=${ELO} ehigh=${EHI} ccds=\"${M1ON}\" 2>&1 |tee mosback_${M1}.log\n",
    "mosspectra eventfile=${M2}-allevc.fits keepinterfiles=yes withregion=yes regionfile=${regname}-${M2}.reg pattern=12 withsrcrem=yes maskdet=${M2}-${regname}regtdet.fits masksky=${M2}-${regname}regtsky.fits elow=${ELO} ehigh=${EHI} ccds=\"${M2ON}\" -V=7 2>&1 |tee mosspectra_${M2}.log\n",
    "mosback inspecfile=${M2}-fovt.pi elow=${ELO} ehigh=${EHI} ccds=\"${M2ON}\" 2>&1 |tee mosback_${M2}.log\n",
    "\n",
    "for name in $M1 $M2\n",
    "do\n",
    "mkdir ${regname}_${name}\n",
    "mv ${name}*-${ELO}-${EHI}* ${regname}_${name}\n",
    "mv ${name}*.pi ${regname}_${name}\n",
    "mv ${name}*.qdp ${regname}_${name}\n",
    "mv ${name}*.ps ${regname}_${name}\n",
    "mv ${name}*imt* ${regname}_${name}\n",
    "mv ${name}*.arf ${regname}_${name}\n",
    "mv ${name}*.rmf ${regname}_${name}\n",
    "mv ${name}*imspdet* ${regname}_${name}\n",
    "\n",
    "done\n",
    "'''\n",
    ")\n",
    "f.close()"
   ]
  },
  {
   "cell_type": "code",
   "execution_count": null,
   "metadata": {},
   "outputs": [],
   "source": [
    "mosspectra eventfile=${M2}-allevc.fits keepinterfiles=yes withregion=yes regionfile=${regname}-${M2}.reg pattern=12 withsrcrem=yes maskdet=${M2}-${regname}regtdet.fits masksky=${M2}-${regname}regtsky.fits elow=${ELO} ehigh=${EHI} ccds=\"${M2ON}\" -V=7 2>&1 |tee mosspectra_${M2}.log\n",
    "mosback inspecfile=${M2}-fovt.pi elow=${ELO} ehigh=${EHI} ccds=\"${M2ON}\" 2>&1 |tee mosback_${M2}.log"
   ]
  },
  {
   "cell_type": "markdown",
   "metadata": {},
   "source": [
    "14 pnspectra, pnback"
   ]
  },
  {
   "cell_type": "code",
   "execution_count": 100,
   "metadata": {},
   "outputs": [],
   "source": [
    "f = open('pnspectra.sh', 'w')\n",
    "\n",
    "f.write('''\n",
    "export regname=bkg\n",
    "export PN=pnS003\n",
    "export ELO=700\n",
    "export EHI=1200\n",
    "\n",
    "for regname in bkg \n",
    "do\n",
    "\n",
    "for pat in 0 4\n",
    "do\n",
    "pnspectra eventfile=${PN}-allevc.fits ootevtfile=${PN}-allevcoot.fits keepinterfiles=yes withregion=yes regionfile=${regname}-${PN}.reg pattern=${pat} withsrcrem=yes maskdet=${PN}-bkgregtdet.fits masksky=${PN}-bkgregtsky.fits elow=${ELO} ehigh=${EHI} quads=\"${PNON}\" -V=7 2>&1 |tee pnspectra_${pat}_${PN}.log\n",
    "pnback inspecfile=${PN}-fovt.pi inspecoot=${PN}-fovtoot.pi elow=${ELO} ehigh=${EHI} quads=\"${PNON}\" 2>&1 |tee pnback_${pat}_${PN}.log\n",
    "\n",
    "mkdir ${regname}_${PN}_${pat}\n",
    "mv pn*-${ELO}-${EHI}* ${regname}_${PN}_${pat}\n",
    "mv pn*.pi ${regname}_${PN}_${pat}\n",
    "mv pn*.qdp ${regname}_${PN}_${pat}\n",
    "mv pn*.ps ${regname}_${PN}_${pat}\n",
    "mv pn*imt* ${regname}_${PN}_${pat}\n",
    "mv pn*.arf ${regname}_${PN}_${pat}\n",
    "mv pn*.rmf ${regname}_${PN}_${pat}\n",
    "mv pn*imspdet* ${regname}_${PN}_${pat}\n",
    "\n",
    "done\n",
    "done\n",
    "'''\n",
    ")\n",
    "f.close()"
   ]
  },
  {
   "cell_type": "code",
   "execution_count": null,
   "metadata": {},
   "outputs": [],
   "source": [
    "pnspectra eventfile=${PN}-allevc.fits ootevtfile=${PN}-allevcoot.fits keepinterfiles=yes withregion=yes regionfile=${regname}-${PN}.reg pattern=4 withsrcrem=yes maskdet=${PN}-bkgregtdet.fits masksky=${PN}-bkgregtsky.fits elow=${ELO} ehigh=${EHI} quads=\"${PNON}\" -V=7 2>&1 |tee pnspectra_4_${PN}.log\n",
    "pnback inspecfile=${PN}-fovt.pi inspecoot=${PN}-fovtoot.pi elow=${ELO} ehigh=${EHI} quads=\"${PNON}\" 2>&1 |tee pnback_4_${PN}.log"
   ]
  },
  {
   "cell_type": "code",
   "execution_count": null,
   "metadata": {},
   "outputs": [],
   "source": []
  }
 ],
 "metadata": {
  "kernelspec": {
   "display_name": "Python 3.10.11 ('base')",
   "language": "python",
   "name": "python3"
  },
  "language_info": {
   "codemirror_mode": {
    "name": "ipython",
    "version": 3
   },
   "file_extension": ".py",
   "mimetype": "text/x-python",
   "name": "python",
   "nbconvert_exporter": "python",
   "pygments_lexer": "ipython3",
   "version": "3.10.11"
  },
  "orig_nbformat": 4,
  "vscode": {
   "interpreter": {
    "hash": "58ee13649a3e33612fea9b2fc6712fa52e5371c54a9ff454aedbace36da48a84"
   }
  }
 },
 "nbformat": 4,
 "nbformat_minor": 2
}
