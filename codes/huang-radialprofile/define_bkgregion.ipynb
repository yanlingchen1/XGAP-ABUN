{
 "cells": [
  {
   "cell_type": "code",
   "execution_count": null,
   "metadata": {},
   "outputs": [],
   "source": [
    "\"\"\"\n",
    "\n",
    "\n",
    "1. Use beta model fitting to define the bkg ctr,\n",
    "2. plot bkg ctr +/- 10% to define the bkg radii (lower & upper)\n",
    "\n",
    "\n",
    "\"\"\""
   ]
  },
  {
   "cell_type": "code",
   "execution_count": null,
   "metadata": {},
   "outputs": [],
   "source": [
    "## make_radialprofiles_rate.py\n",
    "\n",
    "\"\"\"\n",
    "Iterate through Instrument: mos1, mos2, pn & sum up the instruments\n",
    "\n",
    "Iterate through the source\n",
    "Iterate through savepath\n",
    "Iterate through bkgfrac cheese mask\n",
    "Iterate through elo, ehi\n",
    "\n",
    "\n",
    "\"\"\"\n",
    "from glob import glob\n",
    "import numpy as np\n",
    "import matplotlib.pyplot as plt\n",
    "import os\n",
    "from scipy.optimize import curve_fit\n",
    "from scipy.stats import norm\n",
    "\n",
    "def beta_model(r, beta, rc, norm, bkg):\n",
    "    return norm * (1 + (r/ rc)**2)**(-3* beta + 0.5) + bkg\n",
    "\n",
    "def fit_beta_model(r, data, initial_guess):\n",
    "    \"\"\"\n",
    "    Fit the beta model to the data using scipy's curve_fit.\n",
    "    \"\"\"\n",
    "    popt, pcov = curve_fit(beta_model, r, data, p0=initial_guess)\n",
    "    perr = np.sqrt(np.diag(pcov))  # Standard deviations as errors\n",
    "    return popt, perr\n",
    "\n",
    "\n"
   ]
  },
  {
   "cell_type": "code",
   "execution_count": null,
   "metadata": {},
   "outputs": [],
   "source": []
  }
 ],
 "metadata": {
  "kernelspec": {
   "display_name": "Python 3.10.1 64-bit ('3.10.1')",
   "language": "python",
   "name": "python3"
  },
  "language_info": {
   "name": "python",
   "version": "3.10.1"
  },
  "orig_nbformat": 4,
  "vscode": {
   "interpreter": {
    "hash": "1302458d99d58fefb56dc0fec08d039cf240bdcae78a53a9226b7c46b3832fa1"
   }
  }
 },
 "nbformat": 4,
 "nbformat_minor": 2
}
