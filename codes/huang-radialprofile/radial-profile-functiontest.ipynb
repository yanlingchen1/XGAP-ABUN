{
 "cells": [
  {
   "cell_type": "code",
   "execution_count": 62,
   "metadata": {},
   "outputs": [],
   "source": [
    "def radial_prof(rbins, center_file, datapath, DATFILE, EXPFILE, NXBFILE, CHEESEFILE):\n",
    "    \"\"\"\n",
    "    This function plot the radial profile from xmm individual instrument data\n",
    "\n",
    "    \"\"\"\n",
    "\n",
    "    from glob import glob\n",
    "    import numpy as np\n",
    "    from astropy.io import fits\n",
    "    import pandas as pd\n",
    "    import matplotlib.pyplot as plt\n",
    "    from matplotlib.colors import LogNorm\n",
    "    from scipy.ndimage import gaussian_filter\n",
    "    import os\n",
    "    from astropy.wcs import WCS\n",
    "    from astropy.coordinates import SkyCoord\n",
    "\n",
    "    regf = pd.read_csv(center_file)\n",
    "\n",
    "    id = os.path.basename(datapath)\n",
    "    ra = regf[regf['ID']==id]['RA']\n",
    "    dec = regf[regf['ID']==id]['DEC']\n",
    "\n",
    "    # convert the coordinates\n",
    "    dat_widths = fits.getdata(DATFILE).shape\n",
    "    x,y = np.meshgrid(range(0, dat_widths[0]), range(0, dat_widths[1]))\n",
    "    wcs = WCS(fits.getheader(DATFILE))\n",
    "    RA,DEC = wcs.pixel_to_world_values(x,y) \n",
    "    \n",
    "    # dummy coords: RA, DEC, source coords: ra, dec\n",
    "    distance = SkyCoord(ra=ra,dec=dec,unit='deg').separation(SkyCoord(ra=RA,dec=DEC,unit='deg')).arcmin\n",
    "    print(distance.shape)\n",
    "    cts_map = fits.getdata(DATFILE)*fits.getdata(CHEESEFILE)\n",
    "    bkg_map = fits.getdata(NXBFILE)*fits.getdata(CHEESEFILE)\n",
    "    exp_map = fits.getdata(EXPFILE)*fits.getdata(CHEESEFILE)\n",
    "    msk_map = fits.getdata(CHEESEFILE)\n",
    "\n",
    "    CTS, r_bins = np.histogram(distance.flatten(),weights=cts_map.flatten(),bins=rbins)\n",
    "    BKG, r_bins = np.histogram(distance.flatten(),weights=bkg_map.flatten(),bins=rbins)\n",
    "\n",
    "    EXP, r_bins = np.histogram(distance.flatten(),weights=exp_map.flatten(),bins=rbins)\n",
    "\n",
    "    Npixel, r_bins = np.histogram(distance.flatten(),weights=msk_map.flatten(),bins=rbins)\n",
    "    \n",
    "    return CTS, BKG, EXP, Npixel\n",
    "\n",
    "\n",
    "\n",
    "\n",
    "\n"
   ]
  },
  {
   "cell_type": "code",
   "execution_count": 34,
   "metadata": {},
   "outputs": [],
   "source": [
    "from astropy import wcs\n",
    "from astropy.coordinates import SkyCoord\n",
    "from astropy import units as u\n",
    "from glob import glob\n",
    "import numpy as np\n",
    "from astropy.io import fits\n",
    "# from photutils import CircularAperture, aperture_photometry\n",
    "import pandas as pd\n",
    "import matplotlib.pyplot as plt\n",
    "from matplotlib.colors import LogNorm\n",
    "from scipy.ndimage import gaussian_filter\n",
    "import os\n",
    "\n",
    "ELOs = [500, 2000, 500]\n",
    "EHIs = [2000, 8000, 8000]\n",
    "\n",
    "e_idx = 0\n",
    "rootpath = f'/Users/eusracenorth/Documents/work/XGAP-ABUN/alldata/figs/comb_fits_final_img'\n",
    "datdirs = glob(f'{rootpath}/SDSSTG10094')\n",
    "regf = f'/Users/eusracenorth/Documents/work/XGAP-ABUN/alldata/fk5_regs/all_centers.csv'\n",
    "\n",
    "\n",
    "directory = datdirs[0]\n",
    "DATFILE = f'{directory}/final_img/mos1S001-fovimsky-{ELOs[e_idx]}-{EHIs[e_idx]}.fits'\n",
    "EXPFILE = f'{directory}/final_img/mos1S001-expimsky-{ELOs[e_idx]}-{EHIs[e_idx]}.fits'\n",
    "NXBFILE = f'{directory}/final_img/mos1S001-bkgimsky-{ELOs[e_idx]}-{EHIs[e_idx]}.fits'\n",
    "SHOFILE = f'{directory}/final_img/mos1S001-fovimsky-{ELOs[e_idx]}-{EHIs[e_idx]}.fits'\n",
    "CHEESEFILE = f'{directory}/final_img/mos1S001-cheeset.fits'\n",
    "\n",
    "# RA=regf[regf['ID']==os.path.basename(directory)]['RA']\n",
    "# DEC=regf[regf['ID']==os.path.basename(directory)]['DEC']"
   ]
  },
  {
   "cell_type": "code",
   "execution_count": 63,
   "metadata": {},
   "outputs": [
    {
     "name": "stderr",
     "output_type": "stream",
     "text": [
      "WARNING: FITSFixedWarning: RADECSYS= 'FK5 ' / World coord. system for this file \n",
      "the RADECSYS keyword is deprecated, use RADESYSa. [astropy.wcs.wcs]\n",
      "WARNING: FITSFixedWarning: 'datfix' made the change 'Set MJD-OBS to 59730.727384 from DATE-OBS.\n",
      "Set MJD-END to 59731.000833 from DATE-END'. [astropy.wcs.wcs]\n"
     ]
    },
    {
     "name": "stdout",
     "output_type": "stream",
     "text": [
      "(900, 900)\n"
     ]
    }
   ],
   "source": [
    "CTS, BKG, EXP, Npixel = radial_prof(np.linspace(0, 30, 100), regf, directory, DATFILE, EXPFILE, NXBFILE, CHEESEFILE)"
   ]
  },
  {
   "cell_type": "code",
   "execution_count": 22,
   "metadata": {},
   "outputs": [
    {
     "name": "stdout",
     "output_type": "stream",
     "text": [
      "[]\n"
     ]
    }
   ],
   "source": [
    "print(CTS)"
   ]
  },
  {
   "cell_type": "code",
   "execution_count": 65,
   "metadata": {},
   "outputs": [
    {
     "name": "stderr",
     "output_type": "stream",
     "text": [
      "/var/folders/sy/vxhnb6x11wz6mkt7x_sw_y140000gn/T/ipykernel_79402/3802703914.py:3: RuntimeWarning: invalid value encountered in true_divide\n",
      "  plt.stairs(CTS/EXP,r_bins,label='CTS')\n",
      "/var/folders/sy/vxhnb6x11wz6mkt7x_sw_y140000gn/T/ipykernel_79402/3802703914.py:4: RuntimeWarning: invalid value encountered in true_divide\n",
      "  plt.stairs(BKG/EXP,r_bins,label='BKG')\n",
      "/var/folders/sy/vxhnb6x11wz6mkt7x_sw_y140000gn/T/ipykernel_79402/3802703914.py:5: RuntimeWarning: invalid value encountered in true_divide\n",
      "  plt.stairs(CTS/EXP-BKG/EXP,r_bins,label='NET')\n",
      "/var/folders/sy/vxhnb6x11wz6mkt7x_sw_y140000gn/T/ipykernel_79402/3802703914.py:7: RuntimeWarning: invalid value encountered in true_divide\n",
      "  plt.stairs(EXP/Npixel/EXP[0]*1e-4,r_bins,label='EXP (arbitrary scale)')\n",
      "/var/folders/sy/vxhnb6x11wz6mkt7x_sw_y140000gn/T/ipykernel_79402/3802703914.py:10: RuntimeWarning: invalid value encountered in true_divide\n",
      "  plt.errorbar(x=np.sqrt(r_bins[:-1]*r_bins[1:]),y=CTS/EXP,yerr=np.sqrt(CTS)/EXP,fmt='none')\n"
     ]
    },
    {
     "data": {
      "text/plain": [
       "<matplotlib.legend.Legend at 0x16dc74760>"
      ]
     },
     "execution_count": 65,
     "metadata": {},
     "output_type": "execute_result"
    },
    {
     "data": {
      "image/png": "[encoded data removed]",
      "text/plain": [
       "<Figure size 640x480 with 1 Axes>"
      ]
     },
     "metadata": {},
     "output_type": "display_data"
    }
   ],
   "source": [
    "r_bins = np.linspace(0, 30, 100 )\n",
    "\n",
    "plt.stairs(CTS/EXP,r_bins,label='CTS')\n",
    "plt.stairs(BKG/EXP,r_bins,label='BKG')\n",
    "plt.stairs(CTS/EXP-BKG/EXP,r_bins,label='NET')\n",
    "\n",
    "plt.stairs(EXP/Npixel/EXP[0]*1e-4,r_bins,label='EXP (arbitrary scale)')\n",
    "\n",
    "\n",
    "plt.errorbar(x=np.sqrt(r_bins[:-1]*r_bins[1:]),y=CTS/EXP,yerr=np.sqrt(CTS)/EXP,fmt='none')\n",
    "\n",
    "plt.ylim([0,1e-5])\n",
    "plt.legend()"
   ]
  },
  {
   "cell_type": "code",
   "execution_count": null,
   "metadata": {},
   "outputs": [],
   "source": []
  }
 ],
 "metadata": {
  "kernelspec": {
   "display_name": "Python 3.10.1 64-bit ('3.10.1')",
   "language": "python",
   "name": "python3"
  },
  "language_info": {
   "codemirror_mode": {
    "name": "ipython",
    "version": 3
   },
   "file_extension": ".py",
   "mimetype": "text/x-python",
   "name": "python",
   "nbconvert_exporter": "python",
   "pygments_lexer": "ipython3",
   "version": "3.10.1"
  },
  "orig_nbformat": 4,
  "vscode": {
   "interpreter": {
    "hash": "1302458d99d58fefb56dc0fec08d039cf240bdcae78a53a9226b7c46b3832fa1"
   }
  }
 },
 "nbformat": 4,
 "nbformat_minor": 2
}
